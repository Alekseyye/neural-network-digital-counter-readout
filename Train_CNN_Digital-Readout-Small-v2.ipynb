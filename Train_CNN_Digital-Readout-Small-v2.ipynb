{
 "cells": [
  {
   "cell_type": "markdown",
   "metadata": {},
   "source": [
    "# CNN Training\n",
    "\n",
    "Target of this code is to train a CNN network to classify images of a digital readout to the digits 0 to 9. Additionally a category \"NaN\" is introduced, to mark images that are not amibiguous.\n",
    "\n",
    "### Preparing the training\n",
    "* First all libraries are loaded\n",
    "    * It is assumed, that they are installed during the Python setup\n",
    "* matplotlib is set to print the output inline in the jupyter notebook"
   ]
  },
  {
   "cell_type": "code",
   "execution_count": 1,
   "metadata": {
    "scrolled": true
   },
   "outputs": [],
   "source": [
    "########### Basic Parameters for Running: ################################\n",
    "    \n",
    "TFliteNamingAndVersion = \"dig1310s2\"   # Used for tflite Filename\n",
    "Training_Percentage = 0.0              # 0.0 = Use all Images for Training\n",
    "Epoch_Anz = 500\n",
    "\n",
    "##########################################################################\n",
    "\n",
    "\n",
    "import tensorflow as tf\n",
    "import matplotlib.pyplot as plt\n",
    "import glob\n",
    "import os\n",
    "import numpy as np\n",
    "from sklearn.utils import shuffle\n",
    "from tensorflow.python import keras\n",
    "from tensorflow.python.keras import Sequential\n",
    "from tensorflow.python.keras.layers import Dense, InputLayer, Conv2D, MaxPool2D, Flatten, BatchNormalization\n",
    "from tensorflow.keras.preprocessing.image import ImageDataGenerator\n",
    "from sklearn.model_selection import train_test_split\n",
    "from tensorflow.keras.callbacks import History \n",
    "from tensorflow.keras.utils import to_categorical\n",
    "from PIL import Image \n",
    "from pathlib import Path\n",
    "\n",
    "loss_ges = np.array([])\n",
    "val_loss_ges = np.array([])\n",
    "\n",
    "%matplotlib inline\n",
    "np.set_printoptions(precision=4)\n",
    "np.set_printoptions(suppress=True)"
   ]
  },
  {
   "cell_type": "markdown",
   "metadata": {},
   "source": [
    "### Load training data\n",
    "* The data is expected in the \"Input_dir\"\n",
    "* Inside subdirectories are expected from -1, 0, 1, ... 9 in which the pictures are sorted according to their values (=category)\n",
    "* Picture size must be 20x32 with 3 color channels (RGB)\n",
    "* The filename can be arbitrary\n",
    "\n",
    "* The images are stored in the x_data[]\n",
    "* The expected category for each image in the corresponding y_data[]\n",
    "\n",
    "* The last step is a shuffle (from sklearn.utils) and split the data into training and validation data"
   ]
  },
  {
   "cell_type": "code",
   "execution_count": 2,
   "metadata": {},
   "outputs": [
    {
     "name": "stdout",
     "output_type": "stream",
     "text": [
      "(1525, 32, 20, 3)\n",
      "(1525, 11)\n"
     ]
    }
   ],
   "source": [
    "Input_dir='ziffer_sortiert_resize'\n",
    "\n",
    "files = glob.glob(Input_dir + '/*.jpg')\n",
    "x_data = []\n",
    "y_data = []\n",
    "\n",
    "for aktfile in files:\n",
    "    base = os.path.basename(aktfile)\n",
    "    target = base[0:1]\n",
    "    if target == \"N\":\n",
    "        category = 10                # NaN does not work --> convert to 10\n",
    "    else:\n",
    "        category = int(target)\n",
    "    test_image = Image.open(aktfile)\n",
    "    test_image = np.array(test_image, dtype=\"float32\")\n",
    "    x_data.append(test_image)\n",
    "    y_data.append(np.array([category]))\n",
    "\n",
    "x_data = np.array(x_data)\n",
    "y_data = np.array(y_data)\n",
    "y_data = to_categorical(y_data, 11)\n",
    "print(x_data.shape)\n",
    "print(y_data.shape)\n",
    "\n",
    "x_data, y_data = shuffle(x_data, y_data)\n",
    "\n",
    "if (Training_Percentage > 0):\n",
    "    X_train, X_test, y_train, y_test = train_test_split(x_data, y_data, test_size=Training_Percentage)\n",
    "else:\n",
    "    X_train = x_data\n",
    "    y_train = y_data"
   ]
  },
  {
   "cell_type": "markdown",
   "metadata": {},
   "source": [
    "### Define the model\n",
    "\n",
    "The layout of the network ist a typcial CNN network with alternating **Conv2D** and **MaxPool2D** layers. Finished after **flattening** with additional **Dense** layer.\n",
    "\n",
    "#### Important\n",
    "* Shape of the input layer: (32, 20, 3)\n",
    "* Number of output layers: 11\n",
    "* As loss function \"categorical_crossentropy\" is choosen, as it is a categories task"
   ]
  },
  {
   "cell_type": "code",
   "execution_count": 3,
   "metadata": {},
   "outputs": [
    {
     "name": "stdout",
     "output_type": "stream",
     "text": [
      "Model: \"sequential\"\n",
      "_________________________________________________________________\n",
      "Layer (type)                 Output Shape              Param #   \n",
      "=================================================================\n",
      "batch_normalization (BatchNo (None, 32, 20, 3)         12        \n",
      "_________________________________________________________________\n",
      "conv2d (Conv2D)              (None, 32, 20, 32)        896       \n",
      "_________________________________________________________________\n",
      "max_pooling2d (MaxPooling2D) (None, 16, 10, 32)        0         \n",
      "_________________________________________________________________\n",
      "conv2d_1 (Conv2D)            (None, 16, 10, 32)        9248      \n",
      "_________________________________________________________________\n",
      "max_pooling2d_1 (MaxPooling2 (None, 8, 5, 32)          0         \n",
      "_________________________________________________________________\n",
      "conv2d_2 (Conv2D)            (None, 8, 5, 32)          9248      \n",
      "_________________________________________________________________\n",
      "max_pooling2d_2 (MaxPooling2 (None, 4, 2, 32)          0         \n",
      "_________________________________________________________________\n",
      "flatten (Flatten)            (None, 256)               0         \n",
      "_________________________________________________________________\n",
      "dense (Dense)                (None, 256)               65792     \n",
      "_________________________________________________________________\n",
      "dense_1 (Dense)              (None, 11)                2827      \n",
      "=================================================================\n",
      "Total params: 88,023\n",
      "Trainable params: 88,017\n",
      "Non-trainable params: 6\n",
      "_________________________________________________________________\n"
     ]
    }
   ],
   "source": [
    "model = Sequential()\n",
    "model.add(BatchNormalization(input_shape=(32,20,3)))\n",
    "model.add(Conv2D(32, (3, 3), padding='same', activation=\"relu\"))\n",
    "model.add(MaxPool2D(pool_size=(2,2)))\n",
    "model.add(Conv2D(32, (3, 3), padding='same'))\n",
    "model.add(MaxPool2D(pool_size=(2,2)))\n",
    "model.add(Conv2D(32, (3, 3), padding='same'))\n",
    "model.add(MaxPool2D(pool_size=(2,2)))\n",
    "model.add(Flatten())\n",
    "model.add(Dense(256,activation=\"relu\"))\n",
    "model.add(Dense(11, activation = \"softmax\"))\n",
    "model.summary()\n",
    "\n",
    "model.compile(loss=keras.losses.categorical_crossentropy, optimizer=tf.keras.optimizers.Adadelta(learning_rate=1.0, rho=0.95), metrics = [\"accuracy\"])"
   ]
  },
  {
   "cell_type": "markdown",
   "metadata": {},
   "source": [
    "# Training\n",
    "The input pictures are randomly scattered for brightness, pixel shift variations and rotation angle. This is implemented with a ImageDataGenerator.\n"
   ]
  },
  {
   "cell_type": "code",
   "execution_count": 4,
   "metadata": {
    "scrolled": true
   },
   "outputs": [
    {
     "name": "stdout",
     "output_type": "stream",
     "text": [
      "Epoch 1/500\n",
      "382/382 [==============================] - 7s 9ms/step - loss: 2.1535 - accuracy: 0.3216\n",
      "Epoch 2/500\n",
      "382/382 [==============================] - 3s 8ms/step - loss: 1.2616 - accuracy: 0.5860\n",
      "Epoch 3/500\n",
      "382/382 [==============================] - 3s 8ms/step - loss: 0.7676 - accuracy: 0.7606: 0s - loss: 0.7679 - accu\n",
      "Epoch 4/500\n",
      "382/382 [==============================] - 4s 10ms/step - loss: 0.7031 - accuracy: 0.7799\n",
      "Epoch 5/500\n",
      "382/382 [==============================] - 4s 10ms/step - loss: 0.5944 - accuracy: 0.7918\n",
      "Epoch 6/500\n",
      "382/382 [==============================] - 4s 10ms/step - loss: 0.5573 - accuracy: 0.8365\n",
      "Epoch 7/500\n",
      "382/382 [==============================] - 4s 10ms/step - loss: 0.4430 - accuracy: 0.8660\n",
      "Epoch 8/500\n",
      "382/382 [==============================] - 4s 10ms/step - loss: 0.3836 - accuracy: 0.8761\n",
      "Epoch 9/500\n",
      "382/382 [==============================] - 4s 10ms/step - loss: 0.3409 - accuracy: 0.8932\n",
      "Epoch 10/500\n",
      "382/382 [==============================] - 4s 10ms/step - loss: 0.3317 - accuracy: 0.8804\n",
      "Epoch 11/500\n",
      "382/382 [==============================] - 4s 10ms/step - loss: 0.3274 - accuracy: 0.9061\n",
      "Epoch 12/500\n",
      "382/382 [==============================] - 4s 10ms/step - loss: 0.3053 - accuracy: 0.9002\n",
      "Epoch 13/500\n",
      "382/382 [==============================] - 4s 10ms/step - loss: 0.2911 - accuracy: 0.9109\n",
      "Epoch 14/500\n",
      "382/382 [==============================] - 4s 10ms/step - loss: 0.2118 - accuracy: 0.9243\n",
      "Epoch 15/500\n",
      "382/382 [==============================] - 4s 10ms/step - loss: 0.2210 - accuracy: 0.9329\n",
      "Epoch 16/500\n",
      "382/382 [==============================] - 4s 10ms/step - loss: 0.1852 - accuracy: 0.9412\n",
      "Epoch 17/500\n",
      "382/382 [==============================] - 4s 10ms/step - loss: 0.1983 - accuracy: 0.9347\n",
      "Epoch 18/500\n",
      "382/382 [==============================] - 4s 10ms/step - loss: 0.1767 - accuracy: 0.9510\n",
      "Epoch 19/500\n",
      "382/382 [==============================] - 4s 10ms/step - loss: 0.1577 - accuracy: 0.9462\n",
      "Epoch 20/500\n",
      "382/382 [==============================] - 4s 10ms/step - loss: 0.1565 - accuracy: 0.9496\n",
      "Epoch 21/500\n",
      "382/382 [==============================] - 4s 10ms/step - loss: 0.1388 - accuracy: 0.9541\n",
      "Epoch 22/500\n",
      "382/382 [==============================] - 4s 10ms/step - loss: 0.1513 - accuracy: 0.9538\n",
      "Epoch 23/500\n",
      "382/382 [==============================] - 4s 10ms/step - loss: 0.1664 - accuracy: 0.9485\n",
      "Epoch 24/500\n",
      "382/382 [==============================] - 4s 10ms/step - loss: 0.1325 - accuracy: 0.9617\n",
      "Epoch 25/500\n",
      "382/382 [==============================] - 4s 10ms/step - loss: 0.1167 - accuracy: 0.9658\n",
      "Epoch 26/500\n",
      "382/382 [==============================] - 4s 10ms/step - loss: 0.1670 - accuracy: 0.9505\n",
      "Epoch 27/500\n",
      "382/382 [==============================] - 4s 10ms/step - loss: 0.1623 - accuracy: 0.9492\n",
      "Epoch 28/500\n",
      "382/382 [==============================] - 4s 10ms/step - loss: 0.1062 - accuracy: 0.9598\n",
      "Epoch 29/500\n",
      "382/382 [==============================] - 4s 10ms/step - loss: 0.1059 - accuracy: 0.9687\n",
      "Epoch 30/500\n",
      "382/382 [==============================] - 4s 10ms/step - loss: 0.1054 - accuracy: 0.9701\n",
      "Epoch 31/500\n",
      "382/382 [==============================] - 4s 10ms/step - loss: 0.1192 - accuracy: 0.9593\n",
      "Epoch 32/500\n",
      "382/382 [==============================] - 4s 10ms/step - loss: 0.0918 - accuracy: 0.9660\n",
      "Epoch 33/500\n",
      "382/382 [==============================] - 4s 10ms/step - loss: 0.1031 - accuracy: 0.9705\n",
      "Epoch 34/500\n",
      "382/382 [==============================] - 4s 9ms/step - loss: 0.1368 - accuracy: 0.9696\n",
      "Epoch 35/500\n",
      "382/382 [==============================] - 4s 9ms/step - loss: 0.0837 - accuracy: 0.9722\n",
      "Epoch 36/500\n",
      "382/382 [==============================] - 3s 9ms/step - loss: 0.0861 - accuracy: 0.9752\n",
      "Epoch 37/500\n",
      "382/382 [==============================] - 4s 9ms/step - loss: 0.0968 - accuracy: 0.9727\n",
      "Epoch 38/500\n",
      "382/382 [==============================] - 4s 9ms/step - loss: 0.0732 - accuracy: 0.9803\n",
      "Epoch 39/500\n",
      "382/382 [==============================] - 3s 9ms/step - loss: 0.0652 - accuracy: 0.9721\n",
      "Epoch 40/500\n",
      "382/382 [==============================] - 4s 9ms/step - loss: 0.0657 - accuracy: 0.9745: 0s - loss: 0.0655 - \n",
      "Epoch 41/500\n",
      "382/382 [==============================] - 4s 10ms/step - loss: 0.1159 - accuracy: 0.9753\n",
      "Epoch 42/500\n",
      "382/382 [==============================] - 4s 9ms/step - loss: 0.1058 - accuracy: 0.9601\n",
      "Epoch 43/500\n",
      "382/382 [==============================] - 4s 9ms/step - loss: 0.1510 - accuracy: 0.9582\n",
      "Epoch 44/500\n",
      "382/382 [==============================] - 4s 9ms/step - loss: 0.1603 - accuracy: 0.9636\n",
      "Epoch 45/500\n",
      "382/382 [==============================] - 3s 9ms/step - loss: 0.0684 - accuracy: 0.9837\n",
      "Epoch 46/500\n",
      "382/382 [==============================] - 3s 9ms/step - loss: 0.0835 - accuracy: 0.9803\n",
      "Epoch 47/500\n",
      "382/382 [==============================] - 4s 9ms/step - loss: 0.0935 - accuracy: 0.9784\n",
      "Epoch 48/500\n",
      "382/382 [==============================] - 3s 9ms/step - loss: 0.0939 - accuracy: 0.9689\n",
      "Epoch 49/500\n",
      "382/382 [==============================] - 3s 9ms/step - loss: 0.1181 - accuracy: 0.9675\n",
      "Epoch 50/500\n",
      "382/382 [==============================] - 3s 9ms/step - loss: 0.0996 - accuracy: 0.9705\n",
      "Epoch 51/500\n",
      "382/382 [==============================] - 3s 9ms/step - loss: 0.0841 - accuracy: 0.9744\n",
      "Epoch 52/500\n",
      "382/382 [==============================] - 3s 9ms/step - loss: 0.0705 - accuracy: 0.9796\n",
      "Epoch 53/500\n",
      "382/382 [==============================] - 3s 9ms/step - loss: 0.0765 - accuracy: 0.9755: 0s - los\n",
      "Epoch 54/500\n",
      "382/382 [==============================] - 3s 9ms/step - loss: 0.0975 - accuracy: 0.9648\n",
      "Epoch 55/500\n",
      "382/382 [==============================] - 3s 9ms/step - loss: 0.1194 - accuracy: 0.9738\n",
      "Epoch 56/500\n",
      "382/382 [==============================] - 3s 9ms/step - loss: 0.0913 - accuracy: 0.9727\n",
      "Epoch 57/500\n",
      "382/382 [==============================] - 3s 9ms/step - loss: 0.0409 - accuracy: 0.9851\n",
      "Epoch 58/500\n",
      "382/382 [==============================] - 3s 9ms/step - loss: 0.0963 - accuracy: 0.9728\n",
      "Epoch 59/500\n",
      "382/382 [==============================] - 3s 9ms/step - loss: 0.0319 - accuracy: 0.9888\n",
      "Epoch 60/500\n",
      "382/382 [==============================] - 3s 9ms/step - loss: 0.0473 - accuracy: 0.9851\n",
      "Epoch 61/500\n",
      "382/382 [==============================] - 4s 9ms/step - loss: 0.0755 - accuracy: 0.9826\n",
      "Epoch 62/500\n",
      "382/382 [==============================] - 3s 9ms/step - loss: 0.0789 - accuracy: 0.9804\n",
      "Epoch 63/500\n",
      "382/382 [==============================] - ETA: 0s - loss: 0.0623 - accuracy: 0.98 - 3s 9ms/step - loss: 0.0622 - accuracy: 0.9827\n",
      "Epoch 64/500\n",
      "382/382 [==============================] - 4s 9ms/step - loss: 0.0785 - accuracy: 0.9841\n",
      "Epoch 65/500\n",
      "382/382 [==============================] - 3s 9ms/step - loss: 0.0604 - accuracy: 0.9768\n",
      "Epoch 66/500\n",
      "382/382 [==============================] - 3s 9ms/step - loss: 0.0477 - accuracy: 0.9864\n",
      "Epoch 67/500\n",
      "382/382 [==============================] - 4s 9ms/step - loss: 0.0663 - accuracy: 0.9823\n",
      "Epoch 68/500\n",
      "382/382 [==============================] - 4s 9ms/step - loss: 0.0635 - accuracy: 0.9836\n",
      "Epoch 69/500\n",
      "382/382 [==============================] - 4s 9ms/step - loss: 0.0577 - accuracy: 0.9840: 0s - los\n",
      "Epoch 70/500\n",
      "382/382 [==============================] - 3s 9ms/step - loss: 0.0787 - accuracy: 0.9796\n",
      "Epoch 71/500\n",
      "382/382 [==============================] - 3s 9ms/step - loss: 0.0435 - accuracy: 0.9870\n",
      "Epoch 72/500\n",
      "382/382 [==============================] - 3s 9ms/step - loss: 0.0457 - accuracy: 0.9836\n",
      "Epoch 73/500\n",
      "382/382 [==============================] - 3s 9ms/step - loss: 0.0636 - accuracy: 0.9818\n",
      "Epoch 74/500\n",
      "382/382 [==============================] - 3s 9ms/step - loss: 0.0754 - accuracy: 0.9781\n",
      "Epoch 75/500\n",
      "382/382 [==============================] - 3s 9ms/step - loss: 0.0322 - accuracy: 0.9889\n",
      "Epoch 76/500\n",
      "382/382 [==============================] - 3s 9ms/step - loss: 0.0432 - accuracy: 0.9859\n",
      "Epoch 77/500\n",
      "382/382 [==============================] - 3s 9ms/step - loss: 0.0638 - accuracy: 0.9865\n",
      "Epoch 78/500\n",
      "382/382 [==============================] - 3s 9ms/step - loss: 0.0401 - accuracy: 0.9848\n",
      "Epoch 79/500\n"
     ]
    },
    {
     "name": "stdout",
     "output_type": "stream",
     "text": [
      "382/382 [==============================] - 3s 9ms/step - loss: 0.0639 - accuracy: 0.9789\n",
      "Epoch 80/500\n",
      "382/382 [==============================] - 3s 9ms/step - loss: 0.0438 - accuracy: 0.9809\n",
      "Epoch 81/500\n",
      "382/382 [==============================] - 3s 9ms/step - loss: 0.0739 - accuracy: 0.9777\n",
      "Epoch 82/500\n",
      "382/382 [==============================] - 3s 9ms/step - loss: 0.0378 - accuracy: 0.9890\n",
      "Epoch 83/500\n",
      "382/382 [==============================] - 3s 9ms/step - loss: 0.0607 - accuracy: 0.9861\n",
      "Epoch 84/500\n",
      "382/382 [==============================] - 3s 9ms/step - loss: 0.0798 - accuracy: 0.9805\n",
      "Epoch 85/500\n",
      "382/382 [==============================] - 3s 9ms/step - loss: 0.0357 - accuracy: 0.9877\n",
      "Epoch 86/500\n",
      "382/382 [==============================] - 3s 9ms/step - loss: 0.0629 - accuracy: 0.9844\n",
      "Epoch 87/500\n",
      "382/382 [==============================] - 3s 9ms/step - loss: 0.0444 - accuracy: 0.9869: 0s - loss: 0.0437 - \n",
      "Epoch 88/500\n",
      "382/382 [==============================] - 3s 9ms/step - loss: 0.0418 - accuracy: 0.9828\n",
      "Epoch 89/500\n",
      "382/382 [==============================] - 3s 9ms/step - loss: 0.0450 - accuracy: 0.9885\n",
      "Epoch 90/500\n",
      "382/382 [==============================] - 3s 9ms/step - loss: 0.0437 - accuracy: 0.9819\n",
      "Epoch 91/500\n",
      "382/382 [==============================] - 3s 9ms/step - loss: 0.0436 - accuracy: 0.9871\n",
      "Epoch 92/500\n",
      "382/382 [==============================] - 3s 9ms/step - loss: 0.0322 - accuracy: 0.9893\n",
      "Epoch 93/500\n",
      "382/382 [==============================] - 4s 9ms/step - loss: 0.0680 - accuracy: 0.9811\n",
      "Epoch 94/500\n",
      "382/382 [==============================] - 3s 9ms/step - loss: 0.0372 - accuracy: 0.9905\n",
      "Epoch 95/500\n",
      "382/382 [==============================] - 3s 9ms/step - loss: 0.0328 - accuracy: 0.9896\n",
      "Epoch 96/500\n",
      "382/382 [==============================] - 3s 9ms/step - loss: 0.0581 - accuracy: 0.9882\n",
      "Epoch 97/500\n",
      "382/382 [==============================] - 4s 10ms/step - loss: 0.0406 - accuracy: 0.9883\n",
      "Epoch 98/500\n",
      "382/382 [==============================] - 4s 10ms/step - loss: 0.0474 - accuracy: 0.9903\n",
      "Epoch 99/500\n",
      "382/382 [==============================] - 4s 10ms/step - loss: 0.0744 - accuracy: 0.9908\n",
      "Epoch 100/500\n",
      "382/382 [==============================] - 4s 10ms/step - loss: 0.0643 - accuracy: 0.9840\n",
      "Epoch 101/500\n",
      "382/382 [==============================] - 4s 9ms/step - loss: 0.0651 - accuracy: 0.9808\n",
      "Epoch 102/500\n",
      "382/382 [==============================] - 4s 9ms/step - loss: 0.0564 - accuracy: 0.9823\n",
      "Epoch 103/500\n",
      "382/382 [==============================] - 4s 9ms/step - loss: 0.0365 - accuracy: 0.9902\n",
      "Epoch 104/500\n",
      "382/382 [==============================] - 4s 9ms/step - loss: 0.0399 - accuracy: 0.9902\n",
      "Epoch 105/500\n",
      "382/382 [==============================] - 4s 9ms/step - loss: 0.0711 - accuracy: 0.9847\n",
      "Epoch 106/500\n",
      "382/382 [==============================] - 4s 9ms/step - loss: 0.0341 - accuracy: 0.9919\n",
      "Epoch 107/500\n",
      "382/382 [==============================] - 4s 9ms/step - loss: 0.0447 - accuracy: 0.9906\n",
      "Epoch 108/500\n",
      "382/382 [==============================] - 4s 9ms/step - loss: 0.0552 - accuracy: 0.9854\n",
      "Epoch 109/500\n",
      "382/382 [==============================] - 4s 9ms/step - loss: 0.0238 - accuracy: 0.9933: 0s - loss: 0.0240 - accu\n",
      "Epoch 110/500\n",
      "382/382 [==============================] - 4s 9ms/step - loss: 0.0305 - accuracy: 0.9876\n",
      "Epoch 111/500\n",
      "382/382 [==============================] - 4s 9ms/step - loss: 0.0560 - accuracy: 0.9864\n",
      "Epoch 112/500\n",
      "382/382 [==============================] - 4s 9ms/step - loss: 0.0462 - accuracy: 0.9880: 0s - loss: 0.0\n",
      "Epoch 113/500\n",
      "382/382 [==============================] - 4s 9ms/step - loss: 0.0239 - accuracy: 0.9911\n",
      "Epoch 114/500\n",
      "382/382 [==============================] - 4s 9ms/step - loss: 0.0805 - accuracy: 0.9862\n",
      "Epoch 115/500\n",
      "382/382 [==============================] - 4s 9ms/step - loss: 0.0671 - accuracy: 0.9835\n",
      "Epoch 116/500\n",
      "382/382 [==============================] - 4s 9ms/step - loss: 0.0314 - accuracy: 0.9924\n",
      "Epoch 117/500\n",
      "382/382 [==============================] - 4s 9ms/step - loss: 0.0166 - accuracy: 0.9943\n",
      "Epoch 118/500\n",
      "382/382 [==============================] - 4s 9ms/step - loss: 0.0226 - accuracy: 0.9898\n",
      "Epoch 119/500\n",
      "382/382 [==============================] - 4s 9ms/step - loss: 0.0490 - accuracy: 0.9881\n",
      "Epoch 120/500\n",
      "382/382 [==============================] - 4s 9ms/step - loss: 0.0493 - accuracy: 0.9903\n",
      "Epoch 121/500\n",
      "382/382 [==============================] - 3s 9ms/step - loss: 0.0172 - accuracy: 0.9942\n",
      "Epoch 122/500\n",
      "382/382 [==============================] - 4s 9ms/step - loss: 0.0673 - accuracy: 0.9835\n",
      "Epoch 123/500\n",
      "382/382 [==============================] - 4s 9ms/step - loss: 0.0471 - accuracy: 0.9790\n",
      "Epoch 124/500\n",
      "382/382 [==============================] - 4s 9ms/step - loss: 0.0374 - accuracy: 0.9914\n",
      "Epoch 125/500\n",
      "382/382 [==============================] - 4s 9ms/step - loss: 0.0454 - accuracy: 0.9927\n",
      "Epoch 126/500\n",
      "382/382 [==============================] - 4s 9ms/step - loss: 0.0301 - accuracy: 0.9896\n",
      "Epoch 127/500\n",
      "382/382 [==============================] - 4s 9ms/step - loss: 0.0371 - accuracy: 0.9924: 1s - loss:\n",
      "Epoch 128/500\n",
      "382/382 [==============================] - 4s 9ms/step - loss: 0.0303 - accuracy: 0.9904\n",
      "Epoch 129/500\n",
      "382/382 [==============================] - 4s 9ms/step - loss: 0.0269 - accuracy: 0.9924: 0s - loss: 0.0262 - \n",
      "Epoch 130/500\n",
      "382/382 [==============================] - 4s 10ms/step - loss: 0.0363 - accuracy: 0.9890\n",
      "Epoch 131/500\n",
      "382/382 [==============================] - 4s 10ms/step - loss: 0.0235 - accuracy: 0.9917\n",
      "Epoch 132/500\n",
      "382/382 [==============================] - 4s 9ms/step - loss: 0.0374 - accuracy: 0.9909\n",
      "Epoch 133/500\n",
      "382/382 [==============================] - 4s 9ms/step - loss: 0.0375 - accuracy: 0.9881\n",
      "Epoch 134/500\n",
      "382/382 [==============================] - 4s 9ms/step - loss: 0.0348 - accuracy: 0.9947\n",
      "Epoch 135/500\n",
      "382/382 [==============================] - 4s 9ms/step - loss: 0.0285 - accuracy: 0.9918\n",
      "Epoch 136/500\n",
      "382/382 [==============================] - 4s 9ms/step - loss: 0.0205 - accuracy: 0.9978\n",
      "Epoch 137/500\n",
      "382/382 [==============================] - 4s 9ms/step - loss: 0.0265 - accuracy: 0.9924\n",
      "Epoch 138/500\n",
      "382/382 [==============================] - 4s 9ms/step - loss: 0.0399 - accuracy: 0.9920\n",
      "Epoch 139/500\n",
      "382/382 [==============================] - 3s 9ms/step - loss: 0.0111 - accuracy: 0.9934\n",
      "Epoch 140/500\n",
      "382/382 [==============================] - 3s 9ms/step - loss: 0.0217 - accuracy: 0.9949\n",
      "Epoch 141/500\n",
      "382/382 [==============================] - 4s 9ms/step - loss: 0.0250 - accuracy: 0.9935\n",
      "Epoch 142/500\n",
      "382/382 [==============================] - 4s 9ms/step - loss: 0.0135 - accuracy: 0.9951\n",
      "Epoch 143/500\n",
      "382/382 [==============================] - 4s 9ms/step - loss: 0.0879 - accuracy: 0.9889\n",
      "Epoch 144/500\n",
      "382/382 [==============================] - 4s 9ms/step - loss: 0.0575 - accuracy: 0.9885\n",
      "Epoch 145/500\n",
      "382/382 [==============================] - 3s 9ms/step - loss: 0.0231 - accuracy: 0.9929\n",
      "Epoch 146/500\n",
      "382/382 [==============================] - 4s 9ms/step - loss: 0.0466 - accuracy: 0.9841\n",
      "Epoch 147/500\n",
      "382/382 [==============================] - 4s 9ms/step - loss: 0.0342 - accuracy: 0.9948\n",
      "Epoch 148/500\n",
      "382/382 [==============================] - 4s 9ms/step - loss: 0.0576 - accuracy: 0.9852\n",
      "Epoch 149/500\n",
      "382/382 [==============================] - 3s 9ms/step - loss: 0.0353 - accuracy: 0.9850: 0s - loss: 0.0326 \n",
      "Epoch 150/500\n",
      "382/382 [==============================] - 4s 9ms/step - loss: 0.0660 - accuracy: 0.9878\n",
      "Epoch 151/500\n",
      "382/382 [==============================] - 4s 9ms/step - loss: 0.0234 - accuracy: 0.9952\n",
      "Epoch 152/500\n",
      "382/382 [==============================] - 3s 9ms/step - loss: 0.0157 - accuracy: 0.9952: 0s -\n",
      "Epoch 153/500\n",
      "382/382 [==============================] - 3s 9ms/step - loss: 0.0303 - accuracy: 0.9933\n",
      "Epoch 154/500\n",
      "382/382 [==============================] - 3s 9ms/step - loss: 0.0279 - accuracy: 0.9952: 0s - loss: 0.0283 - accuracy: \n",
      "Epoch 155/500\n",
      "382/382 [==============================] - 3s 9ms/step - loss: 0.0530 - accuracy: 0.9865\n",
      "Epoch 156/500\n",
      "382/382 [==============================] - 4s 9ms/step - loss: 0.0275 - accuracy: 0.9912\n",
      "Epoch 157/500\n"
     ]
    },
    {
     "name": "stdout",
     "output_type": "stream",
     "text": [
      "382/382 [==============================] - 3s 9ms/step - loss: 0.0596 - accuracy: 0.9796\n",
      "Epoch 158/500\n",
      "382/382 [==============================] - 3s 9ms/step - loss: 0.0145 - accuracy: 0.9965\n",
      "Epoch 159/500\n",
      "382/382 [==============================] - 4s 9ms/step - loss: 0.0168 - accuracy: 0.9903\n",
      "Epoch 160/500\n",
      "382/382 [==============================] - 3s 9ms/step - loss: 0.0164 - accuracy: 0.9947\n",
      "Epoch 161/500\n",
      "382/382 [==============================] - 3s 9ms/step - loss: 0.0397 - accuracy: 0.9862: 0s - loss: 0.0400 - accuracy: 0.98\n",
      "Epoch 162/500\n",
      "382/382 [==============================] - 3s 9ms/step - loss: 0.0312 - accuracy: 0.9915\n",
      "Epoch 163/500\n",
      "382/382 [==============================] - 3s 9ms/step - loss: 0.0241 - accuracy: 0.9899\n",
      "Epoch 164/500\n",
      "382/382 [==============================] - 3s 9ms/step - loss: 0.0506 - accuracy: 0.9885\n",
      "Epoch 165/500\n",
      "382/382 [==============================] - 3s 9ms/step - loss: 0.0247 - accuracy: 0.9910\n",
      "Epoch 166/500\n",
      "382/382 [==============================] - 3s 9ms/step - loss: 0.0371 - accuracy: 0.9890\n",
      "Epoch 167/500\n",
      "382/382 [==============================] - 3s 9ms/step - loss: 0.0400 - accuracy: 0.9899\n",
      "Epoch 168/500\n",
      "382/382 [==============================] - 3s 9ms/step - loss: 0.0485 - accuracy: 0.9883\n",
      "Epoch 169/500\n",
      "382/382 [==============================] - 3s 9ms/step - loss: 0.0445 - accuracy: 0.9884\n",
      "Epoch 170/500\n",
      "382/382 [==============================] - 3s 9ms/step - loss: 0.0232 - accuracy: 0.9918\n",
      "Epoch 171/500\n",
      "382/382 [==============================] - 3s 9ms/step - loss: 0.0246 - accuracy: 0.9945: 0s - loss: 0.0230 \n",
      "Epoch 172/500\n",
      "382/382 [==============================] - 4s 9ms/step - loss: 0.0549 - accuracy: 0.9906\n",
      "Epoch 173/500\n",
      "382/382 [==============================] - 4s 9ms/step - loss: 0.0400 - accuracy: 0.9909\n",
      "Epoch 174/500\n",
      "382/382 [==============================] - 4s 9ms/step - loss: 0.0366 - accuracy: 0.9908\n",
      "Epoch 175/500\n",
      "382/382 [==============================] - 3s 9ms/step - loss: 0.0211 - accuracy: 0.9940\n",
      "Epoch 176/500\n",
      "382/382 [==============================] - 3s 9ms/step - loss: 0.0253 - accuracy: 0.9932\n",
      "Epoch 177/500\n",
      "382/382 [==============================] - 3s 9ms/step - loss: 0.0107 - accuracy: 0.9957\n",
      "Epoch 178/500\n",
      "382/382 [==============================] - 3s 9ms/step - loss: 0.0178 - accuracy: 0.9929\n",
      "Epoch 179/500\n",
      "382/382 [==============================] - 3s 9ms/step - loss: 0.0300 - accuracy: 0.9907\n",
      "Epoch 180/500\n",
      "382/382 [==============================] - 3s 9ms/step - loss: 0.0216 - accuracy: 0.9934\n",
      "Epoch 181/500\n",
      "382/382 [==============================] - 3s 9ms/step - loss: 0.0135 - accuracy: 0.9964\n",
      "Epoch 182/500\n",
      "382/382 [==============================] - 3s 9ms/step - loss: 0.0045 - accuracy: 0.9981\n",
      "Epoch 183/500\n",
      "382/382 [==============================] - 3s 9ms/step - loss: 0.0192 - accuracy: 0.9922\n",
      "Epoch 184/500\n",
      "382/382 [==============================] - 3s 9ms/step - loss: 0.0332 - accuracy: 0.9914\n",
      "Epoch 185/500\n",
      "382/382 [==============================] - 3s 9ms/step - loss: 0.0125 - accuracy: 0.9952\n",
      "Epoch 186/500\n",
      "382/382 [==============================] - 4s 9ms/step - loss: 0.0162 - accuracy: 0.9960\n",
      "Epoch 187/500\n",
      "382/382 [==============================] - 3s 9ms/step - loss: 0.0283 - accuracy: 0.9929\n",
      "Epoch 188/500\n",
      "382/382 [==============================] - 3s 9ms/step - loss: 0.0113 - accuracy: 0.9968\n",
      "Epoch 189/500\n",
      "382/382 [==============================] - 4s 9ms/step - loss: 0.0543 - accuracy: 0.9911\n",
      "Epoch 190/500\n",
      "382/382 [==============================] - 4s 9ms/step - loss: 0.0206 - accuracy: 0.9925\n",
      "Epoch 191/500\n",
      "382/382 [==============================] - 4s 9ms/step - loss: 0.0092 - accuracy: 0.9957: 0s - loss: 0.0077 - accu\n",
      "Epoch 192/500\n",
      "382/382 [==============================] - 3s 9ms/step - loss: 0.0356 - accuracy: 0.9888\n",
      "Epoch 193/500\n",
      "382/382 [==============================] - 4s 9ms/step - loss: 0.0755 - accuracy: 0.9898\n",
      "Epoch 194/500\n",
      "382/382 [==============================] - 3s 9ms/step - loss: 0.0140 - accuracy: 0.9955\n",
      "Epoch 195/500\n",
      "382/382 [==============================] - 4s 9ms/step - loss: 0.0224 - accuracy: 0.9921\n",
      "Epoch 196/500\n",
      "382/382 [==============================] - 4s 9ms/step - loss: 0.0150 - accuracy: 0.9954\n",
      "Epoch 197/500\n",
      "382/382 [==============================] - 3s 9ms/step - loss: 0.0028 - accuracy: 0.9997\n",
      "Epoch 198/500\n",
      "382/382 [==============================] - 3s 9ms/step - loss: 0.0381 - accuracy: 0.9908\n",
      "Epoch 199/500\n",
      "382/382 [==============================] - 4s 9ms/step - loss: 0.0320 - accuracy: 0.9929\n",
      "Epoch 200/500\n",
      "382/382 [==============================] - 4s 9ms/step - loss: 0.0622 - accuracy: 0.9883\n",
      "Epoch 201/500\n",
      "382/382 [==============================] - 3s 9ms/step - loss: 0.0365 - accuracy: 0.9926\n",
      "Epoch 202/500\n",
      "382/382 [==============================] - 4s 9ms/step - loss: 0.0262 - accuracy: 0.9959\n",
      "Epoch 203/500\n",
      "382/382 [==============================] - 3s 9ms/step - loss: 0.0159 - accuracy: 0.9948\n",
      "Epoch 204/500\n",
      "382/382 [==============================] - 3s 9ms/step - loss: 0.0202 - accuracy: 0.9951\n",
      "Epoch 205/500\n",
      "382/382 [==============================] - 3s 9ms/step - loss: 0.0114 - accuracy: 0.9974\n",
      "Epoch 206/500\n",
      "382/382 [==============================] - 3s 9ms/step - loss: 0.0330 - accuracy: 0.9898\n",
      "Epoch 207/500\n",
      "382/382 [==============================] - 4s 9ms/step - loss: 0.0290 - accuracy: 0.9933\n",
      "Epoch 208/500\n",
      "382/382 [==============================] - 3s 9ms/step - loss: 0.0188 - accuracy: 0.9944\n",
      "Epoch 209/500\n",
      "382/382 [==============================] - 3s 9ms/step - loss: 0.0385 - accuracy: 0.9956\n",
      "Epoch 210/500\n",
      "382/382 [==============================] - 3s 9ms/step - loss: 0.0173 - accuracy: 0.9942\n",
      "Epoch 211/500\n",
      "382/382 [==============================] - 4s 9ms/step - loss: 0.0119 - accuracy: 0.9965\n",
      "Epoch 212/500\n",
      "382/382 [==============================] - 3s 9ms/step - loss: 0.0333 - accuracy: 0.9925\n",
      "Epoch 213/500\n",
      "382/382 [==============================] - 4s 9ms/step - loss: 0.0094 - accuracy: 0.9958\n",
      "Epoch 214/500\n",
      "382/382 [==============================] - 4s 9ms/step - loss: 0.0049 - accuracy: 0.9966\n",
      "Epoch 215/500\n",
      "382/382 [==============================] - 3s 9ms/step - loss: 0.0475 - accuracy: 0.9885\n",
      "Epoch 216/500\n",
      "382/382 [==============================] - 3s 9ms/step - loss: 0.0064 - accuracy: 0.9969\n",
      "Epoch 217/500\n",
      "382/382 [==============================] - 3s 9ms/step - loss: 0.0314 - accuracy: 0.9916\n",
      "Epoch 218/500\n",
      "382/382 [==============================] - 4s 9ms/step - loss: 0.0313 - accuracy: 0.9931\n",
      "Epoch 219/500\n",
      "382/382 [==============================] - 3s 9ms/step - loss: 0.0168 - accuracy: 0.9956\n",
      "Epoch 220/500\n",
      "382/382 [==============================] - 3s 9ms/step - loss: 0.0051 - accuracy: 0.9972\n",
      "Epoch 221/500\n",
      "382/382 [==============================] - 4s 9ms/step - loss: 0.0191 - accuracy: 0.9943\n",
      "Epoch 242/500\n",
      "382/382 [==============================] - 4s 9ms/step - loss: 0.0306 - accuracy: 0.9944\n",
      "Epoch 243/500\n",
      "382/382 [==============================] - 3s 9ms/step - loss: 0.0144 - accuracy: 0.9957\n",
      "Epoch 244/500\n",
      "382/382 [==============================] - 4s 9ms/step - loss: 0.0088 - accuracy: 0.9962\n",
      "Epoch 245/500\n",
      "382/382 [==============================] - 4s 9ms/step - loss: 0.0351 - accuracy: 0.9935: 0s - loss: 0.0339 - ac\n",
      "Epoch 246/500\n",
      "382/382 [==============================] - 4s 9ms/step - loss: 0.0125 - accuracy: 0.9968: \n",
      "Epoch 247/500\n",
      "382/382 [==============================] - 3s 9ms/step - loss: 0.0118 - accuracy: 0.9971\n",
      "Epoch 248/500\n",
      "382/382 [==============================] - 3s 9ms/step - loss: 0.0093 - accuracy: 0.9976\n",
      "Epoch 249/500\n",
      "382/382 [==============================] - 3s 9ms/step - loss: 0.0136 - accuracy: 0.9941: 0s -\n",
      "Epoch 250/500\n",
      "382/382 [==============================] - 3s 9ms/step - loss: 0.0124 - accuracy: 0.9974\n",
      "Epoch 251/500\n",
      "382/382 [==============================] - 3s 9ms/step - loss: 0.0157 - accuracy: 0.9944\n",
      "Epoch 252/500\n",
      "382/382 [==============================] - 3s 9ms/step - loss: 0.0155 - accuracy: 0.9978\n",
      "Epoch 253/500\n",
      "382/382 [==============================] - 3s 9ms/step - loss: 0.0288 - accuracy: 0.9963\n",
      "Epoch 254/500\n",
      "382/382 [==============================] - 4s 9ms/step - loss: 0.0157 - accuracy: 0.9964\n",
      "Epoch 255/500\n"
     ]
    },
    {
     "name": "stdout",
     "output_type": "stream",
     "text": [
      "382/382 [==============================] - 3s 9ms/step - loss: 0.0245 - accuracy: 0.9970\n",
      "Epoch 256/500\n",
      "382/382 [==============================] - 4s 9ms/step - loss: 0.0340 - accuracy: 0.9953\n",
      "Epoch 257/500\n",
      "382/382 [==============================] - 3s 9ms/step - loss: 0.0521 - accuracy: 0.9883\n",
      "Epoch 258/500\n",
      "382/382 [==============================] - 3s 9ms/step - loss: 0.0056 - accuracy: 0.9979\n",
      "Epoch 259/500\n",
      "382/382 [==============================] - 4s 9ms/step - loss: 0.0086 - accuracy: 0.9959\n",
      "Epoch 260/500\n",
      "382/382 [==============================] - ETA: 0s - loss: 0.0044 - accuracy: 0.99 - 3s 9ms/step - loss: 0.0045 - accuracy: 0.9978\n",
      "Epoch 261/500\n",
      "382/382 [==============================] - 3s 9ms/step - loss: 0.0281 - accuracy: 0.9930\n",
      "Epoch 262/500\n",
      "382/382 [==============================] - 3s 9ms/step - loss: 0.0025 - accuracy: 0.9999\n",
      "Epoch 263/500\n",
      "382/382 [==============================] - 3s 9ms/step - loss: 0.0421 - accuracy: 0.9905\n",
      "Epoch 264/500\n",
      "382/382 [==============================] - 4s 9ms/step - loss: 0.0481 - accuracy: 0.9898\n",
      "Epoch 265/500\n",
      "382/382 [==============================] - 3s 9ms/step - loss: 0.0227 - accuracy: 0.9947\n",
      "Epoch 266/500\n",
      "382/382 [==============================] - 3s 9ms/step - loss: 0.0446 - accuracy: 0.9860\n",
      "Epoch 267/500\n",
      "382/382 [==============================] - 4s 9ms/step - loss: 0.0486 - accuracy: 0.9928\n",
      "Epoch 268/500\n",
      "382/382 [==============================] - 3s 9ms/step - loss: 0.0272 - accuracy: 0.9952\n",
      "Epoch 269/500\n",
      "382/382 [==============================] - 3s 9ms/step - loss: 0.0195 - accuracy: 0.9946\n",
      "Epoch 270/500\n",
      "382/382 [==============================] - 4s 9ms/step - loss: 0.0518 - accuracy: 0.9959\n",
      "Epoch 271/500\n",
      "382/382 [==============================] - 4s 9ms/step - loss: 0.0111 - accuracy: 0.9947\n",
      "Epoch 272/500\n",
      "382/382 [==============================] - 3s 9ms/step - loss: 0.0186 - accuracy: 0.9955\n",
      "Epoch 273/500\n",
      "382/382 [==============================] - 3s 9ms/step - loss: 0.0194 - accuracy: 0.9966\n",
      "Epoch 274/500\n",
      "382/382 [==============================] - 4s 9ms/step - loss: 0.0192 - accuracy: 0.9969\n",
      "Epoch 275/500\n",
      "382/382 [==============================] - 3s 9ms/step - loss: 0.0189 - accuracy: 0.9963\n",
      "Epoch 276/500\n",
      "382/382 [==============================] - 4s 9ms/step - loss: 0.0061 - accuracy: 0.9984\n",
      "Epoch 277/500\n",
      "382/382 [==============================] - 4s 9ms/step - loss: 0.0356 - accuracy: 0.9932\n",
      "Epoch 278/500\n",
      "382/382 [==============================] - 3s 9ms/step - loss: 0.0162 - accuracy: 0.9951\n",
      "Epoch 279/500\n",
      "382/382 [==============================] - 3s 9ms/step - loss: 0.0030 - accuracy: 0.9989\n",
      "Epoch 280/500\n",
      "382/382 [==============================] - 3s 9ms/step - loss: 0.0029 - accuracy: 0.9990\n",
      "Epoch 281/500\n",
      "382/382 [==============================] - 3s 9ms/step - loss: 0.0253 - accuracy: 0.9938\n",
      "Epoch 282/500\n",
      "382/382 [==============================] - 3s 9ms/step - loss: 0.0182 - accuracy: 0.9974\n",
      "Epoch 283/500\n",
      "382/382 [==============================] - 3s 9ms/step - loss: 0.0247 - accuracy: 0.9960\n",
      "Epoch 284/500\n",
      "382/382 [==============================] - 3s 9ms/step - loss: 0.0243 - accuracy: 0.9922\n",
      "Epoch 285/500\n",
      "382/382 [==============================] - 3s 9ms/step - loss: 0.0316 - accuracy: 0.9933\n",
      "Epoch 286/500\n",
      "382/382 [==============================] - 4s 9ms/step - loss: 0.0215 - accuracy: 0.9959\n",
      "Epoch 287/500\n",
      "382/382 [==============================] - 3s 9ms/step - loss: 0.0165 - accuracy: 0.9969\n",
      "Epoch 288/500\n",
      "382/382 [==============================] - 3s 9ms/step - loss: 0.0070 - accuracy: 0.9985\n",
      "Epoch 289/500\n",
      "382/382 [==============================] - 3s 9ms/step - loss: 0.0115 - accuracy: 0.9962: 0s - loss: 0.0115 - accuracy: 0.\n",
      "Epoch 290/500\n",
      "382/382 [==============================] - 3s 9ms/step - loss: 0.0154 - accuracy: 0.9957\n",
      "Epoch 291/500\n",
      "382/382 [==============================] - 4s 9ms/step - loss: 0.0195 - accuracy: 0.9966\n",
      "Epoch 292/500\n",
      "382/382 [==============================] - 3s 9ms/step - loss: 0.0023 - accuracy: 0.9993\n",
      "Epoch 293/500\n",
      "382/382 [==============================] - 4s 9ms/step - loss: 0.0125 - accuracy: 0.9976\n",
      "Epoch 294/500\n",
      "382/382 [==============================] - 3s 9ms/step - loss: 0.0109 - accuracy: 0.9986\n",
      "Epoch 295/500\n",
      "382/382 [==============================] - 4s 9ms/step - loss: 0.0125 - accuracy: 0.9967\n",
      "Epoch 296/500\n",
      "382/382 [==============================] - 3s 9ms/step - loss: 0.0111 - accuracy: 0.9963\n",
      "Epoch 297/500\n",
      "382/382 [==============================] - 4s 9ms/step - loss: 0.0303 - accuracy: 0.9913\n",
      "Epoch 298/500\n",
      "382/382 [==============================] - 4s 9ms/step - loss: 0.0157 - accuracy: 0.9959\n",
      "Epoch 331/500\n",
      "382/382 [==============================] - 4s 9ms/step - loss: 0.0112 - accuracy: 0.9962\n",
      "Epoch 332/500\n",
      "382/382 [==============================] - 4s 9ms/step - loss: 0.0035 - accuracy: 0.9991\n",
      "Epoch 333/500\n",
      "382/382 [==============================] - 4s 9ms/step - loss: 0.0025 - accuracy: 0.9996\n",
      "Epoch 334/500\n",
      "382/382 [==============================] - 3s 9ms/step - loss: 0.0015 - accuracy: 0.9996\n",
      "Epoch 335/500\n",
      "382/382 [==============================] - 3s 9ms/step - loss: 0.0035 - accuracy: 0.9988\n",
      "Epoch 336/500\n",
      "382/382 [==============================] - 4s 9ms/step - loss: 0.0030 - accuracy: 0.9992\n",
      "Epoch 337/500\n",
      "382/382 [==============================] - 4s 9ms/step - loss: 0.0185 - accuracy: 0.9946\n",
      "Epoch 338/500\n",
      "382/382 [==============================] - 4s 9ms/step - loss: 0.0049 - accuracy: 0.9979\n",
      "Epoch 339/500\n",
      "382/382 [==============================] - 3s 9ms/step - loss: 0.0098 - accuracy: 0.9969\n",
      "Epoch 340/500\n",
      "382/382 [==============================] - 4s 9ms/step - loss: 0.0083 - accuracy: 0.9975\n",
      "Epoch 341/500\n",
      "382/382 [==============================] - 4s 9ms/step - loss: 0.0091 - accuracy: 0.9957: 0s - loss:\n",
      "Epoch 342/500\n",
      "382/382 [==============================] - 3s 9ms/step - loss: 0.0058 - accuracy: 0.9979\n",
      "Epoch 343/500\n",
      "382/382 [==============================] - 4s 9ms/step - loss: 0.0190 - accuracy: 0.9951\n",
      "Epoch 344/500\n",
      "382/382 [==============================] - 3s 9ms/step - loss: 0.0172 - accuracy: 0.9951\n",
      "Epoch 345/500\n",
      "382/382 [==============================] - 4s 9ms/step - loss: 0.0106 - accuracy: 0.9975\n",
      "Epoch 346/500\n",
      "382/382 [==============================] - 4s 9ms/step - loss: 0.0065 - accuracy: 0.9958\n",
      "Epoch 347/500\n",
      "382/382 [==============================] - 4s 9ms/step - loss: 0.0148 - accuracy: 0.9952\n",
      "Epoch 348/500\n",
      "382/382 [==============================] - 3s 9ms/step - loss: 0.0349 - accuracy: 0.9892\n",
      "Epoch 349/500\n",
      "382/382 [==============================] - 4s 9ms/step - loss: 0.0021 - accuracy: 0.9995\n",
      "Epoch 350/500\n",
      "382/382 [==============================] - 4s 9ms/step - loss: 0.0014 - accuracy: 0.9989\n",
      "Epoch 351/500\n",
      "382/382 [==============================] - 4s 9ms/step - loss: 0.0339 - accuracy: 0.9907: 0s - loss: 0.0345 - ac\n",
      "Epoch 352/500\n",
      "382/382 [==============================] - 4s 9ms/step - loss: 0.0141 - accuracy: 0.9980\n",
      "Epoch 353/500\n",
      "382/382 [==============================] - 4s 9ms/step - loss: 0.0196 - accuracy: 0.9934\n",
      "Epoch 354/500\n",
      "382/382 [==============================] - 4s 9ms/step - loss: 0.0166 - accuracy: 0.9960\n",
      "Epoch 355/500\n",
      "382/382 [==============================] - 4s 9ms/step - loss: 0.0130 - accuracy: 0.9970\n",
      "Epoch 356/500\n",
      "382/382 [==============================] - 3s 9ms/step - loss: 0.0296 - accuracy: 0.9961\n",
      "Epoch 357/500\n",
      "382/382 [==============================] - 3s 9ms/step - loss: 0.0330 - accuracy: 0.9969\n",
      "Epoch 358/500\n",
      "382/382 [==============================] - 3s 9ms/step - loss: 0.0016 - accuracy: 0.9986\n",
      "Epoch 359/500\n",
      "382/382 [==============================] - 4s 9ms/step - loss: 0.0305 - accuracy: 0.9942\n",
      "Epoch 360/500\n",
      "382/382 [==============================] - 4s 9ms/step - loss: 0.0211 - accuracy: 0.9955\n",
      "Epoch 361/500\n",
      "382/382 [==============================] - 3s 9ms/step - loss: 0.0153 - accuracy: 0.9968\n",
      "Epoch 362/500\n",
      "382/382 [==============================] - 3s 9ms/step - loss: 0.0118 - accuracy: 0.9977\n",
      "Epoch 363/500\n",
      "382/382 [==============================] - 4s 9ms/step - loss: 0.0190 - accuracy: 0.9948: 0s\n",
      "Epoch 364/500\n",
      "382/382 [==============================] - 4s 9ms/step - loss: 0.0154 - accuracy: 0.9951\n",
      "Epoch 365/500\n"
     ]
    },
    {
     "name": "stdout",
     "output_type": "stream",
     "text": [
      "382/382 [==============================] - 4s 9ms/step - loss: 0.0126 - accuracy: 0.9977\n",
      "Epoch 366/500\n",
      "382/382 [==============================] - 4s 9ms/step - loss: 0.0106 - accuracy: 0.9970\n",
      "Epoch 367/500\n",
      "382/382 [==============================] - 3s 9ms/step - loss: 0.0208 - accuracy: 0.9973\n",
      "Epoch 368/500\n",
      "382/382 [==============================] - 4s 10ms/step - loss: 0.0247 - accuracy: 0.9955\n",
      "Epoch 369/500\n",
      "382/382 [==============================] - 4s 10ms/step - loss: 0.0151 - accuracy: 0.9977\n",
      "Epoch 370/500\n",
      "382/382 [==============================] - 4s 9ms/step - loss: 0.0162 - accuracy: 0.9963\n",
      "Epoch 371/500\n",
      "382/382 [==============================] - 3s 9ms/step - loss: 0.0151 - accuracy: 0.9969\n",
      "Epoch 372/500\n",
      "382/382 [==============================] - 4s 9ms/step - loss: 0.0224 - accuracy: 0.9957\n",
      "Epoch 373/500\n",
      "382/382 [==============================] - ETA: 0s - loss: 0.0066 - accuracy: 0.99 - 4s 9ms/step - loss: 0.0066 - accuracy: 0.9963\n",
      "Epoch 374/500\n",
      "382/382 [==============================] - 3s 9ms/step - loss: 0.0163 - accuracy: 0.9955: \n",
      "Epoch 375/500\n",
      "382/382 [==============================] - 3s 9ms/step - loss: 0.0300 - accuracy: 0.9943\n",
      "Epoch 376/500\n",
      "382/382 [==============================] - 4s 9ms/step - loss: 0.0118 - accuracy: 0.9978\n",
      "Epoch 377/500\n",
      "382/382 [==============================] - 4s 9ms/step - loss: 0.0088 - accuracy: 0.9979\n",
      "Epoch 378/500\n",
      "382/382 [==============================] - 4s 9ms/step - loss: 0.0153 - accuracy: 0.9988\n",
      "Epoch 379/500\n",
      "382/382 [==============================] - 3s 9ms/step - loss: 0.0111 - accuracy: 0.9979\n",
      "Epoch 380/500\n",
      "382/382 [==============================] - 4s 9ms/step - loss: 0.0069 - accuracy: 0.9974\n",
      "Epoch 381/500\n",
      "382/382 [==============================] - 4s 10ms/step - loss: 0.0154 - accuracy: 0.9936 0s - loss: 0.0154 - accuracy: 0.\n",
      "Epoch 382/500\n",
      "382/382 [==============================] - 4s 9ms/step - loss: 0.0020 - accuracy: 1.0000- ETA: 3s -\n",
      "Epoch 383/500\n",
      "382/382 [==============================] - 4s 9ms/step - loss: 0.0172 - accuracy: 0.9963\n",
      "Epoch 384/500\n",
      "382/382 [==============================] - 4s 9ms/step - loss: 0.0091 - accuracy: 0.9981\n",
      "Epoch 385/500\n",
      "382/382 [==============================] - 4s 9ms/step - loss: 0.0438 - accuracy: 0.9939\n",
      "Epoch 386/500\n",
      "382/382 [==============================] - 4s 9ms/step - loss: 0.0105 - accuracy: 0.9979\n",
      "Epoch 387/500\n",
      "382/382 [==============================] - 4s 9ms/step - loss: 0.0049 - accuracy: 0.9994\n",
      "Epoch 420/500\n",
      "382/382 [==============================] - 4s 9ms/step - loss: 0.0183 - accuracy: 0.9944\n",
      "Epoch 421/500\n",
      "382/382 [==============================] - 4s 9ms/step - loss: 0.0202 - accuracy: 0.9965: 0s - loss: 0.0206 - accuracy: \n",
      "Epoch 422/500\n",
      "382/382 [==============================] - 4s 9ms/step - loss: 6.0967e-04 - accuracy: 1.0000\n",
      "Epoch 423/500\n",
      "382/382 [==============================] - 4s 9ms/step - loss: 0.0256 - accuracy: 0.9953: 0s - loss: 0.0\n",
      "Epoch 424/500\n",
      "382/382 [==============================] - 3s 9ms/step - loss: 0.0186 - accuracy: 0.9955\n",
      "Epoch 425/500\n",
      "382/382 [==============================] - 4s 9ms/step - loss: 0.0133 - accuracy: 0.9941\n",
      "Epoch 426/500\n",
      "382/382 [==============================] - 3s 9ms/step - loss: 0.0106 - accuracy: 0.9987\n",
      "Epoch 427/500\n",
      "382/382 [==============================] - 4s 9ms/step - loss: 0.0117 - accuracy: 0.9966\n",
      "Epoch 428/500\n",
      "382/382 [==============================] - 3s 9ms/step - loss: 0.0084 - accuracy: 0.9981\n",
      "Epoch 429/500\n",
      "382/382 [==============================] - 3s 9ms/step - loss: 0.0259 - accuracy: 0.9955\n",
      "Epoch 430/500\n",
      "382/382 [==============================] - 4s 9ms/step - loss: 0.0081 - accuracy: 0.9979\n",
      "Epoch 431/500\n",
      "382/382 [==============================] - 4s 9ms/step - loss: 0.0067 - accuracy: 0.9974\n",
      "Epoch 432/500\n",
      "382/382 [==============================] - 3s 9ms/step - loss: 0.0016 - accuracy: 0.9998\n",
      "Epoch 433/500\n",
      "382/382 [==============================] - 3s 9ms/step - loss: 0.0167 - accuracy: 0.9960\n",
      "Epoch 434/500\n",
      "382/382 [==============================] - 4s 9ms/step - loss: 0.0012 - accuracy: 0.9991 ETA: 1s\n",
      "Epoch 435/500\n",
      "382/382 [==============================] - 4s 9ms/step - loss: 0.0324 - accuracy: 0.9952\n",
      "Epoch 436/500\n",
      "382/382 [==============================] - 4s 9ms/step - loss: 0.0101 - accuracy: 0.9968\n",
      "Epoch 437/500\n",
      "382/382 [==============================] - 4s 9ms/step - loss: 0.0060 - accuracy: 0.9992\n",
      "Epoch 438/500\n",
      "382/382 [==============================] - 3s 9ms/step - loss: 0.0155 - accuracy: 0.9981\n",
      "Epoch 439/500\n",
      "382/382 [==============================] - 4s 10ms/step - loss: 0.0036 - accuracy: 0.9992\n",
      "Epoch 440/500\n",
      "382/382 [==============================] - 4s 9ms/step - loss: 0.0177 - accuracy: 0.9974\n",
      "Epoch 441/500\n",
      "382/382 [==============================] - 4s 9ms/step - loss: 0.0111 - accuracy: 0.9986\n",
      "Epoch 442/500\n",
      "382/382 [==============================] - 4s 9ms/step - loss: 8.8500e-04 - accuracy: 0.9993\n",
      "Epoch 443/500\n",
      "382/382 [==============================] - 4s 9ms/step - loss: 0.0089 - accuracy: 0.9988\n",
      "Epoch 444/500\n",
      "382/382 [==============================] - 3s 9ms/step - loss: 0.0053 - accuracy: 0.9967\n",
      "Epoch 445/500\n",
      "382/382 [==============================] - 4s 9ms/step - loss: 0.0012 - accuracy: 1.0000\n",
      "Epoch 446/500\n",
      "382/382 [==============================] - 3s 9ms/step - loss: 0.0024 - accuracy: 0.9994\n",
      "Epoch 447/500\n",
      "382/382 [==============================] - 4s 9ms/step - loss: 0.0220 - accuracy: 0.9958: 0s - loss: 0.0224 - accuracy: 0.\n",
      "Epoch 448/500\n",
      "382/382 [==============================] - 4s 9ms/step - loss: 0.0112 - accuracy: 0.9972\n",
      "Epoch 449/500\n",
      "382/382 [==============================] - 4s 9ms/step - loss: 0.0403 - accuracy: 0.9952\n",
      "Epoch 450/500\n",
      "382/382 [==============================] - 4s 9ms/step - loss: 0.0070 - accuracy: 0.9976\n",
      "Epoch 451/500\n",
      "382/382 [==============================] - 4s 9ms/step - loss: 0.0120 - accuracy: 0.9982: 0s - loss:\n",
      "Epoch 452/500\n",
      "382/382 [==============================] - 4s 9ms/step - loss: 0.0026 - accuracy: 0.9986\n",
      "Epoch 453/500\n",
      "382/382 [==============================] - 4s 9ms/step - loss: 0.0102 - accuracy: 0.9967\n",
      "Epoch 454/500\n",
      "382/382 [==============================] - 3s 9ms/step - loss: 0.0201 - accuracy: 0.9943\n",
      "Epoch 455/500\n",
      "382/382 [==============================] - 3s 9ms/step - loss: 0.0071 - accuracy: 0.9978\n",
      "Epoch 456/500\n",
      "382/382 [==============================] - 4s 9ms/step - loss: 0.0141 - accuracy: 0.9963\n",
      "Epoch 457/500\n",
      "382/382 [==============================] - 4s 9ms/step - loss: 0.0037 - accuracy: 0.9986: 0s - loss: 0.0036 - accuracy\n",
      "Epoch 458/500\n",
      "382/382 [==============================] - 4s 9ms/step - loss: 0.0268 - accuracy: 0.9937\n",
      "Epoch 459/500\n",
      "382/382 [==============================] - 4s 9ms/step - loss: 0.0135 - accuracy: 0.9951\n",
      "Epoch 460/500\n",
      "382/382 [==============================] - 4s 10ms/step - loss: 2.5356e-04 - accuracy: 1.0000\n",
      "Epoch 461/500\n",
      "382/382 [==============================] - 4s 10ms/step - loss: 0.0084 - accuracy: 0.9975\n",
      "Epoch 462/500\n",
      "382/382 [==============================] - 4s 10ms/step - loss: 0.0092 - accuracy: 0.9986\n",
      "Epoch 463/500\n",
      "382/382 [==============================] - 4s 10ms/step - loss: 0.0050 - accuracy: 0.9983\n",
      "Epoch 464/500\n",
      "382/382 [==============================] - 4s 10ms/step - loss: 0.0051 - accuracy: 0.9988ETA: \n",
      "Epoch 465/500\n",
      "382/382 [==============================] - 4s 9ms/step - loss: 7.0896e-04 - accuracy: 0.9997\n",
      "Epoch 466/500\n",
      "382/382 [==============================] - 4s 9ms/step - loss: 0.0054 - accuracy: 0.9982\n",
      "Epoch 467/500\n",
      "382/382 [==============================] - 4s 9ms/step - loss: 8.6361e-04 - accuracy: 1.0000\n",
      "Epoch 468/500\n",
      "382/382 [==============================] - 4s 9ms/step - loss: 0.0210 - accuracy: 0.9955\n",
      "Epoch 469/500\n",
      "382/382 [==============================] - 4s 10ms/step - loss: 0.0055 - accuracy: 0.9976\n",
      "Epoch 470/500\n",
      "382/382 [==============================] - 4s 9ms/step - loss: 0.0032 - accuracy: 0.9994\n",
      "Epoch 471/500\n",
      "382/382 [==============================] - 4s 9ms/step - loss: 0.0042 - accuracy: 0.9992\n",
      "Epoch 472/500\n",
      "382/382 [==============================] - 4s 10ms/step - loss: 0.1097 - accuracy: 0.9918\n",
      "Epoch 473/500\n",
      "382/382 [==============================] - 4s 10ms/step - loss: 0.0068 - accuracy: 0.9980\n",
      "Epoch 474/500\n"
     ]
    },
    {
     "name": "stdout",
     "output_type": "stream",
     "text": [
      "382/382 [==============================] - 4s 9ms/step - loss: 0.0259 - accuracy: 0.9961\n",
      "Epoch 475/500\n",
      "382/382 [==============================] - 4s 10ms/step - loss: 0.0045 - accuracy: 0.9985\n",
      "Epoch 476/500\n",
      "382/382 [==============================] - 4s 10ms/step - loss: 0.0292 - accuracy: 0.9925\n",
      "Epoch 477/500\n",
      "382/382 [==============================] - 4s 10ms/step - loss: 0.0102 - accuracy: 0.9979\n",
      "Epoch 478/500\n",
      "382/382 [==============================] - 4s 9ms/step - loss: 0.0227 - accuracy: 0.9940\n",
      "Epoch 479/500\n",
      "382/382 [==============================] - 4s 9ms/step - loss: 0.0134 - accuracy: 0.9985\n",
      "Epoch 480/500\n",
      "382/382 [==============================] - 4s 10ms/step - loss: 0.0379 - accuracy: 0.9947\n",
      "Epoch 481/500\n",
      "382/382 [==============================] - 4s 9ms/step - loss: 0.0251 - accuracy: 0.9960\n",
      "Epoch 482/500\n",
      "382/382 [==============================] - ETA: 0s - loss: 0.0525 - accuracy: 0.99 - 4s 9ms/step - loss: 0.0522 - accuracy: 0.9945\n",
      "Epoch 483/500\n",
      "382/382 [==============================] - 4s 9ms/step - loss: 0.0131 - accuracy: 0.9965\n",
      "Epoch 484/500\n",
      "382/382 [==============================] - 4s 10ms/step - loss: 0.0178 - accuracy: 0.9975\n",
      "Epoch 485/500\n",
      "382/382 [==============================] - 4s 10ms/step - loss: 0.0080 - accuracy: 0.9968\n",
      "Epoch 486/500\n",
      "382/382 [==============================] - 4s 10ms/step - loss: 0.0278 - accuracy: 0.9961\n",
      "Epoch 487/500\n",
      "382/382 [==============================] - 4s 9ms/step - loss: 0.0087 - accuracy: 0.9978\n",
      "Epoch 488/500\n",
      "382/382 [==============================] - 4s 9ms/step - loss: 0.0109 - accuracy: 0.9961\n",
      "Epoch 489/500\n",
      "382/382 [==============================] - 4s 9ms/step - loss: 6.4722e-04 - accuracy: 1.0000\n",
      "Epoch 490/500\n",
      "382/382 [==============================] - 3s 9ms/step - loss: 0.0022 - accuracy: 0.9996\n",
      "Epoch 491/500\n",
      "382/382 [==============================] - 3s 9ms/step - loss: 0.0034 - accuracy: 0.9997\n",
      "Epoch 492/500\n",
      "382/382 [==============================] - 4s 9ms/step - loss: 0.0065 - accuracy: 0.9980\n",
      "Epoch 493/500\n",
      "382/382 [==============================] - 4s 10ms/step - loss: 0.0238 - accuracy: 0.9956\n",
      "Epoch 494/500\n",
      "382/382 [==============================] - 4s 9ms/step - loss: 0.0166 - accuracy: 0.9945\n",
      "Epoch 495/500\n",
      "382/382 [==============================] - 3s 9ms/step - loss: 0.0065 - accuracy: 0.9982\n",
      "Epoch 496/500\n",
      "382/382 [==============================] - 4s 9ms/step - loss: 0.0066 - accuracy: 0.9974\n",
      "Epoch 497/500\n",
      "382/382 [==============================] - 4s 9ms/step - loss: 0.0215 - accuracy: 0.9953\n",
      "Epoch 498/500\n",
      "382/382 [==============================] - 4s 9ms/step - loss: 0.0174 - accuracy: 0.9947\n",
      "Epoch 499/500\n",
      "382/382 [==============================] - 3s 9ms/step - loss: 1.0956e-04 - accuracy: 1.0000\n",
      "Epoch 500/500\n",
      "382/382 [==============================] - 4s 9ms/step - loss: 0.0123 - accuracy: 0.9962\n"
     ]
    }
   ],
   "source": [
    "Batch_Size = 4\n",
    "Shift_Range = 1\n",
    "Brightness_Range = 0.2\n",
    "Rotation_Angle = 5\n",
    "ZoomRange = 0.3\n",
    "\n",
    "datagen = ImageDataGenerator(width_shift_range=[-Shift_Range,Shift_Range], \n",
    "                             height_shift_range=[-Shift_Range,Shift_Range],\n",
    "                             brightness_range=[1-Brightness_Range,1+Brightness_Range],\n",
    "                             zoom_range=[1-ZoomRange, 1+ZoomRange],\n",
    "                             rotation_range=Rotation_Angle)\n",
    "\n",
    "if (Training_Percentage > 0):\n",
    "    train_iterator = datagen.flow(x_data, y_data, batch_size=Batch_Size)\n",
    "    validation_iterator = datagen.flow(X_test, y_test, batch_size=Batch_Size)\n",
    "    history = model.fit(train_iterator, validation_data = validation_iterator, epochs = Epoch_Anz)\n",
    "else:\n",
    "    train_iterator = datagen.flow(x_data, y_data, batch_size=Batch_Size)\n",
    "    history = model.fit(train_iterator, epochs = Epoch_Anz)\n",
    "\n"
   ]
  },
  {
   "cell_type": "markdown",
   "metadata": {},
   "source": [
    "### Learing result\n",
    " \n",
    "* Visualization of the training and validation results"
   ]
  },
  {
   "cell_type": "code",
   "execution_count": 5,
   "metadata": {},
   "outputs": [
    {
     "data": {
      "image/png": "[encoded data removed]",
      "text/plain": [
       "<Figure size 432x288 with 1 Axes>"
      ]
     },
     "metadata": {
      "needs_background": "light"
     },
     "output_type": "display_data"
    }
   ],
   "source": [
    "loss_ges = np.append(loss_ges, history.history['loss'])\n",
    "plt.semilogy(history.history['loss'])\n",
    "\n",
    "if (Training_Percentage > 0):\n",
    "    val_loss_ges = np.append(val_loss_ges, history.history['val_loss'])\n",
    "    plt.semilogy(history.history['val_loss'])\n",
    "\n",
    "plt.title('model loss')\n",
    "plt.ylabel('loss')\n",
    "plt.xlabel('epoch')\n",
    "plt.legend(['train','eval'], loc='upper left')\n",
    "plt.show()"
   ]
  },
  {
   "cell_type": "markdown",
   "metadata": {},
   "source": [
    "### Check the model by hand\n",
    "\n",
    "* The following code uses the trained model to check the deviation for each picture.\n",
    "* x-axis walks through each pixel, y-axis shows the result"
   ]
  },
  {
   "cell_type": "markdown",
   "metadata": {},
   "source": [
    "### Check each image for expected and deviation\n",
    "* setting the switch \"only_deviation = true\" will only print the images for which the classification and the CNN-result deviates\n",
    "\n",
    "The output contains the following information:\n",
    "\n",
    "| Filename      | Expected Category           | Predicted Category        |\n",
    "|------------- |:-----------------------------:|--------------|\n",
    "| ziffer_sortiert_resize_NaN/5\\Ziffer_4_0034.jpg | 4  | -1 |\n"
   ]
  },
  {
   "cell_type": "code",
   "execution_count": 6,
   "metadata": {},
   "outputs": [
    {
     "name": "stdout",
     "output_type": "stream",
     "text": [
      "ziffer_sortiert_resize\\0_1_ht5_20210627-220703.jpg 0 9\n"
     ]
    },
    {
     "data": {
      "image/png": "[encoded data removed]",
      "text/plain": [
       "<PIL.JpegImagePlugin.JpegImageFile image mode=RGB size=20x32 at 0x1D4247AA070>"
      ]
     },
     "metadata": {},
     "output_type": "display_data"
    },
    {
     "name": "stdout",
     "output_type": "stream",
     "text": [
      "ziffer_sortiert_resize\\0_D6_2020-08-16_01-02-52.jpg 0 9\n"
     ]
    },
    {
     "data": {
      "image/png": "[encoded data removed]",
      "text/plain": [
       "<PIL.JpegImagePlugin.JpegImageFile image mode=RGB size=20x32 at 0x1D426B3E130>"
      ]
     },
     "metadata": {},
     "output_type": "display_data"
    },
    {
     "name": "stdout",
     "output_type": "stream",
     "text": [
      "ziffer_sortiert_resize\\2_10_dig6_20210726-190157.jpg 2 -1\n"
     ]
    },
    {
     "data": {
      "image/png": "[encoded data removed]",
      "text/plain": [
       "<PIL.JpegImagePlugin.JpegImageFile image mode=RGB size=20x32 at 0x1D4271E52B0>"
      ]
     },
     "metadata": {},
     "output_type": "display_data"
    },
    {
     "name": "stdout",
     "output_type": "stream",
     "text": [
      "ziffer_sortiert_resize\\2_4_nt7_20210625-205647.jpg 2 -1\n"
     ]
    },
    {
     "data": {
      "image/png": "[encoded data removed]",
      "text/plain": [
       "<PIL.JpegImagePlugin.JpegImageFile image mode=RGB size=20x32 at 0x1D426EF5F40>"
      ]
     },
     "metadata": {},
     "output_type": "display_data"
    },
    {
     "name": "stdout",
     "output_type": "stream",
     "text": [
      "ziffer_sortiert_resize\\2_4_nt7_20210625-210138.jpg 2 -1\n"
     ]
    },
    {
     "data": {
      "image/png": "[encoded data removed]",
      "text/plain": [
       "<PIL.JpegImagePlugin.JpegImageFile image mode=RGB size=20x32 at 0x1D426EF5EB0>"
      ]
     },
     "metadata": {},
     "output_type": "display_data"
    },
    {
     "name": "stdout",
     "output_type": "stream",
     "text": [
      "ziffer_sortiert_resize\\3_1_ht4_20210627-124615.jpg 3 -1\n"
     ]
    },
    {
     "data": {
      "image/png": "[encoded data removed]",
      "text/plain": [
       "<PIL.JpegImagePlugin.JpegImageFile image mode=RGB size=20x32 at 0x1D42437F7C0>"
      ]
     },
     "metadata": {},
     "output_type": "display_data"
    },
    {
     "name": "stdout",
     "output_type": "stream",
     "text": [
      "ziffer_sortiert_resize\\3_6_ht6_20210702-044832.jpg 3 9\n"
     ]
    },
    {
     "data": {
      "image/png": "[encoded data removed]",
      "text/plain": [
       "<PIL.JpegImagePlugin.JpegImageFile image mode=RGB size=20x32 at 0x1D426C4E580>"
      ]
     },
     "metadata": {},
     "output_type": "display_data"
    },
    {
     "name": "stdout",
     "output_type": "stream",
     "text": [
      "ziffer_sortiert_resize\\4_0_ht6_20210627-222846.jpg 4 -1\n"
     ]
    },
    {
     "data": {
      "image/png": "[encoded data removed]",
      "text/plain": [
       "<PIL.JpegImagePlugin.JpegImageFile image mode=RGB size=20x32 at 0x1D426CE7A00>"
      ]
     },
     "metadata": {},
     "output_type": "display_data"
    },
    {
     "name": "stdout",
     "output_type": "stream",
     "text": [
      "ziffer_sortiert_resize\\4_10_dig4_20210709-181251.jpg 4 -1\n"
     ]
    },
    {
     "data": {
      "image/png": "[encoded data removed]",
      "text/plain": [
       "<PIL.JpegImagePlugin.JpegImageFile image mode=RGB size=20x32 at 0x1D426DE1BB0>"
      ]
     },
     "metadata": {},
     "output_type": "display_data"
    },
    {
     "name": "stdout",
     "output_type": "stream",
     "text": [
      "ziffer_sortiert_resize\\4_10_ht6_20210628-105540.jpg 4 -1\n"
     ]
    },
    {
     "data": {
      "image/png": "[encoded data removed]",
      "text/plain": [
       "<PIL.JpegImagePlugin.JpegImageFile image mode=RGB size=20x32 at 0x1D426DE1EE0>"
      ]
     },
     "metadata": {},
     "output_type": "display_data"
    },
    {
     "name": "stdout",
     "output_type": "stream",
     "text": [
      "ziffer_sortiert_resize\\4_10_ht6_20210703-070449.jpg 4 -1\n"
     ]
    },
    {
     "data": {
      "image/png": "[encoded data removed]",
      "text/plain": [
       "<PIL.JpegImagePlugin.JpegImageFile image mode=RGB size=20x32 at 0x1D42685F850>"
      ]
     },
     "metadata": {},
     "output_type": "display_data"
    },
    {
     "name": "stdout",
     "output_type": "stream",
     "text": [
      "ziffer_sortiert_resize\\4_1_ht6_20210627-202210.jpg 4 -1\n"
     ]
    },
    {
     "data": {
      "image/png": "[encoded data removed]",
      "text/plain": [
       "<PIL.JpegImagePlugin.JpegImageFile image mode=RGB size=20x32 at 0x1D426CA6D60>"
      ]
     },
     "metadata": {},
     "output_type": "display_data"
    },
    {
     "name": "stdout",
     "output_type": "stream",
     "text": [
      "ziffer_sortiert_resize\\4_4_dig6_20210724-184309.jpg 4 -1\n"
     ]
    },
    {
     "data": {
      "image/png": "[encoded data removed]",
      "text/plain": [
       "<PIL.JpegImagePlugin.JpegImageFile image mode=RGB size=20x32 at 0x1D426E1CC40>"
      ]
     },
     "metadata": {},
     "output_type": "display_data"
    },
    {
     "name": "stdout",
     "output_type": "stream",
     "text": [
      "ziffer_sortiert_resize\\8_D7_2020-08-14_00-01-25.jpg 8 9\n"
     ]
    },
    {
     "data": {
      "image/png": "[encoded data removed]",
      "text/plain": [
       "<PIL.JpegImagePlugin.JpegImageFile image mode=RGB size=20x32 at 0x1D42486C0A0>"
      ]
     },
     "metadata": {},
     "output_type": "display_data"
    },
    {
     "name": "stdout",
     "output_type": "stream",
     "text": [
      "ziffer_sortiert_resize\\NaN_0_ht6_20210628-182853.jpg -1 9\n"
     ]
    },
    {
     "data": {
      "image/png": "[encoded data removed]",
      "text/plain": [
       "<PIL.JpegImagePlugin.JpegImageFile image mode=RGB size=20x32 at 0x1D426F3C3A0>"
      ]
     },
     "metadata": {},
     "output_type": "display_data"
    },
    {
     "data": {
      "image/png": "[encoded data removed]",
      "text/plain": [
       "<Figure size 432x288 with 1 Axes>"
      ]
     },
     "metadata": {
      "needs_background": "light"
     },
     "output_type": "display_data"
    }
   ],
   "source": [
    "Input_dir='ziffer_sortiert_resize'\n",
    "res = []\n",
    "only_deviation = True\n",
    "show_wrong_image = True\n",
    "\n",
    "files = glob.glob(Input_dir + '/*.jpg')\n",
    "\n",
    "for aktfile in files:\n",
    "    base = os.path.basename(aktfile)\n",
    "    target = base[0:1]\n",
    "    if target == \"N\":\n",
    "        zw1 = -1\n",
    "    else:\n",
    "        zw1 = int(target)\n",
    "    expected_class = zw1\n",
    "    image_in = Image.open(aktfile)\n",
    "    test_image = np.array(image_in, dtype=\"float32\")\n",
    "    img = np.reshape(test_image,[1,32,20,3])\n",
    "    classes = np.argmax(model.predict(img), axis=-1)\n",
    "    classes = classes[0]\n",
    "    if classes == 10: \n",
    "        classes = -1\n",
    "    zw2 = classes\n",
    "    zw3 = zw2 - zw1\n",
    "    res.append(np.array([zw1, zw2, zw3]))\n",
    "    if only_deviation == True:\n",
    "        if str(classes) != str(expected_class):\n",
    "            print(aktfile + \" \" + str(expected_class) +  \" \" + str(classes))\n",
    "            if show_wrong_image == True:\n",
    "                display(image_in)\n",
    "    else:\n",
    "        print(aktfile + \" \" + aktsubdir +  \" \" + str(classes))\n",
    "        \n",
    "\n",
    "res = np.asarray(res)\n",
    "\n",
    "\n",
    "plt.plot(res[:,0])\n",
    "plt.plot(res[:,1])\n",
    "plt.title('Result')\n",
    "plt.ylabel('Digital Value')\n",
    "plt.xlabel('#Picture')\n",
    "plt.legend(['real','model'], loc='upper left')\n",
    "plt.show()"
   ]
  },
  {
   "cell_type": "markdown",
   "metadata": {},
   "source": [
    "### Save the model\n",
    "\n",
    "* Save the model to the file with the \"h5\" file format"
   ]
  },
  {
   "cell_type": "code",
   "execution_count": 7,
   "metadata": {},
   "outputs": [
    {
     "name": "stdout",
     "output_type": "stream",
     "text": [
      "INFO:tensorflow:Assets written to: C:\\Users\\Muell\\AppData\\Local\\Temp\\tmpwwsa5649\\assets\n"
     ]
    },
    {
     "data": {
      "text/plain": [
       "356604"
      ]
     },
     "execution_count": 7,
     "metadata": {},
     "output_type": "execute_result"
    }
   ],
   "source": [
    "FileName = TFliteNamingAndVersion\n",
    "\n",
    "converter = tf.lite.TFLiteConverter.from_keras_model(model)\n",
    "tflite_model = converter.convert()\n",
    "open(FileName + \".tflite\", \"wb\").write(tflite_model)"
   ]
  },
  {
   "cell_type": "code",
   "execution_count": 8,
   "metadata": {},
   "outputs": [
    {
     "name": "stdout",
     "output_type": "stream",
     "text": [
      "INFO:tensorflow:Assets written to: C:\\Users\\Muell\\AppData\\Local\\Temp\\tmpqfbjh88t\\assets\n"
     ]
    },
    {
     "name": "stderr",
     "output_type": "stream",
     "text": [
      "INFO:tensorflow:Assets written to: C:\\Users\\Muell\\AppData\\Local\\Temp\\tmpqfbjh88t\\assets\n"
     ]
    },
    {
     "name": "stdout",
     "output_type": "stream",
     "text": [
      "dig1310s2q.tflite\n"
     ]
    },
    {
     "data": {
      "text/plain": [
       "98512"
      ]
     },
     "execution_count": 8,
     "metadata": {},
     "output_type": "execute_result"
    }
   ],
   "source": [
    "FileName = TFliteNamingAndVersion + \"q.tflite\"\n",
    "\n",
    "import tensorflow as tf\n",
    "\n",
    "def representative_dataset():\n",
    "    for n in range(x_data[0].size):\n",
    "      data = np.expand_dims(x_data[5], axis=0)\n",
    "      yield [data.astype(np.float32)]\n",
    "        \n",
    "converter2 = tf.lite.TFLiteConverter.from_keras_model(model)\n",
    "converter2.representative_dataset = representative_dataset\n",
    "converter2.optimizations = [tf.lite.Optimize.DEFAULT]\n",
    "converter2.representative_dataset = representative_dataset\n",
    "tflite_quant_model = converter2.convert()\n",
    "\n",
    "open(FileName, \"wb\").write(tflite_quant_model)\n",
    "print(FileName)\n",
    "Path(FileName).stat().st_size"
   ]
  },
  {
   "cell_type": "markdown",
   "metadata": {},
   "source": [
    "Checking the images shows, that this are border line images, which can be interpreted as a good digit or a faulty one."
   ]
  }
 ],
 "metadata": {
  "kernelspec": {
   "display_name": "Python 3 (ipykernel)",
   "language": "python",
   "name": "python3"
  },
  "language_info": {
   "codemirror_mode": {
    "name": "ipython",
    "version": 3
   },
   "file_extension": ".py",
   "mimetype": "text/x-python",
   "name": "python",
   "nbconvert_exporter": "python",
   "pygments_lexer": "ipython3",
   "version": "3.8.11"
  }
 },
 "nbformat": 4,
 "nbformat_minor": 2
}
