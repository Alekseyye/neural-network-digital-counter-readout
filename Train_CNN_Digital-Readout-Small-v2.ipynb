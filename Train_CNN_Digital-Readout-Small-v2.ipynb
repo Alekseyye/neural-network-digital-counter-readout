{
 "cells": [
  {
   "cell_type": "markdown",
   "metadata": {},
   "source": [
    "# CNN Training\n",
    "\n",
    "Target of this code is to train a CNN network to classify images of a digital readout to the digits 0 to 9. Additionally a category \"NaN\" is introduced, to mark images that are not amibiguous.\n",
    "\n",
    "### Preparing the training\n",
    "* First all libraries are loaded\n",
    "    * It is assumed, that they are installed during the Python setup\n",
    "* matplotlib is set to print the output inline in the jupyter notebook"
   ]
  },
  {
   "cell_type": "code",
   "execution_count": 1,
   "metadata": {
    "scrolled": true
   },
   "outputs": [],
   "source": [
    "########### Basic Parameters for Running: ################################\n",
    "    \n",
    "TFliteNamingAndVersion = \"dig1320s2\"   # Used for tflite Filename\n",
    "Training_Percentage = 0.0              # 0.0 = Use all Images for Training\n",
    "Epoch_Anz = 500\n",
    "\n",
    "##########################################################################\n",
    "\n",
    "\n",
    "import tensorflow as tf\n",
    "import matplotlib.pyplot as plt\n",
    "import glob\n",
    "import os\n",
    "import numpy as np\n",
    "from sklearn.utils import shuffle\n",
    "from tensorflow.python import keras\n",
    "from tensorflow.python.keras import Sequential\n",
    "from tensorflow.python.keras.layers import Dense, InputLayer, Conv2D, MaxPool2D, Flatten, BatchNormalization\n",
    "from tensorflow.keras.preprocessing.image import ImageDataGenerator\n",
    "from sklearn.model_selection import train_test_split\n",
    "from tensorflow.keras.callbacks import History \n",
    "from tensorflow.keras.utils import to_categorical\n",
    "from PIL import Image \n",
    "from pathlib import Path\n",
    "\n",
    "loss_ges = np.array([])\n",
    "val_loss_ges = np.array([])\n",
    "\n",
    "%matplotlib inline\n",
    "np.set_printoptions(precision=4)\n",
    "np.set_printoptions(suppress=True)"
   ]
  },
  {
   "cell_type": "markdown",
   "metadata": {},
   "source": [
    "### Load training data\n",
    "* The data is expected in the \"Input_dir\"\n",
    "* Inside subdirectories are expected from -1, 0, 1, ... 9 in which the pictures are sorted according to their values (=category)\n",
    "* Picture size must be 20x32 with 3 color channels (RGB)\n",
    "* The filename can be arbitrary\n",
    "\n",
    "* The images are stored in the x_data[]\n",
    "* The expected category for each image in the corresponding y_data[]\n",
    "\n",
    "* The last step is a shuffle (from sklearn.utils) and split the data into training and validation data"
   ]
  },
  {
   "cell_type": "code",
   "execution_count": 2,
   "metadata": {},
   "outputs": [
    {
     "name": "stdout",
     "output_type": "stream",
     "text": [
      "(1582, 32, 20, 3)\n",
      "(1582, 11)\n"
     ]
    }
   ],
   "source": [
    "Input_dir='ziffer_sortiert_resize'\n",
    "\n",
    "files = glob.glob(Input_dir + '/*.jpg')\n",
    "x_data = []\n",
    "y_data = []\n",
    "\n",
    "for aktfile in files:\n",
    "    base = os.path.basename(aktfile)\n",
    "    target = base[0:1]\n",
    "    if target == \"N\":\n",
    "        category = 10                # NaN does not work --> convert to 10\n",
    "    else:\n",
    "        category = int(target)\n",
    "    test_image = Image.open(aktfile)\n",
    "    test_image = np.array(test_image, dtype=\"float32\")\n",
    "    x_data.append(test_image)\n",
    "    y_data.append(np.array([category]))\n",
    "\n",
    "x_data = np.array(x_data)\n",
    "y_data = np.array(y_data)\n",
    "y_data = to_categorical(y_data, 11)\n",
    "print(x_data.shape)\n",
    "print(y_data.shape)\n",
    "\n",
    "x_data, y_data = shuffle(x_data, y_data)\n",
    "\n",
    "if (Training_Percentage > 0):\n",
    "    X_train, X_test, y_train, y_test = train_test_split(x_data, y_data, test_size=Training_Percentage)\n",
    "else:\n",
    "    X_train = x_data\n",
    "    y_train = y_data"
   ]
  },
  {
   "cell_type": "markdown",
   "metadata": {},
   "source": [
    "### Define the model\n",
    "\n",
    "The layout of the network ist a typcial CNN network with alternating **Conv2D** and **MaxPool2D** layers. Finished after **flattening** with additional **Dense** layer.\n",
    "\n",
    "#### Important\n",
    "* Shape of the input layer: (32, 20, 3)\n",
    "* Number of output layers: 11\n",
    "* As loss function \"categorical_crossentropy\" is choosen, as it is a categories task"
   ]
  },
  {
   "cell_type": "code",
   "execution_count": 3,
   "metadata": {},
   "outputs": [
    {
     "name": "stdout",
     "output_type": "stream",
     "text": [
      "Model: \"sequential\"\n",
      "_________________________________________________________________\n",
      "Layer (type)                 Output Shape              Param #   \n",
      "=================================================================\n",
      "batch_normalization (BatchNo (None, 32, 20, 3)         12        \n",
      "_________________________________________________________________\n",
      "conv2d (Conv2D)              (None, 32, 20, 32)        896       \n",
      "_________________________________________________________________\n",
      "max_pooling2d (MaxPooling2D) (None, 16, 10, 32)        0         \n",
      "_________________________________________________________________\n",
      "conv2d_1 (Conv2D)            (None, 16, 10, 32)        9248      \n",
      "_________________________________________________________________\n",
      "max_pooling2d_1 (MaxPooling2 (None, 8, 5, 32)          0         \n",
      "_________________________________________________________________\n",
      "conv2d_2 (Conv2D)            (None, 8, 5, 32)          9248      \n",
      "_________________________________________________________________\n",
      "max_pooling2d_2 (MaxPooling2 (None, 4, 2, 32)          0         \n",
      "_________________________________________________________________\n",
      "flatten (Flatten)            (None, 256)               0         \n",
      "_________________________________________________________________\n",
      "dense (Dense)                (None, 256)               65792     \n",
      "_________________________________________________________________\n",
      "dense_1 (Dense)              (None, 11)                2827      \n",
      "=================================================================\n",
      "Total params: 88,023\n",
      "Trainable params: 88,017\n",
      "Non-trainable params: 6\n",
      "_________________________________________________________________\n"
     ]
    }
   ],
   "source": [
    "model = Sequential()\n",
    "model.add(BatchNormalization(input_shape=(32,20,3)))\n",
    "model.add(Conv2D(32, (3, 3), padding='same', activation=\"relu\"))\n",
    "model.add(MaxPool2D(pool_size=(2,2)))\n",
    "model.add(Conv2D(32, (3, 3), padding='same', activation=\"relu\"))\n",
    "model.add(MaxPool2D(pool_size=(2,2)))\n",
    "model.add(Conv2D(32, (3, 3), padding='same', activation=\"relu\"))\n",
    "model.add(MaxPool2D(pool_size=(2,2)))\n",
    "model.add(Flatten())\n",
    "model.add(Dense(256,activation=\"relu\"))\n",
    "model.add(Dense(11, activation = \"softmax\"))\n",
    "model.summary()\n",
    "\n",
    "model.compile(loss=keras.losses.categorical_crossentropy, optimizer=tf.keras.optimizers.Adadelta(learning_rate=1.0, rho=0.95), metrics = [\"accuracy\"])"
   ]
  },
  {
   "cell_type": "markdown",
   "metadata": {},
   "source": [
    "# Training\n",
    "The input pictures are randomly scattered for brightness, pixel shift variations and rotation angle. This is implemented with a ImageDataGenerator.\n"
   ]
  },
  {
   "cell_type": "code",
   "execution_count": 4,
   "metadata": {
    "scrolled": true
   },
   "outputs": [
    {
     "name": "stdout",
     "output_type": "stream",
     "text": [
      "Epoch 1/500\n",
      "396/396 [==============================] - 4s 9ms/step - loss: 2.2060 - accuracy: 0.3084\n",
      "Epoch 2/500\n",
      "396/396 [==============================] - 4s 9ms/step - loss: 1.4547 - accuracy: 0.5454\n",
      "Epoch 3/500\n",
      "396/396 [==============================] - 4s 9ms/step - loss: 1.0399 - accuracy: 0.6740\n",
      "Epoch 4/500\n",
      "396/396 [==============================] - 4s 10ms/step - loss: 0.7859 - accuracy: 0.7539\n",
      "Epoch 5/500\n",
      "396/396 [==============================] - 4s 10ms/step - loss: 0.6694 - accuracy: 0.8060 0s - loss:\n",
      "Epoch 6/500\n",
      "396/396 [==============================] - 4s 10ms/step - loss: 0.6055 - accuracy: 0.8158\n",
      "Epoch 7/500\n",
      "396/396 [==============================] - 4s 10ms/step - loss: 0.5277 - accuracy: 0.8366\n",
      "Epoch 8/500\n",
      "396/396 [==============================] - 4s 10ms/step - loss: 0.4293 - accuracy: 0.8640\n",
      "Epoch 9/500\n",
      "396/396 [==============================] - 4s 11ms/step - loss: 0.4308 - accuracy: 0.8623\n",
      "Epoch 10/500\n",
      "396/396 [==============================] - 4s 10ms/step - loss: 0.4386 - accuracy: 0.8670\n",
      "Epoch 11/500\n",
      "396/396 [==============================] - 4s 10ms/step - loss: 0.4072 - accuracy: 0.8794\n",
      "Epoch 12/500\n",
      "396/396 [==============================] - 4s 10ms/step - loss: 0.4036 - accuracy: 0.8792 0s - loss: 0.4039 - accuracy: 0.\n",
      "Epoch 13/500\n",
      "396/396 [==============================] - 4s 10ms/step - loss: 0.3317 - accuracy: 0.8973 0s - loss: 0.335\n",
      "Epoch 14/500\n",
      "396/396 [==============================] - 4s 10ms/step - loss: 0.3083 - accuracy: 0.9198 0s - loss: 0.3087  - ETA: 0s - loss: 0.3083 - accu\n",
      "Epoch 15/500\n",
      "396/396 [==============================] - 4s 10ms/step - loss: 0.2689 - accuracy: 0.9162\n",
      "Epoch 16/500\n",
      "396/396 [==============================] - 4s 10ms/step - loss: 0.2928 - accuracy: 0.9159\n",
      "Epoch 17/500\n",
      "396/396 [==============================] - 4s 10ms/step - loss: 0.2611 - accuracy: 0.9252\n",
      "Epoch 18/500\n",
      "396/396 [==============================] - 4s 9ms/step - loss: 0.2492 - accuracy: 0.9173: 0s - loss:\n",
      "Epoch 19/500\n",
      "396/396 [==============================] - 4s 9ms/step - loss: 0.2592 - accuracy: 0.9260\n",
      "Epoch 20/500\n",
      "396/396 [==============================] - 4s 10ms/step - loss: 0.2654 - accuracy: 0.9290\n",
      "Epoch 21/500\n",
      "396/396 [==============================] - 4s 10ms/step - loss: 0.1897 - accuracy: 0.9427\n",
      "Epoch 22/500\n",
      "396/396 [==============================] - 4s 10ms/step - loss: 0.1640 - accuracy: 0.9444\n",
      "Epoch 23/500\n",
      "396/396 [==============================] - 4s 10ms/step - loss: 0.2329 - accuracy: 0.9258\n",
      "Epoch 24/500\n",
      "396/396 [==============================] - 4s 10ms/step - loss: 0.1902 - accuracy: 0.9349\n",
      "Epoch 25/500\n",
      "396/396 [==============================] - 4s 10ms/step - loss: 0.1462 - accuracy: 0.9554\n",
      "Epoch 26/500\n",
      "396/396 [==============================] - 4s 10ms/step - loss: 0.1711 - accuracy: 0.9541 0s - loss: 0\n",
      "Epoch 27/500\n",
      "396/396 [==============================] - 4s 10ms/step - loss: 0.1957 - accuracy: 0.9388\n",
      "Epoch 28/500\n",
      "396/396 [==============================] - 4s 10ms/step - loss: 0.1804 - accuracy: 0.9491\n",
      "Epoch 29/500\n",
      "396/396 [==============================] - 4s 10ms/step - loss: 0.1628 - accuracy: 0.9532\n",
      "Epoch 30/500\n",
      "396/396 [==============================] - 4s 10ms/step - loss: 0.1518 - accuracy: 0.9563\n",
      "Epoch 31/500\n",
      "396/396 [==============================] - 4s 10ms/step - loss: 0.1502 - accuracy: 0.9686 0s - loss: 0.1495 - ac\n",
      "Epoch 32/500\n",
      "396/396 [==============================] - 4s 10ms/step - loss: 0.1252 - accuracy: 0.9607\n",
      "Epoch 33/500\n",
      "396/396 [==============================] - 4s 10ms/step - loss: 0.1443 - accuracy: 0.9555\n",
      "Epoch 34/500\n",
      "396/396 [==============================] - 4s 10ms/step - loss: 0.1786 - accuracy: 0.9547\n",
      "Epoch 35/500\n",
      "396/396 [==============================] - 4s 10ms/step - loss: 0.1363 - accuracy: 0.9545\n",
      "Epoch 36/500\n",
      "396/396 [==============================] - 4s 10ms/step - loss: 0.1459 - accuracy: 0.9508\n",
      "Epoch 37/500\n",
      "396/396 [==============================] - 4s 10ms/step - loss: 0.1057 - accuracy: 0.9565\n",
      "Epoch 38/500\n",
      "396/396 [==============================] - 4s 10ms/step - loss: 0.0745 - accuracy: 0.9776 0s - loss: 0.0726 - accu\n",
      "Epoch 39/500\n",
      "396/396 [==============================] - 4s 9ms/step - loss: 0.1258 - accuracy: 0.9657\n",
      "Epoch 40/500\n",
      "396/396 [==============================] - 4s 9ms/step - loss: 0.1213 - accuracy: 0.9711: 1s - loss: - ETA: 0s - l\n",
      "Epoch 41/500\n",
      "396/396 [==============================] - 4s 10ms/step - loss: 0.1328 - accuracy: 0.9674\n",
      "Epoch 42/500\n",
      "396/396 [==============================] - 4s 10ms/step - loss: 0.1824 - accuracy: 0.9524\n",
      "Epoch 43/500\n",
      "396/396 [==============================] - 4s 11ms/step - loss: 0.1184 - accuracy: 0.9634\n",
      "Epoch 44/500\n",
      "396/396 [==============================] - 4s 10ms/step - loss: 0.1235 - accuracy: 0.9641\n",
      "Epoch 45/500\n",
      "396/396 [==============================] - 4s 9ms/step - loss: 0.1149 - accuracy: 0.9663\n",
      "Epoch 46/500\n",
      "396/396 [==============================] - 4s 10ms/step - loss: 0.1370 - accuracy: 0.9536\n",
      "Epoch 47/500\n",
      "396/396 [==============================] - 4s 10ms/step - loss: 0.1254 - accuracy: 0.9646\n",
      "Epoch 48/500\n",
      "396/396 [==============================] - 4s 10ms/step - loss: 0.1030 - accuracy: 0.9724\n",
      "Epoch 49/500\n",
      "396/396 [==============================] - 4s 10ms/step - loss: 0.1074 - accuracy: 0.9673\n",
      "Epoch 50/500\n",
      "396/396 [==============================] - 4s 10ms/step - loss: 0.0816 - accuracy: 0.9739\n",
      "Epoch 51/500\n",
      "396/396 [==============================] - 4s 9ms/step - loss: 0.0949 - accuracy: 0.9610\n",
      "Epoch 52/500\n",
      "396/396 [==============================] - 4s 9ms/step - loss: 0.1168 - accuracy: 0.9632\n",
      "Epoch 53/500\n",
      "396/396 [==============================] - 4s 9ms/step - loss: 0.1053 - accuracy: 0.9659\n",
      "Epoch 54/500\n",
      "396/396 [==============================] - 4s 9ms/step - loss: 0.0777 - accuracy: 0.9748\n",
      "Epoch 55/500\n",
      "396/396 [==============================] - 4s 9ms/step - loss: 0.1150 - accuracy: 0.9670\n",
      "Epoch 56/500\n",
      "396/396 [==============================] - 4s 9ms/step - loss: 0.1211 - accuracy: 0.9740\n",
      "Epoch 57/500\n",
      "396/396 [==============================] - 4s 9ms/step - loss: 0.1078 - accuracy: 0.9616\n",
      "Epoch 58/500\n",
      "396/396 [==============================] - 4s 9ms/step - loss: 0.0948 - accuracy: 0.9692\n",
      "Epoch 59/500\n",
      "396/396 [==============================] - 4s 9ms/step - loss: 0.0806 - accuracy: 0.9764\n",
      "Epoch 60/500\n",
      "396/396 [==============================] - 4s 9ms/step - loss: 0.0906 - accuracy: 0.9714\n",
      "Epoch 61/500\n",
      "396/396 [==============================] - 4s 9ms/step - loss: 0.0707 - accuracy: 0.9833\n",
      "Epoch 62/500\n",
      "396/396 [==============================] - 4s 9ms/step - loss: 0.1105 - accuracy: 0.9742\n",
      "Epoch 63/500\n",
      "396/396 [==============================] - 4s 9ms/step - loss: 0.1241 - accuracy: 0.9713\n",
      "Epoch 64/500\n",
      "396/396 [==============================] - 4s 9ms/step - loss: 0.0727 - accuracy: 0.9817\n",
      "Epoch 65/500\n",
      "396/396 [==============================] - 4s 9ms/step - loss: 0.1024 - accuracy: 0.9689\n",
      "Epoch 66/500\n",
      "396/396 [==============================] - 4s 9ms/step - loss: 0.0985 - accuracy: 0.9687\n",
      "Epoch 67/500\n",
      "396/396 [==============================] - 4s 9ms/step - loss: 0.1016 - accuracy: 0.9786\n",
      "Epoch 68/500\n",
      "396/396 [==============================] - 4s 9ms/step - loss: 0.0748 - accuracy: 0.9777: 2s -\n",
      "Epoch 69/500\n",
      "396/396 [==============================] - 4s 9ms/step - loss: 0.0737 - accuracy: 0.9715\n",
      "Epoch 70/500\n",
      "396/396 [==============================] - 4s 10ms/step - loss: 0.0627 - accuracy: 0.9847\n",
      "Epoch 71/500\n",
      "396/396 [==============================] - 4s 9ms/step - loss: 0.0589 - accuracy: 0.9793\n",
      "Epoch 72/500\n",
      "396/396 [==============================] - 4s 10ms/step - loss: 0.0890 - accuracy: 0.9758 0s\n",
      "Epoch 73/500\n",
      "396/396 [==============================] - 4s 9ms/step - loss: 0.0765 - accuracy: 0.9763\n",
      "Epoch 74/500\n",
      "396/396 [==============================] - 4s 9ms/step - loss: 0.0617 - accuracy: 0.9745\n",
      "Epoch 75/500\n",
      "396/396 [==============================] - 4s 9ms/step - loss: 0.0595 - accuracy: 0.9782\n",
      "Epoch 76/500\n",
      "396/396 [==============================] - 4s 9ms/step - loss: 0.0749 - accuracy: 0.9837\n",
      "Epoch 77/500\n",
      "396/396 [==============================] - 4s 9ms/step - loss: 0.0932 - accuracy: 0.9750\n",
      "Epoch 78/500\n"
     ]
    },
    {
     "name": "stdout",
     "output_type": "stream",
     "text": [
      "396/396 [==============================] - 4s 9ms/step - loss: 0.0666 - accuracy: 0.9784\n",
      "Epoch 79/500\n",
      "396/396 [==============================] - 4s 9ms/step - loss: 0.0739 - accuracy: 0.9809\n",
      "Epoch 80/500\n",
      "396/396 [==============================] - 4s 9ms/step - loss: 0.0695 - accuracy: 0.9683\n",
      "Epoch 81/500\n",
      "396/396 [==============================] - 4s 9ms/step - loss: 0.0703 - accuracy: 0.9809\n",
      "Epoch 82/500\n",
      "396/396 [==============================] - 4s 9ms/step - loss: 0.0817 - accuracy: 0.9750\n",
      "Epoch 83/500\n",
      "396/396 [==============================] - 4s 9ms/step - loss: 0.0735 - accuracy: 0.9819\n",
      "Epoch 84/500\n",
      "396/396 [==============================] - 4s 9ms/step - loss: 0.0698 - accuracy: 0.9821\n",
      "Epoch 85/500\n",
      "396/396 [==============================] - 4s 9ms/step - loss: 0.0735 - accuracy: 0.9772\n",
      "Epoch 86/500\n",
      "396/396 [==============================] - 4s 9ms/step - loss: 0.0660 - accuracy: 0.9786\n",
      "Epoch 87/500\n",
      "396/396 [==============================] - 4s 9ms/step - loss: 0.0615 - accuracy: 0.9846\n",
      "Epoch 88/500\n",
      "396/396 [==============================] - 4s 9ms/step - loss: 0.0869 - accuracy: 0.9770\n",
      "Epoch 89/500\n",
      "396/396 [==============================] - 4s 9ms/step - loss: 0.0797 - accuracy: 0.9802\n",
      "Epoch 90/500\n",
      "396/396 [==============================] - 4s 10ms/step - loss: 0.0481 - accuracy: 0.9843\n",
      "Epoch 91/500\n",
      "396/396 [==============================] - 4s 10ms/step - loss: 0.0357 - accuracy: 0.9891\n",
      "Epoch 92/500\n",
      "396/396 [==============================] - 4s 10ms/step - loss: 0.0682 - accuracy: 0.9804\n",
      "Epoch 93/500\n",
      "396/396 [==============================] - 4s 10ms/step - loss: 0.0827 - accuracy: 0.9792\n",
      "Epoch 94/500\n",
      "396/396 [==============================] - 4s 10ms/step - loss: 0.0729 - accuracy: 0.9805\n",
      "Epoch 95/500\n",
      "396/396 [==============================] - 4s 10ms/step - loss: 0.0599 - accuracy: 0.9826\n",
      "Epoch 96/500\n",
      "396/396 [==============================] - 4s 10ms/step - loss: 0.0856 - accuracy: 0.9761\n",
      "Epoch 97/500\n",
      "396/396 [==============================] - 4s 10ms/step - loss: 0.0825 - accuracy: 0.9751 0s - l\n",
      "Epoch 98/500\n",
      "396/396 [==============================] - 4s 9ms/step - loss: 0.0565 - accuracy: 0.9752\n",
      "Epoch 99/500\n",
      "396/396 [==============================] - 4s 9ms/step - loss: 0.0730 - accuracy: 0.9770\n",
      "Epoch 100/500\n",
      "396/396 [==============================] - 4s 10ms/step - loss: 0.0786 - accuracy: 0.9784\n",
      "Epoch 101/500\n",
      "396/396 [==============================] - 4s 9ms/step - loss: 0.0774 - accuracy: 0.9685\n",
      "Epoch 102/500\n",
      "396/396 [==============================] - 4s 9ms/step - loss: 0.0573 - accuracy: 0.9822\n",
      "Epoch 103/500\n",
      "396/396 [==============================] - 4s 9ms/step - loss: 0.0480 - accuracy: 0.9829\n",
      "Epoch 104/500\n",
      "396/396 [==============================] - 4s 10ms/step - loss: 0.0803 - accuracy: 0.9747\n",
      "Epoch 105/500\n",
      "396/396 [==============================] - 5s 12ms/step - loss: 0.0413 - accuracy: 0.9818\n",
      "Epoch 106/500\n",
      "396/396 [==============================] - 4s 9ms/step - loss: 0.0767 - accuracy: 0.9796\n",
      "Epoch 107/500\n",
      "396/396 [==============================] - 4s 10ms/step - loss: 0.0557 - accuracy: 0.9804\n",
      "Epoch 108/500\n",
      "396/396 [==============================] - 4s 10ms/step - loss: 0.0380 - accuracy: 0.9853\n",
      "Epoch 109/500\n",
      "396/396 [==============================] - 4s 9ms/step - loss: 0.0518 - accuracy: 0.9911\n",
      "Epoch 110/500\n",
      "396/396 [==============================] - 4s 9ms/step - loss: 0.0588 - accuracy: 0.9798\n",
      "Epoch 111/500\n",
      "396/396 [==============================] - 4s 9ms/step - loss: 0.0645 - accuracy: 0.9822\n",
      "Epoch 112/500\n",
      "396/396 [==============================] - 4s 9ms/step - loss: 0.0386 - accuracy: 0.9897\n",
      "Epoch 113/500\n",
      "396/396 [==============================] - 4s 9ms/step - loss: 0.0804 - accuracy: 0.9813\n",
      "Epoch 114/500\n",
      "396/396 [==============================] - 4s 9ms/step - loss: 0.0559 - accuracy: 0.9852\n",
      "Epoch 115/500\n",
      "396/396 [==============================] - 4s 10ms/step - loss: 0.0699 - accuracy: 0.9817\n",
      "Epoch 116/500\n",
      "396/396 [==============================] - 4s 9ms/step - loss: 0.0728 - accuracy: 0.9867\n",
      "Epoch 117/500\n",
      "396/396 [==============================] - 4s 9ms/step - loss: 0.0581 - accuracy: 0.9778\n",
      "Epoch 118/500\n",
      "396/396 [==============================] - 4s 9ms/step - loss: 0.0524 - accuracy: 0.9840\n",
      "Epoch 119/500\n",
      "396/396 [==============================] - 4s 9ms/step - loss: 0.0650 - accuracy: 0.9779\n",
      "Epoch 120/500\n",
      "396/396 [==============================] - 4s 9ms/step - loss: 0.0616 - accuracy: 0.9832\n",
      "Epoch 121/500\n",
      "396/396 [==============================] - 4s 10ms/step - loss: 0.0352 - accuracy: 0.9908\n",
      "Epoch 122/500\n",
      "396/396 [==============================] - 4s 10ms/step - loss: 0.0640 - accuracy: 0.9819\n",
      "Epoch 123/500\n",
      "396/396 [==============================] - 4s 9ms/step - loss: 0.1038 - accuracy: 0.9754\n",
      "Epoch 124/500\n",
      "396/396 [==============================] - 4s 9ms/step - loss: 0.0369 - accuracy: 0.9925\n",
      "Epoch 125/500\n",
      "396/396 [==============================] - 4s 10ms/step - loss: 0.0507 - accuracy: 0.9891\n",
      "Epoch 126/500\n",
      "396/396 [==============================] - 4s 10ms/step - loss: 0.0322 - accuracy: 0.9899\n",
      "Epoch 127/500\n",
      "396/396 [==============================] - 4s 10ms/step - loss: 0.0219 - accuracy: 0.9946\n",
      "Epoch 128/500\n",
      "396/396 [==============================] - 4s 10ms/step - loss: 0.0419 - accuracy: 0.9873\n",
      "Epoch 129/500\n",
      "396/396 [==============================] - 4s 10ms/step - loss: 0.0247 - accuracy: 0.9927\n",
      "Epoch 130/500\n",
      "396/396 [==============================] - 4s 10ms/step - loss: 0.0387 - accuracy: 0.9884\n",
      "Epoch 131/500\n",
      "396/396 [==============================] - 4s 11ms/step - loss: 0.0540 - accuracy: 0.9812\n",
      "Epoch 132/500\n",
      "396/396 [==============================] - 4s 11ms/step - loss: 0.0413 - accuracy: 0.9872\n",
      "Epoch 133/500\n",
      "396/396 [==============================] - 4s 10ms/step - loss: 0.0531 - accuracy: 0.9879\n",
      "Epoch 134/500\n",
      "396/396 [==============================] - 4s 11ms/step - loss: 0.0292 - accuracy: 0.9885\n",
      "Epoch 135/500\n",
      "396/396 [==============================] - 4s 11ms/step - loss: 0.0385 - accuracy: 0.9887\n",
      "Epoch 136/500\n",
      "396/396 [==============================] - 4s 10ms/step - loss: 0.0527 - accuracy: 0.9881\n",
      "Epoch 137/500\n",
      "396/396 [==============================] - 4s 11ms/step - loss: 0.1203 - accuracy: 0.9823\n",
      "Epoch 138/500\n",
      "396/396 [==============================] - 4s 11ms/step - loss: 0.0987 - accuracy: 0.9847\n",
      "Epoch 139/500\n",
      "396/396 [==============================] - 4s 10ms/step - loss: 0.0549 - accuracy: 0.9753\n",
      "Epoch 140/500\n",
      "396/396 [==============================] - 4s 11ms/step - loss: 0.0515 - accuracy: 0.9885\n",
      "Epoch 141/500\n",
      "396/396 [==============================] - 4s 10ms/step - loss: 0.0670 - accuracy: 0.9807 0s - los\n",
      "Epoch 142/500\n",
      "396/396 [==============================] - 4s 10ms/step - loss: 0.0533 - accuracy: 0.9844\n",
      "Epoch 143/500\n",
      "396/396 [==============================] - 4s 11ms/step - loss: 0.0381 - accuracy: 0.9903\n",
      "Epoch 144/500\n",
      "396/396 [==============================] - 4s 10ms/step - loss: 0.0481 - accuracy: 0.9816\n",
      "Epoch 145/500\n",
      "396/396 [==============================] - 4s 10ms/step - loss: 0.0617 - accuracy: 0.9829\n",
      "Epoch 146/500\n",
      "396/396 [==============================] - 4s 10ms/step - loss: 0.0455 - accuracy: 0.9844 0s - l\n",
      "Epoch 147/500\n",
      "396/396 [==============================] - 4s 10ms/step - loss: 0.0378 - accuracy: 0.9893\n",
      "Epoch 148/500\n",
      "396/396 [==============================] - 4s 10ms/step - loss: 0.0297 - accuracy: 0.9941 \n",
      "Epoch 149/500\n",
      "396/396 [==============================] - 4s 10ms/step - loss: 0.0220 - accuracy: 0.9944 2s - loss: 0.0194 - accura - ETA: 2s - loss: 0.0192 - accu - ETA: 1s - loss: 0.0\n",
      "Epoch 150/500\n",
      "396/396 [==============================] - 4s 10ms/step - loss: 0.0422 - accuracy: 0.9848\n",
      "Epoch 151/500\n",
      "396/396 [==============================] - 4s 10ms/step - loss: 0.0365 - accuracy: 0.9924\n",
      "Epoch 152/500\n",
      "396/396 [==============================] - 4s 10ms/step - loss: 0.0281 - accuracy: 0.9872 0s - loss: 0.0277 - accuracy: 0.\n",
      "Epoch 153/500\n",
      "396/396 [==============================] - 4s 10ms/step - loss: 0.0203 - accuracy: 0.9951\n",
      "Epoch 154/500\n",
      "396/396 [==============================] - 4s 10ms/step - loss: 0.0246 - accuracy: 0.9903\n",
      "Epoch 155/500\n",
      "396/396 [==============================] - 4s 11ms/step - loss: 0.0463 - accuracy: 0.9838\n"
     ]
    },
    {
     "name": "stdout",
     "output_type": "stream",
     "text": [
      "Epoch 156/500\n",
      "396/396 [==============================] - 4s 10ms/step - loss: 0.0302 - accuracy: 0.9910\n",
      "Epoch 157/500\n",
      "396/396 [==============================] - 4s 10ms/step - loss: 0.0487 - accuracy: 0.9825 1s\n",
      "Epoch 158/500\n",
      "396/396 [==============================] - 4s 10ms/step - loss: 0.0564 - accuracy: 0.9832\n",
      "Epoch 159/500\n",
      "396/396 [==============================] - 4s 10ms/step - loss: 0.0539 - accuracy: 0.9880 0s - loss: 0.0544 \n",
      "Epoch 160/500\n",
      "396/396 [==============================] - 4s 10ms/step - loss: 0.0441 - accuracy: 0.9881\n",
      "Epoch 161/500\n",
      "396/396 [==============================] - 4s 10ms/step - loss: 0.0377 - accuracy: 0.9909\n",
      "Epoch 162/500\n",
      "396/396 [==============================] - 4s 10ms/step - loss: 0.0294 - accuracy: 0.9927\n",
      "Epoch 163/500\n",
      "396/396 [==============================] - 4s 10ms/step - loss: 0.0263 - accuracy: 0.9861 0s - los\n",
      "Epoch 164/500\n",
      "396/396 [==============================] - 4s 10ms/step - loss: 0.0577 - accuracy: 0.9865\n",
      "Epoch 165/500\n",
      "396/396 [==============================] - 4s 9ms/step - loss: 0.0358 - accuracy: 0.9876\n",
      "Epoch 166/500\n",
      "396/396 [==============================] - 4s 10ms/step - loss: 0.0510 - accuracy: 0.9853 0s - loss: 0.0511 - \n",
      "Epoch 167/500\n",
      "396/396 [==============================] - 4s 10ms/step - loss: 0.0289 - accuracy: 0.9879\n",
      "Epoch 168/500\n",
      "396/396 [==============================] - 4s 9ms/step - loss: 0.0323 - accuracy: 0.9891\n",
      "Epoch 169/500\n",
      "396/396 [==============================] - 4s 10ms/step - loss: 0.0451 - accuracy: 0.9866 0s - loss: 0.0455 - accu\n",
      "Epoch 170/500\n",
      "396/396 [==============================] - 4s 9ms/step - loss: 0.0420 - accuracy: 0.9874: 0s - loss: 0.042\n",
      "Epoch 171/500\n",
      "396/396 [==============================] - 4s 10ms/step - loss: 0.0184 - accuracy: 0.9951\n",
      "Epoch 172/500\n",
      "396/396 [==============================] - 4s 10ms/step - loss: 0.0439 - accuracy: 0.9895\n",
      "Epoch 173/500\n",
      "396/396 [==============================] - 4s 9ms/step - loss: 0.0630 - accuracy: 0.9839: 0s - l\n",
      "Epoch 174/500\n",
      "396/396 [==============================] - 4s 10ms/step - loss: 0.0192 - accuracy: 0.9934\n",
      "Epoch 175/500\n",
      "396/396 [==============================] - 4s 9ms/step - loss: 0.0443 - accuracy: 0.9865\n",
      "Epoch 176/500\n",
      "396/396 [==============================] - 4s 10ms/step - loss: 0.0262 - accuracy: 0.9915\n",
      "Epoch 177/500\n",
      "396/396 [==============================] - 4s 9ms/step - loss: 0.0177 - accuracy: 0.9975: 0s - loss: 0.0173 - accuracy: 0.99\n",
      "Epoch 178/500\n",
      "396/396 [==============================] - 4s 10ms/step - loss: 0.0585 - accuracy: 0.9895 0s - loss: 0.0590 - accuracy: 0.\n",
      "Epoch 179/500\n",
      "396/396 [==============================] - 4s 10ms/step - loss: 0.0745 - accuracy: 0.9831\n",
      "Epoch 180/500\n",
      "396/396 [==============================] - 4s 10ms/step - loss: 0.0277 - accuracy: 0.9886\n",
      "Epoch 181/500\n",
      "396/396 [==============================] - 4s 10ms/step - loss: 0.0518 - accuracy: 0.9944\n",
      "Epoch 182/500\n",
      "396/396 [==============================] - 4s 10ms/step - loss: 0.0224 - accuracy: 0.9945\n",
      "Epoch 183/500\n",
      "396/396 [==============================] - 4s 10ms/step - loss: 0.0517 - accuracy: 0.9878 0s - loss: 0.0522 \n",
      "Epoch 184/500\n",
      "396/396 [==============================] - 4s 10ms/step - loss: 0.0252 - accuracy: 0.9898\n",
      "Epoch 185/500\n",
      "396/396 [==============================] - 4s 10ms/step - loss: 0.0573 - accuracy: 0.9800\n",
      "Epoch 186/500\n",
      "396/396 [==============================] - 4s 9ms/step - loss: 0.0250 - accuracy: 0.9912\n",
      "Epoch 187/500\n",
      "396/396 [==============================] - 4s 10ms/step - loss: 0.0308 - accuracy: 0.9920\n",
      "Epoch 188/500\n",
      "396/396 [==============================] - 4s 10ms/step - loss: 0.0156 - accuracy: 0.9909\n",
      "Epoch 189/500\n",
      "396/396 [==============================] - 4s 9ms/step - loss: 0.0256 - accuracy: 0.9967\n",
      "Epoch 190/500\n",
      "396/396 [==============================] - 4s 10ms/step - loss: 0.0331 - accuracy: 0.9892 1s - loss: 0.0340  - ETA\n",
      "Epoch 191/500\n",
      "396/396 [==============================] - 4s 10ms/step - loss: 0.0146 - accuracy: 0.9967\n",
      "Epoch 192/500\n",
      "396/396 [==============================] - 4s 10ms/step - loss: 0.0329 - accuracy: 0.9899\n",
      "Epoch 193/500\n",
      "396/396 [==============================] - 4s 10ms/step - loss: 0.0382 - accuracy: 0.9913\n",
      "Epoch 194/500\n",
      "396/396 [==============================] - 4s 9ms/step - loss: 0.0295 - accuracy: 0.9896\n",
      "Epoch 195/500\n",
      "396/396 [==============================] - 4s 10ms/step - loss: 0.0310 - accuracy: 0.9893\n",
      "Epoch 196/500\n",
      "396/396 [==============================] - 4s 9ms/step - loss: 0.0387 - accuracy: 0.9886\n",
      "Epoch 197/500\n",
      "396/396 [==============================] - 4s 10ms/step - loss: 0.0200 - accuracy: 0.9909\n",
      "Epoch 198/500\n",
      "396/396 [==============================] - 4s 10ms/step - loss: 0.0155 - accuracy: 0.9931\n",
      "Epoch 199/500\n",
      "396/396 [==============================] - 4s 9ms/step - loss: 0.0366 - accuracy: 0.9906\n",
      "Epoch 200/500\n",
      "396/396 [==============================] - 4s 10ms/step - loss: 0.0314 - accuracy: 0.9922\n",
      "Epoch 201/500\n",
      "396/396 [==============================] - 4s 10ms/step - loss: 0.0229 - accuracy: 0.9895\n",
      "Epoch 202/500\n",
      "396/396 [==============================] - 4s 9ms/step - loss: 0.0425 - accuracy: 0.9894\n",
      "Epoch 203/500\n",
      "396/396 [==============================] - 4s 10ms/step - loss: 0.0354 - accuracy: 0.9926\n",
      "Epoch 204/500\n",
      "396/396 [==============================] - 4s 10ms/step - loss: 0.0340 - accuracy: 0.9889\n",
      "Epoch 205/500\n",
      "396/396 [==============================] - 4s 10ms/step - loss: 0.0504 - accuracy: 0.9865 0s - loss: 0.0509 - accuracy: \n",
      "Epoch 206/500\n",
      "396/396 [==============================] - 4s 9ms/step - loss: 0.0365 - accuracy: 0.9925: 0s - loss: 0.0363 - accuracy: 0.\n",
      "Epoch 207/500\n",
      "396/396 [==============================] - 4s 9ms/step - loss: 0.0422 - accuracy: 0.9871: 1s - loss: 0.0434 - accuracy:  - ETA: 1s\n",
      "Epoch 208/500\n",
      "396/396 [==============================] - 4s 10ms/step - loss: 0.0224 - accuracy: 0.9926\n",
      "Epoch 209/500\n",
      "396/396 [==============================] - 4s 10ms/step - loss: 0.0401 - accuracy: 0.9873\n",
      "Epoch 210/500\n",
      "396/396 [==============================] - 4s 9ms/step - loss: 0.0153 - accuracy: 0.9954: 0s - loss: 0.0139 - \n",
      "Epoch 211/500\n",
      "396/396 [==============================] - 4s 9ms/step - loss: 0.0259 - accuracy: 0.9916\n",
      "Epoch 212/500\n",
      "396/396 [==============================] - 4s 9ms/step - loss: 0.0515 - accuracy: 0.9861\n",
      "Epoch 213/500\n",
      "396/396 [==============================] - 4s 9ms/step - loss: 0.0665 - accuracy: 0.9844: \n",
      "Epoch 214/500\n",
      "396/396 [==============================] - 4s 9ms/step - loss: 0.0465 - accuracy: 0.9915: 2s - loss: 0.0320 - accu - ETA: 2s - loss: 0.0324 - ac - ETA: 2s - los - ETA: 1s - l - ETA: 0s - loss: 0.0460 - accuracy: 0. - ETA: 0s - loss: 0.0464 - accuracy: 0.99\n",
      "Epoch 215/500\n",
      "396/396 [==============================] - 4s 9ms/step - loss: 0.0236 - accuracy: 0.9904: 0s - loss: 0\n",
      "Epoch 216/500\n",
      "396/396 [==============================] - 4s 10ms/step - loss: 0.0190 - accuracy: 0.9941\n",
      "Epoch 241/500\n",
      "396/396 [==============================] - 4s 10ms/step - loss: 0.0344 - accuracy: 0.9905\n",
      "Epoch 242/500\n",
      "396/396 [==============================] - 4s 10ms/step - loss: 0.0184 - accuracy: 0.9939\n",
      "Epoch 243/500\n",
      "396/396 [==============================] - 4s 9ms/step - loss: 0.0104 - accuracy: 0.9958: 0s - loss: 0.0097 - ac\n",
      "Epoch 244/500\n",
      "396/396 [==============================] - 4s 10ms/step - loss: 0.0532 - accuracy: 0.9916\n",
      "Epoch 245/500\n",
      "396/396 [==============================] - 4s 11ms/step - loss: 0.0216 - accuracy: 0.9933\n",
      "Epoch 246/500\n",
      "396/396 [==============================] - 4s 10ms/step - loss: 0.0523 - accuracy: 0.9892\n",
      "Epoch 247/500\n",
      "396/396 [==============================] - 4s 10ms/step - loss: 0.0210 - accuracy: 0.9949\n",
      "Epoch 248/500\n",
      "396/396 [==============================] - 5s 13ms/step - loss: 0.0384 - accuracy: 0.9926\n",
      "Epoch 249/500\n",
      "396/396 [==============================] - 6s 13ms/step - loss: 0.0365 - accuracy: 0.9894\n",
      "Epoch 250/500\n",
      "396/396 [==============================] - 5s 12ms/step - loss: 0.0262 - accuracy: 0.9911\n",
      "Epoch 251/500\n",
      "396/396 [==============================] - 5s 12ms/step - loss: 0.0216 - accuracy: 0.9933\n",
      "Epoch 252/500\n",
      "396/396 [==============================] - 4s 10ms/step - loss: 0.0216 - accuracy: 0.9928 0s - loss:\n",
      "Epoch 253/500\n"
     ]
    },
    {
     "name": "stdout",
     "output_type": "stream",
     "text": [
      "396/396 [==============================] - 4s 10ms/step - loss: 0.0198 - accuracy: 0.9940\n",
      "Epoch 254/500\n",
      "396/396 [==============================] - 4s 10ms/step - loss: 0.0318 - accuracy: 0.9923\n",
      "Epoch 255/500\n",
      "396/396 [==============================] - 4s 11ms/step - loss: 0.0722 - accuracy: 0.9862\n",
      "Epoch 256/500\n",
      "396/396 [==============================] - 5s 11ms/step - loss: 0.0173 - accuracy: 0.9942\n",
      "Epoch 257/500\n",
      "396/396 [==============================] - 4s 10ms/step - loss: 0.0120 - accuracy: 0.9964 1s - loss: 0.0084 - accuracy:  - ETA: 0s - l\n",
      "Epoch 258/500\n",
      "396/396 [==============================] - 4s 11ms/step - loss: 0.0273 - accuracy: 0.9873\n",
      "Epoch 259/500\n",
      "396/396 [==============================] - 4s 10ms/step - loss: 0.0158 - accuracy: 0.9933 0s - loss: 0.0141 \n",
      "Epoch 260/500\n",
      "396/396 [==============================] - 4s 11ms/step - loss: 0.0222 - accuracy: 0.9939\n",
      "Epoch 261/500\n",
      "396/396 [==============================] - 4s 10ms/step - loss: 0.0391 - accuracy: 0.9908\n",
      "Epoch 262/500\n",
      "396/396 [==============================] - 4s 10ms/step - loss: 0.0145 - accuracy: 0.9940 2s - loss: 0.0117 - accuracy: 0.99 - ETA: 2s -\n",
      "Epoch 263/500\n",
      "396/396 [==============================] - 4s 10ms/step - loss: 0.0337 - accuracy: 0.9927\n",
      "Epoch 264/500\n",
      "396/396 [==============================] - 4s 10ms/step - loss: 0.0224 - accuracy: 0.9903\n",
      "Epoch 265/500\n",
      "396/396 [==============================] - 4s 10ms/step - loss: 0.0225 - accuracy: 0.9953\n",
      "Epoch 266/500\n",
      "396/396 [==============================] - 4s 10ms/step - loss: 0.0248 - accuracy: 0.9893 1s - los - ETA: 0s - los\n",
      "Epoch 267/500\n",
      "396/396 [==============================] - 4s 10ms/step - loss: 0.0515 - accuracy: 0.9875\n",
      "Epoch 268/500\n",
      "396/396 [==============================] - 4s 10ms/step - loss: 0.0224 - accuracy: 0.9932\n",
      "Epoch 269/500\n",
      "396/396 [==============================] - 4s 10ms/step - loss: 0.0097 - accuracy: 0.9961 0s - loss: 0.0095 - accuracy: 0.\n",
      "Epoch 270/500\n",
      "396/396 [==============================] - 4s 10ms/step - loss: 0.0244 - accuracy: 0.9918\n",
      "Epoch 271/500\n",
      "396/396 [==============================] - 4s 10ms/step - loss: 0.0312 - accuracy: 0.9899 1s - loss: 0.0315 - ac - ETA: 0s - loss: 0.0317 \n",
      "Epoch 272/500\n",
      "396/396 [==============================] - 4s 10ms/step - loss: 0.0256 - accuracy: 0.9915\n",
      "Epoch 273/500\n",
      "396/396 [==============================] - 4s 11ms/step - loss: 0.0228 - accuracy: 0.9899 0s - loss: 0\n",
      "Epoch 274/500\n",
      "396/396 [==============================] - 4s 11ms/step - loss: 0.0180 - accuracy: 0.9947 0s - loss: 0.0\n",
      "Epoch 275/500\n",
      "396/396 [==============================] - 4s 10ms/step - loss: 0.0189 - accuracy: 0.9977 0s - loss: 0.0186 - accura\n",
      "Epoch 276/500\n",
      "396/396 [==============================] - 4s 10ms/step - loss: 0.0078 - accuracy: 0.9975\n",
      "Epoch 297/500\n",
      "396/396 [==============================] - 4s 10ms/step - loss: 0.0421 - accuracy: 0.9917\n",
      "Epoch 298/500\n",
      "396/396 [==============================] - 4s 10ms/step - loss: 0.0298 - accuracy: 0.9933 0s - loss: 0.0283 - ac\n",
      "Epoch 299/500\n",
      "396/396 [==============================] - 4s 10ms/step - loss: 0.0167 - accuracy: 0.9940\n",
      "Epoch 300/500\n",
      "396/396 [==============================] - 4s 10ms/step - loss: 0.0177 - accuracy: 0.9958 2s - loss: 0.0 - ETA: 0s - loss: 0\n",
      "Epoch 301/500\n",
      "396/396 [==============================] - 4s 10ms/step - loss: 0.0160 - accuracy: 0.9955\n",
      "Epoch 302/500\n",
      "396/396 [==============================] - 4s 9ms/step - loss: 0.0165 - accuracy: 0.9961: 1s - loss: - ETA: 0s - loss: 0.0144 - accuracy: 0. - ETA: 0s - loss: 0.0150 - ac\n",
      "Epoch 303/500\n",
      "396/396 [==============================] - 4s 9ms/step - loss: 0.0081 - accuracy: 0.9966: 2s - loss: 0\n",
      "Epoch 304/500\n",
      "396/396 [==============================] - 4s 10ms/step - loss: 0.0471 - accuracy: 0.9846\n",
      "Epoch 305/500\n",
      "396/396 [==============================] - 4s 10ms/step - loss: 0.0386 - accuracy: 0.9949\n",
      "Epoch 306/500\n",
      "396/396 [==============================] - 4s 10ms/step - loss: 0.0328 - accuracy: 0.9918\n",
      "Epoch 307/500\n",
      "396/396 [==============================] - 4s 10ms/step - loss: 0.0208 - accuracy: 0.9935\n",
      "Epoch 308/500\n",
      "396/396 [==============================] - 4s 10ms/step - loss: 0.0089 - accuracy: 0.9981\n",
      "Epoch 309/500\n",
      "396/396 [==============================] - 4s 10ms/step - loss: 0.0169 - accuracy: 0.9939\n",
      "Epoch 310/500\n",
      "396/396 [==============================] - 5s 12ms/step - loss: 0.0227 - accuracy: 0.9932\n",
      "Epoch 311/500\n",
      "396/396 [==============================] - 4s 9ms/step - loss: 0.0217 - accuracy: 0.9967\n",
      "Epoch 312/500\n",
      "396/396 [==============================] - 4s 10ms/step - loss: 0.0206 - accuracy: 0.9929 0s - loss:\n",
      "Epoch 313/500\n",
      "396/396 [==============================] - 4s 10ms/step - loss: 0.0222 - accuracy: 0.9943\n",
      "Epoch 314/500\n",
      "396/396 [==============================] - 4s 10ms/step - loss: 0.0184 - accuracy: 0.9946\n",
      "Epoch 315/500\n",
      "396/396 [==============================] - 4s 10ms/step - loss: 0.0308 - accuracy: 0.9930\n",
      "Epoch 316/500\n",
      "396/396 [==============================] - 4s 10ms/step - loss: 0.0187 - accuracy: 0.9924\n",
      "Epoch 317/500\n",
      "396/396 [==============================] - 4s 10ms/step - loss: 0.0363 - accuracy: 0.9870  - ETA: 1s - loss: 0 - E\n",
      "Epoch 318/500\n",
      "396/396 [==============================] - 4s 10ms/step - loss: 0.0058 - accuracy: 0.9973\n",
      "Epoch 319/500\n",
      "396/396 [==============================] - 4s 10ms/step - loss: 0.0187 - accuracy: 0.9957\n",
      "Epoch 320/500\n",
      "396/396 [==============================] - 4s 10ms/step - loss: 0.0277 - accuracy: 0.9913\n",
      "Epoch 321/500\n",
      "396/396 [==============================] - 4s 10ms/step - loss: 0.0215 - accuracy: 0.9947\n",
      "Epoch 322/500\n",
      "396/396 [==============================] - 4s 9ms/step - loss: 0.0221 - accuracy: 0.9957\n",
      "Epoch 323/500\n",
      "396/396 [==============================] - 4s 10ms/step - loss: 0.0113 - accuracy: 0.9963\n",
      "Epoch 324/500\n",
      "396/396 [==============================] - 4s 10ms/step - loss: 0.0413 - accuracy: 0.9925\n",
      "Epoch 325/500\n",
      "396/396 [==============================] - 4s 10ms/step - loss: 0.0130 - accuracy: 0.9951\n",
      "Epoch 326/500\n",
      "396/396 [==============================] - 4s 10ms/step - loss: 0.0202 - accuracy: 0.9892 0s - loss:\n",
      "Epoch 327/500\n",
      "396/396 [==============================] - 4s 9ms/step - loss: 0.0103 - accuracy: 0.9959\n",
      "Epoch 328/500\n",
      "396/396 [==============================] - 4s 10ms/step - loss: 0.0347 - accuracy: 0.9920\n",
      "Epoch 329/500\n",
      "396/396 [==============================] - 4s 9ms/step - loss: 0.0045 - accuracy: 0.9983\n",
      "Epoch 330/500\n",
      "396/396 [==============================] - 4s 10ms/step - loss: 0.0491 - accuracy: 0.9869\n",
      "Epoch 331/500\n",
      "396/396 [==============================] - 4s 10ms/step - loss: 0.0517 - accuracy: 0.9889\n",
      "Epoch 332/500\n",
      "396/396 [==============================] - 4s 10ms/step - loss: 0.0174 - accuracy: 0.9940\n",
      "Epoch 333/500\n",
      "396/396 [==============================] - 4s 9ms/step - loss: 0.0362 - accuracy: 0.9908: 0s - loss: 0.0375 - ac\n",
      "Epoch 334/500\n",
      "396/396 [==============================] - 4s 10ms/step - loss: 0.0746 - accuracy: 0.9889 0s - loss: 0\n",
      "Epoch 335/500\n",
      "396/396 [==============================] - 4s 10ms/step - loss: 0.0141 - accuracy: 0.9942 0s - loss: 0\n",
      "Epoch 367/500\n",
      "396/396 [==============================] - 4s 10ms/step - loss: 0.0103 - accuracy: 0.9965\n",
      "Epoch 368/500\n",
      "396/396 [==============================] - 4s 10ms/step - loss: 0.0232 - accuracy: 0.9905 0s - loss: 0.0232 - accuracy: 0.99\n",
      "Epoch 369/500\n",
      "396/396 [==============================] - 4s 10ms/step - loss: 0.0322 - accuracy: 0.9925\n",
      "Epoch 370/500\n",
      "396/396 [==============================] - 4s 10ms/step - loss: 0.0036 - accuracy: 0.9995\n",
      "Epoch 371/500\n",
      "396/396 [==============================] - 4s 10ms/step - loss: 0.0169 - accuracy: 0.9930\n",
      "Epoch 372/500\n",
      "396/396 [==============================] - 4s 10ms/step - loss: 0.0178 - accuracy: 0.9932\n",
      "Epoch 373/500\n",
      "396/396 [==============================] - 4s 10ms/step - loss: 0.0239 - accuracy: 0.9955\n",
      "Epoch 374/500\n",
      "396/396 [==============================] - 4s 10ms/step - loss: 0.0161 - accuracy: 0.9968 1s - - ETA: 0s -\n",
      "Epoch 375/500\n",
      "396/396 [==============================] - 4s 10ms/step - loss: 0.0215 - accuracy: 0.9957\n",
      "Epoch 376/500\n",
      "396/396 [==============================] - 4s 10ms/step - loss: 0.0129 - accuracy: 0.9970\n",
      "Epoch 377/500\n"
     ]
    },
    {
     "name": "stdout",
     "output_type": "stream",
     "text": [
      "396/396 [==============================] - 4s 10ms/step - loss: 0.0457 - accuracy: 0.9954\n",
      "Epoch 378/500\n",
      "396/396 [==============================] - 4s 9ms/step - loss: 0.0205 - accuracy: 0.9958: 0s - loss: 0.019\n",
      "Epoch 379/500\n",
      "396/396 [==============================] - 4s 10ms/step - loss: 0.0437 - accuracy: 0.9905\n",
      "Epoch 380/500\n",
      "396/396 [==============================] - 4s 9ms/step - loss: 0.0312 - accuracy: 0.9931\n",
      "Epoch 381/500\n",
      "396/396 [==============================] - 4s 10ms/step - loss: 0.0068 - accuracy: 0.9976 0s - loss: 0.0056 - \n",
      "Epoch 382/500\n",
      "396/396 [==============================] - 4s 10ms/step - loss: 0.0093 - accuracy: 0.9974\n",
      "Epoch 383/500\n",
      "396/396 [==============================] - 4s 10ms/step - loss: 0.0223 - accuracy: 0.9940\n",
      "Epoch 384/500\n",
      "396/396 [==============================] - 4s 10ms/step - loss: 0.0350 - accuracy: 0.9930\n",
      "Epoch 385/500\n",
      "396/396 [==============================] - 4s 10ms/step - loss: 0.0200 - accuracy: 0.9938A\n",
      "Epoch 386/500\n",
      "396/396 [==============================] - 4s 10ms/step - loss: 0.0189 - accuracy: 0.9964\n",
      "Epoch 387/500\n",
      "396/396 [==============================] - 4s 10ms/step - loss: 0.0210 - accuracy: 0.9929 0s - loss:\n",
      "Epoch 388/500\n",
      "396/396 [==============================] - 4s 10ms/step - loss: 0.0111 - accuracy: 0.9933 0s - loss:\n",
      "Epoch 389/500\n",
      "396/396 [==============================] - 4s 9ms/step - loss: 0.0230 - accuracy: 0.9962\n",
      "Epoch 390/500\n",
      "396/396 [==============================] - 4s 10ms/step - loss: 0.0094 - accuracy: 0.9960\n",
      "Epoch 391/500\n",
      "396/396 [==============================] - 4s 10ms/step - loss: 0.0167 - accuracy: 0.9949 0s - l\n",
      "Epoch 392/500\n",
      "396/396 [==============================] - 4s 10ms/step - loss: 0.0286 - accuracy: 0.9937\n",
      "Epoch 393/500\n",
      "396/396 [==============================] - 4s 9ms/step - loss: 0.0202 - accuracy: 0.9929\n",
      "Epoch 394/500\n",
      "396/396 [==============================] - 4s 10ms/step - loss: 0.0139 - accuracy: 0.9944\n",
      "Epoch 395/500\n",
      "396/396 [==============================] - 4s 11ms/step - loss: 0.0378 - accuracy: 0.9912\n",
      "Epoch 396/500\n",
      "396/396 [==============================] - 4s 10ms/step - loss: 0.0151 - accuracy: 0.9962\n",
      "Epoch 397/500\n",
      "396/396 [==============================] - 4s 10ms/step - loss: 0.0129 - accuracy: 0.9946 0s - loss: 0.012\n",
      "Epoch 398/500\n",
      "396/396 [==============================] - 4s 10ms/step - loss: 0.0435 - accuracy: 0.9929\n",
      "Epoch 399/500\n",
      "396/396 [==============================] - 4s 10ms/step - loss: 0.0213 - accuracy: 0.9959 0s - l - ETA: 0s - loss: 0.0214 - accuracy: 0.99\n",
      "Epoch 400/500\n",
      "396/396 [==============================] - 4s 10ms/step - loss: 0.0115 - accuracy: 0.9972 0s - loss: 0.008\n",
      "Epoch 401/500\n",
      "396/396 [==============================] - 4s 10ms/step - loss: 0.0052 - accuracy: 0.9987\n",
      "Epoch 402/500\n",
      "396/396 [==============================] - 4s 10ms/step - loss: 0.0188 - accuracy: 0.9983\n",
      "Epoch 403/500\n",
      "396/396 [==============================] - 4s 10ms/step - loss: 0.0111 - accuracy: 0.9965 2s - los\n",
      "Epoch 404/500\n",
      "396/396 [==============================] - 4s 10ms/step - loss: 0.0236 - accuracy: 0.9967\n",
      "Epoch 405/500\n",
      "396/396 [==============================] - 4s 10ms/step - loss: 0.0225 - accuracy: 0.9940 0s - los\n",
      "Epoch 406/500\n",
      "396/396 [==============================] - 4s 10ms/step - loss: 0.0058 - accuracy: 0.9967\n",
      "Epoch 407/500\n",
      "396/396 [==============================] - 4s 10ms/step - loss: 0.0207 - accuracy: 0.9946\n",
      "Epoch 408/500\n",
      "396/396 [==============================] - 4s 10ms/step - loss: 0.0080 - accuracy: 0.9966 0s -\n",
      "Epoch 409/500\n",
      "396/396 [==============================] - 4s 10ms/step - loss: 0.0258 - accuracy: 0.9911 0s - los\n",
      "Epoch 410/500\n",
      "396/396 [==============================] - 4s 10ms/step - loss: 0.0134 - accuracy: 0.9953\n",
      "Epoch 411/500\n",
      "396/396 [==============================] - 4s 10ms/step - loss: 0.0056 - accuracy: 0.9988 1s - loss: 0.0048  - ETA: 0s - loss: 0.005\n",
      "Epoch 412/500\n",
      "396/396 [==============================] - 4s 10ms/step - loss: 0.0207 - accuracy: 0.9969\n",
      "Epoch 413/500\n",
      "396/396 [==============================] - 4s 10ms/step - loss: 0.0283 - accuracy: 0.9936\n",
      "Epoch 414/500\n",
      "396/396 [==============================] - 4s 10ms/step - loss: 0.0083 - accuracy: 0.9982 0s - l\n",
      "Epoch 415/500\n",
      "396/396 [==============================] - 4s 10ms/step - loss: 0.0305 - accuracy: 0.9960\n",
      "Epoch 416/500\n",
      "396/396 [==============================] - 4s 10ms/step - loss: 0.0307 - accuracy: 0.9928\n",
      "Epoch 427/500\n",
      "396/396 [==============================] - 4s 10ms/step - loss: 0.0122 - accuracy: 0.9961\n",
      "Epoch 428/500\n",
      "396/396 [==============================] - 4s 10ms/step - loss: 0.0102 - accuracy: 0.9980\n",
      "Epoch 429/500\n",
      "396/396 [==============================] - 4s 10ms/step - loss: 0.0521 - accuracy: 0.9905\n",
      "Epoch 430/500\n",
      "396/396 [==============================] - 4s 10ms/step - loss: 0.0272 - accuracy: 0.9906\n",
      "Epoch 431/500\n",
      "396/396 [==============================] - 4s 10ms/step - loss: 0.0170 - accuracy: 0.9927\n",
      "Epoch 432/500\n",
      "396/396 [==============================] - 4s 10ms/step - loss: 0.0115 - accuracy: 0.9967\n",
      "Epoch 433/500\n",
      "396/396 [==============================] - 4s 10ms/step - loss: 0.0100 - accuracy: 0.9978 0s - loss: 0.008\n",
      "Epoch 434/500\n",
      "396/396 [==============================] - 4s 10ms/step - loss: 0.0054 - accuracy: 0.9976\n",
      "Epoch 435/500\n",
      "396/396 [==============================] - 4s 10ms/step - loss: 0.0279 - accuracy: 0.9955 0s - loss: 0.0276 - \n",
      "Epoch 436/500\n",
      "396/396 [==============================] - 4s 10ms/step - loss: 0.0145 - accuracy: 0.9956\n",
      "Epoch 437/500\n",
      "396/396 [==============================] - 4s 10ms/step - loss: 0.0204 - accuracy: 0.9959\n",
      "Epoch 438/500\n",
      "396/396 [==============================] - 4s 10ms/step - loss: 0.0106 - accuracy: 0.9958\n",
      "Epoch 439/500\n",
      "396/396 [==============================] - 4s 10ms/step - loss: 0.0273 - accuracy: 0.9964\n",
      "Epoch 440/500\n",
      "396/396 [==============================] - 4s 10ms/step - loss: 0.0216 - accuracy: 0.9936 0s - loss: 0\n",
      "Epoch 441/500\n",
      "396/396 [==============================] - 4s 10ms/step - loss: 0.0340 - accuracy: 0.9888 1s - l - ETA: 0s - loss: 0.0351 - \n",
      "Epoch 442/500\n",
      "396/396 [==============================] - 4s 10ms/step - loss: 0.0363 - accuracy: 0.9900 0s - loss:\n",
      "Epoch 443/500\n",
      "396/396 [==============================] - 4s 10ms/step - loss: 0.0077 - accuracy: 0.9988\n",
      "Epoch 444/500\n",
      "396/396 [==============================] - 4s 11ms/step - loss: 0.0274 - accuracy: 0.9953\n",
      "Epoch 445/500\n",
      "396/396 [==============================] - 4s 10ms/step - loss: 0.0110 - accuracy: 0.9984\n",
      "Epoch 446/500\n",
      "396/396 [==============================] - 4s 10ms/step - loss: 0.0099 - accuracy: 0.9979\n",
      "Epoch 447/500\n",
      "396/396 [==============================] - 4s 10ms/step - loss: 0.0203 - accuracy: 0.9941 1s\n",
      "Epoch 448/500\n",
      "396/396 [==============================] - 4s 10ms/step - loss: 0.0064 - accuracy: 0.9977\n",
      "Epoch 449/500\n",
      "396/396 [==============================] - 4s 10ms/step - loss: 0.0081 - accuracy: 0.9992 0s - loss: 0.0058 - accu - ETA: 0s - loss: 0.0070 - accuracy: 0.99 - ETA: 0s - loss: 0.0071 - accuracy:  - ETA: 0s - loss: 0.0075 - accura\n",
      "Epoch 450/500\n",
      "396/396 [==============================] - 4s 10ms/step - loss: 0.0016 - accuracy: 0.9998\n",
      "Epoch 451/500\n",
      "396/396 [==============================] - 4s 10ms/step - loss: 0.0404 - accuracy: 0.9936\n",
      "Epoch 452/500\n",
      "396/396 [==============================] - 5s 11ms/step - loss: 0.0267 - accuracy: 0.9931\n",
      "Epoch 453/500\n",
      "396/396 [==============================] - 5s 12ms/step - loss: 0.0187 - accuracy: 0.9968 0s - l\n",
      "Epoch 454/500\n",
      "396/396 [==============================] - 4s 11ms/step - loss: 0.0282 - accuracy: 0.9892 0s - loss: 0.0288 - accu\n",
      "Epoch 455/500\n",
      "396/396 [==============================] - 4s 11ms/step - loss: 0.0076 - accuracy: 0.9961\n",
      "Epoch 456/500\n",
      "396/396 [==============================] - 4s 11ms/step - loss: 0.0295 - accuracy: 0.9924ETA: 3s - los - ETA: 0s - loss: 0.0305 - accu\n",
      "Epoch 457/500\n",
      "396/396 [==============================] - 4s 11ms/step - loss: 0.0358 - accuracy: 0.9912\n",
      "Epoch 458/500\n",
      "396/396 [==============================] - 5s 11ms/step - loss: 0.0463 - accuracy: 0.9920\n",
      "Epoch 459/500\n",
      "396/396 [==============================] - 4s 11ms/step - loss: 0.0309 - accuracy: 0.9944\n",
      "Epoch 460/500\n"
     ]
    },
    {
     "name": "stdout",
     "output_type": "stream",
     "text": [
      "396/396 [==============================] - 5s 11ms/step - loss: 0.0233 - accuracy: 0.9943 0s - los\n",
      "Epoch 461/500\n",
      "396/396 [==============================] - 5s 12ms/step - loss: 0.0087 - accuracy: 0.9959\n",
      "Epoch 462/500\n",
      "396/396 [==============================] - 4s 11ms/step - loss: 0.0163 - accuracy: 0.9931\n",
      "Epoch 463/500\n",
      "396/396 [==============================] - 5s 12ms/step - loss: 0.0356 - accuracy: 0.9920\n",
      "Epoch 464/500\n",
      "396/396 [==============================] - 4s 11ms/step - loss: 0.0138 - accuracy: 0.9944\n",
      "Epoch 465/500\n",
      "396/396 [==============================] - 4s 11ms/step - loss: 0.0213 - accuracy: 0.9926\n",
      "Epoch 466/500\n",
      "396/396 [==============================] - 4s 11ms/step - loss: 0.0205 - accuracy: 0.9976\n",
      "Epoch 467/500\n",
      "396/396 [==============================] - 4s 11ms/step - loss: 0.0068 - accuracy: 0.9989 1s - loss: 0.0 - ETA: 0s - loss: 0.005\n",
      "Epoch 468/500\n",
      "396/396 [==============================] - 4s 11ms/step - loss: 0.0215 - accuracy: 0.9953\n",
      "Epoch 469/500\n",
      "396/396 [==============================] - 4s 11ms/step - loss: 0.0232 - accuracy: 0.9933\n",
      "Epoch 470/500\n",
      "396/396 [==============================] - 4s 11ms/step - loss: 0.0262 - accuracy: 0.9902\n",
      "Epoch 471/500\n",
      "396/396 [==============================] - 5s 11ms/step - loss: 0.0197 - accuracy: 0.9948 2s - loss: -\n",
      "Epoch 472/500\n",
      "396/396 [==============================] - 4s 11ms/step - loss: 0.0198 - accuracy: 0.9955 1s - loss: 0.0127 - ac - ETA: 1s - loss: 0.0 - ETA: 0s - los\n",
      "Epoch 473/500\n",
      "396/396 [==============================] - 4s 11ms/step - loss: 0.0050 - accuracy: 0.9970 0s - loss: 0\n",
      "Epoch 474/500\n",
      "396/396 [==============================] - 5s 12ms/step - loss: 0.0376 - accuracy: 0.9891\n",
      "Epoch 475/500\n",
      "396/396 [==============================] - 5s 12ms/step - loss: 0.0211 - accuracy: 0.9956\n",
      "Epoch 476/500\n",
      "396/396 [==============================] - 5s 12ms/step - loss: 0.0211 - accuracy: 0.9917 0s - loss: 0.0215 \n",
      "Epoch 477/500\n",
      "396/396 [==============================] - 5s 12ms/step - loss: 0.0226 - accuracy: 0.9930\n",
      "Epoch 478/500\n",
      "396/396 [==============================] - 5s 12ms/step - loss: 0.0188 - accuracy: 0.9954\n",
      "Epoch 479/500\n",
      "396/396 [==============================] - 4s 11ms/step - loss: 0.0436 - accuracy: 0.9898 0s - loss: 0.0458 \n",
      "Epoch 480/500\n",
      "396/396 [==============================] - 4s 11ms/step - loss: 0.0484 - accuracy: 0.9900 0s - loss: 0.0518 \n",
      "Epoch 481/500\n",
      "396/396 [==============================] - 4s 11ms/step - loss: 0.0429 - accuracy: 0.9900\n",
      "Epoch 482/500\n",
      "396/396 [==============================] - 4s 11ms/step - loss: 0.0128 - accuracy: 0.9968 0s - loss: 0.0126 - accura\n",
      "Epoch 483/500\n",
      "396/396 [==============================] - 4s 11ms/step - loss: 0.0146 - accuracy: 0.9968\n",
      "Epoch 484/500\n",
      "396/396 [==============================] - 4s 11ms/step - loss: 0.0473 - accuracy: 0.9876\n",
      "Epoch 485/500\n",
      "396/396 [==============================] - 5s 11ms/step - loss: 0.0397 - accuracy: 0.9846\n",
      "Epoch 486/500\n",
      "396/396 [==============================] - 4s 11ms/step - loss: 0.0136 - accuracy: 0.9967\n",
      "Epoch 487/500\n",
      "396/396 [==============================] - 5s 11ms/step - loss: 0.0247 - accuracy: 0.9947\n",
      "Epoch 488/500\n",
      "396/396 [==============================] - 5s 11ms/step - loss: 0.0249 - accuracy: 0.9937\n",
      "Epoch 489/500\n",
      "396/396 [==============================] - 4s 11ms/step - loss: 0.0183 - accuracy: 0.9981\n",
      "Epoch 490/500\n",
      "396/396 [==============================] - 4s 10ms/step - loss: 0.0199 - accuracy: 0.9930 0s - l\n",
      "Epoch 491/500\n",
      "396/396 [==============================] - 4s 10ms/step - loss: 0.0043 - accuracy: 0.9991\n",
      "Epoch 492/500\n",
      "396/396 [==============================] - 4s 9ms/step - loss: 0.0239 - accuracy: 0.9941\n",
      "Epoch 493/500\n",
      "396/396 [==============================] - 4s 9ms/step - loss: 0.0067 - accuracy: 0.9984: 0s - loss: 0\n",
      "Epoch 494/500\n",
      "396/396 [==============================] - 4s 9ms/step - loss: 0.0255 - accuracy: 0.9962\n",
      "Epoch 495/500\n",
      "396/396 [==============================] - 4s 10ms/step - loss: 0.0086 - accuracy: 0.9963\n",
      "Epoch 496/500\n",
      "396/396 [==============================] - 4s 10ms/step - loss: 0.0092 - accuracy: 0.9957\n",
      "Epoch 497/500\n",
      "396/396 [==============================] - 4s 10ms/step - loss: 0.0118 - accuracy: 0.9953\n",
      "Epoch 498/500\n",
      "396/396 [==============================] - 4s 10ms/step - loss: 0.0183 - accuracy: 0.9971 1s - - ETA: 0s - loss: 0.0179 - accura\n",
      "Epoch 499/500\n",
      "396/396 [==============================] - 4s 9ms/step - loss: 0.0036 - accuracy: 0.9985\n",
      "Epoch 500/500\n",
      "396/396 [==============================] - 4s 10ms/step - loss: 0.0111 - accuracy: 0.9981\n"
     ]
    }
   ],
   "source": [
    "Batch_Size = 4\n",
    "Shift_Range = 1\n",
    "Brightness_Range = 0.2\n",
    "Rotation_Angle = 5\n",
    "ZoomRange = 0.3\n",
    "\n",
    "datagen = ImageDataGenerator(width_shift_range=[-Shift_Range,Shift_Range], \n",
    "                             height_shift_range=[-Shift_Range,Shift_Range],\n",
    "                             brightness_range=[1-Brightness_Range,1+Brightness_Range],\n",
    "                             zoom_range=[1-ZoomRange, 1+ZoomRange],\n",
    "                             rotation_range=Rotation_Angle)\n",
    "\n",
    "if (Training_Percentage > 0):\n",
    "    train_iterator = datagen.flow(x_data, y_data, batch_size=Batch_Size)\n",
    "    validation_iterator = datagen.flow(X_test, y_test, batch_size=Batch_Size)\n",
    "    history = model.fit(train_iterator, validation_data = validation_iterator, epochs = Epoch_Anz)\n",
    "else:\n",
    "    train_iterator = datagen.flow(x_data, y_data, batch_size=Batch_Size)\n",
    "    history = model.fit(train_iterator, epochs = Epoch_Anz)\n",
    "\n"
   ]
  },
  {
   "cell_type": "markdown",
   "metadata": {},
   "source": [
    "### Learing result\n",
    " \n",
    "* Visualization of the training and validation results"
   ]
  },
  {
   "cell_type": "code",
   "execution_count": 5,
   "metadata": {},
   "outputs": [
    {
     "data": {
      "image/png": "[encoded data removed]",
      "text/plain": [
       "<Figure size 432x288 with 1 Axes>"
      ]
     },
     "metadata": {
      "needs_background": "light"
     },
     "output_type": "display_data"
    }
   ],
   "source": [
    "loss_ges = np.append(loss_ges, history.history['loss'])\n",
    "plt.semilogy(history.history['loss'])\n",
    "\n",
    "if (Training_Percentage > 0):\n",
    "    val_loss_ges = np.append(val_loss_ges, history.history['val_loss'])\n",
    "    plt.semilogy(history.history['val_loss'])\n",
    "\n",
    "plt.title('model loss')\n",
    "plt.ylabel('loss')\n",
    "plt.xlabel('epoch')\n",
    "plt.legend(['train','eval'], loc='upper left')\n",
    "plt.show()"
   ]
  },
  {
   "cell_type": "markdown",
   "metadata": {},
   "source": [
    "### Check the model by hand\n",
    "\n",
    "* The following code uses the trained model to check the deviation for each picture.\n",
    "* x-axis walks through each pixel, y-axis shows the result"
   ]
  },
  {
   "cell_type": "markdown",
   "metadata": {},
   "source": [
    "### Check each image for expected and deviation\n",
    "* setting the switch \"only_deviation = true\" will only print the images for which the classification and the CNN-result deviates\n",
    "\n",
    "The output contains the following information:\n",
    "\n",
    "| Filename      | Expected Category           | Predicted Category        |\n",
    "|------------- |:-----------------------------:|--------------|\n",
    "| ziffer_sortiert_resize_NaN/5\\Ziffer_4_0034.jpg | 4  | -1 |\n"
   ]
  },
  {
   "cell_type": "code",
   "execution_count": 6,
   "metadata": {},
   "outputs": [
    {
     "name": "stdout",
     "output_type": "stream",
     "text": [
      "ziffer_sortiert_resize\\0_1_ht5_20210627-220703.jpg 0 1\n"
     ]
    },
    {
     "data": {
      "image/png": "[encoded data removed]",
      "text/plain": [
       "<PIL.JpegImagePlugin.JpegImageFile image mode=RGB size=20x32 at 0x27BF3F0F4F0>"
      ]
     },
     "metadata": {},
     "output_type": "display_data"
    },
    {
     "name": "stdout",
     "output_type": "stream",
     "text": [
      "ziffer_sortiert_resize\\3_0_ht6_20210702-055135.jpg 3 9\n"
     ]
    },
    {
     "data": {
      "image/png": "[encoded data removed]",
      "text/plain": [
       "<PIL.JpegImagePlugin.JpegImageFile image mode=RGB size=20x32 at 0x27BF430FC10>"
      ]
     },
     "metadata": {},
     "output_type": "display_data"
    },
    {
     "name": "stdout",
     "output_type": "stream",
     "text": [
      "ziffer_sortiert_resize\\3_1_ht4_20210627-124615.jpg 3 4\n"
     ]
    },
    {
     "data": {
      "image/png": "[encoded data removed]",
      "text/plain": [
       "<PIL.JpegImagePlugin.JpegImageFile image mode=RGB size=20x32 at 0x27BF404C250>"
      ]
     },
     "metadata": {},
     "output_type": "display_data"
    },
    {
     "name": "stdout",
     "output_type": "stream",
     "text": [
      "ziffer_sortiert_resize\\3_6_ht6_20210702-044832.jpg 3 9\n"
     ]
    },
    {
     "data": {
      "image/png": "[encoded data removed]",
      "text/plain": [
       "<PIL.JpegImagePlugin.JpegImageFile image mode=RGB size=20x32 at 0x27BF3D59880>"
      ]
     },
     "metadata": {},
     "output_type": "display_data"
    },
    {
     "name": "stdout",
     "output_type": "stream",
     "text": [
      "ziffer_sortiert_resize\\5_3_dig4_20210721-144728.jpg 5 9\n"
     ]
    },
    {
     "data": {
      "image/png": "[encoded data removed]",
      "text/plain": [
       "<PIL.JpegImagePlugin.JpegImageFile image mode=RGB size=20x32 at 0x27BF284E340>"
      ]
     },
     "metadata": {},
     "output_type": "display_data"
    },
    {
     "name": "stdout",
     "output_type": "stream",
     "text": [
      "ziffer_sortiert_resize\\5_3_dig6_20210723-134707.jpg 5 9\n"
     ]
    },
    {
     "data": {
      "image/png": "[encoded data removed]",
      "text/plain": [
       "<PIL.JpegImagePlugin.JpegImageFile image mode=RGB size=20x32 at 0x27BF3AA3310>"
      ]
     },
     "metadata": {},
     "output_type": "display_data"
    },
    {
     "name": "stdout",
     "output_type": "stream",
     "text": [
      "ziffer_sortiert_resize\\6_D8_2020-08-19_20-22-27.jpg 6 -1\n"
     ]
    },
    {
     "data": {
      "image/png": "[encoded data removed]",
      "text/plain": [
       "<PIL.JpegImagePlugin.JpegImageFile image mode=RGB size=20x32 at 0x27BF43B6700>"
      ]
     },
     "metadata": {},
     "output_type": "display_data"
    },
    {
     "name": "stdout",
     "output_type": "stream",
     "text": [
      "ziffer_sortiert_resize\\7_D7_2020-08-20_15-23-28.jpg 7 -1\n"
     ]
    },
    {
     "data": {
      "image/png": "[encoded data removed]",
      "text/plain": [
       "<PIL.JpegImagePlugin.JpegImageFile image mode=RGB size=20x32 at 0x27BF4003D00>"
      ]
     },
     "metadata": {},
     "output_type": "display_data"
    },
    {
     "name": "stdout",
     "output_type": "stream",
     "text": [
      "ziffer_sortiert_resize\\8_3_dig4_20210725-094630.jpg 8 -1\n"
     ]
    },
    {
     "data": {
      "image/png": "[encoded data removed]",
      "text/plain": [
       "<PIL.JpegImagePlugin.JpegImageFile image mode=RGB size=20x32 at 0x27BF70C5700>"
      ]
     },
     "metadata": {},
     "output_type": "display_data"
    },
    {
     "name": "stdout",
     "output_type": "stream",
     "text": [
      "ziffer_sortiert_resize\\8_D7_2020-08-14_00-01-25.jpg 8 9\n"
     ]
    },
    {
     "data": {
      "image/png": "[encoded data removed]",
      "text/plain": [
       "<PIL.JpegImagePlugin.JpegImageFile image mode=RGB size=20x32 at 0x27BF3C31AC0>"
      ]
     },
     "metadata": {},
     "output_type": "display_data"
    },
    {
     "name": "stdout",
     "output_type": "stream",
     "text": [
      "ziffer_sortiert_resize\\8_D8_2020-08-20_15-23-28.jpg 8 9\n"
     ]
    },
    {
     "data": {
      "image/png": "[encoded data removed]",
      "text/plain": [
       "<PIL.JpegImagePlugin.JpegImageFile image mode=RGB size=20x32 at 0x27BF3CCC0A0>"
      ]
     },
     "metadata": {},
     "output_type": "display_data"
    },
    {
     "name": "stdout",
     "output_type": "stream",
     "text": [
      "ziffer_sortiert_resize\\NaN_0_ht6_20210628-182853.jpg -1 9\n"
     ]
    },
    {
     "data": {
      "image/png": "[encoded data removed]",
      "text/plain": [
       "<PIL.JpegImagePlugin.JpegImageFile image mode=RGB size=20x32 at 0x27BF7011880>"
      ]
     },
     "metadata": {},
     "output_type": "display_data"
    },
    {
     "name": "stdout",
     "output_type": "stream",
     "text": [
      "ziffer_sortiert_resize\\NaN_4_ht7_20210701-112725.jpg -1 4\n"
     ]
    },
    {
     "data": {
      "image/png": "[encoded data removed]",
      "text/plain": [
       "<PIL.JpegImagePlugin.JpegImageFile image mode=RGB size=20x32 at 0x27BF43A1FA0>"
      ]
     },
     "metadata": {},
     "output_type": "display_data"
    },
    {
     "name": "stdout",
     "output_type": "stream",
     "text": [
      "ziffer_sortiert_resize\\NaN_5_dig6_20210629-114809.jpg -1 9\n"
     ]
    },
    {
     "data": {
      "image/png": "[encoded data removed]",
      "text/plain": [
       "<PIL.JpegImagePlugin.JpegImageFile image mode=RGB size=20x32 at 0x27BF3AAF6D0>"
      ]
     },
     "metadata": {},
     "output_type": "display_data"
    },
    {
     "name": "stdout",
     "output_type": "stream",
     "text": [
      "ziffer_sortiert_resize\\NaN_Ziffer_NaN_1250.jpg -1 9\n"
     ]
    },
    {
     "data": {
      "image/png": "[encoded data removed]",
      "text/plain": [
       "<PIL.JpegImagePlugin.JpegImageFile image mode=RGB size=20x32 at 0x27BF3DD22E0>"
      ]
     },
     "metadata": {},
     "output_type": "display_data"
    },
    {
     "data": {
      "image/png": "[encoded data removed]",
      "text/plain": [
       "<Figure size 432x288 with 1 Axes>"
      ]
     },
     "metadata": {
      "needs_background": "light"
     },
     "output_type": "display_data"
    }
   ],
   "source": [
    "Input_dir='ziffer_sortiert_resize'\n",
    "res = []\n",
    "only_deviation = True\n",
    "show_wrong_image = True\n",
    "\n",
    "files = glob.glob(Input_dir + '/*.jpg')\n",
    "\n",
    "for aktfile in files:\n",
    "    base = os.path.basename(aktfile)\n",
    "    target = base[0:1]\n",
    "    if target == \"N\":\n",
    "        zw1 = -1\n",
    "    else:\n",
    "        zw1 = int(target)\n",
    "    expected_class = zw1\n",
    "    image_in = Image.open(aktfile)\n",
    "    test_image = np.array(image_in, dtype=\"float32\")\n",
    "    img = np.reshape(test_image,[1,32,20,3])\n",
    "    classes = np.argmax(model.predict(img), axis=-1)\n",
    "    classes = classes[0]\n",
    "    if classes == 10: \n",
    "        classes = -1\n",
    "    zw2 = classes\n",
    "    zw3 = zw2 - zw1\n",
    "    res.append(np.array([zw1, zw2, zw3]))\n",
    "    if only_deviation == True:\n",
    "        if str(classes) != str(expected_class):\n",
    "            print(aktfile + \" \" + str(expected_class) +  \" \" + str(classes))\n",
    "            if show_wrong_image == True:\n",
    "                display(image_in)\n",
    "    else:\n",
    "        print(aktfile + \" \" + aktsubdir +  \" \" + str(classes))\n",
    "        \n",
    "\n",
    "res = np.asarray(res)\n",
    "\n",
    "\n",
    "plt.plot(res[:,0])\n",
    "plt.plot(res[:,1])\n",
    "plt.title('Result')\n",
    "plt.ylabel('Digital Value')\n",
    "plt.xlabel('#Picture')\n",
    "plt.legend(['real','model'], loc='upper left')\n",
    "plt.show()"
   ]
  },
  {
   "cell_type": "markdown",
   "metadata": {},
   "source": [
    "### Save the model\n",
    "\n",
    "* Save the model to the file with the \"h5\" file format"
   ]
  },
  {
   "cell_type": "code",
   "execution_count": 7,
   "metadata": {},
   "outputs": [
    {
     "name": "stdout",
     "output_type": "stream",
     "text": [
      "INFO:tensorflow:Assets written to: C:\\Users\\Muell\\AppData\\Local\\Temp\\tmpid40mq__\\assets\n"
     ]
    },
    {
     "data": {
      "text/plain": [
       "356508"
      ]
     },
     "execution_count": 7,
     "metadata": {},
     "output_type": "execute_result"
    }
   ],
   "source": [
    "FileName = TFliteNamingAndVersion\n",
    "\n",
    "converter = tf.lite.TFLiteConverter.from_keras_model(model)\n",
    "tflite_model = converter.convert()\n",
    "open(FileName + \".tflite\", \"wb\").write(tflite_model)"
   ]
  },
  {
   "cell_type": "code",
   "execution_count": 8,
   "metadata": {},
   "outputs": [
    {
     "name": "stdout",
     "output_type": "stream",
     "text": [
      "INFO:tensorflow:Assets written to: C:\\Users\\Muell\\AppData\\Local\\Temp\\tmp2mc527qd\\assets\n"
     ]
    },
    {
     "name": "stderr",
     "output_type": "stream",
     "text": [
      "INFO:tensorflow:Assets written to: C:\\Users\\Muell\\AppData\\Local\\Temp\\tmp2mc527qd\\assets\n"
     ]
    },
    {
     "name": "stdout",
     "output_type": "stream",
     "text": [
      "dig1320s2q.tflite\n"
     ]
    },
    {
     "data": {
      "text/plain": [
       "98416"
      ]
     },
     "execution_count": 8,
     "metadata": {},
     "output_type": "execute_result"
    }
   ],
   "source": [
    "FileName = TFliteNamingAndVersion + \"q.tflite\"\n",
    "\n",
    "import tensorflow as tf\n",
    "\n",
    "def representative_dataset():\n",
    "    for n in range(x_data[0].size):\n",
    "      data = np.expand_dims(x_data[5], axis=0)\n",
    "      yield [data.astype(np.float32)]\n",
    "        \n",
    "converter2 = tf.lite.TFLiteConverter.from_keras_model(model)\n",
    "converter2.representative_dataset = representative_dataset\n",
    "converter2.optimizations = [tf.lite.Optimize.DEFAULT]\n",
    "converter2.representative_dataset = representative_dataset\n",
    "tflite_quant_model = converter2.convert()\n",
    "\n",
    "open(FileName, \"wb\").write(tflite_quant_model)\n",
    "print(FileName)\n",
    "Path(FileName).stat().st_size"
   ]
  },
  {
   "cell_type": "markdown",
   "metadata": {},
   "source": [
    "Checking the images shows, that this are border line images, which can be interpreted as a good digit or a faulty one."
   ]
  }
 ],
 "metadata": {
  "kernelspec": {
   "display_name": "Python 3 (ipykernel)",
   "language": "python",
   "name": "python3"
  },
  "language_info": {
   "codemirror_mode": {
    "name": "ipython",
    "version": 3
   },
   "file_extension": ".py",
   "mimetype": "text/x-python",
   "name": "python",
   "nbconvert_exporter": "python",
   "pygments_lexer": "ipython3",
   "version": "3.8.11"
  }
 },
 "nbformat": 4,
 "nbformat_minor": 2
}
