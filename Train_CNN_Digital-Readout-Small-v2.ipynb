{
 "cells": [
  {
   "cell_type": "markdown",
   "metadata": {},
   "source": [
    "# CNN Training\n",
    "\n",
    "Target of this code is to train a CNN network to classify images of a digital readout to the digits 0 to 9. Additionally a category \"NaN\" is introduced, to mark images that are not amibiguous.\n",
    "\n",
    "### Preparing the training\n",
    "* First all libraries are loaded\n",
    "    * It is assumed, that they are installed during the Python setup\n",
    "* matplotlib is set to print the output inline in the jupyter notebook"
   ]
  },
  {
   "cell_type": "code",
   "execution_count": 1,
   "metadata": {
    "scrolled": true
   },
   "outputs": [],
   "source": [
    "########### Basic Parameters for Running: ################################\n",
    "    \n",
    "Version = \"7.1.0-Small-v2\"                      # Used for tflite Filename\n",
    "Training_Percentage = 0.0              # 0.0 = Use all Images for Training\n",
    "Epoch_Anz = 100\n",
    "\n",
    "##########################################################################\n",
    "\n",
    "\n",
    "import tensorflow as tf\n",
    "import matplotlib.pyplot as plt\n",
    "import glob\n",
    "import numpy as np\n",
    "from sklearn.utils import shuffle\n",
    "from tensorflow.python import keras\n",
    "from tensorflow.python.keras import Sequential\n",
    "from tensorflow.python.keras.layers import Dense, InputLayer, Conv2D, MaxPool2D, Flatten, BatchNormalization\n",
    "from tensorflow.keras.preprocessing.image import ImageDataGenerator\n",
    "from sklearn.model_selection import train_test_split\n",
    "from tensorflow.keras.callbacks import History \n",
    "from tensorflow.keras.utils import to_categorical\n",
    "from PIL import Image \n",
    "\n",
    "loss_ges = np.array([])\n",
    "val_loss_ges = np.array([])\n",
    "\n",
    "%matplotlib inline\n",
    "np.set_printoptions(precision=4)\n",
    "np.set_printoptions(suppress=True)"
   ]
  },
  {
   "cell_type": "markdown",
   "metadata": {},
   "source": [
    "### Load training data\n",
    "* The data is expected in the \"Input_dir\"\n",
    "* Inside subdirectories are expected from -1, 0, 1, ... 9 in which the pictures are sorted according to their values (=category)\n",
    "* Picture size must be 20x32 with 3 color channels (RGB)\n",
    "* The filename can be arbitrary\n",
    "\n",
    "* The images are stored in the x_data[]\n",
    "* The expected category for each image in the corresponding y_data[]\n",
    "\n",
    "* The last step is a shuffle (from sklearn.utils) and split the data into training and validation data"
   ]
  },
  {
   "cell_type": "code",
   "execution_count": 2,
   "metadata": {},
   "outputs": [
    {
     "name": "stdout",
     "output_type": "stream",
     "text": [
      "(797, 32, 20, 3)\n",
      "(797, 11)\n"
     ]
    }
   ],
   "source": [
    "Input_dir='ziffer_sortiert_resize'\n",
    "\n",
    "files = glob.glob(Input_dir + '/*.*')\n",
    "x_data = []\n",
    "y_data = []\n",
    "\n",
    "subdir = [\"0\", \"1\", \"2\", \"3\", \"4\", \"5\", \"6\", \"7\", \"8\", \"9\", \"NaN\"]\n",
    "\n",
    "for aktsubdir in subdir:\n",
    "    files = glob.glob(Input_dir + '/' + aktsubdir + '/*.jpg')\n",
    "    if aktsubdir == \"NaN\":\n",
    "        category = 10                # NaN does not work --> convert to 10\n",
    "    else:\n",
    "        category = aktsubdir\n",
    "    for aktfile in files:\n",
    "        test_image = Image.open(aktfile)\n",
    "        test_image = np.array(test_image, dtype=\"float32\")\n",
    "        x_data.append(test_image)\n",
    "        y_data.append(np.array([category]))\n",
    "\n",
    "x_data = np.array(x_data)\n",
    "y_data = np.array(y_data)\n",
    "y_data = to_categorical(y_data, 11)\n",
    "print(x_data.shape)\n",
    "print(y_data.shape)\n",
    "\n",
    "x_data, y_data = shuffle(x_data, y_data)\n",
    "\n",
    "if (Training_Percentage > 0):\n",
    "    X_train, X_test, y_train, y_test = train_test_split(x_data, y_data, test_size=Training_Percentage)\n",
    "else:\n",
    "    X_train = x_data\n",
    "    y_train = y_data"
   ]
  },
  {
   "cell_type": "markdown",
   "metadata": {},
   "source": [
    "### Define the model\n",
    "\n",
    "The layout of the network ist a typcial CNN network with alternating **Conv2D** and **MaxPool2D** layers. Finished after **flattening** with additional **Dense** layer.\n",
    "\n",
    "#### Important\n",
    "* Shape of the input layer: (32, 20, 3)\n",
    "* Number of output layers: 11\n",
    "* As loss function \"categorical_crossentropy\" is choosen, as it is a categories task"
   ]
  },
  {
   "cell_type": "code",
   "execution_count": 3,
   "metadata": {},
   "outputs": [
    {
     "name": "stdout",
     "output_type": "stream",
     "text": [
      "Model: \"sequential\"\n",
      "_________________________________________________________________\n",
      "Layer (type)                 Output Shape              Param #   \n",
      "=================================================================\n",
      "batch_normalization (BatchNo (None, 32, 20, 3)         12        \n",
      "_________________________________________________________________\n",
      "conv2d (Conv2D)              (None, 32, 20, 32)        896       \n",
      "_________________________________________________________________\n",
      "max_pooling2d (MaxPooling2D) (None, 16, 10, 32)        0         \n",
      "_________________________________________________________________\n",
      "conv2d_1 (Conv2D)            (None, 16, 10, 32)        9248      \n",
      "_________________________________________________________________\n",
      "max_pooling2d_1 (MaxPooling2 (None, 8, 5, 32)          0         \n",
      "_________________________________________________________________\n",
      "conv2d_2 (Conv2D)            (None, 8, 5, 32)          9248      \n",
      "_________________________________________________________________\n",
      "max_pooling2d_2 (MaxPooling2 (None, 4, 2, 32)          0         \n",
      "_________________________________________________________________\n",
      "flatten (Flatten)            (None, 256)               0         \n",
      "_________________________________________________________________\n",
      "dense (Dense)                (None, 256)               65792     \n",
      "_________________________________________________________________\n",
      "dense_1 (Dense)              (None, 11)                2827      \n",
      "=================================================================\n",
      "Total params: 88,023\n",
      "Trainable params: 88,017\n",
      "Non-trainable params: 6\n",
      "_________________________________________________________________\n"
     ]
    }
   ],
   "source": [
    "model = Sequential()\n",
    "model.add(BatchNormalization(input_shape=(32,20,3)))\n",
    "model.add(Conv2D(32, (3, 3), padding='same', activation=\"relu\"))\n",
    "model.add(MaxPool2D(pool_size=(2,2)))\n",
    "model.add(Conv2D(32, (3, 3), padding='same'))\n",
    "model.add(MaxPool2D(pool_size=(2,2)))\n",
    "model.add(Conv2D(32, (3, 3), padding='same'))\n",
    "model.add(MaxPool2D(pool_size=(2,2)))\n",
    "model.add(Flatten())\n",
    "model.add(Dense(256,activation=\"relu\"))\n",
    "model.add(Dense(11, activation = \"softmax\"))\n",
    "model.summary()\n",
    "\n",
    "model.compile(loss=keras.losses.categorical_crossentropy, optimizer=tf.keras.optimizers.Adadelta(learning_rate=1.0, rho=0.95), metrics = [\"accuracy\"])"
   ]
  },
  {
   "cell_type": "markdown",
   "metadata": {},
   "source": [
    "# Training\n",
    "The input pictures are randomly scattered for brightness, pixel shift variations and rotation angle. This is implemented with a ImageDataGenerator.\n"
   ]
  },
  {
   "cell_type": "code",
   "execution_count": 4,
   "metadata": {
    "scrolled": true
   },
   "outputs": [
    {
     "name": "stdout",
     "output_type": "stream",
     "text": [
      "WARNING:tensorflow:From <ipython-input-4-06555f3d8025>:19: Model.fit_generator (from tensorflow.python.keras.engine.training) is deprecated and will be removed in a future version.\n",
      "Instructions for updating:\n",
      "Please use Model.fit, which supports generators.\n",
      "Epoch 1/100\n",
      "200/200 [==============================] - 1s 7ms/step - loss: 1.9395 - accuracy: 0.4617\n",
      "Epoch 2/100\n",
      "200/200 [==============================] - 2s 8ms/step - loss: 1.4787 - accuracy: 0.5583\n",
      "Epoch 3/100\n",
      "200/200 [==============================] - 1s 7ms/step - loss: 1.0841 - accuracy: 0.6487\n",
      "Epoch 4/100\n",
      "200/200 [==============================] - 1s 7ms/step - loss: 0.7869 - accuracy: 0.7553\n",
      "Epoch 5/100\n",
      "200/200 [==============================] - 2s 8ms/step - loss: 0.6537 - accuracy: 0.7992\n",
      "Epoch 6/100\n",
      "200/200 [==============================] - 1s 7ms/step - loss: 0.5994 - accuracy: 0.8030\n",
      "Epoch 7/100\n",
      "200/200 [==============================] - 2s 8ms/step - loss: 0.5420 - accuracy: 0.8407\n",
      "Epoch 8/100\n",
      "200/200 [==============================] - 2s 8ms/step - loss: 0.5019 - accuracy: 0.8469\n",
      "Epoch 9/100\n",
      "200/200 [==============================] - 2s 8ms/step - loss: 0.4489 - accuracy: 0.8545\n",
      "Epoch 10/100\n",
      "200/200 [==============================] - 2s 9ms/step - loss: 0.3961 - accuracy: 0.8783\n",
      "Epoch 11/100\n",
      "200/200 [==============================] - 2s 10ms/step - loss: 0.4337 - accuracy: 0.8758\n",
      "Epoch 12/100\n",
      "200/200 [==============================] - 2s 9ms/step - loss: 0.3932 - accuracy: 0.8908\n",
      "Epoch 13/100\n",
      "200/200 [==============================] - 2s 9ms/step - loss: 0.3629 - accuracy: 0.8946\n",
      "Epoch 14/100\n",
      "200/200 [==============================] - 2s 9ms/step - loss: 0.3291 - accuracy: 0.8883: 0s - loss: 0.3339 - accuracy: \n",
      "Epoch 15/100\n",
      "200/200 [==============================] - 2s 9ms/step - loss: 0.2905 - accuracy: 0.9109\n",
      "Epoch 16/100\n",
      "200/200 [==============================] - 2s 9ms/step - loss: 0.3119 - accuracy: 0.9034\n",
      "Epoch 17/100\n",
      "200/200 [==============================] - 2s 10ms/step - loss: 0.3148 - accuracy: 0.8946\n",
      "Epoch 18/100\n",
      "200/200 [==============================] - 2s 9ms/step - loss: 0.2486 - accuracy: 0.9134\n",
      "Epoch 19/100\n",
      "200/200 [==============================] - 2s 9ms/step - loss: 0.2380 - accuracy: 0.9235\n",
      "Epoch 20/100\n",
      "200/200 [==============================] - 2s 9ms/step - loss: 0.2571 - accuracy: 0.9197\n",
      "Epoch 21/100\n",
      "200/200 [==============================] - 2s 8ms/step - loss: 0.2463 - accuracy: 0.9260\n",
      "Epoch 22/100\n",
      "200/200 [==============================] - 2s 9ms/step - loss: 0.2156 - accuracy: 0.9335\n",
      "Epoch 23/100\n",
      "200/200 [==============================] - 2s 9ms/step - loss: 0.2208 - accuracy: 0.9335\n",
      "Epoch 24/100\n",
      "200/200 [==============================] - 2s 9ms/step - loss: 0.2438 - accuracy: 0.9210\n",
      "Epoch 25/100\n",
      "200/200 [==============================] - 2s 9ms/step - loss: 0.1477 - accuracy: 0.9486\n",
      "Epoch 26/100\n",
      "200/200 [==============================] - 2s 9ms/step - loss: 0.1951 - accuracy: 0.9435\n",
      "Epoch 27/100\n",
      "200/200 [==============================] - 2s 9ms/step - loss: 0.2365 - accuracy: 0.9235\n",
      "Epoch 28/100\n",
      "200/200 [==============================] - 2s 9ms/step - loss: 0.1511 - accuracy: 0.9523\n",
      "Epoch 29/100\n",
      "200/200 [==============================] - 2s 9ms/step - loss: 0.1594 - accuracy: 0.9523\n",
      "Epoch 30/100\n",
      "200/200 [==============================] - 2s 9ms/step - loss: 0.2029 - accuracy: 0.9410\n",
      "Epoch 31/100\n",
      "200/200 [==============================] - 2s 10ms/step - loss: 0.1577 - accuracy: 0.9460\n",
      "Epoch 32/100\n",
      "200/200 [==============================] - 2s 9ms/step - loss: 0.2038 - accuracy: 0.9410\n",
      "Epoch 33/100\n",
      "200/200 [==============================] - 2s 9ms/step - loss: 0.1652 - accuracy: 0.9561\n",
      "Epoch 34/100\n",
      "200/200 [==============================] - 2s 9ms/step - loss: 0.1537 - accuracy: 0.9511\n",
      "Epoch 35/100\n",
      "200/200 [==============================] - 2s 9ms/step - loss: 0.1584 - accuracy: 0.9548\n",
      "Epoch 36/100\n",
      "200/200 [==============================] - 2s 9ms/step - loss: 0.1658 - accuracy: 0.9460\n",
      "Epoch 37/100\n",
      "200/200 [==============================] - 2s 10ms/step - loss: 0.1199 - accuracy: 0.9611\n",
      "Epoch 38/100\n",
      "200/200 [==============================] - 2s 9ms/step - loss: 0.1633 - accuracy: 0.9536\n",
      "Epoch 39/100\n",
      "200/200 [==============================] - 2s 9ms/step - loss: 0.1683 - accuracy: 0.9385\n",
      "Epoch 40/100\n",
      "200/200 [==============================] - 2s 9ms/step - loss: 0.1673 - accuracy: 0.9598\n",
      "Epoch 41/100\n",
      "200/200 [==============================] - 2s 9ms/step - loss: 0.1115 - accuracy: 0.9611\n",
      "Epoch 42/100\n",
      "200/200 [==============================] - 2s 9ms/step - loss: 0.1263 - accuracy: 0.9573\n",
      "Epoch 43/100\n",
      "200/200 [==============================] - 2s 10ms/step - loss: 0.1519 - accuracy: 0.9448\n",
      "Epoch 44/100\n",
      "200/200 [==============================] - 2s 9ms/step - loss: 0.1192 - accuracy: 0.9624\n",
      "Epoch 45/100\n",
      "200/200 [==============================] - 2s 9ms/step - loss: 0.1243 - accuracy: 0.9624\n",
      "Epoch 46/100\n",
      "200/200 [==============================] - 2s 9ms/step - loss: 0.1137 - accuracy: 0.9661\n",
      "Epoch 47/100\n",
      "200/200 [==============================] - 2s 9ms/step - loss: 0.1119 - accuracy: 0.9661\n",
      "Epoch 48/100\n",
      "200/200 [==============================] - 2s 9ms/step - loss: 0.1281 - accuracy: 0.9674\n",
      "Epoch 49/100\n",
      "200/200 [==============================] - 2s 10ms/step - loss: 0.1253 - accuracy: 0.9661 0s - l\n",
      "Epoch 50/100\n",
      "200/200 [==============================] - 2s 9ms/step - loss: 0.1059 - accuracy: 0.9686\n",
      "Epoch 51/100\n",
      "200/200 [==============================] - 2s 9ms/step - loss: 0.0877 - accuracy: 0.9686\n",
      "Epoch 52/100\n",
      "200/200 [==============================] - 2s 9ms/step - loss: 0.1221 - accuracy: 0.9624\n",
      "Epoch 53/100\n",
      "200/200 [==============================] - 2s 8ms/step - loss: 0.1025 - accuracy: 0.9674\n",
      "Epoch 54/100\n",
      "200/200 [==============================] - 2s 9ms/step - loss: 0.1213 - accuracy: 0.9611\n",
      "Epoch 55/100\n",
      "200/200 [==============================] - 2s 10ms/step - loss: 0.1363 - accuracy: 0.9661\n",
      "Epoch 56/100\n",
      "200/200 [==============================] - 2s 9ms/step - loss: 0.1058 - accuracy: 0.9724\n",
      "Epoch 57/100\n",
      "200/200 [==============================] - 2s 10ms/step - loss: 0.1078 - accuracy: 0.9749\n",
      "Epoch 58/100\n",
      "200/200 [==============================] - 2s 10ms/step - loss: 0.1378 - accuracy: 0.9586\n",
      "Epoch 59/100\n",
      "200/200 [==============================] - 2s 9ms/step - loss: 0.1042 - accuracy: 0.9636\n",
      "Epoch 60/100\n",
      "200/200 [==============================] - 2s 11ms/step - loss: 0.1479 - accuracy: 0.9649\n",
      "Epoch 61/100\n",
      "200/200 [==============================] - 2s 11ms/step - loss: 0.1091 - accuracy: 0.9649\n",
      "Epoch 62/100\n",
      "200/200 [==============================] - 2s 10ms/step - loss: 0.0786 - accuracy: 0.9787\n",
      "Epoch 63/100\n",
      "200/200 [==============================] - 2s 10ms/step - loss: 0.0686 - accuracy: 0.9774\n",
      "Epoch 64/100\n",
      "200/200 [==============================] - 2s 10ms/step - loss: 0.0989 - accuracy: 0.9661\n",
      "Epoch 65/100\n",
      "200/200 [==============================] - 2s 9ms/step - loss: 0.1186 - accuracy: 0.9624\n",
      "Epoch 66/100\n",
      "200/200 [==============================] - 2s 9ms/step - loss: 0.0990 - accuracy: 0.9774\n",
      "Epoch 67/100\n",
      "200/200 [==============================] - 2s 10ms/step - loss: 0.0780 - accuracy: 0.9686\n",
      "Epoch 68/100\n",
      "200/200 [==============================] - 2s 9ms/step - loss: 0.1116 - accuracy: 0.9611\n",
      "Epoch 69/100\n",
      "200/200 [==============================] - 2s 10ms/step - loss: 0.1073 - accuracy: 0.9699\n",
      "Epoch 70/100\n",
      "200/200 [==============================] - 2s 10ms/step - loss: 0.0635 - accuracy: 0.9799\n",
      "Epoch 71/100\n",
      "200/200 [==============================] - 2s 9ms/step - loss: 0.1113 - accuracy: 0.9661\n",
      "Epoch 72/100\n",
      "200/200 [==============================] - 2s 10ms/step - loss: 0.0925 - accuracy: 0.9711\n",
      "Epoch 73/100\n",
      "200/200 [==============================] - 2s 9ms/step - loss: 0.0650 - accuracy: 0.9787\n",
      "Epoch 74/100\n",
      "200/200 [==============================] - 2s 9ms/step - loss: 0.0777 - accuracy: 0.9799\n",
      "Epoch 75/100\n",
      "200/200 [==============================] - 2s 10ms/step - loss: 0.0513 - accuracy: 0.9774 0s - loss: 0.0475 - accu\n",
      "Epoch 76/100\n",
      "200/200 [==============================] - 2s 9ms/step - loss: 0.0945 - accuracy: 0.9774\n",
      "Epoch 77/100\n",
      "200/200 [==============================] - 2s 9ms/step - loss: 0.0742 - accuracy: 0.9787\n",
      "Epoch 78/100\n"
     ]
    },
    {
     "name": "stdout",
     "output_type": "stream",
     "text": [
      "200/200 [==============================] - 2s 10ms/step - loss: 0.0802 - accuracy: 0.9787\n",
      "Epoch 79/100\n",
      "200/200 [==============================] - 2s 9ms/step - loss: 0.1117 - accuracy: 0.9711\n",
      "Epoch 80/100\n",
      "200/200 [==============================] - 2s 9ms/step - loss: 0.1111 - accuracy: 0.9661\n",
      "Epoch 81/100\n",
      "200/200 [==============================] - 2s 10ms/step - loss: 0.0870 - accuracy: 0.9737\n",
      "Epoch 82/100\n",
      "200/200 [==============================] - 2s 10ms/step - loss: 0.0997 - accuracy: 0.9699\n",
      "Epoch 83/100\n",
      "200/200 [==============================] - 2s 10ms/step - loss: 0.0856 - accuracy: 0.9774\n",
      "Epoch 84/100\n",
      "200/200 [==============================] - 2s 9ms/step - loss: 0.0646 - accuracy: 0.9849\n",
      "Epoch 85/100\n",
      "200/200 [==============================] - 2s 8ms/step - loss: 0.0961 - accuracy: 0.9724\n",
      "Epoch 86/100\n",
      "200/200 [==============================] - 2s 8ms/step - loss: 0.0808 - accuracy: 0.9837\n",
      "Epoch 87/100\n",
      "200/200 [==============================] - 2s 8ms/step - loss: 0.0884 - accuracy: 0.9699\n",
      "Epoch 88/100\n",
      "200/200 [==============================] - 2s 8ms/step - loss: 0.0999 - accuracy: 0.9749\n",
      "Epoch 89/100\n",
      "200/200 [==============================] - 2s 9ms/step - loss: 0.0605 - accuracy: 0.9787\n",
      "Epoch 90/100\n",
      "200/200 [==============================] - 2s 9ms/step - loss: 0.0656 - accuracy: 0.9812\n",
      "Epoch 91/100\n",
      "200/200 [==============================] - 2s 9ms/step - loss: 0.0917 - accuracy: 0.9724\n",
      "Epoch 92/100\n",
      "200/200 [==============================] - 2s 9ms/step - loss: 0.0851 - accuracy: 0.9737\n",
      "Epoch 93/100\n",
      "200/200 [==============================] - 2s 8ms/step - loss: 0.0735 - accuracy: 0.9774\n",
      "Epoch 94/100\n",
      "200/200 [==============================] - 2s 8ms/step - loss: 0.1007 - accuracy: 0.9749\n",
      "Epoch 95/100\n",
      "200/200 [==============================] - 2s 8ms/step - loss: 0.1020 - accuracy: 0.9711\n",
      "Epoch 96/100\n",
      "200/200 [==============================] - 2s 8ms/step - loss: 0.0599 - accuracy: 0.9849\n",
      "Epoch 97/100\n",
      "200/200 [==============================] - 1s 7ms/step - loss: 0.0720 - accuracy: 0.9749\n",
      "Epoch 98/100\n",
      "200/200 [==============================] - 2s 8ms/step - loss: 0.0796 - accuracy: 0.9762\n",
      "Epoch 99/100\n",
      "200/200 [==============================] - 2s 8ms/step - loss: 0.0488 - accuracy: 0.9900\n",
      "Epoch 100/100\n",
      "200/200 [==============================] - 2s 8ms/step - loss: 0.0665 - accuracy: 0.9774\n"
     ]
    }
   ],
   "source": [
    "Batch_Size = 4\n",
    "Shift_Range = 1\n",
    "Brightness_Range = 0.3\n",
    "Rotation_Angle = 10\n",
    "ZoomRange = 0.4\n",
    "\n",
    "datagen = ImageDataGenerator(width_shift_range=[-Shift_Range,Shift_Range], \n",
    "                             height_shift_range=[-Shift_Range,Shift_Range],\n",
    "                             brightness_range=[1-Brightness_Range,1+Brightness_Range],\n",
    "                             zoom_range=[1-ZoomRange, 1+ZoomRange],\n",
    "                             rotation_range=Rotation_Angle)\n",
    "\n",
    "if (Training_Percentage > 0):\n",
    "    train_iterator = datagen.flow(x_data, y_data, batch_size=Batch_Size)\n",
    "    validation_iterator = datagen.flow(X_test, y_test, batch_size=Batch_Size)\n",
    "    history = model.fit_generator(train_iterator, validation_data = validation_iterator, epochs = Epoch_Anz)\n",
    "else:\n",
    "    train_iterator = datagen.flow(x_data, y_data, batch_size=Batch_Size)\n",
    "    history = model.fit_generator(train_iterator, epochs = Epoch_Anz)\n",
    "\n"
   ]
  },
  {
   "cell_type": "markdown",
   "metadata": {},
   "source": [
    "### Learing result\n",
    " \n",
    "* Visualization of the training and validation results"
   ]
  },
  {
   "cell_type": "code",
   "execution_count": 5,
   "metadata": {},
   "outputs": [
    {
     "data": {
      "image/png": "[encoded data removed]",
      "text/plain": [
       "<Figure size 432x288 with 1 Axes>"
      ]
     },
     "metadata": {
      "needs_background": "light"
     },
     "output_type": "display_data"
    }
   ],
   "source": [
    "loss_ges = np.append(loss_ges, history.history['loss'])\n",
    "plt.semilogy(history.history['loss'])\n",
    "\n",
    "if (Training_Percentage > 0):\n",
    "    val_loss_ges = np.append(val_loss_ges, history.history['val_loss'])\n",
    "    plt.semilogy(history.history['val_loss'])\n",
    "\n",
    "plt.title('model loss')\n",
    "plt.ylabel('loss')\n",
    "plt.xlabel('epoch')\n",
    "plt.legend(['train','eval'], loc='upper left')\n",
    "plt.show()"
   ]
  },
  {
   "cell_type": "markdown",
   "metadata": {},
   "source": [
    "### Check the model by hand\n",
    "\n",
    "* The following code uses the trained model to check the deviation for each picture.\n",
    "* x-axis walks through each pixel, y-axis shows the result"
   ]
  },
  {
   "cell_type": "code",
   "execution_count": 6,
   "metadata": {},
   "outputs": [
    {
     "name": "stdout",
     "output_type": "stream",
     "text": [
      "WARNING:tensorflow:From <ipython-input-6-8aba67fc08aa>:15: Sequential.predict_classes (from tensorflow.python.keras.engine.sequential) is deprecated and will be removed after 2021-01-01.\n",
      "Instructions for updating:\n",
      "Please use instead:* `np.argmax(model.predict(x), axis=-1)`,   if your model does multi-class classification   (e.g. if it uses a `softmax` last-layer activation).* `(model.predict(x) > 0.5).astype(\"int32\")`,   if your model does binary classification   (e.g. if it uses a `sigmoid` last-layer activation).\n"
     ]
    },
    {
     "data": {
      "image/png": "[encoded data removed]",
      "text/plain": [
       "<Figure size 432x288 with 1 Axes>"
      ]
     },
     "metadata": {
      "needs_background": "light"
     },
     "output_type": "display_data"
    }
   ],
   "source": [
    "Input_dir='ziffer_sortiert_resize'\n",
    "subdir = [\"NaN\", \"0\", \"1\", \"2\", \"3\", \"4\", \"5\", \"6\", \"7\", \"8\", \"9\"]\n",
    "res = []\n",
    "\n",
    "for aktsubdir in subdir:\n",
    "    files = glob.glob(Input_dir + '/' + aktsubdir + '\\*.jpg')\n",
    "    if aktsubdir == \"NaN\":\n",
    "        zw1 = -1\n",
    "    else:\n",
    "        zw1 = int(aktsubdir)\n",
    "    for aktfile in files:\n",
    "        test_image = Image.open(aktfile)\n",
    "        test_image = np.array(test_image, dtype=\"float32\")\n",
    "        img = np.reshape(test_image,[1,32,20,3])\n",
    "        classes = model.predict_classes(img)\n",
    "        classes = classes[0]\n",
    "        if classes == 10: \n",
    "            classes = -1\n",
    "        zw2 = classes\n",
    "        zw3 = zw2 - zw1\n",
    "        res.append(np.array([zw1, zw2, zw3]))\n",
    "\n",
    "res = np.asarray(res)\n",
    "\n",
    "\n",
    "plt.plot(res[:,0])\n",
    "plt.plot(res[:,1])\n",
    "plt.title('Result')\n",
    "plt.ylabel('Digital Value')\n",
    "plt.xlabel('#Picture')\n",
    "plt.legend(['real','model'], loc='upper left')\n",
    "plt.show()"
   ]
  },
  {
   "cell_type": "markdown",
   "metadata": {},
   "source": [
    "### Save the model\n",
    "\n",
    "* Save the model to the file with the \"h5\" file format"
   ]
  },
  {
   "cell_type": "code",
   "execution_count": 7,
   "metadata": {},
   "outputs": [
    {
     "data": {
      "text/plain": [
       "356152"
      ]
     },
     "execution_count": 7,
     "metadata": {},
     "output_type": "execute_result"
    }
   ],
   "source": [
    "FileName = \"Train_CNN_Digital-Readout_Version_\" + Version\n",
    "# model.save(FileName + \".h5\")\n",
    "\n",
    "converter = tf.lite.TFLiteConverter.from_keras_model(model)\n",
    "tflite_model = converter.convert()\n",
    "open(FileName + \".tflite\", \"wb\").write(tflite_model)"
   ]
  },
  {
   "cell_type": "code",
   "execution_count": 8,
   "metadata": {},
   "outputs": [
    {
     "data": {
      "text/plain": [
       "356152"
      ]
     },
     "execution_count": 8,
     "metadata": {},
     "output_type": "execute_result"
    }
   ],
   "source": [
    "FileName = \"Train_CNN_Digital-Readout_Version_\" + Version\n",
    "# model.save(FileName + \".h5\")\n",
    "\n",
    "converter = tf.lite.TFLiteConverter.from_keras_model(model)\n",
    "tflite_model = converter.convert()\n",
    "open(FileName + \".tflite\", \"wb\").write(tflite_model)"
   ]
  },
  {
   "cell_type": "markdown",
   "metadata": {},
   "source": [
    "### Check each image for expected and deviation\n",
    "* setting the switch \"only_deviation = true\" will only print the images for which the classification and the CNN-result deviates\n",
    "\n",
    "The output contains the following information:\n",
    "\n",
    "| Filename      | Expected Category           | Predicted Category        |\n",
    "|------------- |:-----------------------------:|--------------|\n",
    "| ziffer_sortiert_resize_NaN/5\\Ziffer_4_0034.jpg | 4  | -1 |\n"
   ]
  },
  {
   "cell_type": "code",
   "execution_count": 9,
   "metadata": {
    "scrolled": true
   },
   "outputs": [
    {
     "name": "stdout",
     "output_type": "stream",
     "text": [
      "ziffer_sortiert_resize/9\\D8_2020-08-16_01-02-52.jpg 9 3\n"
     ]
    }
   ],
   "source": [
    "Input_dir='ziffer_sortiert_resize'\n",
    "only_deviation = True\n",
    "\n",
    "subdir = [\"0\", \"1\", \"2\", \"3\", \"4\", \"5\", \"6\", \"7\", \"8\", \"9\", \"NaN\"]\n",
    "\n",
    "for aktsubdir in subdir:\n",
    "    files = glob.glob(Input_dir + '/' + aktsubdir + '\\*.jpg')\n",
    "    expected_class = aktsubdir\n",
    "    for aktfile in files:\n",
    "        test_image = Image.open(aktfile)\n",
    "        test_image = np.array(test_image, dtype=\"float32\")\n",
    "        img = np.reshape(test_image,[1,32,20,3])\n",
    "        classes = model.predict_classes(img)\n",
    "        classes = classes[0]\n",
    "        if classes == 10: \n",
    "            classes = \"NaN\"\n",
    "        if only_deviation == True:\n",
    "            if str(classes) != str(expected_class):\n",
    "                print(aktfile + \" \" + aktsubdir +  \" \" + str(classes))\n",
    "        else:\n",
    "            print(aktfile + \" \" + aktsubdir +  \" \" + str(classes))\n"
   ]
  },
  {
   "cell_type": "markdown",
   "metadata": {},
   "source": [
    "Checking the images shows, that this are border line images, which can be interpreted as a good digit or a faulty one."
   ]
  }
 ],
 "metadata": {
  "kernelspec": {
   "display_name": "Python 3",
   "language": "python",
   "name": "python3"
  },
  "language_info": {
   "codemirror_mode": {
    "name": "ipython",
    "version": 3
   },
   "file_extension": ".py",
   "mimetype": "text/x-python",
   "name": "python",
   "nbconvert_exporter": "python",
   "pygments_lexer": "ipython3",
   "version": "3.7.9"
  }
 },
 "nbformat": 4,
 "nbformat_minor": 2
}
