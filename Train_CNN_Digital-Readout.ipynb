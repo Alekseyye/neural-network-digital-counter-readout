{
 "cells": [
  {
   "cell_type": "markdown",
   "metadata": {},
   "source": [
    "# CNN Training\n",
    "\n",
    "Target of this code is to train a CNN network to classify images of a digital readout to the digits 0 to 9. Additionally a category \"NaN\" is introduced, to mark images that are not amibiguous.\n",
    "\n",
    "### Preparing the training\n",
    "* First all libraries are loaded\n",
    "    * It is assumed, that they are installed during the Python setup\n",
    "* matplotlib is set to print the output inline in the jupyter notebook"
   ]
  },
  {
   "cell_type": "code",
   "execution_count": 1,
   "metadata": {
    "scrolled": true
   },
   "outputs": [],
   "source": [
    "########### Basic Parameters for Running: ################################\n",
    "    \n",
    "Version = \"8.1.1\"                      # Used for tflite Filename\n",
    "Training_Percentage = 0.2              # 0.0 = Use all Images for Training\n",
    "Epoch_Anz = 100\n",
    "\n",
    "##########################################################################\n",
    "\n",
    "\n",
    "import tensorflow as tf\n",
    "import matplotlib.pyplot as plt\n",
    "import glob\n",
    "import numpy as np\n",
    "from sklearn.utils import shuffle\n",
    "from tensorflow.python import keras\n",
    "from tensorflow.python.keras import Sequential\n",
    "from tensorflow.python.keras.layers import Dense, InputLayer, Conv2D, MaxPool2D, Flatten, BatchNormalization\n",
    "from tensorflow.keras.preprocessing.image import ImageDataGenerator\n",
    "from sklearn.model_selection import train_test_split\n",
    "from tensorflow.keras.callbacks import History \n",
    "from tensorflow.keras.utils import to_categorical\n",
    "from PIL import Image \n",
    "\n",
    "loss_ges = np.array([])\n",
    "val_loss_ges = np.array([])\n",
    "\n",
    "%matplotlib inline\n",
    "np.set_printoptions(precision=4)\n",
    "np.set_printoptions(suppress=True)"
   ]
  },
  {
   "cell_type": "markdown",
   "metadata": {},
   "source": [
    "### Load training data\n",
    "* The data is expected in the \"Input_dir\"\n",
    "* Inside subdirectories are expected from -1, 0, 1, ... 9 in which the pictures are sorted according to their values (=category)\n",
    "* Picture size must be 20x32 with 3 color channels (RGB)\n",
    "* The filename can be arbitrary\n",
    "\n",
    "* The images are stored in the x_data[]\n",
    "* The expected category for each image in the corresponding y_data[]\n",
    "\n",
    "* The last step is a shuffle (from sklearn.utils) and split the data into training and validation data"
   ]
  },
  {
   "cell_type": "code",
   "execution_count": 2,
   "metadata": {},
   "outputs": [
    {
     "name": "stdout",
     "output_type": "stream",
     "text": [
      "(862, 32, 20, 3)\n",
      "(862, 11)\n"
     ]
    }
   ],
   "source": [
    "Input_dir='ziffer_sortiert_resize'\n",
    "\n",
    "files = glob.glob(Input_dir + '/*.*')\n",
    "x_data = []\n",
    "y_data = []\n",
    "\n",
    "subdir = [\"0\", \"1\", \"2\", \"3\", \"4\", \"5\", \"6\", \"7\", \"8\", \"9\", \"NaN\"]\n",
    "\n",
    "for aktsubdir in subdir:\n",
    "    files = glob.glob(Input_dir + '/' + aktsubdir + '/*.jpg')\n",
    "    if aktsubdir == \"NaN\":\n",
    "        category = 10                # NaN does not work --> convert to 10\n",
    "    else:\n",
    "        category = aktsubdir\n",
    "    for aktfile in files:\n",
    "        test_image = Image.open(aktfile)\n",
    "        test_image = np.array(test_image, dtype=\"float32\")\n",
    "        x_data.append(test_image)\n",
    "        y_data.append(np.array([category]))\n",
    "\n",
    "x_data = np.array(x_data)\n",
    "y_data = np.array(y_data)\n",
    "y_data = to_categorical(y_data, 11)\n",
    "print(x_data.shape)\n",
    "print(y_data.shape)\n",
    "\n",
    "x_data, y_data = shuffle(x_data, y_data)\n",
    "\n",
    "if (Training_Percentage > 0):\n",
    "    X_train, X_test, y_train, y_test = train_test_split(x_data, y_data, test_size=Training_Percentage)\n",
    "else:\n",
    "    X_train = x_data\n",
    "    y_train = y_data"
   ]
  },
  {
   "cell_type": "markdown",
   "metadata": {},
   "source": [
    "### Define the model\n",
    "\n",
    "The layout of the network ist a typcial CNN network with alternating **Conv2D** and **MaxPool2D** layers. Finished after **flattening** with additional **Dense** layer.\n",
    "\n",
    "#### Important\n",
    "* Shape of the input layer: (32, 20, 3)\n",
    "* Number of output layers: 11\n",
    "* As loss function \"categorical_crossentropy\" is choosen, as it is a categories task"
   ]
  },
  {
   "cell_type": "code",
   "execution_count": 3,
   "metadata": {
    "scrolled": true
   },
   "outputs": [
    {
     "name": "stdout",
     "output_type": "stream",
     "text": [
      "Model: \"sequential\"\n",
      "_________________________________________________________________\n",
      "Layer (type)                 Output Shape              Param #   \n",
      "=================================================================\n",
      "batch_normalization (BatchNo (None, 32, 20, 3)         12        \n",
      "_________________________________________________________________\n",
      "conv2d (Conv2D)              (None, 32, 20, 32)        896       \n",
      "_________________________________________________________________\n",
      "max_pooling2d (MaxPooling2D) (None, 16, 10, 32)        0         \n",
      "_________________________________________________________________\n",
      "conv2d_1 (Conv2D)            (None, 16, 10, 64)        18496     \n",
      "_________________________________________________________________\n",
      "max_pooling2d_1 (MaxPooling2 (None, 8, 5, 64)          0         \n",
      "_________________________________________________________________\n",
      "conv2d_2 (Conv2D)            (None, 8, 5, 64)          36928     \n",
      "_________________________________________________________________\n",
      "max_pooling2d_2 (MaxPooling2 (None, 4, 2, 64)          0         \n",
      "_________________________________________________________________\n",
      "flatten (Flatten)            (None, 512)               0         \n",
      "_________________________________________________________________\n",
      "dense (Dense)                (None, 512)               262656    \n",
      "_________________________________________________________________\n",
      "dense_1 (Dense)              (None, 11)                5643      \n",
      "=================================================================\n",
      "Total params: 324,631\n",
      "Trainable params: 324,625\n",
      "Non-trainable params: 6\n",
      "_________________________________________________________________\n"
     ]
    }
   ],
   "source": [
    "model = Sequential()\n",
    "model.add(BatchNormalization(input_shape=(32,20,3)))\n",
    "model.add(Conv2D(32, (3, 3), padding='same', activation=\"relu\"))\n",
    "model.add(MaxPool2D(pool_size=(2,2)))\n",
    "model.add(Conv2D(64, (3, 3), padding='same'))\n",
    "model.add(MaxPool2D(pool_size=(2,2)))\n",
    "model.add(Conv2D(64, (3, 3), padding='same'))\n",
    "model.add(MaxPool2D(pool_size=(2,2)))\n",
    "model.add(Flatten())\n",
    "model.add(Dense(512,activation=\"relu\"))\n",
    "model.add(Dense(11, activation = \"softmax\"))\n",
    "model.summary()\n",
    "\n",
    "model.compile(loss=keras.losses.categorical_crossentropy, optimizer=tf.keras.optimizers.Adadelta(learning_rate=1.0, rho=0.95), metrics = [\"accuracy\"])"
   ]
  },
  {
   "cell_type": "markdown",
   "metadata": {},
   "source": [
    "# Training\n",
    "The input pictures are randomly scattered for brightness, pixel shift variations and rotation angle. This is implemented with a ImageDataGenerator.\n"
   ]
  },
  {
   "cell_type": "code",
   "execution_count": 4,
   "metadata": {
    "scrolled": true
   },
   "outputs": [
    {
     "name": "stdout",
     "output_type": "stream",
     "text": [
      "WARNING:tensorflow:From <ipython-input-4-06555f3d8025>:16: Model.fit_generator (from tensorflow.python.keras.engine.training) is deprecated and will be removed in a future version.\n",
      "Instructions for updating:\n",
      "Please use Model.fit, which supports generators.\n",
      "Epoch 1/100\n",
      "216/216 [==============================] - 3s 15ms/step - loss: 1.8771 - accuracy: 0.4490 - val_loss: 1.4801 - val_accuracy: 0.5260\n",
      "Epoch 2/100\n",
      "216/216 [==============================] - 3s 13ms/step - loss: 1.2403 - accuracy: 0.6125 - val_loss: 0.8245 - val_accuracy: 0.7168\n",
      "Epoch 3/100\n",
      "216/216 [==============================] - 3s 13ms/step - loss: 0.8958 - accuracy: 0.7274 - val_loss: 0.6787 - val_accuracy: 0.8092\n",
      "Epoch 4/100\n",
      "216/216 [==============================] - 3s 13ms/step - loss: 0.7385 - accuracy: 0.7726 - val_loss: 0.6631 - val_accuracy: 0.7861\n",
      "Epoch 5/100\n",
      "216/216 [==============================] - 3s 13ms/step - loss: 0.5532 - accuracy: 0.8248 - val_loss: 0.4347 - val_accuracy: 0.8382\n",
      "Epoch 6/100\n",
      "216/216 [==============================] - 3s 13ms/step - loss: 0.5021 - accuracy: 0.8561 - val_loss: 0.4074 - val_accuracy: 0.8728\n",
      "Epoch 7/100\n",
      "216/216 [==============================] - 3s 13ms/step - loss: 0.4347 - accuracy: 0.8794 - val_loss: 0.3009 - val_accuracy: 0.8960\n",
      "Epoch 8/100\n",
      "216/216 [==============================] - 3s 13ms/step - loss: 0.3916 - accuracy: 0.8712 - val_loss: 0.2597 - val_accuracy: 0.8960\n",
      "Epoch 9/100\n",
      "216/216 [==============================] - 3s 13ms/step - loss: 0.3628 - accuracy: 0.8805 - val_loss: 0.3656 - val_accuracy: 0.8844\n",
      "Epoch 10/100\n",
      "216/216 [==============================] - 3s 13ms/step - loss: 0.3287 - accuracy: 0.8910 - val_loss: 0.2020 - val_accuracy: 0.9191\n",
      "Epoch 11/100\n",
      "216/216 [==============================] - 3s 13ms/step - loss: 0.3062 - accuracy: 0.8979 - val_loss: 0.3255 - val_accuracy: 0.8960\n",
      "Epoch 12/100\n",
      "216/216 [==============================] - 3s 15ms/step - loss: 0.3113 - accuracy: 0.8979 - val_loss: 0.2081 - val_accuracy: 0.9422\n",
      "Epoch 13/100\n",
      "216/216 [==============================] - 3s 13ms/step - loss: 0.2683 - accuracy: 0.9188 - val_loss: 0.1884 - val_accuracy: 0.9306\n",
      "Epoch 14/100\n",
      "216/216 [==============================] - 3s 13ms/step - loss: 0.2892 - accuracy: 0.9188 - val_loss: 0.2078 - val_accuracy: 0.9422\n",
      "Epoch 15/100\n",
      "216/216 [==============================] - 3s 14ms/step - loss: 0.2448 - accuracy: 0.9176 - val_loss: 0.2077 - val_accuracy: 0.9364\n",
      "Epoch 16/100\n",
      "216/216 [==============================] - 3s 13ms/step - loss: 0.2698 - accuracy: 0.9281 - val_loss: 0.2539 - val_accuracy: 0.9422\n",
      "Epoch 17/100\n",
      "216/216 [==============================] - 3s 14ms/step - loss: 0.1706 - accuracy: 0.9513 - val_loss: 0.2560 - val_accuracy: 0.9249\n",
      "Epoch 18/100\n",
      "216/216 [==============================] - 3s 13ms/step - loss: 0.1736 - accuracy: 0.9443 - val_loss: 0.1635 - val_accuracy: 0.9653\n",
      "Epoch 19/100\n",
      "216/216 [==============================] - 3s 13ms/step - loss: 0.2290 - accuracy: 0.9327 - val_loss: 0.2084 - val_accuracy: 0.9364\n",
      "Epoch 20/100\n",
      "216/216 [==============================] - 3s 13ms/step - loss: 0.1863 - accuracy: 0.9490 - val_loss: 0.1836 - val_accuracy: 0.9422\n",
      "Epoch 21/100\n",
      "216/216 [==============================] - 3s 13ms/step - loss: 0.2156 - accuracy: 0.9292 - val_loss: 0.3093 - val_accuracy: 0.9133\n",
      "Epoch 22/100\n",
      "216/216 [==============================] - 3s 13ms/step - loss: 0.1751 - accuracy: 0.9443 - val_loss: 0.2484 - val_accuracy: 0.9017\n",
      "Epoch 23/100\n",
      "216/216 [==============================] - 3s 13ms/step - loss: 0.1777 - accuracy: 0.9478 - val_loss: 0.0637 - val_accuracy: 0.9769\n",
      "Epoch 24/100\n",
      "216/216 [==============================] - 3s 14ms/step - loss: 0.1457 - accuracy: 0.9559 - val_loss: 0.0816 - val_accuracy: 0.9711\n",
      "Epoch 25/100\n",
      "216/216 [==============================] - 3s 14ms/step - loss: 0.1966 - accuracy: 0.9362 - val_loss: 0.2227 - val_accuracy: 0.9422\n",
      "Epoch 26/100\n",
      "216/216 [==============================] - 3s 14ms/step - loss: 0.1552 - accuracy: 0.9617 - val_loss: 0.1409 - val_accuracy: 0.9595\n",
      "Epoch 27/100\n",
      "216/216 [==============================] - 3s 14ms/step - loss: 0.1706 - accuracy: 0.9455 - val_loss: 0.1089 - val_accuracy: 0.9595\n",
      "Epoch 28/100\n",
      "216/216 [==============================] - 3s 13ms/step - loss: 0.1630 - accuracy: 0.9536 - val_loss: 0.1657 - val_accuracy: 0.9538\n",
      "Epoch 29/100\n",
      "216/216 [==============================] - 3s 14ms/step - loss: 0.1342 - accuracy: 0.9536 - val_loss: 0.0444 - val_accuracy: 0.9884\n",
      "Epoch 30/100\n",
      "216/216 [==============================] - 3s 14ms/step - loss: 0.1433 - accuracy: 0.9524 - val_loss: 0.1585 - val_accuracy: 0.9480\n",
      "Epoch 31/100\n",
      "216/216 [==============================] - 3s 13ms/step - loss: 0.1285 - accuracy: 0.9710 - val_loss: 0.1482 - val_accuracy: 0.9653\n",
      "Epoch 32/100\n",
      "216/216 [==============================] - 3s 14ms/step - loss: 0.1304 - accuracy: 0.9571 - val_loss: 0.0950 - val_accuracy: 0.9595\n",
      "Epoch 33/100\n",
      "216/216 [==============================] - 3s 14ms/step - loss: 0.0960 - accuracy: 0.9675 - val_loss: 0.1270 - val_accuracy: 0.9422\n",
      "Epoch 34/100\n",
      "216/216 [==============================] - 3s 14ms/step - loss: 0.1615 - accuracy: 0.9548 - val_loss: 0.0725 - val_accuracy: 0.9769\n",
      "Epoch 35/100\n",
      "216/216 [==============================] - 3s 14ms/step - loss: 0.0887 - accuracy: 0.9722 - val_loss: 0.0817 - val_accuracy: 0.9653\n",
      "Epoch 36/100\n",
      "216/216 [==============================] - 3s 14ms/step - loss: 0.1174 - accuracy: 0.9640 - val_loss: 0.2527 - val_accuracy: 0.9422\n",
      "Epoch 37/100\n",
      "216/216 [==============================] - 3s 14ms/step - loss: 0.1247 - accuracy: 0.9617 - val_loss: 0.1262 - val_accuracy: 0.9653\n",
      "Epoch 38/100\n",
      "216/216 [==============================] - 3s 13ms/step - loss: 0.1651 - accuracy: 0.9559 - val_loss: 0.0900 - val_accuracy: 0.9538\n",
      "Epoch 39/100\n",
      "216/216 [==============================] - 3s 13ms/step - loss: 0.1133 - accuracy: 0.9629 - val_loss: 0.1247 - val_accuracy: 0.9595\n",
      "Epoch 40/100\n",
      "216/216 [==============================] - 3s 13ms/step - loss: 0.1299 - accuracy: 0.9640 - val_loss: 0.0611 - val_accuracy: 0.9769\n",
      "Epoch 41/100\n",
      "216/216 [==============================] - 3s 14ms/step - loss: 0.1118 - accuracy: 0.9698 - val_loss: 0.1717 - val_accuracy: 0.9538\n",
      "Epoch 42/100\n",
      "216/216 [==============================] - 3s 14ms/step - loss: 0.1094 - accuracy: 0.9687 - val_loss: 0.1195 - val_accuracy: 0.9595\n",
      "Epoch 43/100\n",
      "216/216 [==============================] - 3s 14ms/step - loss: 0.0628 - accuracy: 0.9768 - val_loss: 0.1474 - val_accuracy: 0.9711\n",
      "Epoch 44/100\n",
      "216/216 [==============================] - 3s 14ms/step - loss: 0.1184 - accuracy: 0.9617 - val_loss: 0.1651 - val_accuracy: 0.9769\n",
      "Epoch 45/100\n",
      "216/216 [==============================] - 3s 15ms/step - loss: 0.1044 - accuracy: 0.9675 - val_loss: 0.1752 - val_accuracy: 0.9538\n",
      "Epoch 46/100\n",
      "216/216 [==============================] - 3s 14ms/step - loss: 0.1449 - accuracy: 0.9617 - val_loss: 0.1327 - val_accuracy: 0.9595\n",
      "Epoch 47/100\n",
      "216/216 [==============================] - 3s 15ms/step - loss: 0.0854 - accuracy: 0.9722 - val_loss: 0.0403 - val_accuracy: 0.9884\n",
      "Epoch 48/100\n",
      "216/216 [==============================] - 3s 15ms/step - loss: 0.1064 - accuracy: 0.9745 - val_loss: 0.0456 - val_accuracy: 0.9827\n",
      "Epoch 49/100\n",
      "216/216 [==============================] - 3s 13ms/step - loss: 0.1008 - accuracy: 0.9675 - val_loss: 0.1345 - val_accuracy: 0.9538\n",
      "Epoch 50/100\n",
      "216/216 [==============================] - 3s 15ms/step - loss: 0.0870 - accuracy: 0.9756 - val_loss: 0.1690 - val_accuracy: 0.9595\n",
      "Epoch 51/100\n",
      "216/216 [==============================] - 3s 15ms/step - loss: 0.0684 - accuracy: 0.9814 - val_loss: 0.1211 - val_accuracy: 0.9711\n",
      "Epoch 52/100\n",
      "216/216 [==============================] - 3s 14ms/step - loss: 0.0772 - accuracy: 0.9733 - val_loss: 0.0430 - val_accuracy: 0.9769\n",
      "Epoch 53/100\n",
      "216/216 [==============================] - 3s 15ms/step - loss: 0.0941 - accuracy: 0.9745 - val_loss: 0.0412 - val_accuracy: 0.9827\n",
      "Epoch 54/100\n",
      "216/216 [==============================] - 3s 15ms/step - loss: 0.0836 - accuracy: 0.9768 - val_loss: 0.0970 - val_accuracy: 0.9711\n",
      "Epoch 55/100\n"
     ]
    },
    {
     "name": "stdout",
     "output_type": "stream",
     "text": [
      "216/216 [==============================] - 3s 15ms/step - loss: 0.1139 - accuracy: 0.9664 - val_loss: 0.1704 - val_accuracy: 0.9653\n",
      "Epoch 56/100\n",
      "216/216 [==============================] - 3s 16ms/step - loss: 0.0861 - accuracy: 0.9745 - val_loss: 0.1206 - val_accuracy: 0.9711\n",
      "Epoch 57/100\n",
      "216/216 [==============================] - 3s 16ms/step - loss: 0.0570 - accuracy: 0.9768 - val_loss: 0.1725 - val_accuracy: 0.9595\n",
      "Epoch 58/100\n",
      "216/216 [==============================] - 3s 16ms/step - loss: 0.0809 - accuracy: 0.9791 - val_loss: 0.0590 - val_accuracy: 0.9942\n",
      "Epoch 59/100\n",
      "216/216 [==============================] - 3s 14ms/step - loss: 0.0627 - accuracy: 0.9791 - val_loss: 0.0959 - val_accuracy: 0.9827\n",
      "Epoch 60/100\n",
      "216/216 [==============================] - 3s 13ms/step - loss: 0.0877 - accuracy: 0.9745 - val_loss: 0.0619 - val_accuracy: 0.9827\n",
      "Epoch 61/100\n",
      "216/216 [==============================] - 3s 13ms/step - loss: 0.0955 - accuracy: 0.9745 - val_loss: 0.0337 - val_accuracy: 0.9884\n",
      "Epoch 62/100\n",
      "216/216 [==============================] - 3s 14ms/step - loss: 0.1021 - accuracy: 0.9780 - val_loss: 0.0317 - val_accuracy: 0.9884\n",
      "Epoch 63/100\n",
      "216/216 [==============================] - 3s 14ms/step - loss: 0.0747 - accuracy: 0.9780 - val_loss: 0.0483 - val_accuracy: 0.9711\n",
      "Epoch 64/100\n",
      "216/216 [==============================] - 3s 14ms/step - loss: 0.1104 - accuracy: 0.9733 - val_loss: 0.1466 - val_accuracy: 0.9653\n",
      "Epoch 65/100\n",
      "216/216 [==============================] - 3s 14ms/step - loss: 0.0660 - accuracy: 0.9803 - val_loss: 0.0503 - val_accuracy: 0.9769\n",
      "Epoch 66/100\n",
      "216/216 [==============================] - 3s 14ms/step - loss: 0.0871 - accuracy: 0.9756 - val_loss: 0.0371 - val_accuracy: 0.9769\n",
      "Epoch 67/100\n",
      "216/216 [==============================] - 3s 14ms/step - loss: 0.0662 - accuracy: 0.9756 - val_loss: 0.1739 - val_accuracy: 0.9538\n",
      "Epoch 68/100\n",
      "216/216 [==============================] - 3s 13ms/step - loss: 0.0623 - accuracy: 0.9849 - val_loss: 0.0770 - val_accuracy: 0.9653\n",
      "Epoch 69/100\n",
      "216/216 [==============================] - 3s 12ms/step - loss: 0.0492 - accuracy: 0.9838 - val_loss: 0.2022 - val_accuracy: 0.9595\n",
      "Epoch 70/100\n",
      "216/216 [==============================] - 3s 12ms/step - loss: 0.0891 - accuracy: 0.9756 - val_loss: 0.1936 - val_accuracy: 0.9480\n",
      "Epoch 71/100\n",
      "216/216 [==============================] - 3s 13ms/step - loss: 0.0872 - accuracy: 0.9733 - val_loss: 0.0966 - val_accuracy: 0.9827\n",
      "Epoch 72/100\n",
      "216/216 [==============================] - 3s 15ms/step - loss: 0.0714 - accuracy: 0.9826 - val_loss: 0.1054 - val_accuracy: 0.9769\n",
      "Epoch 73/100\n",
      "216/216 [==============================] - 3s 13ms/step - loss: 0.0800 - accuracy: 0.9768 - val_loss: 0.0513 - val_accuracy: 0.9769\n",
      "Epoch 74/100\n",
      "216/216 [==============================] - 3s 13ms/step - loss: 0.0966 - accuracy: 0.9745 - val_loss: 0.0722 - val_accuracy: 0.9711\n",
      "Epoch 75/100\n",
      "216/216 [==============================] - 3s 13ms/step - loss: 0.0890 - accuracy: 0.9803 - val_loss: 0.0408 - val_accuracy: 0.9884\n",
      "Epoch 76/100\n",
      "216/216 [==============================] - 3s 13ms/step - loss: 0.0534 - accuracy: 0.9826 - val_loss: 0.0494 - val_accuracy: 0.9769\n",
      "Epoch 77/100\n",
      "216/216 [==============================] - 3s 13ms/step - loss: 0.0671 - accuracy: 0.9803 - val_loss: 0.1516 - val_accuracy: 0.9827\n",
      "Epoch 78/100\n",
      "216/216 [==============================] - 3s 12ms/step - loss: 0.0719 - accuracy: 0.9838 - val_loss: 0.0371 - val_accuracy: 0.9884\n",
      "Epoch 79/100\n",
      "216/216 [==============================] - 2s 10ms/step - loss: 0.0530 - accuracy: 0.9872 - val_loss: 0.0040 - val_accuracy: 1.0000\n",
      "Epoch 80/100\n",
      "216/216 [==============================] - 2s 10ms/step - loss: 0.0568 - accuracy: 0.9826 - val_loss: 0.0833 - val_accuracy: 0.9827\n",
      "Epoch 81/100\n",
      "216/216 [==============================] - 2s 10ms/step - loss: 0.0479 - accuracy: 0.9849 - val_loss: 0.1024 - val_accuracy: 0.9711\n",
      "Epoch 82/100\n",
      "216/216 [==============================] - 2s 10ms/step - loss: 0.0751 - accuracy: 0.9791 - val_loss: 0.1105 - val_accuracy: 0.9884\n",
      "Epoch 83/100\n",
      "216/216 [==============================] - 2s 10ms/step - loss: 0.0926 - accuracy: 0.9768 - val_loss: 0.0503 - val_accuracy: 0.9942\n",
      "Epoch 84/100\n",
      "216/216 [==============================] - 2s 10ms/step - loss: 0.1350 - accuracy: 0.9675 - val_loss: 0.0762 - val_accuracy: 0.9884\n",
      "Epoch 85/100\n",
      "216/216 [==============================] - 2s 10ms/step - loss: 0.1018 - accuracy: 0.9745 - val_loss: 0.0429 - val_accuracy: 0.9827\n",
      "Epoch 86/100\n",
      "216/216 [==============================] - 2s 10ms/step - loss: 0.0985 - accuracy: 0.9768 - val_loss: 0.0361 - val_accuracy: 0.9827\n",
      "Epoch 87/100\n",
      "216/216 [==============================] - 2s 9ms/step - loss: 0.0376 - accuracy: 0.9884 - val_loss: 0.0733 - val_accuracy: 0.9769\n",
      "Epoch 88/100\n",
      "216/216 [==============================] - 2s 10ms/step - loss: 0.0318 - accuracy: 0.9884 - val_loss: 0.0403 - val_accuracy: 0.9769\n",
      "Epoch 89/100\n",
      "216/216 [==============================] - 2s 10ms/step - loss: 0.0308 - accuracy: 0.9861 - val_loss: 0.0490 - val_accuracy: 0.9884\n",
      "Epoch 90/100\n",
      "216/216 [==============================] - 2s 10ms/step - loss: 0.0588 - accuracy: 0.9861 - val_loss: 0.0655 - val_accuracy: 0.9827\n",
      "Epoch 91/100\n",
      "216/216 [==============================] - 2s 10ms/step - loss: 0.0830 - accuracy: 0.9791 - val_loss: 0.0678 - val_accuracy: 0.9827\n",
      "Epoch 92/100\n",
      "216/216 [==============================] - 2s 10ms/step - loss: 0.0497 - accuracy: 0.9849 - val_loss: 0.0925 - val_accuracy: 0.9769\n",
      "Epoch 93/100\n",
      "216/216 [==============================] - 2s 10ms/step - loss: 0.0498 - accuracy: 0.9826 - val_loss: 0.0068 - val_accuracy: 0.9942\n",
      "Epoch 94/100\n",
      "216/216 [==============================] - 2s 10ms/step - loss: 0.0809 - accuracy: 0.9803 - val_loss: 0.0618 - val_accuracy: 0.9769\n",
      "Epoch 95/100\n",
      "216/216 [==============================] - 2s 9ms/step - loss: 0.0622 - accuracy: 0.9861 - val_loss: 0.1006 - val_accuracy: 0.9769\n",
      "Epoch 96/100\n",
      "216/216 [==============================] - 2s 10ms/step - loss: 0.0570 - accuracy: 0.9861 - val_loss: 0.0055 - val_accuracy: 1.0000\n",
      "Epoch 97/100\n",
      "216/216 [==============================] - 2s 10ms/step - loss: 0.0855 - accuracy: 0.9733 - val_loss: 0.0428 - val_accuracy: 0.9942\n",
      "Epoch 98/100\n",
      "216/216 [==============================] - 2s 10ms/step - loss: 0.0499 - accuracy: 0.9861 - val_loss: 0.1064 - val_accuracy: 0.9595\n",
      "Epoch 99/100\n",
      "216/216 [==============================] - 2s 10ms/step - loss: 0.0325 - accuracy: 0.9884 - val_loss: 0.0930 - val_accuracy: 0.9827\n",
      "Epoch 100/100\n",
      "216/216 [==============================] - 2s 10ms/step - loss: 0.0610 - accuracy: 0.9826 - val_loss: 0.1347 - val_accuracy: 0.9711\n"
     ]
    }
   ],
   "source": [
    "Batch_Size = 4\n",
    "Shift_Range = 1\n",
    "Brightness_Range = 0.3\n",
    "Rotation_Angle = 10\n",
    "ZoomRange = 0.4\n",
    "\n",
    "datagen = ImageDataGenerator(width_shift_range=[-Shift_Range,Shift_Range], \n",
    "                             height_shift_range=[-Shift_Range,Shift_Range],\n",
    "                             brightness_range=[1-Brightness_Range,1+Brightness_Range],\n",
    "                             zoom_range=[1-ZoomRange, 1+ZoomRange],\n",
    "                             rotation_range=Rotation_Angle)\n",
    "\n",
    "if (Training_Percentage > 0):\n",
    "    train_iterator = datagen.flow(x_data, y_data, batch_size=Batch_Size)\n",
    "    validation_iterator = datagen.flow(X_test, y_test, batch_size=Batch_Size)\n",
    "    history = model.fit_generator(train_iterator, validation_data = validation_iterator, epochs = Epoch_Anz)\n",
    "else:\n",
    "    train_iterator = datagen.flow(x_data, y_data, batch_size=Batch_Size)\n",
    "    history = model.fit_generator(train_iterator, epochs = Epoch_Anz)\n",
    "\n"
   ]
  },
  {
   "cell_type": "markdown",
   "metadata": {},
   "source": [
    "### Learing result\n",
    " \n",
    "* Visualization of the training and validation results"
   ]
  },
  {
   "cell_type": "code",
   "execution_count": 5,
   "metadata": {},
   "outputs": [
    {
     "data": {
      "image/png": "[encoded data removed]",
      "text/plain": [
       "<Figure size 432x288 with 1 Axes>"
      ]
     },
     "metadata": {
      "needs_background": "light"
     },
     "output_type": "display_data"
    }
   ],
   "source": [
    "loss_ges = np.append(loss_ges, history.history['loss'])\n",
    "plt.semilogy(history.history['loss'])\n",
    "\n",
    "if (Training_Percentage > 0):\n",
    "    val_loss_ges = np.append(val_loss_ges, history.history['val_loss'])\n",
    "    plt.semilogy(history.history['val_loss'])\n",
    "\n",
    "plt.title('model loss')\n",
    "plt.ylabel('loss')\n",
    "plt.xlabel('epoch')\n",
    "plt.legend(['train','eval'], loc='upper left')\n",
    "plt.show()"
   ]
  },
  {
   "cell_type": "markdown",
   "metadata": {},
   "source": [
    "### Check the model by hand\n",
    "\n",
    "* The following code uses the trained model to check the deviation for each picture.\n",
    "* x-axis walks through each pixel, y-axis shows the result"
   ]
  },
  {
   "cell_type": "code",
   "execution_count": 6,
   "metadata": {},
   "outputs": [
    {
     "name": "stdout",
     "output_type": "stream",
     "text": [
      "WARNING:tensorflow:From <ipython-input-6-8aba67fc08aa>:15: Sequential.predict_classes (from tensorflow.python.keras.engine.sequential) is deprecated and will be removed after 2021-01-01.\n",
      "Instructions for updating:\n",
      "Please use instead:* `np.argmax(model.predict(x), axis=-1)`,   if your model does multi-class classification   (e.g. if it uses a `softmax` last-layer activation).* `(model.predict(x) > 0.5).astype(\"int32\")`,   if your model does binary classification   (e.g. if it uses a `sigmoid` last-layer activation).\n"
     ]
    },
    {
     "data": {
      "image/png": "[encoded data removed]",
      "text/plain": [
       "<Figure size 432x288 with 1 Axes>"
      ]
     },
     "metadata": {
      "needs_background": "light"
     },
     "output_type": "display_data"
    }
   ],
   "source": [
    "Input_dir='ziffer_sortiert_resize'\n",
    "subdir = [\"NaN\", \"0\", \"1\", \"2\", \"3\", \"4\", \"5\", \"6\", \"7\", \"8\", \"9\"]\n",
    "res = []\n",
    "\n",
    "for aktsubdir in subdir:\n",
    "    files = glob.glob(Input_dir + '/' + aktsubdir + '\\*.jpg')\n",
    "    if aktsubdir == \"NaN\":\n",
    "        zw1 = -1\n",
    "    else:\n",
    "        zw1 = int(aktsubdir)\n",
    "    for aktfile in files:\n",
    "        test_image = Image.open(aktfile)\n",
    "        test_image = np.array(test_image, dtype=\"float32\")\n",
    "        img = np.reshape(test_image,[1,32,20,3])\n",
    "        classes = model.predict_classes(img)\n",
    "        classes = classes[0]\n",
    "        if classes == 10: \n",
    "            classes = -1\n",
    "        zw2 = classes\n",
    "        zw3 = zw2 - zw1\n",
    "        res.append(np.array([zw1, zw2, zw3]))\n",
    "\n",
    "res = np.asarray(res)\n",
    "\n",
    "\n",
    "plt.plot(res[:,0])\n",
    "plt.plot(res[:,1])\n",
    "plt.title('Result')\n",
    "plt.ylabel('Digital Value')\n",
    "plt.xlabel('#Picture')\n",
    "plt.legend(['real','model'], loc='upper left')\n",
    "plt.show()"
   ]
  },
  {
   "cell_type": "markdown",
   "metadata": {},
   "source": [
    "### Save the model\n",
    "\n",
    "* Save the model to the file with the \"h5\" file format"
   ]
  },
  {
   "cell_type": "code",
   "execution_count": 7,
   "metadata": {},
   "outputs": [
    {
     "data": {
      "text/plain": [
       "1302556"
      ]
     },
     "execution_count": 7,
     "metadata": {},
     "output_type": "execute_result"
    }
   ],
   "source": [
    "FileName = \"Train_CNN_Digital-Readout_Version_\" + Version\n",
    "# model.save(FileName + \".h5\")\n",
    "\n",
    "converter = tf.lite.TFLiteConverter.from_keras_model(model)\n",
    "tflite_model = converter.convert()\n",
    "open(FileName + \".tflite\", \"wb\").write(tflite_model)"
   ]
  },
  {
   "cell_type": "code",
   "execution_count": 8,
   "metadata": {},
   "outputs": [
    {
     "data": {
      "text/plain": [
       "337600"
      ]
     },
     "execution_count": 8,
     "metadata": {},
     "output_type": "execute_result"
    }
   ],
   "source": [
    "FileName = \"Train_CNN_Digital-Readout_Quantized_Version_\" + Version\n",
    "\n",
    "import tensorflow as tf\n",
    "\n",
    "def representative_dataset():\n",
    "    for _ in range(500):\n",
    "      data = np.random.rand(1, 32, 20, 3) * 255\n",
    "      yield [data.astype(np.float32)]\n",
    "        \n",
    "converter2 = tf.lite.TFLiteConverter.from_keras_model(model)\n",
    "converter2.optimizations = [tf.lite.Optimize.DEFAULT]\n",
    "converter2.representative_dataset = representative_dataset\n",
    "converter2.target_spec.supported_ops = [tf.lite.OpsSet.TFLITE_BUILTINS_INT8]\n",
    "converter2.inference_input_type = tf.int8  # or tf.uint8\n",
    "converter2.inference_output_type = tf.int8  # or tf.uint8\n",
    "tflite_quant_model = converter2.convert()\n",
    "\n",
    "open(FileName + \".tflite\", \"wb\").write(tflite_quant_model)"
   ]
  },
  {
   "cell_type": "markdown",
   "metadata": {},
   "source": [
    "### Check each image for expected and deviation\n",
    "* setting the switch \"only_deviation = true\" will only print the images for which the classification and the CNN-result deviates\n",
    "\n",
    "The output contains the following information:\n",
    "\n",
    "| Filename      | Expected Category           | Predicted Category        |\n",
    "|------------- |:-----------------------------:|--------------|\n",
    "| ziffer_sortiert_resize_NaN/5\\Ziffer_4_0034.jpg | 4  | -1 |\n"
   ]
  },
  {
   "cell_type": "code",
   "execution_count": 9,
   "metadata": {
    "scrolled": true
   },
   "outputs": [
    {
     "name": "stdout",
     "output_type": "stream",
     "text": [
      "ziffer_sortiert_resize/1\\Ziffer_1_0032.jpg 1 NaN\n",
      "ziffer_sortiert_resize/9\\ziffer5_2020-04-25_08-00-06.jpg 9 NaN\n"
     ]
    }
   ],
   "source": [
    "Input_dir='ziffer_sortiert_resize'\n",
    "only_deviation = True\n",
    "\n",
    "subdir = [\"0\", \"1\", \"2\", \"3\", \"4\", \"5\", \"6\", \"7\", \"8\", \"9\", \"NaN\"]\n",
    "\n",
    "for aktsubdir in subdir:\n",
    "    files = glob.glob(Input_dir + '/' + aktsubdir + '\\*.jpg')\n",
    "    expected_class = aktsubdir\n",
    "    for aktfile in files:\n",
    "        test_image = Image.open(aktfile)\n",
    "        test_image = np.array(test_image, dtype=\"float32\")\n",
    "        img = np.reshape(test_image,[1,32,20,3])\n",
    "        classes = model.predict_classes(img)\n",
    "        classes = classes[0]\n",
    "        if classes == 10: \n",
    "            classes = \"NaN\"\n",
    "        if only_deviation == True:\n",
    "            if str(classes) != str(expected_class):\n",
    "                print(aktfile + \" \" + aktsubdir +  \" \" + str(classes))\n",
    "        else:\n",
    "            print(aktfile + \" \" + aktsubdir +  \" \" + str(classes))\n"
   ]
  },
  {
   "cell_type": "markdown",
   "metadata": {},
   "source": [
    "Checking the images shows, that this are border line images, which can be interpreted as a good digit or a faulty one."
   ]
  }
 ],
 "metadata": {
  "kernelspec": {
   "display_name": "Python 3",
   "language": "python",
   "name": "python3"
  },
  "language_info": {
   "codemirror_mode": {
    "name": "ipython",
    "version": 3
   },
   "file_extension": ".py",
   "mimetype": "text/x-python",
   "name": "python",
   "nbconvert_exporter": "python",
   "pygments_lexer": "ipython3",
   "version": "3.7.9"
  }
 },
 "nbformat": 4,
 "nbformat_minor": 2
}
