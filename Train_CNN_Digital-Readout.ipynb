{
 "cells": [
  {
   "cell_type": "markdown",
   "metadata": {},
   "source": [
    "# CNN Training\n",
    "\n",
    "Target of this code is to train a CNN network to classify images of a digital readout to the digits 0 to 9. Additionally a category \"NaN\" is introduced, to mark images that are not amibiguous.\n",
    "\n",
    "### Preparing the training\n",
    "* First all libraries are loaded\n",
    "    * It is assumed, that they are installed during the Python setup\n",
    "* matplotlib is set to print the output inline in the jupyter notebook"
   ]
  },
  {
   "cell_type": "code",
   "execution_count": 1,
   "metadata": {
    "scrolled": true
   },
   "outputs": [],
   "source": [
    "import tensorflow as tf\n",
    "import matplotlib.pyplot as plt\n",
    "import glob\n",
    "import numpy as np\n",
    "from sklearn.utils import shuffle\n",
    "from tensorflow.python import keras\n",
    "from tensorflow.python.keras import Sequential\n",
    "from tensorflow.python.keras.layers import Dense, InputLayer, Conv2D, MaxPool2D, Flatten, BatchNormalization\n",
    "from tensorflow.keras.preprocessing.image import ImageDataGenerator\n",
    "from sklearn.model_selection import train_test_split\n",
    "from tensorflow.keras.callbacks import History \n",
    "from tensorflow.keras.utils import to_categorical\n",
    "from PIL import Image \n",
    "\n",
    "loss_ges = np.array([])\n",
    "val_loss_ges = np.array([])\n",
    "\n",
    "%matplotlib inline\n",
    "np.set_printoptions(precision=4)\n",
    "np.set_printoptions(suppress=True)"
   ]
  },
  {
   "cell_type": "markdown",
   "metadata": {},
   "source": [
    "### Load training data\n",
    "* The data is expected in the \"Input_dir\"\n",
    "* Inside subdirectories are expected from -1, 0, 1, ... 9 in which the pictures are sorted according to their values (=category)\n",
    "* Picture size must be 20x32 with 3 color channels (RGB)\n",
    "* The filename can be arbitrary\n",
    "\n",
    "* The images are stored in the x_data[]\n",
    "* The expected category for each image in the corresponding y_data[]\n",
    "\n",
    "* The last step is a shuffle (from sklearn.utils) and split the data into training and validation data"
   ]
  },
  {
   "cell_type": "code",
   "execution_count": 2,
   "metadata": {},
   "outputs": [
    {
     "name": "stdout",
     "output_type": "stream",
     "text": [
      "(420, 32, 20, 3)\n",
      "(420, 11)\n"
     ]
    }
   ],
   "source": [
    "Input_dir='ziffer_sortiert_resize'\n",
    "\n",
    "files = glob.glob(Input_dir + '/*.*')\n",
    "x_data = []\n",
    "y_data = []\n",
    "\n",
    "subdir = [\"0\", \"1\", \"2\", \"3\", \"4\", \"5\", \"6\", \"7\", \"8\", \"9\", \"NaN\"]\n",
    "\n",
    "for aktsubdir in subdir:\n",
    "    files = glob.glob(Input_dir + '/' + aktsubdir + '/*.jpg')\n",
    "    if aktsubdir == \"NaN\":\n",
    "        category = 10                # NaN does not work --> convert to 10\n",
    "    else:\n",
    "        category = aktsubdir\n",
    "    for aktfile in files:\n",
    "        test_image = Image.open(aktfile)\n",
    "        test_image = np.array(test_image, dtype=\"float32\")\n",
    "        x_data.append(test_image)\n",
    "        y_data.append(np.array([category]))\n",
    "\n",
    "x_data = np.array(x_data)\n",
    "y_data = np.array(y_data)\n",
    "y_data = to_categorical(y_data, 11)\n",
    "print(x_data.shape)\n",
    "print(y_data.shape)\n",
    "\n",
    "x_data, y_data = shuffle(x_data, y_data)\n",
    "X_train, X_test, y_train, y_test = train_test_split(x_data, y_data, test_size=0.1)"
   ]
  },
  {
   "cell_type": "markdown",
   "metadata": {},
   "source": [
    "### Define the model\n",
    "\n",
    "The layout of the network ist a typcial CNN network with alternating **Conv2D** and **MaxPool2D** layers. Finished after **flattening** with additional **Dense** layer.\n",
    "\n",
    "#### Important\n",
    "* Shape of the input layer: (32, 20, 3)\n",
    "* Number of output layers: 11\n",
    "* As loss function \"categorical_crossentropy\" is choosen, as it is a categories task"
   ]
  },
  {
   "cell_type": "code",
   "execution_count": 3,
   "metadata": {
    "scrolled": true
   },
   "outputs": [
    {
     "name": "stdout",
     "output_type": "stream",
     "text": [
      "Model: \"sequential\"\n",
      "_________________________________________________________________\n",
      "Layer (type)                 Output Shape              Param #   \n",
      "=================================================================\n",
      "batch_normalization (BatchNo (None, 32, 20, 3)         12        \n",
      "_________________________________________________________________\n",
      "conv2d (Conv2D)              (None, 32, 20, 32)        896       \n",
      "_________________________________________________________________\n",
      "max_pooling2d (MaxPooling2D) (None, 16, 10, 32)        0         \n",
      "_________________________________________________________________\n",
      "conv2d_1 (Conv2D)            (None, 16, 10, 64)        18496     \n",
      "_________________________________________________________________\n",
      "max_pooling2d_1 (MaxPooling2 (None, 8, 5, 64)          0         \n",
      "_________________________________________________________________\n",
      "conv2d_2 (Conv2D)            (None, 8, 5, 64)          36928     \n",
      "_________________________________________________________________\n",
      "max_pooling2d_2 (MaxPooling2 (None, 4, 2, 64)          0         \n",
      "_________________________________________________________________\n",
      "flatten (Flatten)            (None, 512)               0         \n",
      "_________________________________________________________________\n",
      "dense (Dense)                (None, 512)               262656    \n",
      "_________________________________________________________________\n",
      "dense_1 (Dense)              (None, 11)                5643      \n",
      "=================================================================\n",
      "Total params: 324,631\n",
      "Trainable params: 324,625\n",
      "Non-trainable params: 6\n",
      "_________________________________________________________________\n"
     ]
    }
   ],
   "source": [
    "model = Sequential()\n",
    "model.add(BatchNormalization(input_shape=(32,20,3)))\n",
    "model.add(Conv2D(32, (3, 3), padding='same', activation=\"relu\"))\n",
    "model.add(MaxPool2D(pool_size=(2,2)))\n",
    "model.add(Conv2D(64, (3, 3), padding='same'))\n",
    "model.add(MaxPool2D(pool_size=(2,2)))\n",
    "model.add(Conv2D(64, (3, 3), padding='same'))\n",
    "model.add(MaxPool2D(pool_size=(2,2)))\n",
    "model.add(Flatten())\n",
    "model.add(Dense(512,activation=\"relu\"))\n",
    "model.add(Dense(11, activation = \"softmax\"))\n",
    "model.summary()\n",
    "\n",
    "model.compile(loss=keras.losses.categorical_crossentropy, optimizer=tf.keras.optimizers.Adadelta(learning_rate=1.0, rho=0.95), metrics = [\"accuracy\"])"
   ]
  },
  {
   "cell_type": "markdown",
   "metadata": {},
   "source": [
    "# Training\n",
    "The input pictures are randomly scattered for brightness, pixel shift variations and rotation angle. This is implemented with a ImageDataGenerator.\n"
   ]
  },
  {
   "cell_type": "code",
   "execution_count": 4,
   "metadata": {
    "scrolled": true
   },
   "outputs": [
    {
     "name": "stdout",
     "output_type": "stream",
     "text": [
      "WARNING:tensorflow:From <ipython-input-4-331f72802f71>:18: Model.fit_generator (from tensorflow.python.keras.engine.training) is deprecated and will be removed in a future version.\n",
      "Instructions for updating:\n",
      "Please use Model.fit, which supports generators.\n",
      "WARNING:tensorflow:sample_weight modes were coerced from\n",
      "  ...\n",
      "    to  \n",
      "  ['...']\n",
      "WARNING:tensorflow:sample_weight modes were coerced from\n",
      "  ...\n",
      "    to  \n",
      "  ['...']\n",
      "Train for 105 steps, validate for 11 steps\n",
      "Epoch 1/80\n",
      "105/105 [==============================] - 3s 32ms/step - loss: 2.0312 - accuracy: 0.3524 - val_loss: 1.5586 - val_accuracy: 0.4762\n",
      "Epoch 2/80\n",
      "105/105 [==============================] - 2s 21ms/step - loss: 1.2006 - accuracy: 0.6381 - val_loss: 0.8881 - val_accuracy: 0.6667\n",
      "Epoch 3/80\n",
      "105/105 [==============================] - 2s 20ms/step - loss: 0.7762 - accuracy: 0.7714 - val_loss: 0.6723 - val_accuracy: 0.7381\n",
      "Epoch 4/80\n",
      "105/105 [==============================] - 2s 20ms/step - loss: 0.5682 - accuracy: 0.8429 - val_loss: 0.3883 - val_accuracy: 0.8571\n",
      "Epoch 5/80\n",
      "105/105 [==============================] - 2s 20ms/step - loss: 0.3654 - accuracy: 0.8714 - val_loss: 0.3725 - val_accuracy: 0.8810\n",
      "Epoch 6/80\n",
      "105/105 [==============================] - 2s 20ms/step - loss: 0.4049 - accuracy: 0.8667 - val_loss: 0.2748 - val_accuracy: 0.9048\n",
      "Epoch 7/80\n",
      "105/105 [==============================] - 2s 20ms/step - loss: 0.3976 - accuracy: 0.8690 - val_loss: 0.2374 - val_accuracy: 0.9286\n",
      "Epoch 8/80\n",
      "105/105 [==============================] - 2s 19ms/step - loss: 0.2941 - accuracy: 0.9119 - val_loss: 0.2205 - val_accuracy: 0.9286\n",
      "Epoch 9/80\n",
      "105/105 [==============================] - 2s 20ms/step - loss: 0.2338 - accuracy: 0.9238 - val_loss: 0.1919 - val_accuracy: 0.9524\n",
      "Epoch 10/80\n",
      "105/105 [==============================] - 2s 18ms/step - loss: 0.2432 - accuracy: 0.9190 - val_loss: 0.2152 - val_accuracy: 0.9286\n",
      "Epoch 11/80\n",
      "105/105 [==============================] - 2s 20ms/step - loss: 0.2648 - accuracy: 0.9167 - val_loss: 0.1184 - val_accuracy: 0.9762\n",
      "Epoch 12/80\n",
      "105/105 [==============================] - 2s 20ms/step - loss: 0.2037 - accuracy: 0.9405 - val_loss: 0.1461 - val_accuracy: 0.9524\n",
      "Epoch 13/80\n",
      "105/105 [==============================] - 2s 20ms/step - loss: 0.1931 - accuracy: 0.9333 - val_loss: 0.1136 - val_accuracy: 0.9524\n",
      "Epoch 14/80\n",
      "105/105 [==============================] - 2s 19ms/step - loss: 0.1747 - accuracy: 0.9524 - val_loss: 0.0654 - val_accuracy: 1.0000\n",
      "Epoch 15/80\n",
      "105/105 [==============================] - 2s 19ms/step - loss: 0.2236 - accuracy: 0.9286 - val_loss: 0.1623 - val_accuracy: 0.9762\n",
      "Epoch 16/80\n",
      "105/105 [==============================] - 2s 21ms/step - loss: 0.1642 - accuracy: 0.9476 - val_loss: 0.0203 - val_accuracy: 1.0000\n",
      "Epoch 17/80\n",
      "105/105 [==============================] - 2s 23ms/step - loss: 0.1453 - accuracy: 0.9571 - val_loss: 0.1034 - val_accuracy: 0.9524\n",
      "Epoch 18/80\n",
      "105/105 [==============================] - 2s 20ms/step - loss: 0.1656 - accuracy: 0.9405 - val_loss: 0.0135 - val_accuracy: 1.0000\n",
      "Epoch 19/80\n",
      "105/105 [==============================] - 2s 19ms/step - loss: 0.0847 - accuracy: 0.9690 - val_loss: 0.2335 - val_accuracy: 0.9524\n",
      "Epoch 20/80\n",
      "105/105 [==============================] - 2s 20ms/step - loss: 0.1620 - accuracy: 0.9548 - val_loss: 0.1179 - val_accuracy: 0.9524\n",
      "Epoch 21/80\n",
      "105/105 [==============================] - 2s 20ms/step - loss: 0.1193 - accuracy: 0.9643 - val_loss: 0.0412 - val_accuracy: 1.0000\n",
      "Epoch 22/80\n",
      "105/105 [==============================] - 2s 20ms/step - loss: 0.1237 - accuracy: 0.9619 - val_loss: 0.0179 - val_accuracy: 1.0000\n",
      "Epoch 23/80\n",
      "105/105 [==============================] - 2s 20ms/step - loss: 0.1753 - accuracy: 0.9500 - val_loss: 0.0307 - val_accuracy: 0.9762\n",
      "Epoch 24/80\n",
      "105/105 [==============================] - 2s 20ms/step - loss: 0.0717 - accuracy: 0.9738 - val_loss: 0.0393 - val_accuracy: 1.0000\n",
      "Epoch 25/80\n",
      "105/105 [==============================] - 2s 20ms/step - loss: 0.1699 - accuracy: 0.9548 - val_loss: 0.0072 - val_accuracy: 1.0000\n",
      "Epoch 26/80\n",
      "105/105 [==============================] - 2s 20ms/step - loss: 0.0805 - accuracy: 0.9762 - val_loss: 0.0064 - val_accuracy: 1.0000\n",
      "Epoch 27/80\n",
      "105/105 [==============================] - 2s 20ms/step - loss: 0.1882 - accuracy: 0.9524 - val_loss: 0.0464 - val_accuracy: 0.9762\n",
      "Epoch 28/80\n",
      "105/105 [==============================] - 2s 20ms/step - loss: 0.1202 - accuracy: 0.9619 - val_loss: 0.0391 - val_accuracy: 1.0000\n",
      "Epoch 29/80\n",
      "105/105 [==============================] - 2s 18ms/step - loss: 0.0542 - accuracy: 0.9762 - val_loss: 0.0378 - val_accuracy: 0.9762\n",
      "Epoch 30/80\n",
      "105/105 [==============================] - 2s 19ms/step - loss: 0.0698 - accuracy: 0.9762 - val_loss: 0.0558 - val_accuracy: 0.9762\n",
      "Epoch 31/80\n",
      "105/105 [==============================] - 2s 19ms/step - loss: 0.0787 - accuracy: 0.9786 - val_loss: 0.0457 - val_accuracy: 0.9762\n",
      "Epoch 32/80\n",
      "105/105 [==============================] - 2s 18ms/step - loss: 0.0626 - accuracy: 0.9810 - val_loss: 0.0075 - val_accuracy: 1.0000\n",
      "Epoch 33/80\n",
      "105/105 [==============================] - 2s 19ms/step - loss: 0.0871 - accuracy: 0.9667 - val_loss: 0.0131 - val_accuracy: 1.0000\n",
      "Epoch 34/80\n",
      "105/105 [==============================] - 2s 19ms/step - loss: 0.0793 - accuracy: 0.9762 - val_loss: 0.0062 - val_accuracy: 1.0000\n",
      "Epoch 35/80\n",
      "105/105 [==============================] - 2s 20ms/step - loss: 0.0871 - accuracy: 0.9762 - val_loss: 0.0958 - val_accuracy: 0.9762\n",
      "Epoch 36/80\n",
      "105/105 [==============================] - 2s 20ms/step - loss: 0.0447 - accuracy: 0.9881 - val_loss: 0.0072 - val_accuracy: 1.0000\n",
      "Epoch 37/80\n",
      "105/105 [==============================] - 2s 20ms/step - loss: 0.0962 - accuracy: 0.9714 - val_loss: 0.0130 - val_accuracy: 1.0000\n",
      "Epoch 38/80\n",
      "105/105 [==============================] - 2s 20ms/step - loss: 0.1156 - accuracy: 0.9738 - val_loss: 0.0020 - val_accuracy: 1.0000\n",
      "Epoch 39/80\n",
      "105/105 [==============================] - 2s 19ms/step - loss: 0.0343 - accuracy: 0.9810 - val_loss: 0.1227 - val_accuracy: 0.9524\n",
      "Epoch 40/80\n",
      "105/105 [==============================] - 2s 18ms/step - loss: 0.0366 - accuracy: 0.9833 - val_loss: 0.0239 - val_accuracy: 1.0000\n",
      "Epoch 41/80\n",
      "105/105 [==============================] - 2s 17ms/step - loss: 0.0719 - accuracy: 0.9762 - val_loss: 0.0247 - val_accuracy: 0.9762\n",
      "Epoch 42/80\n",
      "105/105 [==============================] - 2s 20ms/step - loss: 0.0435 - accuracy: 0.9857 - val_loss: 0.0017 - val_accuracy: 1.0000\n",
      "Epoch 43/80\n",
      "105/105 [==============================] - 2s 18ms/step - loss: 0.1209 - accuracy: 0.9762 - val_loss: 0.0109 - val_accuracy: 1.0000\n",
      "Epoch 44/80\n",
      "105/105 [==============================] - 2s 20ms/step - loss: 0.0589 - accuracy: 0.9810 - val_loss: 0.0217 - val_accuracy: 1.0000\n",
      "Epoch 45/80\n",
      "105/105 [==============================] - 2s 20ms/step - loss: 0.0990 - accuracy: 0.9690 - val_loss: 0.0330 - val_accuracy: 0.9762\n",
      "Epoch 46/80\n",
      "105/105 [==============================] - 2s 17ms/step - loss: 0.0683 - accuracy: 0.9786 - val_loss: 0.0016 - val_accuracy: 1.0000\n",
      "Epoch 47/80\n",
      "105/105 [==============================] - 2s 20ms/step - loss: 0.0967 - accuracy: 0.9786 - val_loss: 0.0321 - val_accuracy: 0.9762\n",
      "Epoch 48/80\n",
      "105/105 [==============================] - 2s 19ms/step - loss: 0.1238 - accuracy: 0.9595 - val_loss: 0.0035 - val_accuracy: 1.0000\n",
      "Epoch 49/80\n",
      "105/105 [==============================] - 2s 19ms/step - loss: 0.0583 - accuracy: 0.9857 - val_loss: 0.0278 - val_accuracy: 1.0000\n",
      "Epoch 50/80\n",
      "105/105 [==============================] - 2s 19ms/step - loss: 0.0745 - accuracy: 0.9786 - val_loss: 0.0346 - val_accuracy: 0.9762\n",
      "Epoch 51/80\n",
      "105/105 [==============================] - 2s 17ms/step - loss: 0.0395 - accuracy: 0.9833 - val_loss: 0.0058 - val_accuracy: 1.0000\n",
      "Epoch 52/80\n",
      "105/105 [==============================] - 2s 17ms/step - loss: 0.1060 - accuracy: 0.9643 - val_loss: 0.1618 - val_accuracy: 0.9762\n",
      "Epoch 53/80\n",
      "105/105 [==============================] - 2s 18ms/step - loss: 0.0262 - accuracy: 0.9905 - val_loss: 0.0482 - val_accuracy: 0.9762\n",
      "Epoch 54/80\n"
     ]
    },
    {
     "name": "stdout",
     "output_type": "stream",
     "text": [
      "105/105 [==============================] - 2s 18ms/step - loss: 0.0723 - accuracy: 0.9690 - val_loss: 0.0070 - val_accuracy: 1.0000\n",
      "Epoch 55/80\n",
      "105/105 [==============================] - 2s 20ms/step - loss: 0.0414 - accuracy: 0.9857 - val_loss: 0.1539 - val_accuracy: 0.9762\n",
      "Epoch 56/80\n",
      "105/105 [==============================] - 2s 18ms/step - loss: 0.0503 - accuracy: 0.9833 - val_loss: 0.0199 - val_accuracy: 1.0000\n",
      "Epoch 57/80\n",
      "105/105 [==============================] - 2s 20ms/step - loss: 0.0920 - accuracy: 0.9762 - val_loss: 0.0084 - val_accuracy: 1.0000\n",
      "Epoch 58/80\n",
      "105/105 [==============================] - 2s 20ms/step - loss: 0.0114 - accuracy: 0.9952 - val_loss: 0.0089 - val_accuracy: 1.0000\n",
      "Epoch 59/80\n",
      "105/105 [==============================] - 2s 20ms/step - loss: 0.0537 - accuracy: 0.9786 - val_loss: 0.1495 - val_accuracy: 0.9286\n",
      "Epoch 60/80\n",
      "105/105 [==============================] - 2s 19ms/step - loss: 0.0136 - accuracy: 0.9952 - val_loss: 9.4799e-04 - val_accuracy: 1.0000\n",
      "Epoch 61/80\n",
      "105/105 [==============================] - 2s 19ms/step - loss: 0.1015 - accuracy: 0.9738 - val_loss: 0.0091 - val_accuracy: 1.0000\n",
      "Epoch 62/80\n",
      "105/105 [==============================] - 2s 18ms/step - loss: 0.0250 - accuracy: 0.9905 - val_loss: 0.0057 - val_accuracy: 1.0000\n",
      "Epoch 63/80\n",
      "105/105 [==============================] - 2s 19ms/step - loss: 0.0622 - accuracy: 0.9810 - val_loss: 0.0908 - val_accuracy: 0.9524\n",
      "Epoch 64/80\n",
      "105/105 [==============================] - 2s 18ms/step - loss: 0.0348 - accuracy: 0.9881 - val_loss: 0.0890 - val_accuracy: 0.9524\n",
      "Epoch 65/80\n",
      "105/105 [==============================] - 2s 18ms/step - loss: 0.0676 - accuracy: 0.9857 - val_loss: 0.0267 - val_accuracy: 0.9762\n",
      "Epoch 66/80\n",
      "105/105 [==============================] - 2s 18ms/step - loss: 0.0940 - accuracy: 0.9786 - val_loss: 0.0958 - val_accuracy: 0.9762\n",
      "Epoch 67/80\n",
      "105/105 [==============================] - 2s 18ms/step - loss: 0.0335 - accuracy: 0.9929 - val_loss: 0.0032 - val_accuracy: 1.0000\n",
      "Epoch 68/80\n",
      "105/105 [==============================] - 2s 18ms/step - loss: 0.0772 - accuracy: 0.9810 - val_loss: 0.0468 - val_accuracy: 0.9762\n",
      "Epoch 69/80\n",
      "105/105 [==============================] - 2s 17ms/step - loss: 0.0141 - accuracy: 0.9929 - val_loss: 0.0108 - val_accuracy: 1.0000\n",
      "Epoch 70/80\n",
      "105/105 [==============================] - 2s 17ms/step - loss: 0.0487 - accuracy: 0.9881 - val_loss: 0.1460 - val_accuracy: 0.9524\n",
      "Epoch 71/80\n",
      "105/105 [==============================] - 2s 18ms/step - loss: 0.0868 - accuracy: 0.9810 - val_loss: 0.0023 - val_accuracy: 1.0000\n",
      "Epoch 72/80\n",
      "105/105 [==============================] - 2s 18ms/step - loss: 0.0376 - accuracy: 0.9905 - val_loss: 0.0027 - val_accuracy: 1.0000\n",
      "Epoch 73/80\n",
      "105/105 [==============================] - 2s 17ms/step - loss: 0.0208 - accuracy: 0.9905 - val_loss: 2.5616e-04 - val_accuracy: 1.0000\n",
      "Epoch 74/80\n",
      "105/105 [==============================] - 2s 20ms/step - loss: 0.0180 - accuracy: 0.9929 - val_loss: 0.0379 - val_accuracy: 1.0000\n",
      "Epoch 75/80\n",
      "105/105 [==============================] - 2s 19ms/step - loss: 0.0596 - accuracy: 0.9833 - val_loss: 0.0028 - val_accuracy: 1.0000\n",
      "Epoch 76/80\n",
      "105/105 [==============================] - 2s 19ms/step - loss: 0.0401 - accuracy: 0.9833 - val_loss: 0.0139 - val_accuracy: 1.0000\n",
      "Epoch 77/80\n",
      "105/105 [==============================] - 2s 20ms/step - loss: 0.0365 - accuracy: 0.9857 - val_loss: 0.0180 - val_accuracy: 0.9762\n",
      "Epoch 78/80\n",
      "105/105 [==============================] - 2s 19ms/step - loss: 0.0158 - accuracy: 0.9952 - val_loss: 0.0332 - val_accuracy: 0.9762\n",
      "Epoch 79/80\n",
      "105/105 [==============================] - 2s 19ms/step - loss: 0.0488 - accuracy: 0.9905 - val_loss: 5.1211e-04 - val_accuracy: 1.0000\n",
      "Epoch 80/80\n",
      "105/105 [==============================] - 2s 19ms/step - loss: 0.0988 - accuracy: 0.9833 - val_loss: 0.0758 - val_accuracy: 0.9762\n"
     ]
    }
   ],
   "source": [
    "Batch_Size = 4\n",
    "Epoch_Anz = 80\n",
    "Shift_Range = 1\n",
    "Brightness_Range = 0.3\n",
    "Rotation_Angle = 10\n",
    "ZoomRange = 0.4\n",
    "\n",
    "datagen = ImageDataGenerator(width_shift_range=[-Shift_Range,Shift_Range], \n",
    "                             height_shift_range=[-Shift_Range,Shift_Range],\n",
    "                             brightness_range=[1-Brightness_Range,1+Brightness_Range],\n",
    "                             zoom_range=[1-ZoomRange, 1+ZoomRange],\n",
    "                             rotation_range=Rotation_Angle,\n",
    "                             validation_split=0.2)\n",
    "\n",
    "train_iterator = datagen.flow(x_data, y_data, batch_size=Batch_Size)\n",
    "validation_iterator = datagen.flow(X_test, y_test, batch_size=Batch_Size)\n",
    "\n",
    "history = model.fit_generator(train_iterator, validation_data = validation_iterator, epochs = Epoch_Anz)\n",
    "#history = model.fit_generator(train_iterator, epochs = Epoch_Anz)\n",
    "\n"
   ]
  },
  {
   "cell_type": "markdown",
   "metadata": {},
   "source": [
    "### Learing result\n",
    " \n",
    "* Visualization of the training and validation results"
   ]
  },
  {
   "cell_type": "code",
   "execution_count": 5,
   "metadata": {},
   "outputs": [
    {
     "data": {
      "image/png": "[encoded data removed]",
      "text/plain": [
       "<Figure size 432x288 with 1 Axes>"
      ]
     },
     "metadata": {
      "needs_background": "light"
     },
     "output_type": "display_data"
    }
   ],
   "source": [
    "loss_ges = np.append(loss_ges, history.history['loss'])\n",
    "val_loss_ges = np.append(val_loss_ges, history.history['val_loss'])\n",
    "\n",
    "plt.semilogy(history.history['loss'])\n",
    "plt.semilogy(history.history['val_loss'])\n",
    "plt.title('model loss')\n",
    "plt.ylabel('loss')\n",
    "plt.xlabel('epoch')\n",
    "plt.legend(['train','eval'], loc='upper left')\n",
    "plt.show()"
   ]
  },
  {
   "cell_type": "markdown",
   "metadata": {},
   "source": [
    "### Check the model by hand\n",
    "\n",
    "* The following code uses the trained model to check the deviation for each picture.\n",
    "* x-axis walks through each pixel, y-axis shows the result"
   ]
  },
  {
   "cell_type": "code",
   "execution_count": 6,
   "metadata": {},
   "outputs": [
    {
     "data": {
      "image/png": "[encoded data removed]",
      "text/plain": [
       "<Figure size 432x288 with 1 Axes>"
      ]
     },
     "metadata": {
      "needs_background": "light"
     },
     "output_type": "display_data"
    }
   ],
   "source": [
    "Input_dir='ziffer_sortiert_resize'\n",
    "subdir = [\"NaN\", \"0\", \"1\", \"2\", \"3\", \"4\", \"5\", \"6\", \"7\", \"8\", \"9\"]\n",
    "res = []\n",
    "\n",
    "for aktsubdir in subdir:\n",
    "    files = glob.glob(Input_dir + '/' + aktsubdir + '\\*.jpg')\n",
    "    if aktsubdir == \"NaN\":\n",
    "        zw1 = -1\n",
    "    else:\n",
    "        zw1 = int(aktsubdir)\n",
    "    for aktfile in files:\n",
    "        test_image = Image.open(aktfile)\n",
    "        test_image = np.array(test_image, dtype=\"float32\")\n",
    "        img = np.reshape(test_image,[1,32,20,3])\n",
    "        classes = model.predict_classes(img)\n",
    "        classes = classes[0]\n",
    "        if classes == 10: \n",
    "            classes = -1\n",
    "        zw2 = classes\n",
    "        zw3 = zw2 - zw1\n",
    "        res.append(np.array([zw1, zw2, zw3]))\n",
    "\n",
    "res = np.asarray(res)\n",
    "\n",
    "\n",
    "plt.plot(res[:,0])\n",
    "plt.plot(res[:,1])\n",
    "plt.title('Result')\n",
    "plt.ylabel('Digital Value')\n",
    "plt.xlabel('#Picture')\n",
    "plt.legend(['real','model'], loc='upper left')\n",
    "plt.show()"
   ]
  },
  {
   "cell_type": "markdown",
   "metadata": {},
   "source": [
    "### Save the model\n",
    "\n",
    "* Save the model to the file with the \"h5\" file format"
   ]
  },
  {
   "cell_type": "code",
   "execution_count": 7,
   "metadata": {},
   "outputs": [
    {
     "data": {
      "text/plain": [
       "332904"
      ]
     },
     "execution_count": 7,
     "metadata": {},
     "output_type": "execute_result"
    }
   ],
   "source": [
    "model.save(\"Train_CNN_Digital-Readout_Version_6.1.0.h5\")\n",
    "\n",
    "converter = tf.lite.TFLiteConverter.from_keras_model(model)\n",
    "tflite_model = converter.convert()\n",
    "open(\"Train_CNN_Digital-Readout_Version_6.1.0.tflite\", \"wb\").write(tflite_model)\n",
    "\n",
    "converter = tf.lite.TFLiteConverter.from_keras_model(model)\n",
    "converter.optimizations = [tf.lite.Optimize.OPTIMIZE_FOR_SIZE]\n",
    "tflite_model = converter.convert()\n",
    "open(\"Train_CNN_Digital-Readout_Version_quantized_6.1.0.tflite\", \"wb\").write(tflite_model)"
   ]
  },
  {
   "cell_type": "markdown",
   "metadata": {},
   "source": [
    "### Check each image for expected and deviation\n",
    "* setting the switch \"only_deviation = true\" will only print the images for which the classification and the CNN-result deviates\n",
    "\n",
    "The output contains the following information:\n",
    "\n",
    "| Filename      | Expected Category           | Predicted Category        |\n",
    "|------------- |:-----------------------------:|--------------|\n",
    "| ziffer_sortiert_resize_NaN/5\\Ziffer_4_0034.jpg | 4  | -1 |\n"
   ]
  },
  {
   "cell_type": "code",
   "execution_count": 8,
   "metadata": {
    "scrolled": true
   },
   "outputs": [
    {
     "name": "stdout",
     "output_type": "stream",
     "text": [
      "ziffer_sortiert_resize/1\\Ziffer_1_0150.jpg 1 NaN\n",
      "ziffer_sortiert_resize/NaN\\Ziffer_NaN_0590.jpg NaN 6\n",
      "ziffer_sortiert_resize/NaN\\Ziffer_NaN_0642.jpg NaN 6\n"
     ]
    }
   ],
   "source": [
    "Input_dir='ziffer_sortiert_resize'\n",
    "only_deviation = True\n",
    "\n",
    "subdir = [\"0\", \"1\", \"2\", \"3\", \"4\", \"5\", \"6\", \"7\", \"8\", \"9\", \"NaN\"]\n",
    "\n",
    "for aktsubdir in subdir:\n",
    "    files = glob.glob(Input_dir + '/' + aktsubdir + '\\*.jpg')\n",
    "    expected_class = aktsubdir\n",
    "    for aktfile in files:\n",
    "        test_image = Image.open(aktfile)\n",
    "        test_image = np.array(test_image, dtype=\"float32\")\n",
    "        img = np.reshape(test_image,[1,32,20,3])\n",
    "        classes = model.predict_classes(img)\n",
    "        classes = classes[0]\n",
    "        if classes == 10: \n",
    "            classes = \"NaN\"\n",
    "        if only_deviation == True:\n",
    "            if str(classes) != str(expected_class):\n",
    "                print(aktfile + \" \" + aktsubdir +  \" \" + str(classes))\n",
    "        else:\n",
    "            print(aktfile + \" \" + aktsubdir +  \" \" + str(classes))\n"
   ]
  },
  {
   "cell_type": "markdown",
   "metadata": {},
   "source": [
    "Checking the images shows, that this are border line images, which can be interpreted as a good digit or a faulty one."
   ]
  },
  {
   "cell_type": "code",
   "execution_count": null,
   "metadata": {},
   "outputs": [],
   "source": []
  }
 ],
 "metadata": {
  "kernelspec": {
   "display_name": "Python 3",
   "language": "python",
   "name": "python3"
  },
  "language_info": {
   "codemirror_mode": {
    "name": "ipython",
    "version": 3
   },
   "file_extension": ".py",
   "mimetype": "text/x-python",
   "name": "python",
   "nbconvert_exporter": "python",
   "pygments_lexer": "ipython3",
   "version": "3.7.7"
  }
 },
 "nbformat": 4,
 "nbformat_minor": 2
}
