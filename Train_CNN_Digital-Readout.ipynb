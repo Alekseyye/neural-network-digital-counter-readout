{
 "cells": [
  {
   "cell_type": "markdown",
   "metadata": {},
   "source": [
    "# CNN Training\n",
    "\n",
    "Target of this code is to train a CNN network to classify images of a digital readout to the digits 0 to 9. Additionally a category \"NaN\" is introduced, to mark images that are not amibiguous.\n",
    "\n",
    "### Preparing the training\n",
    "* First all libraries are loaded\n",
    "    * It is assumed, that they are installed during the Python setup\n",
    "* matplotlib is set to print the output inline in the jupyter notebook"
   ]
  },
  {
   "cell_type": "code",
   "execution_count": 1,
   "metadata": {
    "scrolled": true
   },
   "outputs": [],
   "source": [
    "import tensorflow as tf\n",
    "import matplotlib.pyplot as plt\n",
    "import glob\n",
    "import numpy as np\n",
    "from sklearn.utils import shuffle\n",
    "from tensorflow.python import keras\n",
    "from tensorflow.python.keras import Sequential\n",
    "from tensorflow.python.keras.layers import Dense, InputLayer, Conv2D, MaxPool2D, Flatten, BatchNormalization\n",
    "from tensorflow.keras.preprocessing.image import ImageDataGenerator\n",
    "from sklearn.model_selection import train_test_split\n",
    "from tensorflow.keras.callbacks import History \n",
    "from tensorflow.keras.utils import to_categorical\n",
    "from PIL import Image \n",
    "\n",
    "loss_ges = np.array([])\n",
    "val_loss_ges = np.array([])\n",
    "\n",
    "%matplotlib inline\n",
    "np.set_printoptions(precision=4)\n",
    "np.set_printoptions(suppress=True)"
   ]
  },
  {
   "cell_type": "markdown",
   "metadata": {},
   "source": [
    "### Load training data\n",
    "* The data is expected in the \"Input_dir\"\n",
    "* Inside subdirectories are expected from -1, 0, 1, ... 9 in which the pictures are sorted according to their values (=category)\n",
    "* Picture size must be 20x32 with 3 color channels (RGB)\n",
    "* The filename can be arbitrary\n",
    "\n",
    "* The images are stored in the x_data[]\n",
    "* The expected category for each image in the corresponding y_data[]\n",
    "\n",
    "* The last step is a shuffle (from sklearn.utils) and split the data into training and validation data"
   ]
  },
  {
   "cell_type": "code",
   "execution_count": 2,
   "metadata": {},
   "outputs": [
    {
     "name": "stdout",
     "output_type": "stream",
     "text": [
      "(668, 32, 20, 3)\n",
      "(668, 11)\n"
     ]
    }
   ],
   "source": [
    "Input_dir='ziffer_sortiert_resize'\n",
    "\n",
    "files = glob.glob(Input_dir + '/*.*')\n",
    "x_data = []\n",
    "y_data = []\n",
    "\n",
    "subdir = [\"0\", \"1\", \"2\", \"3\", \"4\", \"5\", \"6\", \"7\", \"8\", \"9\", \"NaN\"]\n",
    "\n",
    "for aktsubdir in subdir:\n",
    "    files = glob.glob(Input_dir + '/' + aktsubdir + '/*.jpg')\n",
    "    if aktsubdir == \"NaN\":\n",
    "        category = 10                # NaN does not work --> convert to 10\n",
    "    else:\n",
    "        category = aktsubdir\n",
    "    for aktfile in files:\n",
    "        test_image = Image.open(aktfile)\n",
    "        test_image = np.array(test_image, dtype=\"float32\")\n",
    "        x_data.append(test_image)\n",
    "        y_data.append(np.array([category]))\n",
    "\n",
    "x_data = np.array(x_data)\n",
    "y_data = np.array(y_data)\n",
    "y_data = to_categorical(y_data, 11)\n",
    "print(x_data.shape)\n",
    "print(y_data.shape)\n",
    "\n",
    "x_data, y_data = shuffle(x_data, y_data)\n",
    "X_train, X_test, y_train, y_test = train_test_split(x_data, y_data, test_size=0.1)"
   ]
  },
  {
   "cell_type": "markdown",
   "metadata": {},
   "source": [
    "### Define the model\n",
    "\n",
    "The layout of the network ist a typcial CNN network with alternating **Conv2D** and **MaxPool2D** layers. Finished after **flattening** with additional **Dense** layer.\n",
    "\n",
    "#### Important\n",
    "* Shape of the input layer: (32, 20, 3)\n",
    "* Number of output layers: 11\n",
    "* As loss function \"categorical_crossentropy\" is choosen, as it is a categories task"
   ]
  },
  {
   "cell_type": "code",
   "execution_count": 3,
   "metadata": {
    "scrolled": true
   },
   "outputs": [
    {
     "name": "stdout",
     "output_type": "stream",
     "text": [
      "Model: \"sequential\"\n",
      "_________________________________________________________________\n",
      "Layer (type)                 Output Shape              Param #   \n",
      "=================================================================\n",
      "batch_normalization (BatchNo (None, 32, 20, 3)         12        \n",
      "_________________________________________________________________\n",
      "conv2d (Conv2D)              (None, 32, 20, 32)        896       \n",
      "_________________________________________________________________\n",
      "max_pooling2d (MaxPooling2D) (None, 16, 10, 32)        0         \n",
      "_________________________________________________________________\n",
      "conv2d_1 (Conv2D)            (None, 16, 10, 64)        18496     \n",
      "_________________________________________________________________\n",
      "max_pooling2d_1 (MaxPooling2 (None, 8, 5, 64)          0         \n",
      "_________________________________________________________________\n",
      "conv2d_2 (Conv2D)            (None, 8, 5, 64)          36928     \n",
      "_________________________________________________________________\n",
      "max_pooling2d_2 (MaxPooling2 (None, 4, 2, 64)          0         \n",
      "_________________________________________________________________\n",
      "flatten (Flatten)            (None, 512)               0         \n",
      "_________________________________________________________________\n",
      "dense (Dense)                (None, 512)               262656    \n",
      "_________________________________________________________________\n",
      "dense_1 (Dense)              (None, 11)                5643      \n",
      "=================================================================\n",
      "Total params: 324,631\n",
      "Trainable params: 324,625\n",
      "Non-trainable params: 6\n",
      "_________________________________________________________________\n"
     ]
    }
   ],
   "source": [
    "model = Sequential()\n",
    "model.add(BatchNormalization(input_shape=(32,20,3)))\n",
    "model.add(Conv2D(32, (3, 3), padding='same', activation=\"relu\"))\n",
    "model.add(MaxPool2D(pool_size=(2,2)))\n",
    "model.add(Conv2D(64, (3, 3), padding='same'))\n",
    "model.add(MaxPool2D(pool_size=(2,2)))\n",
    "model.add(Conv2D(64, (3, 3), padding='same'))\n",
    "model.add(MaxPool2D(pool_size=(2,2)))\n",
    "model.add(Flatten())\n",
    "model.add(Dense(512,activation=\"relu\"))\n",
    "model.add(Dense(11, activation = \"softmax\"))\n",
    "model.summary()\n",
    "\n",
    "model.compile(loss=keras.losses.categorical_crossentropy, optimizer=tf.keras.optimizers.Adadelta(learning_rate=1.0, rho=0.95), metrics = [\"accuracy\"])"
   ]
  },
  {
   "cell_type": "markdown",
   "metadata": {},
   "source": [
    "# Training\n",
    "The input pictures are randomly scattered for brightness, pixel shift variations and rotation angle. This is implemented with a ImageDataGenerator.\n"
   ]
  },
  {
   "cell_type": "code",
   "execution_count": 4,
   "metadata": {
    "scrolled": true
   },
   "outputs": [
    {
     "name": "stdout",
     "output_type": "stream",
     "text": [
      "WARNING:tensorflow:From <ipython-input-4-331f72802f71>:18: Model.fit_generator (from tensorflow.python.keras.engine.training) is deprecated and will be removed in a future version.\n",
      "Instructions for updating:\n",
      "Please use Model.fit, which supports generators.\n",
      "Epoch 1/80\n",
      "167/167 [==============================] - 2s 10ms/step - loss: 1.9170 - accuracy: 0.4207 - val_loss: 2.1402 - val_accuracy: 0.5075\n",
      "Epoch 2/80\n",
      "167/167 [==============================] - 1s 8ms/step - loss: 1.2008 - accuracy: 0.6168 - val_loss: 0.9261 - val_accuracy: 0.7463\n",
      "Epoch 3/80\n",
      "167/167 [==============================] - 1s 9ms/step - loss: 0.7934 - accuracy: 0.7365 - val_loss: 0.6280 - val_accuracy: 0.8060\n",
      "Epoch 4/80\n",
      "167/167 [==============================] - 2s 10ms/step - loss: 0.6695 - accuracy: 0.7904 - val_loss: 0.4729 - val_accuracy: 0.8507\n",
      "Epoch 5/80\n",
      "167/167 [==============================] - 1s 9ms/step - loss: 0.5000 - accuracy: 0.8398 - val_loss: 0.3710 - val_accuracy: 0.8657\n",
      "Epoch 6/80\n",
      "167/167 [==============================] - 1s 9ms/step - loss: 0.4889 - accuracy: 0.8488 - val_loss: 0.2585 - val_accuracy: 0.8955\n",
      "Epoch 7/80\n",
      "167/167 [==============================] - 2s 9ms/step - loss: 0.3790 - accuracy: 0.8862 - val_loss: 0.4769 - val_accuracy: 0.9104\n",
      "Epoch 8/80\n",
      "167/167 [==============================] - 1s 9ms/step - loss: 0.3330 - accuracy: 0.8997 - val_loss: 0.1964 - val_accuracy: 0.9701\n",
      "Epoch 9/80\n",
      "167/167 [==============================] - 1s 8ms/step - loss: 0.3196 - accuracy: 0.8997 - val_loss: 0.1136 - val_accuracy: 0.9701\n",
      "Epoch 10/80\n",
      "167/167 [==============================] - 2s 9ms/step - loss: 0.3265 - accuracy: 0.8982 - val_loss: 0.1625 - val_accuracy: 0.9403\n",
      "Epoch 11/80\n",
      "167/167 [==============================] - 1s 9ms/step - loss: 0.2895 - accuracy: 0.9207 - val_loss: 0.2295 - val_accuracy: 0.9403\n",
      "Epoch 12/80\n",
      "167/167 [==============================] - 2s 9ms/step - loss: 0.2477 - accuracy: 0.9192 - val_loss: 0.2601 - val_accuracy: 0.9403\n",
      "Epoch 13/80\n",
      "167/167 [==============================] - 1s 9ms/step - loss: 0.2937 - accuracy: 0.9027 - val_loss: 0.4695 - val_accuracy: 0.8955\n",
      "Epoch 14/80\n",
      "167/167 [==============================] - 2s 9ms/step - loss: 0.2064 - accuracy: 0.9386 - val_loss: 0.0757 - val_accuracy: 0.9552\n",
      "Epoch 15/80\n",
      "167/167 [==============================] - 2s 9ms/step - loss: 0.2502 - accuracy: 0.9326 - val_loss: 0.2457 - val_accuracy: 0.9552\n",
      "Epoch 16/80\n",
      "167/167 [==============================] - 1s 9ms/step - loss: 0.2114 - accuracy: 0.9371 - val_loss: 0.1470 - val_accuracy: 0.9403\n",
      "Epoch 17/80\n",
      "167/167 [==============================] - 1s 8ms/step - loss: 0.1841 - accuracy: 0.9476 - val_loss: 0.1069 - val_accuracy: 0.9403\n",
      "Epoch 18/80\n",
      "167/167 [==============================] - 1s 9ms/step - loss: 0.2167 - accuracy: 0.9386 - val_loss: 0.0851 - val_accuracy: 0.9701\n",
      "Epoch 19/80\n",
      "167/167 [==============================] - 1s 9ms/step - loss: 0.1866 - accuracy: 0.9416 - val_loss: 0.2391 - val_accuracy: 0.9552\n",
      "Epoch 20/80\n",
      "167/167 [==============================] - 1s 9ms/step - loss: 0.1456 - accuracy: 0.9446 - val_loss: 0.0770 - val_accuracy: 0.9701\n",
      "Epoch 21/80\n",
      "167/167 [==============================] - 1s 9ms/step - loss: 0.1706 - accuracy: 0.9491 - val_loss: 0.1267 - val_accuracy: 0.9552\n",
      "Epoch 22/80\n",
      "167/167 [==============================] - 1s 9ms/step - loss: 0.1766 - accuracy: 0.9491 - val_loss: 0.1159 - val_accuracy: 0.9403\n",
      "Epoch 23/80\n",
      "167/167 [==============================] - 1s 9ms/step - loss: 0.1777 - accuracy: 0.9476 - val_loss: 0.2699 - val_accuracy: 0.9552\n",
      "Epoch 24/80\n",
      "167/167 [==============================] - 1s 9ms/step - loss: 0.2012 - accuracy: 0.9296 - val_loss: 0.1468 - val_accuracy: 0.9701\n",
      "Epoch 25/80\n",
      "167/167 [==============================] - 2s 10ms/step - loss: 0.1586 - accuracy: 0.9536 - val_loss: 0.0778 - val_accuracy: 0.9552\n",
      "Epoch 26/80\n",
      "167/167 [==============================] - 2s 10ms/step - loss: 0.1323 - accuracy: 0.9566 - val_loss: 0.2146 - val_accuracy: 0.9403\n",
      "Epoch 27/80\n",
      "167/167 [==============================] - 2s 9ms/step - loss: 0.1595 - accuracy: 0.9521 - val_loss: 0.1617 - val_accuracy: 0.9552\n",
      "Epoch 28/80\n",
      "167/167 [==============================] - 2s 9ms/step - loss: 0.1067 - accuracy: 0.9581 - val_loss: 0.0347 - val_accuracy: 0.9851\n",
      "Epoch 29/80\n",
      "167/167 [==============================] - 1s 9ms/step - loss: 0.1056 - accuracy: 0.9686 - val_loss: 0.0897 - val_accuracy: 0.9701\n",
      "Epoch 30/80\n",
      "167/167 [==============================] - 1s 9ms/step - loss: 0.1486 - accuracy: 0.9641 - val_loss: 0.0742 - val_accuracy: 0.9552\n",
      "Epoch 31/80\n",
      "167/167 [==============================] - 1s 9ms/step - loss: 0.1489 - accuracy: 0.9656 - val_loss: 0.1252 - val_accuracy: 0.9552\n",
      "Epoch 32/80\n",
      "167/167 [==============================] - 2s 9ms/step - loss: 0.1373 - accuracy: 0.9641 - val_loss: 0.1550 - val_accuracy: 0.9552\n",
      "Epoch 33/80\n",
      "167/167 [==============================] - 2s 9ms/step - loss: 0.1220 - accuracy: 0.9686 - val_loss: 0.1078 - val_accuracy: 0.9552\n",
      "Epoch 34/80\n",
      "167/167 [==============================] - 2s 9ms/step - loss: 0.1181 - accuracy: 0.9701 - val_loss: 0.1034 - val_accuracy: 0.9701\n",
      "Epoch 35/80\n",
      "167/167 [==============================] - 2s 10ms/step - loss: 0.1695 - accuracy: 0.9551 - val_loss: 0.0153 - val_accuracy: 1.0000\n",
      "Epoch 36/80\n",
      "167/167 [==============================] - 2s 10ms/step - loss: 0.1020 - accuracy: 0.9686 - val_loss: 0.1017 - val_accuracy: 0.9552\n",
      "Epoch 37/80\n",
      "167/167 [==============================] - 2s 9ms/step - loss: 0.1367 - accuracy: 0.9461 - val_loss: 0.3284 - val_accuracy: 0.9403\n",
      "Epoch 38/80\n",
      "167/167 [==============================] - 2s 9ms/step - loss: 0.1299 - accuracy: 0.9596 - val_loss: 0.0586 - val_accuracy: 0.9701\n",
      "Epoch 39/80\n",
      "167/167 [==============================] - 2s 10ms/step - loss: 0.1003 - accuracy: 0.9596 - val_loss: 0.0751 - val_accuracy: 0.9851\n",
      "Epoch 40/80\n",
      "167/167 [==============================] - 2s 10ms/step - loss: 0.1481 - accuracy: 0.9506 - val_loss: 0.0395 - val_accuracy: 0.9851\n",
      "Epoch 41/80\n",
      "167/167 [==============================] - 2s 10ms/step - loss: 0.1299 - accuracy: 0.9656 - val_loss: 0.1464 - val_accuracy: 0.9552\n",
      "Epoch 42/80\n",
      "167/167 [==============================] - 2s 10ms/step - loss: 0.1216 - accuracy: 0.9701 - val_loss: 0.0097 - val_accuracy: 1.0000\n",
      "Epoch 43/80\n",
      "167/167 [==============================] - 2s 12ms/step - loss: 0.1685 - accuracy: 0.9506 - val_loss: 0.2112 - val_accuracy: 0.9254\n",
      "Epoch 44/80\n",
      "167/167 [==============================] - 2s 11ms/step - loss: 0.1540 - accuracy: 0.9626 - val_loss: 0.0510 - val_accuracy: 0.9851\n",
      "Epoch 45/80\n",
      "167/167 [==============================] - 2s 11ms/step - loss: 0.1007 - accuracy: 0.9641 - val_loss: 0.0926 - val_accuracy: 0.9552\n",
      "Epoch 46/80\n",
      "167/167 [==============================] - 2s 10ms/step - loss: 0.0839 - accuracy: 0.9701 - val_loss: 0.0190 - val_accuracy: 0.9851\n",
      "Epoch 47/80\n",
      "167/167 [==============================] - 2s 9ms/step - loss: 0.1134 - accuracy: 0.9596 - val_loss: 0.1316 - val_accuracy: 0.9851\n",
      "Epoch 48/80\n",
      "167/167 [==============================] - 2s 9ms/step - loss: 0.1336 - accuracy: 0.9581 - val_loss: 0.0046 - val_accuracy: 1.0000\n",
      "Epoch 49/80\n",
      "167/167 [==============================] - 2s 9ms/step - loss: 0.0663 - accuracy: 0.9746 - val_loss: 0.3075 - val_accuracy: 0.9552\n",
      "Epoch 50/80\n",
      "167/167 [==============================] - 2s 9ms/step - loss: 0.1034 - accuracy: 0.9731 - val_loss: 0.0100 - val_accuracy: 1.0000\n",
      "Epoch 51/80\n",
      "167/167 [==============================] - 2s 9ms/step - loss: 0.0868 - accuracy: 0.9716 - val_loss: 0.0714 - val_accuracy: 0.9851\n",
      "Epoch 52/80\n",
      "167/167 [==============================] - 1s 9ms/step - loss: 0.1250 - accuracy: 0.9686 - val_loss: 0.0247 - val_accuracy: 0.9851\n",
      "Epoch 53/80\n",
      "167/167 [==============================] - 1s 9ms/step - loss: 0.0963 - accuracy: 0.9701 - val_loss: 0.0213 - val_accuracy: 0.9851\n",
      "Epoch 54/80\n",
      "167/167 [==============================] - 2s 9ms/step - loss: 0.1055 - accuracy: 0.9641 - val_loss: 0.2300 - val_accuracy: 0.9552\n",
      "Epoch 55/80\n",
      "167/167 [==============================] - 2s 10ms/step - loss: 0.1175 - accuracy: 0.9686 - val_loss: 0.1103 - val_accuracy: 0.9851\n",
      "Epoch 56/80\n"
     ]
    },
    {
     "name": "stdout",
     "output_type": "stream",
     "text": [
      "167/167 [==============================] - 1s 9ms/step - loss: 0.0925 - accuracy: 0.9671 - val_loss: 0.0133 - val_accuracy: 1.0000\n",
      "Epoch 57/80\n",
      "167/167 [==============================] - 1s 9ms/step - loss: 0.0657 - accuracy: 0.9731 - val_loss: 0.0443 - val_accuracy: 0.9851\n",
      "Epoch 58/80\n",
      "167/167 [==============================] - 1s 9ms/step - loss: 0.0808 - accuracy: 0.9775 - val_loss: 0.1011 - val_accuracy: 0.9851\n",
      "Epoch 59/80\n",
      "167/167 [==============================] - 1s 9ms/step - loss: 0.1312 - accuracy: 0.9701 - val_loss: 0.0666 - val_accuracy: 0.9851\n",
      "Epoch 60/80\n",
      "167/167 [==============================] - 2s 9ms/step - loss: 0.0565 - accuracy: 0.9865 - val_loss: 0.0745 - val_accuracy: 0.9552\n",
      "Epoch 61/80\n",
      "167/167 [==============================] - 2s 9ms/step - loss: 0.0956 - accuracy: 0.9760 - val_loss: 0.0050 - val_accuracy: 1.0000\n",
      "Epoch 62/80\n",
      "167/167 [==============================] - 1s 9ms/step - loss: 0.1064 - accuracy: 0.9716 - val_loss: 0.0025 - val_accuracy: 1.0000\n",
      "Epoch 63/80\n",
      "167/167 [==============================] - 1s 9ms/step - loss: 0.0700 - accuracy: 0.9775 - val_loss: 0.0305 - val_accuracy: 0.9851\n",
      "Epoch 64/80\n",
      "167/167 [==============================] - 1s 9ms/step - loss: 0.0561 - accuracy: 0.9805 - val_loss: 0.0469 - val_accuracy: 0.9701\n",
      "Epoch 65/80\n",
      "167/167 [==============================] - 2s 10ms/step - loss: 0.0833 - accuracy: 0.9716 - val_loss: 0.1571 - val_accuracy: 0.9851\n",
      "Epoch 66/80\n",
      "167/167 [==============================] - 2s 9ms/step - loss: 0.0689 - accuracy: 0.9790 - val_loss: 0.0125 - val_accuracy: 1.0000\n",
      "Epoch 67/80\n",
      "167/167 [==============================] - 1s 9ms/step - loss: 0.0965 - accuracy: 0.9790 - val_loss: 0.0745 - val_accuracy: 0.9851\n",
      "Epoch 68/80\n",
      "167/167 [==============================] - 1s 9ms/step - loss: 0.0720 - accuracy: 0.9760 - val_loss: 0.0177 - val_accuracy: 1.0000\n",
      "Epoch 69/80\n",
      "167/167 [==============================] - 1s 9ms/step - loss: 0.1058 - accuracy: 0.9686 - val_loss: 0.0068 - val_accuracy: 1.0000\n",
      "Epoch 70/80\n",
      "167/167 [==============================] - 1s 9ms/step - loss: 0.0619 - accuracy: 0.9805 - val_loss: 0.0081 - val_accuracy: 1.0000\n",
      "Epoch 71/80\n",
      "167/167 [==============================] - 1s 9ms/step - loss: 0.0857 - accuracy: 0.9760 - val_loss: 0.0658 - val_accuracy: 0.9851\n",
      "Epoch 72/80\n",
      "167/167 [==============================] - 1s 9ms/step - loss: 0.1023 - accuracy: 0.9731 - val_loss: 0.0072 - val_accuracy: 1.0000\n",
      "Epoch 73/80\n",
      "167/167 [==============================] - 1s 9ms/step - loss: 0.0750 - accuracy: 0.9790 - val_loss: 0.1033 - val_accuracy: 0.9851\n",
      "Epoch 74/80\n",
      "167/167 [==============================] - 2s 10ms/step - loss: 0.0781 - accuracy: 0.9760 - val_loss: 0.0593 - val_accuracy: 0.9701\n",
      "Epoch 75/80\n",
      "167/167 [==============================] - 2s 10ms/step - loss: 0.1015 - accuracy: 0.9701 - val_loss: 0.0286 - val_accuracy: 0.9851\n",
      "Epoch 76/80\n",
      "167/167 [==============================] - 2s 10ms/step - loss: 0.0715 - accuracy: 0.9775 - val_loss: 0.0339 - val_accuracy: 0.9851\n",
      "Epoch 77/80\n",
      "167/167 [==============================] - 1s 9ms/step - loss: 0.1244 - accuracy: 0.9731 - val_loss: 0.0061 - val_accuracy: 1.0000\n",
      "Epoch 78/80\n",
      "167/167 [==============================] - 1s 9ms/step - loss: 0.0778 - accuracy: 0.9820 - val_loss: 0.0181 - val_accuracy: 1.0000\n",
      "Epoch 79/80\n",
      "167/167 [==============================] - 1s 9ms/step - loss: 0.0924 - accuracy: 0.9790 - val_loss: 0.0146 - val_accuracy: 1.0000\n",
      "Epoch 80/80\n",
      "167/167 [==============================] - 1s 9ms/step - loss: 0.0750 - accuracy: 0.9775 - val_loss: 0.0104 - val_accuracy: 1.0000\n"
     ]
    }
   ],
   "source": [
    "Batch_Size = 4\n",
    "Epoch_Anz = 80\n",
    "Shift_Range = 1\n",
    "Brightness_Range = 0.3\n",
    "Rotation_Angle = 10\n",
    "ZoomRange = 0.4\n",
    "\n",
    "datagen = ImageDataGenerator(width_shift_range=[-Shift_Range,Shift_Range], \n",
    "                             height_shift_range=[-Shift_Range,Shift_Range],\n",
    "                             brightness_range=[1-Brightness_Range,1+Brightness_Range],\n",
    "                             zoom_range=[1-ZoomRange, 1+ZoomRange],\n",
    "                             rotation_range=Rotation_Angle,\n",
    "                             validation_split=0.2)\n",
    "\n",
    "train_iterator = datagen.flow(x_data, y_data, batch_size=Batch_Size)\n",
    "validation_iterator = datagen.flow(X_test, y_test, batch_size=Batch_Size)\n",
    "\n",
    "history = model.fit_generator(train_iterator, validation_data = validation_iterator, epochs = Epoch_Anz)\n",
    "#history = model.fit_generator(train_iterator, epochs = Epoch_Anz)\n",
    "\n"
   ]
  },
  {
   "cell_type": "markdown",
   "metadata": {},
   "source": [
    "### Learing result\n",
    " \n",
    "* Visualization of the training and validation results"
   ]
  },
  {
   "cell_type": "code",
   "execution_count": 5,
   "metadata": {},
   "outputs": [
    {
     "data": {
      "image/png": "[encoded data removed]",
      "text/plain": [
       "<Figure size 432x288 with 1 Axes>"
      ]
     },
     "metadata": {
      "needs_background": "light"
     },
     "output_type": "display_data"
    }
   ],
   "source": [
    "loss_ges = np.append(loss_ges, history.history['loss'])\n",
    "val_loss_ges = np.append(val_loss_ges, history.history['val_loss'])\n",
    "\n",
    "plt.semilogy(history.history['loss'])\n",
    "plt.semilogy(history.history['val_loss'])\n",
    "plt.title('model loss')\n",
    "plt.ylabel('loss')\n",
    "plt.xlabel('epoch')\n",
    "plt.legend(['train','eval'], loc='upper left')\n",
    "plt.show()"
   ]
  },
  {
   "cell_type": "markdown",
   "metadata": {},
   "source": [
    "### Check the model by hand\n",
    "\n",
    "* The following code uses the trained model to check the deviation for each picture.\n",
    "* x-axis walks through each pixel, y-axis shows the result"
   ]
  },
  {
   "cell_type": "code",
   "execution_count": 6,
   "metadata": {},
   "outputs": [
    {
     "name": "stdout",
     "output_type": "stream",
     "text": [
      "WARNING:tensorflow:From <ipython-input-6-8aba67fc08aa>:15: Sequential.predict_classes (from tensorflow.python.keras.engine.sequential) is deprecated and will be removed after 2021-01-01.\n",
      "Instructions for updating:\n",
      "Please use instead:* `np.argmax(model.predict(x), axis=-1)`,   if your model does multi-class classification   (e.g. if it uses a `softmax` last-layer activation).* `(model.predict(x) > 0.5).astype(\"int32\")`,   if your model does binary classification   (e.g. if it uses a `sigmoid` last-layer activation).\n"
     ]
    },
    {
     "data": {
      "image/png": "[encoded data removed]",
      "text/plain": [
       "<Figure size 432x288 with 1 Axes>"
      ]
     },
     "metadata": {
      "needs_background": "light"
     },
     "output_type": "display_data"
    }
   ],
   "source": [
    "Input_dir='ziffer_sortiert_resize'\n",
    "subdir = [\"NaN\", \"0\", \"1\", \"2\", \"3\", \"4\", \"5\", \"6\", \"7\", \"8\", \"9\"]\n",
    "res = []\n",
    "\n",
    "for aktsubdir in subdir:\n",
    "    files = glob.glob(Input_dir + '/' + aktsubdir + '\\*.jpg')\n",
    "    if aktsubdir == \"NaN\":\n",
    "        zw1 = -1\n",
    "    else:\n",
    "        zw1 = int(aktsubdir)\n",
    "    for aktfile in files:\n",
    "        test_image = Image.open(aktfile)\n",
    "        test_image = np.array(test_image, dtype=\"float32\")\n",
    "        img = np.reshape(test_image,[1,32,20,3])\n",
    "        classes = model.predict_classes(img)\n",
    "        classes = classes[0]\n",
    "        if classes == 10: \n",
    "            classes = -1\n",
    "        zw2 = classes\n",
    "        zw3 = zw2 - zw1\n",
    "        res.append(np.array([zw1, zw2, zw3]))\n",
    "\n",
    "res = np.asarray(res)\n",
    "\n",
    "\n",
    "plt.plot(res[:,0])\n",
    "plt.plot(res[:,1])\n",
    "plt.title('Result')\n",
    "plt.ylabel('Digital Value')\n",
    "plt.xlabel('#Picture')\n",
    "plt.legend(['real','model'], loc='upper left')\n",
    "plt.show()"
   ]
  },
  {
   "cell_type": "markdown",
   "metadata": {},
   "source": [
    "### Save the model\n",
    "\n",
    "* Save the model to the file with the \"h5\" file format"
   ]
  },
  {
   "cell_type": "code",
   "execution_count": 7,
   "metadata": {},
   "outputs": [
    {
     "data": {
      "text/plain": [
       "1302556"
      ]
     },
     "execution_count": 7,
     "metadata": {},
     "output_type": "execute_result"
    }
   ],
   "source": [
    "# model.save(\"Train_CNN_Digital-Readout_Version_6.1.2.h5\")\n",
    "\n",
    "converter = tf.lite.TFLiteConverter.from_keras_model(model)\n",
    "tflite_model = converter.convert()\n",
    "open(\"Train_CNN_Digital-Readout_Version_6.2.0.tflite\", \"wb\").write(tflite_model)\n",
    "\n",
    "# converter = tf.lite.TFLiteConverter.from_keras_model(model)\n",
    "# converter.optimizations = [tf.lite.Optimize.OPTIMIZE_FOR_SIZE]\n",
    "# tflite_model = converter.convert()\n",
    "# open(\"Train_CNN_Digital-Readout_Version_quantized_6.1.1.tflite\", \"wb\").write(tflite_model)"
   ]
  },
  {
   "cell_type": "markdown",
   "metadata": {},
   "source": [
    "### Check each image for expected and deviation\n",
    "* setting the switch \"only_deviation = true\" will only print the images for which the classification and the CNN-result deviates\n",
    "\n",
    "The output contains the following information:\n",
    "\n",
    "| Filename      | Expected Category           | Predicted Category        |\n",
    "|------------- |:-----------------------------:|--------------|\n",
    "| ziffer_sortiert_resize_NaN/5\\Ziffer_4_0034.jpg | 4  | -1 |\n"
   ]
  },
  {
   "cell_type": "code",
   "execution_count": 8,
   "metadata": {
    "scrolled": true
   },
   "outputs": [
    {
     "name": "stdout",
     "output_type": "stream",
     "text": [
      "ziffer_sortiert_resize/0\\digit1_310410.jpg 0 NaN\n",
      "ziffer_sortiert_resize/0\\digit2_401908.jpg 0 NaN\n",
      "ziffer_sortiert_resize/NaN\\ziffer5_2020-04-14_15-30-06.jpg NaN 4\n",
      "ziffer_sortiert_resize/NaN\\ziffer5_2020-04-16_11-40-06.jpg NaN 5\n",
      "ziffer_sortiert_resize/NaN\\Ziffer_NaN_0351.jpg NaN 8\n",
      "ziffer_sortiert_resize/NaN\\Ziffer_NaN_0642.jpg NaN 6\n"
     ]
    }
   ],
   "source": [
    "Input_dir='ziffer_sortiert_resize'\n",
    "only_deviation = True\n",
    "\n",
    "subdir = [\"0\", \"1\", \"2\", \"3\", \"4\", \"5\", \"6\", \"7\", \"8\", \"9\", \"NaN\"]\n",
    "\n",
    "for aktsubdir in subdir:\n",
    "    files = glob.glob(Input_dir + '/' + aktsubdir + '\\*.jpg')\n",
    "    expected_class = aktsubdir\n",
    "    for aktfile in files:\n",
    "        test_image = Image.open(aktfile)\n",
    "        test_image = np.array(test_image, dtype=\"float32\")\n",
    "        img = np.reshape(test_image,[1,32,20,3])\n",
    "        classes = model.predict_classes(img)\n",
    "        classes = classes[0]\n",
    "        if classes == 10: \n",
    "            classes = \"NaN\"\n",
    "        if only_deviation == True:\n",
    "            if str(classes) != str(expected_class):\n",
    "                print(aktfile + \" \" + aktsubdir +  \" \" + str(classes))\n",
    "        else:\n",
    "            print(aktfile + \" \" + aktsubdir +  \" \" + str(classes))\n"
   ]
  },
  {
   "cell_type": "markdown",
   "metadata": {},
   "source": [
    "Checking the images shows, that this are border line images, which can be interpreted as a good digit or a faulty one."
   ]
  },
  {
   "cell_type": "code",
   "execution_count": null,
   "metadata": {},
   "outputs": [],
   "source": []
  }
 ],
 "metadata": {
  "kernelspec": {
   "display_name": "Python 3",
   "language": "python",
   "name": "python3"
  },
  "language_info": {
   "codemirror_mode": {
    "name": "ipython",
    "version": 3
   },
   "file_extension": ".py",
   "mimetype": "text/x-python",
   "name": "python",
   "nbconvert_exporter": "python",
   "pygments_lexer": "ipython3",
   "version": "3.7.7"
  }
 },
 "nbformat": 4,
 "nbformat_minor": 2
}
