{
 "cells": [
  {
   "cell_type": "markdown",
   "metadata": {},
   "source": [
    "# CNN Training\n",
    "\n",
    "Target of this code is to train a CNN network to classify images of a digital readout to the digits 0 to 9. Additionally a category \"NaN\" is introduced, to mark images that are not amibiguous.\n",
    "\n",
    "### Preparing the training\n",
    "* First all libraries are loaded\n",
    "    * It is assumed, that they are installed during the Python setup\n",
    "* matplotlib is set to print the output inline in the jupyter notebook"
   ]
  },
  {
   "cell_type": "code",
   "execution_count": 1,
   "metadata": {
    "scrolled": true
   },
   "outputs": [
    {
     "name": "stderr",
     "output_type": "stream",
     "text": [
      "Using TensorFlow backend.\n"
     ]
    }
   ],
   "source": [
    "import os\n",
    "import matplotlib.pyplot as plt\n",
    "import glob\n",
    "import cv2\n",
    "from PIL import Image\n",
    "import numpy as np\n",
    "from sklearn.utils import shuffle\n",
    "from tensorflow.python import keras\n",
    "from tensorflow.python.keras import Sequential\n",
    "from tensorflow.python.keras.layers import Dense, InputLayer, Conv2D, MaxPool2D, Flatten, BatchNormalization\n",
    "from keras.preprocessing.image import ImageDataGenerator\n",
    "from sklearn.model_selection import train_test_split\n",
    "import keras.backend as K\n",
    "from keras.callbacks import History \n",
    "from tensorflow.python.keras.utils import to_categorical\n",
    "\n",
    "loss_ges = np.array([])\n",
    "val_loss_ges = np.array([])\n",
    "\n",
    "%matplotlib inline\n",
    "np.set_printoptions(precision=4)\n",
    "np.set_printoptions(suppress=True)"
   ]
  },
  {
   "cell_type": "markdown",
   "metadata": {},
   "source": [
    "### Load training data\n",
    "* The data is expected in the \"Input_dir\"\n",
    "* Inside subdirectories are expected from -1, 0, 1, ... 9 in which the pictures are sorted according to their values (=category)\n",
    "* Picture size must be 20x32 with 3 color channels (RGB)\n",
    "* The filename can be arbitrary\n",
    "\n",
    "* The images are stored in the x_data[]\n",
    "* The expected category for each image in the corresponding y_data[]\n",
    "\n",
    "* The last step is a shuffle (from sklearn.utils) and split the data into training and validation data"
   ]
  },
  {
   "cell_type": "code",
   "execution_count": 2,
   "metadata": {},
   "outputs": [
    {
     "name": "stdout",
     "output_type": "stream",
     "text": [
      "(5237, 32, 20, 3)\n",
      "(5237, 11)\n"
     ]
    }
   ],
   "source": [
    "Input_dir='ziffer_sortiert_resize'\n",
    "\n",
    "files = glob.glob(Input_dir + '/*.*')\n",
    "x_data = []\n",
    "y_data = []\n",
    "\n",
    "subdir = [\"0\", \"1\", \"2\", \"3\", \"4\", \"5\", \"6\", \"7\", \"8\", \"9\", \"NaN\"]\n",
    "\n",
    "for aktsubdir in subdir:\n",
    "    files = glob.glob(Input_dir + '/' + aktsubdir + '/*.jpg')\n",
    "    if aktsubdir == \"NaN\":\n",
    "        category = 10                # NaN does not work --> convert to 10\n",
    "    else:\n",
    "        category = aktsubdir\n",
    "    for aktfile in files:\n",
    "        test_image = Image.open(aktfile)\n",
    "        test_image = np.array(test_image, dtype=\"float32\")\n",
    "        x_data.append(test_image)\n",
    "        y_data.append(np.array([category]))\n",
    "\n",
    "x_data = np.array(x_data)\n",
    "y_data = np.array(y_data)\n",
    "y_data = to_categorical(y_data, 11)\n",
    "print(x_data.shape)\n",
    "print(y_data.shape)\n",
    "\n",
    "x_data, y_data = shuffle(x_data, y_data)\n",
    "X_train, X_test, y_train, y_test = train_test_split(x_data, y_data, test_size=0.2)"
   ]
  },
  {
   "cell_type": "markdown",
   "metadata": {},
   "source": [
    "### Define the model\n",
    "\n",
    "The layout of the network ist a typcial CNN network with alternating **Conv2D** and **MaxPool2D** layers. Finished after **flattening** with additional **Dense** layer.\n",
    "\n",
    "#### Important\n",
    "* Shape of the input layer: (32, 20, 3)\n",
    "* Number of output layers: 11\n",
    "* As loss function \"categorical_crossentropy\" is choosen, as it is a categories task"
   ]
  },
  {
   "cell_type": "code",
   "execution_count": 3,
   "metadata": {
    "scrolled": true
   },
   "outputs": [
    {
     "name": "stdout",
     "output_type": "stream",
     "text": [
      "WARNING:tensorflow:From C:\\Users\\Muell\\AppData\\Roaming\\Python\\Python37\\site-packages\\tensorflow\\python\\ops\\resource_variable_ops.py:435: colocate_with (from tensorflow.python.framework.ops) is deprecated and will be removed in a future version.\n",
      "Instructions for updating:\n",
      "Colocations handled automatically by placer.\n",
      "_________________________________________________________________\n",
      "Layer (type)                 Output Shape              Param #   \n",
      "=================================================================\n",
      "batch_normalization_v1 (Batc (None, 32, 20, 3)         12        \n",
      "_________________________________________________________________\n",
      "conv2d (Conv2D)              (None, 32, 20, 32)        896       \n",
      "_________________________________________________________________\n",
      "max_pooling2d (MaxPooling2D) (None, 16, 10, 32)        0         \n",
      "_________________________________________________________________\n",
      "conv2d_1 (Conv2D)            (None, 16, 10, 64)        18496     \n",
      "_________________________________________________________________\n",
      "max_pooling2d_1 (MaxPooling2 (None, 8, 5, 64)          0         \n",
      "_________________________________________________________________\n",
      "conv2d_2 (Conv2D)            (None, 8, 5, 64)          36928     \n",
      "_________________________________________________________________\n",
      "max_pooling2d_2 (MaxPooling2 (None, 4, 2, 64)          0         \n",
      "_________________________________________________________________\n",
      "flatten (Flatten)            (None, 512)               0         \n",
      "_________________________________________________________________\n",
      "dense (Dense)                (None, 512)               262656    \n",
      "_________________________________________________________________\n",
      "dense_1 (Dense)              (None, 11)                5643      \n",
      "=================================================================\n",
      "Total params: 324,631\n",
      "Trainable params: 324,625\n",
      "Non-trainable params: 6\n",
      "_________________________________________________________________\n"
     ]
    }
   ],
   "source": [
    "model = Sequential()\n",
    "model.add(BatchNormalization(input_shape=(32,20,3)))\n",
    "model.add(Conv2D(32, (3, 3), padding='same', activation=\"relu\"))\n",
    "model.add(MaxPool2D(pool_size=(2,2)))\n",
    "model.add(Conv2D(64, (3, 3), padding='same'))\n",
    "model.add(MaxPool2D(pool_size=(2,2)))\n",
    "model.add(Conv2D(64, (3, 3), padding='same'))\n",
    "model.add(MaxPool2D(pool_size=(2,2)))\n",
    "model.add(Flatten())\n",
    "model.add(Dense(512,activation=\"relu\"))\n",
    "model.add(Dense(11, activation = \"softmax\"))\n",
    "model.summary()\n",
    "\n",
    "model.compile(loss=keras.losses.categorical_crossentropy, optimizer=keras.optimizers.Adadelta(), metrics = [\"accuracy\"])"
   ]
  },
  {
   "cell_type": "markdown",
   "metadata": {},
   "source": [
    "# Training\n",
    "The input pictures are randomly scattered for brightness, pixel shift variations and rotation angle. This is implemented with a ImageDataGenerator.\n"
   ]
  },
  {
   "cell_type": "code",
   "execution_count": 4,
   "metadata": {
    "scrolled": true
   },
   "outputs": [
    {
     "name": "stdout",
     "output_type": "stream",
     "text": [
      "WARNING:tensorflow:From C:\\Users\\Muell\\AppData\\Roaming\\Python\\Python37\\site-packages\\tensorflow\\python\\ops\\math_ops.py:3066: to_int32 (from tensorflow.python.ops.math_ops) is deprecated and will be removed in a future version.\n",
      "Instructions for updating:\n",
      "Use tf.cast instead.\n",
      "Epoch 1/50\n",
      "262/262 [==============================] - 1s 6ms/step - loss: 0.0257 - acc: 0.9895\n",
      "1048/1048 [==============================] - 16s 16ms/step - loss: 0.2008 - acc: 0.9408 - val_loss: 0.0257 - val_acc: 0.9895\n",
      "Epoch 2/50\n",
      "262/262 [==============================] - 1s 5ms/step - loss: 0.0814 - acc: 0.9790\n",
      "1048/1048 [==============================] - 17s 16ms/step - loss: 0.0584 - acc: 0.9859 - val_loss: 0.0814 - val_acc: 0.9790\n",
      "Epoch 3/50\n",
      "262/262 [==============================] - 1s 5ms/step - loss: 0.0343 - acc: 0.9914\n",
      "1048/1048 [==============================] - 17s 16ms/step - loss: 0.0429 - acc: 0.9907 - val_loss: 0.0343 - val_acc: 0.9914\n",
      "Epoch 4/50\n",
      "262/262 [==============================] - 1s 5ms/step - loss: 0.0321 - acc: 0.9933\n",
      "1048/1048 [==============================] - 17s 16ms/step - loss: 0.0304 - acc: 0.9945 - val_loss: 0.0321 - val_acc: 0.9933\n",
      "Epoch 5/50\n",
      "262/262 [==============================] - 1s 5ms/step - loss: 0.0147 - acc: 0.9971\n",
      "1048/1048 [==============================] - 17s 16ms/step - loss: 0.0285 - acc: 0.9945 - val_loss: 0.0147 - val_acc: 0.9971\n",
      "Epoch 6/50\n",
      "262/262 [==============================] - 2s 7ms/step - loss: 0.0506 - acc: 0.9924\n",
      "1048/1048 [==============================] - 18s 17ms/step - loss: 0.0257 - acc: 0.9943 - val_loss: 0.0506 - val_acc: 0.9924\n",
      "Epoch 7/50\n",
      "262/262 [==============================] - 1s 6ms/step - loss: 0.0124 - acc: 0.9962\n",
      "1048/1048 [==============================] - 16s 16ms/step - loss: 0.0301 - acc: 0.9947 - val_loss: 0.0124 - val_acc: 0.9962\n",
      "Epoch 8/50\n",
      "262/262 [==============================] - 1s 5ms/step - loss: 0.0075 - acc: 0.9990\n",
      "1048/1048 [==============================] - 16s 15ms/step - loss: 0.0173 - acc: 0.9962 - val_loss: 0.0075 - val_acc: 0.9990\n",
      "Epoch 9/50\n",
      "262/262 [==============================] - 2s 6ms/step - loss: 0.0176 - acc: 0.9952\n",
      "1048/1048 [==============================] - 18s 17ms/step - loss: 0.0165 - acc: 0.9959 - val_loss: 0.0176 - val_acc: 0.9952\n",
      "Epoch 10/50\n",
      "262/262 [==============================] - 1s 6ms/step - loss: 0.0162 - acc: 0.9971\n",
      "1048/1048 [==============================] - 18s 17ms/step - loss: 0.0186 - acc: 0.9964 - val_loss: 0.0162 - val_acc: 0.9971\n",
      "Epoch 11/50\n",
      "262/262 [==============================] - 1s 5ms/step - loss: 0.0153 - acc: 0.9971\n",
      "1048/1048 [==============================] - 16s 16ms/step - loss: 0.0188 - acc: 0.9952 - val_loss: 0.0153 - val_acc: 0.9971\n",
      "Epoch 12/50\n",
      "262/262 [==============================] - 1s 5ms/step - loss: 0.0431 - acc: 0.9905\n",
      "1048/1048 [==============================] - 16s 15ms/step - loss: 0.0169 - acc: 0.9959 - val_loss: 0.0431 - val_acc: 0.9905\n",
      "Epoch 13/50\n",
      "262/262 [==============================] - 1s 5ms/step - loss: 0.0193 - acc: 0.9971\n",
      "1048/1048 [==============================] - 17s 16ms/step - loss: 0.0170 - acc: 0.9969 - val_loss: 0.0193 - val_acc: 0.9971\n",
      "Epoch 14/50\n",
      "262/262 [==============================] - 1s 5ms/step - loss: 0.0104 - acc: 0.9981\n",
      "1048/1048 [==============================] - 16s 16ms/step - loss: 0.0184 - acc: 0.9964 - val_loss: 0.0104 - val_acc: 0.9981\n",
      "Epoch 15/50\n",
      "262/262 [==============================] - 2s 6ms/step - loss: 0.0164 - acc: 0.9981\n",
      "1048/1048 [==============================] - 18s 17ms/step - loss: 0.0116 - acc: 0.9983 - val_loss: 0.0164 - val_acc: 0.9981\n",
      "Epoch 16/50\n",
      "262/262 [==============================] - 1s 5ms/step - loss: 0.0202 - acc: 0.9981\n",
      "1048/1048 [==============================] - 19s 19ms/step - loss: 0.0168 - acc: 0.9969 - val_loss: 0.0202 - val_acc: 0.9981\n",
      "Epoch 17/50\n",
      "262/262 [==============================] - 1s 5ms/step - loss: 0.0090 - acc: 0.9990\n",
      "1048/1048 [==============================] - 16s 16ms/step - loss: 0.0121 - acc: 0.9981 - val_loss: 0.0090 - val_acc: 0.9990\n",
      "Epoch 18/50\n",
      "262/262 [==============================] - 1s 4ms/step - loss: 0.0058 - acc: 0.9990\n",
      "1048/1048 [==============================] - 17s 16ms/step - loss: 0.0153 - acc: 0.9974 - val_loss: 0.0058 - val_acc: 0.9990\n",
      "Epoch 19/50\n",
      "262/262 [==============================] - 1s 5ms/step - loss: 0.0271 - acc: 0.9952\n",
      "1048/1048 [==============================] - 16s 15ms/step - loss: 0.0169 - acc: 0.9971 - val_loss: 0.0271 - val_acc: 0.9952\n",
      "Epoch 20/50\n",
      "262/262 [==============================] - 1s 4ms/step - loss: 0.0156 - acc: 0.9981\n",
      "1048/1048 [==============================] - 16s 15ms/step - loss: 0.0166 - acc: 0.9976 - val_loss: 0.0156 - val_acc: 0.9981\n",
      "Epoch 21/50\n",
      "262/262 [==============================] - 1s 6ms/step - loss: 0.0285 - acc: 0.9952\n",
      "1048/1048 [==============================] - 17s 16ms/step - loss: 0.0215 - acc: 0.9962 - val_loss: 0.0285 - val_acc: 0.9952\n",
      "Epoch 22/50\n",
      "262/262 [==============================] - 1s 4ms/step - loss: 0.0124 - acc: 0.9990\n",
      "1048/1048 [==============================] - 17s 16ms/step - loss: 0.0091 - acc: 0.9979 - val_loss: 0.0124 - val_acc: 0.9990\n",
      "Epoch 23/50\n",
      "262/262 [==============================] - 2s 7ms/step - loss: 0.0143 - acc: 0.9990\n",
      "1048/1048 [==============================] - 18s 17ms/step - loss: 0.0066 - acc: 0.9983 - val_loss: 0.0143 - val_acc: 0.9990\n",
      "Epoch 24/50\n",
      "262/262 [==============================] - 1s 5ms/step - loss: 0.0194 - acc: 0.9971\n",
      "1048/1048 [==============================] - 18s 18ms/step - loss: 0.0126 - acc: 0.9974 - val_loss: 0.0194 - val_acc: 0.9971\n",
      "Epoch 25/50\n",
      "262/262 [==============================] - 1s 4ms/step - loss: 0.0157 - acc: 0.9990\n",
      "1048/1048 [==============================] - 16s 15ms/step - loss: 0.0097 - acc: 0.9981 - val_loss: 0.0157 - val_acc: 0.9990\n",
      "Epoch 26/50\n",
      "262/262 [==============================] - 1s 5ms/step - loss: 0.0079 - acc: 0.9981\n",
      "1048/1048 [==============================] - 16s 15ms/step - loss: 0.0129 - acc: 0.9983 - val_loss: 0.0079 - val_acc: 0.9981\n",
      "Epoch 27/50\n",
      "262/262 [==============================] - 1s 5ms/step - loss: 0.0456 - acc: 0.9943\n",
      "1048/1048 [==============================] - 16s 16ms/step - loss: 0.0091 - acc: 0.9981 - val_loss: 0.0456 - val_acc: 0.9943\n",
      "Epoch 28/50\n",
      "262/262 [==============================] - 1s 5ms/step - loss: 0.0112 - acc: 0.9981\n",
      "1048/1048 [==============================] - 16s 15ms/step - loss: 0.0105 - acc: 0.9979 - val_loss: 0.0112 - val_acc: 0.9981\n",
      "Epoch 29/50\n",
      "262/262 [==============================] - 1s 5ms/step - loss: 0.0095 - acc: 0.9971\n",
      "1048/1048 [==============================] - 16s 15ms/step - loss: 0.0082 - acc: 0.9983 - val_loss: 0.0095 - val_acc: 0.9971\n",
      "Epoch 30/50\n",
      "262/262 [==============================] - 1s 4ms/step - loss: 0.0090 - acc: 0.9981\n",
      "1048/1048 [==============================] - 16s 15ms/step - loss: 0.0125 - acc: 0.9971 - val_loss: 0.0090 - val_acc: 0.9981\n",
      "Epoch 31/50\n",
      "262/262 [==============================] - 1s 5ms/step - loss: 0.0157 - acc: 0.9981\n",
      "1048/1048 [==============================] - 16s 15ms/step - loss: 0.0099 - acc: 0.9983 - val_loss: 0.0157 - val_acc: 0.9981\n",
      "Epoch 32/50\n",
      "262/262 [==============================] - 1s 5ms/step - loss: 0.0058 - acc: 0.9971\n",
      "1048/1048 [==============================] - 16s 15ms/step - loss: 0.0044 - acc: 0.9988 - val_loss: 0.0058 - val_acc: 0.9971\n",
      "Epoch 33/50\n",
      "262/262 [==============================] - 1s 5ms/step - loss: 0.0141 - acc: 0.9990\n",
      "1048/1048 [==============================] - 17s 16ms/step - loss: 0.0105 - acc: 0.9983 - val_loss: 0.0141 - val_acc: 0.9990\n",
      "Epoch 34/50\n",
      "262/262 [==============================] - 1s 4ms/step - loss: 0.0154 - acc: 0.9990\n",
      "1048/1048 [==============================] - 16s 15ms/step - loss: 0.0050 - acc: 0.9993 - val_loss: 0.0154 - val_acc: 0.9990\n",
      "Epoch 35/50\n",
      "262/262 [==============================] - 1s 4ms/step - loss: 0.0165 - acc: 0.9981\n",
      "1048/1048 [==============================] - 16s 16ms/step - loss: 0.0109 - acc: 0.9981 - val_loss: 0.0165 - val_acc: 0.9981\n",
      "Epoch 36/50\n",
      "262/262 [==============================] - 1s 5ms/step - loss: 0.0158 - acc: 0.9981\n",
      "1048/1048 [==============================] - 16s 16ms/step - loss: 0.0107 - acc: 0.9983 - val_loss: 0.0158 - val_acc: 0.9981\n"
     ]
    },
    {
     "name": "stdout",
     "output_type": "stream",
     "text": [
      "Epoch 37/50\n",
      "262/262 [==============================] - 1s 4ms/step - loss: 0.0130 - acc: 0.9971\n",
      "1048/1048 [==============================] - 16s 15ms/step - loss: 0.0095 - acc: 0.9990 - val_loss: 0.0130 - val_acc: 0.9971\n",
      "Epoch 38/50\n",
      "262/262 [==============================] - 1s 5ms/step - loss: 0.0559 - acc: 0.9933\n",
      "1048/1048 [==============================] - 16s 16ms/step - loss: 0.0082 - acc: 0.9988 - val_loss: 0.0559 - val_acc: 0.9933\n",
      "Epoch 39/50\n",
      "262/262 [==============================] - 1s 5ms/step - loss: 0.0224 - acc: 0.9971\n",
      "1048/1048 [==============================] - 17s 16ms/step - loss: 0.0157 - acc: 0.9981 - val_loss: 0.0224 - val_acc: 0.9971\n",
      "Epoch 40/50\n",
      "262/262 [==============================] - 1s 5ms/step - loss: 0.0091 - acc: 0.9990\n",
      "1048/1048 [==============================] - 17s 16ms/step - loss: 0.0213 - acc: 0.9974 - val_loss: 0.0091 - val_acc: 0.9990\n",
      "Epoch 41/50\n",
      "262/262 [==============================] - 1s 5ms/step - loss: 0.0741 - acc: 0.9905\n",
      "1048/1048 [==============================] - 18s 17ms/step - loss: 0.0159 - acc: 0.9981 - val_loss: 0.0741 - val_acc: 0.9905\n",
      "Epoch 42/50\n",
      "262/262 [==============================] - 1s 5ms/step - loss: 0.0236 - acc: 0.9981\n",
      "1048/1048 [==============================] - 18s 17ms/step - loss: 0.0115 - acc: 0.9981 - val_loss: 0.0236 - val_acc: 0.9981\n",
      "Epoch 43/50\n",
      "262/262 [==============================] - 1s 5ms/step - loss: 0.0113 - acc: 0.9990\n",
      "1048/1048 [==============================] - 16s 16ms/step - loss: 0.0131 - acc: 0.9983 - val_loss: 0.0113 - val_acc: 0.9990\n",
      "Epoch 44/50\n",
      "262/262 [==============================] - 1s 5ms/step - loss: 0.0152 - acc: 0.9981\n",
      "1048/1048 [==============================] - 16s 16ms/step - loss: 0.0058 - acc: 0.9990 - val_loss: 0.0152 - val_acc: 0.9981\n",
      "Epoch 45/50\n",
      "262/262 [==============================] - 1s 5ms/step - loss: 0.0140 - acc: 0.9990\n",
      "1048/1048 [==============================] - 17s 16ms/step - loss: 0.0102 - acc: 0.9981 - val_loss: 0.0140 - val_acc: 0.9990\n",
      "Epoch 46/50\n",
      "262/262 [==============================] - 1s 5ms/step - loss: 0.0124 - acc: 0.9981\n",
      "1048/1048 [==============================] - 17s 16ms/step - loss: 0.0094 - acc: 0.9993 - val_loss: 0.0124 - val_acc: 0.9981\n",
      "Epoch 47/50\n",
      "262/262 [==============================] - 1s 5ms/step - loss: 0.0293 - acc: 0.9971\n",
      "1048/1048 [==============================] - 18s 17ms/step - loss: 0.0106 - acc: 0.9988 - val_loss: 0.0293 - val_acc: 0.9971\n",
      "Epoch 48/50\n",
      "262/262 [==============================] - 1s 5ms/step - loss: 0.0104 - acc: 0.9990\n",
      "1048/1048 [==============================] - 17s 17ms/step - loss: 0.0095 - acc: 0.9983 - val_loss: 0.0104 - val_acc: 0.9990\n",
      "Epoch 49/50\n",
      "262/262 [==============================] - 1s 5ms/step - loss: 0.0152 - acc: 0.9990\n",
      "1048/1048 [==============================] - 19s 18ms/step - loss: 0.0064 - acc: 0.9988 - val_loss: 0.0152 - val_acc: 0.9990\n",
      "Epoch 50/50\n",
      "262/262 [==============================] - 1s 5ms/step - loss: 0.0108 - acc: 0.9990\n",
      "1048/1048 [==============================] - 18s 17ms/step - loss: 0.0091 - acc: 0.9990 - val_loss: 0.0108 - val_acc: 0.9990\n"
     ]
    }
   ],
   "source": [
    "Batch_Size = 4\n",
    "Epoch_Anz = 50\n",
    "Shift_Range = 1\n",
    "Brightness_Range = 0.3\n",
    "Rotation_Angle = 10\n",
    "ZoomRange = 0.1\n",
    "\n",
    "datagen = ImageDataGenerator(width_shift_range=[-Shift_Range,Shift_Range], \n",
    "                             height_shift_range=[-Shift_Range,Shift_Range],\n",
    "                             brightness_range=[1-Brightness_Range,1+Brightness_Range],\n",
    "                             zoom_range=[1-ZoomRange, 1+ZoomRange],\n",
    "                             rotation_range=Rotation_Angle,\n",
    "                             validation_split=0.2)\n",
    "\n",
    "train_iterator = datagen.flow(X_train, y_train, batch_size=Batch_Size)\n",
    "validation_iterator = datagen.flow(X_test, y_test, batch_size=Batch_Size)\n",
    "\n",
    "history = model.fit_generator(train_iterator, validation_data = validation_iterator, epochs = Epoch_Anz)\n"
   ]
  },
  {
   "cell_type": "markdown",
   "metadata": {},
   "source": [
    "### Step 1: Learing result\n",
    " \n",
    "* Visualization of the training and validation results"
   ]
  },
  {
   "cell_type": "code",
   "execution_count": 5,
   "metadata": {},
   "outputs": [
    {
     "data": {
      "image/png": "[encoded data removed]",
      "text/plain": [
       "<Figure size 432x288 with 1 Axes>"
      ]
     },
     "metadata": {
      "needs_background": "light"
     },
     "output_type": "display_data"
    }
   ],
   "source": [
    "loss_ges = np.append(loss_ges, history.history['loss'])\n",
    "val_loss_ges = np.append(val_loss_ges, history.history['val_loss'])\n",
    "\n",
    "plt.semilogy(history.history['loss'])\n",
    "plt.semilogy(history.history['val_loss'])\n",
    "plt.title('model loss')\n",
    "plt.ylabel('loss')\n",
    "plt.xlabel('epoch')\n",
    "plt.legend(['train','eval'], loc='upper left')\n",
    "plt.show()"
   ]
  },
  {
   "cell_type": "markdown",
   "metadata": {},
   "source": [
    "### Check the model by hand\n",
    "\n",
    "* The following code uses the trained model to check the deviation for each picture.\n",
    "* x-axis walks through each pixel, y-axis shows the result"
   ]
  },
  {
   "cell_type": "code",
   "execution_count": 8,
   "metadata": {},
   "outputs": [
    {
     "data": {
      "image/png": "[encoded data removed]",
      "text/plain": [
       "<Figure size 432x288 with 1 Axes>"
      ]
     },
     "metadata": {
      "needs_background": "light"
     },
     "output_type": "display_data"
    }
   ],
   "source": [
    "Input_dir='ziffer_sortiert_resize'\n",
    "subdir = [\"NaN\", \"0\", \"1\", \"2\", \"3\", \"4\", \"5\", \"6\", \"7\", \"8\", \"9\"]\n",
    "res = []\n",
    "\n",
    "for aktsubdir in subdir:\n",
    "    files = glob.glob(Input_dir + '/' + aktsubdir + '\\*.jpg')\n",
    "    if aktsubdir == \"NaN\":\n",
    "        zw1 = -1\n",
    "    else:\n",
    "        zw1 = int(aktsubdir)\n",
    "    for aktfile in files:\n",
    "        test_image = cv2.imread(aktfile)\n",
    "        test_image = np.array(test_image, dtype=\"float32\")\n",
    "        img = np.reshape(test_image,[1,32,20,3])\n",
    "        classes = model.predict_classes(img)\n",
    "        classes = classes[0]\n",
    "        if classes == 10: \n",
    "            classes = -1\n",
    "        zw2 = classes\n",
    "        zw3 = zw2 - zw1\n",
    "        res.append(np.array([zw1, zw2, zw3]))\n",
    "\n",
    "res = np.asarray(res)\n",
    "\n",
    "\n",
    "plt.plot(res[:,0])\n",
    "plt.plot(res[:,1])\n",
    "plt.title('Result')\n",
    "plt.ylabel('Digital Value')\n",
    "plt.xlabel('#Picture')\n",
    "plt.legend(['real','model'], loc='upper left')\n",
    "plt.show()"
   ]
  },
  {
   "cell_type": "markdown",
   "metadata": {},
   "source": [
    "### Save the model\n",
    "\n",
    "* Save the model to the file with the \"h5\" file format"
   ]
  },
  {
   "cell_type": "code",
   "execution_count": 9,
   "metadata": {},
   "outputs": [],
   "source": [
    "model.save(\"Train_CNN_Digital-Readout.h5\")"
   ]
  },
  {
   "cell_type": "markdown",
   "metadata": {},
   "source": [
    "### Check each image for expected and deviation\n",
    "* setting the switch \"only_deviation = true\" will only print the images for which the classification and the CNN-result deviates\n",
    "\n",
    "The output contains the following information:\n",
    "\n",
    "| Filename      | Expected Category           | Predicted Category        |\n",
    "|------------- |:-----------------------------:|--------------|\n",
    "| ziffer_sortiert_resize_NaN/5\\Ziffer_4_0034.jpg | 4  | -1 |\n"
   ]
  },
  {
   "cell_type": "code",
   "execution_count": 10,
   "metadata": {},
   "outputs": [
    {
     "name": "stdout",
     "output_type": "stream",
     "text": [
      "ziffer_sortiert_resize/1\\Ziffer_1_0002.jpg 1 NaN\n",
      "ziffer_sortiert_resize/1\\Ziffer_1_0013.jpg 1 NaN\n",
      "ziffer_sortiert_resize/1\\Ziffer_1_0019.jpg 1 NaN\n",
      "ziffer_sortiert_resize/1\\Ziffer_1_0020.jpg 1 NaN\n",
      "ziffer_sortiert_resize/1\\Ziffer_1_0022.jpg 1 NaN\n",
      "ziffer_sortiert_resize/1\\Ziffer_1_0032.jpg 1 NaN\n",
      "ziffer_sortiert_resize/1\\Ziffer_1_0035.jpg 1 NaN\n",
      "ziffer_sortiert_resize/1\\Ziffer_1_0036.jpg 1 NaN\n",
      "ziffer_sortiert_resize/5\\Ziffer_5_0016.jpg 5 NaN\n",
      "ziffer_sortiert_resize/5\\Ziffer_5_0017.jpg 5 NaN\n",
      "ziffer_sortiert_resize/6\\Ziffer_6_0001.jpg 6 NaN\n",
      "ziffer_sortiert_resize/6\\Ziffer_6_0002.jpg 6 NaN\n",
      "ziffer_sortiert_resize/6\\Ziffer_6_0003.jpg 6 NaN\n",
      "ziffer_sortiert_resize/6\\Ziffer_6_0004.jpg 6 NaN\n",
      "ziffer_sortiert_resize/6\\Ziffer_6_0005.jpg 6 NaN\n",
      "ziffer_sortiert_resize/6\\Ziffer_6_0141.jpg 6 NaN\n",
      "ziffer_sortiert_resize/6\\Ziffer_6_0142.jpg 6 NaN\n",
      "ziffer_sortiert_resize/6\\Ziffer_6_0143.jpg 6 NaN\n",
      "ziffer_sortiert_resize/6\\Ziffer_6_0144.jpg 6 NaN\n",
      "ziffer_sortiert_resize/6\\Ziffer_6_0145.jpg 6 NaN\n",
      "ziffer_sortiert_resize/6\\Ziffer_6_0146.jpg 6 NaN\n",
      "ziffer_sortiert_resize/6\\Ziffer_6_0147.jpg 6 NaN\n",
      "ziffer_sortiert_resize/6\\Ziffer_6_0148.jpg 6 NaN\n",
      "ziffer_sortiert_resize/6\\Ziffer_6_0149.jpg 6 NaN\n",
      "ziffer_sortiert_resize/6\\Ziffer_6_0150.jpg 6 NaN\n",
      "ziffer_sortiert_resize/NaN\\Ziffer_NaN_0627.jpg NaN 6\n",
      "ziffer_sortiert_resize/NaN\\Ziffer_NaN_0630.jpg NaN 6\n",
      "ziffer_sortiert_resize/NaN\\Ziffer_NaN_0631.jpg NaN 6\n",
      "ziffer_sortiert_resize/NaN\\Ziffer_NaN_0632.jpg NaN 6\n",
      "ziffer_sortiert_resize/NaN\\Ziffer_NaN_0633.jpg NaN 6\n",
      "ziffer_sortiert_resize/NaN\\Ziffer_NaN_0634.jpg NaN 6\n",
      "ziffer_sortiert_resize/NaN\\Ziffer_NaN_0635.jpg NaN 6\n",
      "ziffer_sortiert_resize/NaN\\Ziffer_NaN_0636.jpg NaN 6\n",
      "ziffer_sortiert_resize/NaN\\Ziffer_NaN_0637.jpg NaN 6\n",
      "ziffer_sortiert_resize/NaN\\Ziffer_NaN_0638.jpg NaN 6\n",
      "ziffer_sortiert_resize/NaN\\Ziffer_NaN_0639.jpg NaN 6\n",
      "ziffer_sortiert_resize/NaN\\Ziffer_NaN_0640.jpg NaN 6\n",
      "ziffer_sortiert_resize/NaN\\Ziffer_NaN_0641.jpg NaN 6\n",
      "ziffer_sortiert_resize/NaN\\Ziffer_NaN_0654.jpg NaN 6\n",
      "ziffer_sortiert_resize/NaN\\Ziffer_NaN_0655.jpg NaN 6\n",
      "ziffer_sortiert_resize/NaN\\Ziffer_NaN_0656.jpg NaN 6\n",
      "ziffer_sortiert_resize/NaN\\Ziffer_NaN_0657.jpg NaN 6\n",
      "ziffer_sortiert_resize/NaN\\Ziffer_NaN_0658.jpg NaN 6\n",
      "ziffer_sortiert_resize/NaN\\Ziffer_NaN_0659.jpg NaN 6\n",
      "ziffer_sortiert_resize/NaN\\Ziffer_NaN_0660.jpg NaN 6\n",
      "ziffer_sortiert_resize/NaN\\Ziffer_NaN_0661.jpg NaN 6\n",
      "ziffer_sortiert_resize/NaN\\Ziffer_NaN_1286.jpg NaN 8\n",
      "ziffer_sortiert_resize/NaN\\Ziffer_NaN_3737.jpg NaN 5\n"
     ]
    }
   ],
   "source": [
    "Input_dir='ziffer_sortiert_resize'\n",
    "only_deviation = True\n",
    "\n",
    "subdir = [\"0\", \"1\", \"2\", \"3\", \"4\", \"5\", \"6\", \"7\", \"8\", \"9\", \"NaN\"]\n",
    "\n",
    "for aktsubdir in subdir:\n",
    "    files = glob.glob(Input_dir + '/' + aktsubdir + '\\*.jpg')\n",
    "    expected_class = aktsubdir\n",
    "    for aktfile in files:\n",
    "        test_image = cv2.imread(aktfile)\n",
    "        test_image = np.array(test_image, dtype=\"float32\")\n",
    "        img = np.reshape(test_image,[1,32,20,3])\n",
    "        classes = model.predict_classes(img)\n",
    "        classes = classes[0]\n",
    "        if classes == 10: \n",
    "            classes = \"NaN\"\n",
    "        if only_deviation == True:\n",
    "            if str(classes) != str(expected_class):\n",
    "                print(aktfile + \" \" + aktsubdir +  \" \" + str(classes))\n",
    "        else:\n",
    "            print(aktfile + \" \" + aktsubdir +  \" \" + str(classes))\n"
   ]
  },
  {
   "cell_type": "markdown",
   "metadata": {},
   "source": [
    "Checking the images shows, that this are border line images, which can be interpreted as a good digit or a faulty one."
   ]
  },
  {
   "cell_type": "code",
   "execution_count": null,
   "metadata": {},
   "outputs": [],
   "source": []
  }
 ],
 "metadata": {
  "kernelspec": {
   "display_name": "Python 3",
   "language": "python",
   "name": "python3"
  },
  "language_info": {
   "codemirror_mode": {
    "name": "ipython",
    "version": 3
   },
   "file_extension": ".py",
   "mimetype": "text/x-python",
   "name": "python",
   "nbconvert_exporter": "python",
   "pygments_lexer": "ipython3",
   "version": "3.7.3"
  }
 },
 "nbformat": 4,
 "nbformat_minor": 2
}
