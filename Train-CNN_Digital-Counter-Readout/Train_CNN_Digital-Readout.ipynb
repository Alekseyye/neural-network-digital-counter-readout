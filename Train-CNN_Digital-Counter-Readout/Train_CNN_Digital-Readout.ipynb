{
 "cells": [
  {
   "cell_type": "markdown",
   "metadata": {},
   "source": [
    "# CNN Training\n",
    "\n",
    "Target of this code is to train a CNN network to classify images of a digital readout to the digits 0 to 9. Additionally a category \"NaN\" is introduced, to mark images that are not amibiguous.\n",
    "\n",
    "### Preparing the training\n",
    "* First all libraries are loaded\n",
    "    * It is assumed, that they are installed during the Python setup\n",
    "* matplotlib is set to print the output inline in the jupyter notebook"
   ]
  },
  {
   "cell_type": "code",
   "execution_count": 1,
   "metadata": {
    "scrolled": true
   },
   "outputs": [],
   "source": [
    "import tensorflow as tf\n",
    "import matplotlib.pyplot as plt\n",
    "import glob\n",
    "import numpy as np\n",
    "from sklearn.utils import shuffle\n",
    "from tensorflow.python import keras\n",
    "from tensorflow.python.keras import Sequential\n",
    "from tensorflow.python.keras.layers import Dense, InputLayer, Conv2D, MaxPool2D, Flatten, BatchNormalization\n",
    "from tensorflow.keras.preprocessing.image import ImageDataGenerator\n",
    "from sklearn.model_selection import train_test_split\n",
    "from tensorflow.keras.callbacks import History \n",
    "from tensorflow.python.keras.utils import to_categorical\n",
    "from PIL import Image \n",
    "\n",
    "loss_ges = np.array([])\n",
    "val_loss_ges = np.array([])\n",
    "\n",
    "%matplotlib inline\n",
    "np.set_printoptions(precision=4)\n",
    "np.set_printoptions(suppress=True)"
   ]
  },
  {
   "cell_type": "markdown",
   "metadata": {},
   "source": [
    "### Load training data\n",
    "* The data is expected in the \"Input_dir\"\n",
    "* Inside subdirectories are expected from -1, 0, 1, ... 9 in which the pictures are sorted according to their values (=category)\n",
    "* Picture size must be 20x32 with 3 color channels (RGB)\n",
    "* The filename can be arbitrary\n",
    "\n",
    "* The images are stored in the x_data[]\n",
    "* The expected category for each image in the corresponding y_data[]\n",
    "\n",
    "* The last step is a shuffle (from sklearn.utils) and split the data into training and validation data"
   ]
  },
  {
   "cell_type": "code",
   "execution_count": 2,
   "metadata": {},
   "outputs": [
    {
     "name": "stdout",
     "output_type": "stream",
     "text": [
      "(363, 32, 20, 3)\n",
      "(363, 11)\n"
     ]
    }
   ],
   "source": [
    "Input_dir='ziffer_sortiert_resize'\n",
    "\n",
    "files = glob.glob(Input_dir + '/*.*')\n",
    "x_data = []\n",
    "y_data = []\n",
    "\n",
    "subdir = [\"0\", \"1\", \"2\", \"3\", \"4\", \"5\", \"6\", \"7\", \"8\", \"9\", \"NaN\"]\n",
    "\n",
    "for aktsubdir in subdir:\n",
    "    files = glob.glob(Input_dir + '/' + aktsubdir + '/*.jpg')\n",
    "    if aktsubdir == \"NaN\":\n",
    "        category = 10                # NaN does not work --> convert to 10\n",
    "    else:\n",
    "        category = aktsubdir\n",
    "    for aktfile in files:\n",
    "        test_image = Image.open(aktfile)\n",
    "        test_image = np.array(test_image, dtype=\"float32\")\n",
    "        x_data.append(test_image)\n",
    "        y_data.append(np.array([category]))\n",
    "\n",
    "x_data = np.array(x_data)\n",
    "y_data = np.array(y_data)\n",
    "y_data = to_categorical(y_data, 11)\n",
    "print(x_data.shape)\n",
    "print(y_data.shape)\n",
    "\n",
    "x_data, y_data = shuffle(x_data, y_data)\n",
    "X_train, X_test, y_train, y_test = train_test_split(x_data, y_data, test_size=0.1)"
   ]
  },
  {
   "cell_type": "markdown",
   "metadata": {},
   "source": [
    "### Define the model\n",
    "\n",
    "The layout of the network ist a typcial CNN network with alternating **Conv2D** and **MaxPool2D** layers. Finished after **flattening** with additional **Dense** layer.\n",
    "\n",
    "#### Important\n",
    "* Shape of the input layer: (32, 20, 3)\n",
    "* Number of output layers: 11\n",
    "* As loss function \"categorical_crossentropy\" is choosen, as it is a categories task"
   ]
  },
  {
   "cell_type": "code",
   "execution_count": 3,
   "metadata": {
    "scrolled": true
   },
   "outputs": [
    {
     "name": "stdout",
     "output_type": "stream",
     "text": [
      "Model: \"sequential\"\n",
      "_________________________________________________________________\n",
      "Layer (type)                 Output Shape              Param #   \n",
      "=================================================================\n",
      "batch_normalization (BatchNo (None, 32, 20, 3)         12        \n",
      "_________________________________________________________________\n",
      "conv2d (Conv2D)              (None, 32, 20, 32)        896       \n",
      "_________________________________________________________________\n",
      "max_pooling2d (MaxPooling2D) (None, 16, 10, 32)        0         \n",
      "_________________________________________________________________\n",
      "conv2d_1 (Conv2D)            (None, 16, 10, 64)        18496     \n",
      "_________________________________________________________________\n",
      "max_pooling2d_1 (MaxPooling2 (None, 8, 5, 64)          0         \n",
      "_________________________________________________________________\n",
      "conv2d_2 (Conv2D)            (None, 8, 5, 64)          36928     \n",
      "_________________________________________________________________\n",
      "max_pooling2d_2 (MaxPooling2 (None, 4, 2, 64)          0         \n",
      "_________________________________________________________________\n",
      "flatten (Flatten)            (None, 512)               0         \n",
      "_________________________________________________________________\n",
      "dense (Dense)                (None, 512)               262656    \n",
      "_________________________________________________________________\n",
      "dense_1 (Dense)              (None, 11)                5643      \n",
      "=================================================================\n",
      "Total params: 324,631\n",
      "Trainable params: 324,625\n",
      "Non-trainable params: 6\n",
      "_________________________________________________________________\n"
     ]
    }
   ],
   "source": [
    "model = Sequential()\n",
    "model.add(BatchNormalization(input_shape=(32,20,3)))\n",
    "model.add(Conv2D(32, (3, 3), padding='same', activation=\"relu\"))\n",
    "model.add(MaxPool2D(pool_size=(2,2)))\n",
    "model.add(Conv2D(64, (3, 3), padding='same'))\n",
    "model.add(MaxPool2D(pool_size=(2,2)))\n",
    "model.add(Conv2D(64, (3, 3), padding='same'))\n",
    "model.add(MaxPool2D(pool_size=(2,2)))\n",
    "model.add(Flatten())\n",
    "model.add(Dense(512,activation=\"relu\"))\n",
    "model.add(Dense(11, activation = \"softmax\"))\n",
    "model.summary()\n",
    "\n",
    "model.compile(loss=keras.losses.categorical_crossentropy, optimizer=tf.keras.optimizers.Adadelta(learning_rate=1.0, rho=0.95), metrics = [\"accuracy\"])"
   ]
  },
  {
   "cell_type": "markdown",
   "metadata": {},
   "source": [
    "# Training\n",
    "The input pictures are randomly scattered for brightness, pixel shift variations and rotation angle. This is implemented with a ImageDataGenerator.\n"
   ]
  },
  {
   "cell_type": "code",
   "execution_count": 4,
   "metadata": {
    "scrolled": true
   },
   "outputs": [
    {
     "name": "stdout",
     "output_type": "stream",
     "text": [
      "Epoch 1/80\n",
      "91/91 [==============================] - 3s 35ms/step - loss: 1.9900 - accuracy: 0.3802 - val_loss: 2.0881 - val_accuracy: 0.3243\n",
      "Epoch 2/80\n",
      "91/91 [==============================] - 3s 31ms/step - loss: 1.1957 - accuracy: 0.6171 - val_loss: 1.1101 - val_accuracy: 0.6216\n",
      "Epoch 3/80\n",
      "91/91 [==============================] - 3s 32ms/step - loss: 0.8153 - accuracy: 0.7273 - val_loss: 0.4286 - val_accuracy: 0.8649\n",
      "Epoch 4/80\n",
      "91/91 [==============================] - 3s 30ms/step - loss: 0.7459 - accuracy: 0.7548 - val_loss: 0.5597 - val_accuracy: 0.7838\n",
      "Epoch 5/80\n",
      "91/91 [==============================] - 3s 38ms/step - loss: 0.4683 - accuracy: 0.8540 - val_loss: 0.3927 - val_accuracy: 0.8649\n",
      "Epoch 6/80\n",
      "91/91 [==============================] - 3s 36ms/step - loss: 0.4534 - accuracy: 0.8705 - val_loss: 0.3370 - val_accuracy: 0.8919\n",
      "Epoch 7/80\n",
      "91/91 [==============================] - 3s 30ms/step - loss: 0.3516 - accuracy: 0.8815 - val_loss: 0.3092 - val_accuracy: 0.8649\n",
      "Epoch 8/80\n",
      "91/91 [==============================] - 3s 32ms/step - loss: 0.2712 - accuracy: 0.9091 - val_loss: 0.5245 - val_accuracy: 0.8108\n",
      "Epoch 9/80\n",
      "91/91 [==============================] - 3s 30ms/step - loss: 0.3543 - accuracy: 0.9008 - val_loss: 0.4094 - val_accuracy: 0.8649\n",
      "Epoch 10/80\n",
      "91/91 [==============================] - 3s 31ms/step - loss: 0.3010 - accuracy: 0.9174 - val_loss: 0.3034 - val_accuracy: 0.8649\n",
      "Epoch 11/80\n",
      "91/91 [==============================] - 3s 30ms/step - loss: 0.1983 - accuracy: 0.9421 - val_loss: 0.1789 - val_accuracy: 0.8919\n",
      "Epoch 12/80\n",
      "91/91 [==============================] - 3s 30ms/step - loss: 0.2365 - accuracy: 0.9229 - val_loss: 0.0706 - val_accuracy: 0.9730\n",
      "Epoch 13/80\n",
      "91/91 [==============================] - 3s 30ms/step - loss: 0.2394 - accuracy: 0.9339 - val_loss: 0.1368 - val_accuracy: 0.9189\n",
      "Epoch 14/80\n",
      "91/91 [==============================] - 3s 30ms/step - loss: 0.2177 - accuracy: 0.9421 - val_loss: 0.0749 - val_accuracy: 0.9730\n",
      "Epoch 15/80\n",
      "91/91 [==============================] - 3s 30ms/step - loss: 0.1201 - accuracy: 0.9587 - val_loss: 0.1488 - val_accuracy: 0.9189\n",
      "Epoch 16/80\n",
      "91/91 [==============================] - 3s 32ms/step - loss: 0.1487 - accuracy: 0.9421 - val_loss: 0.0404 - val_accuracy: 0.9730\n",
      "Epoch 17/80\n",
      "91/91 [==============================] - 3s 30ms/step - loss: 0.1745 - accuracy: 0.9559 - val_loss: 0.0406 - val_accuracy: 0.9730\n",
      "Epoch 18/80\n",
      "91/91 [==============================] - 3s 30ms/step - loss: 0.1804 - accuracy: 0.9477 - val_loss: 0.1143 - val_accuracy: 0.9459\n",
      "Epoch 19/80\n",
      "91/91 [==============================] - 3s 30ms/step - loss: 0.1810 - accuracy: 0.9532 - val_loss: 0.0748 - val_accuracy: 0.9730\n",
      "Epoch 20/80\n",
      "91/91 [==============================] - 3s 30ms/step - loss: 0.1690 - accuracy: 0.9449 - val_loss: 0.1238 - val_accuracy: 0.9730\n",
      "Epoch 21/80\n",
      "91/91 [==============================] - 3s 30ms/step - loss: 0.0894 - accuracy: 0.9752 - val_loss: 0.0618 - val_accuracy: 0.9730\n",
      "Epoch 22/80\n",
      "91/91 [==============================] - 3s 32ms/step - loss: 0.1404 - accuracy: 0.9669 - val_loss: 0.1600 - val_accuracy: 0.9189\n",
      "Epoch 23/80\n",
      "91/91 [==============================] - 3s 31ms/step - loss: 0.1395 - accuracy: 0.9614 - val_loss: 0.0710 - val_accuracy: 0.9730\n",
      "Epoch 24/80\n",
      "91/91 [==============================] - 3s 30ms/step - loss: 0.1011 - accuracy: 0.9697 - val_loss: 0.0351 - val_accuracy: 1.0000\n",
      "Epoch 25/80\n",
      "91/91 [==============================] - 3s 33ms/step - loss: 0.1912 - accuracy: 0.9421 - val_loss: 0.0923 - val_accuracy: 0.9459\n",
      "Epoch 26/80\n",
      "91/91 [==============================] - 3s 30ms/step - loss: 0.1507 - accuracy: 0.9532 - val_loss: 0.0796 - val_accuracy: 0.9730\n",
      "Epoch 27/80\n",
      "91/91 [==============================] - 3s 30ms/step - loss: 0.1003 - accuracy: 0.9780 - val_loss: 0.0910 - val_accuracy: 0.9730\n",
      "Epoch 28/80\n",
      "91/91 [==============================] - 3s 32ms/step - loss: 0.1624 - accuracy: 0.9449 - val_loss: 0.0179 - val_accuracy: 1.0000\n",
      "Epoch 29/80\n",
      "91/91 [==============================] - 3s 33ms/step - loss: 0.0866 - accuracy: 0.9725 - val_loss: 0.0384 - val_accuracy: 1.0000\n",
      "Epoch 30/80\n",
      "91/91 [==============================] - 3s 32ms/step - loss: 0.1647 - accuracy: 0.9532 - val_loss: 0.3828 - val_accuracy: 0.8378\n",
      "Epoch 31/80\n",
      "91/91 [==============================] - 3s 30ms/step - loss: 0.1242 - accuracy: 0.9559 - val_loss: 0.0328 - val_accuracy: 1.0000\n",
      "Epoch 32/80\n",
      "91/91 [==============================] - 3s 30ms/step - loss: 0.0917 - accuracy: 0.9725 - val_loss: 0.0349 - val_accuracy: 0.9730\n",
      "Epoch 33/80\n",
      "91/91 [==============================] - 3s 33ms/step - loss: 0.1003 - accuracy: 0.9697 - val_loss: 0.0521 - val_accuracy: 0.9730\n",
      "Epoch 34/80\n",
      "91/91 [==============================] - 3s 30ms/step - loss: 0.1059 - accuracy: 0.9669 - val_loss: 0.0449 - val_accuracy: 1.0000\n",
      "Epoch 35/80\n",
      "91/91 [==============================] - 3s 30ms/step - loss: 0.0905 - accuracy: 0.9614 - val_loss: 0.0852 - val_accuracy: 0.9730\n",
      "Epoch 36/80\n",
      "91/91 [==============================] - 3s 30ms/step - loss: 0.0992 - accuracy: 0.9669 - val_loss: 0.0393 - val_accuracy: 0.9730\n",
      "Epoch 37/80\n",
      "91/91 [==============================] - 3s 30ms/step - loss: 0.0952 - accuracy: 0.9752 - val_loss: 0.0114 - val_accuracy: 1.0000\n",
      "Epoch 38/80\n",
      "91/91 [==============================] - 3s 30ms/step - loss: 0.1289 - accuracy: 0.9587 - val_loss: 0.1162 - val_accuracy: 0.9730\n",
      "Epoch 39/80\n",
      "91/91 [==============================] - 3s 33ms/step - loss: 0.0936 - accuracy: 0.9642 - val_loss: 0.0012 - val_accuracy: 1.0000\n",
      "Epoch 40/80\n",
      "91/91 [==============================] - 3s 30ms/step - loss: 0.0994 - accuracy: 0.9807 - val_loss: 0.0140 - val_accuracy: 1.0000\n",
      "Epoch 41/80\n",
      "91/91 [==============================] - 3s 30ms/step - loss: 0.1142 - accuracy: 0.9669 - val_loss: 0.1421 - val_accuracy: 0.9459\n",
      "Epoch 42/80\n",
      "91/91 [==============================] - 3s 30ms/step - loss: 0.0798 - accuracy: 0.9725 - val_loss: 0.0090 - val_accuracy: 1.0000\n",
      "Epoch 43/80\n",
      "91/91 [==============================] - 3s 30ms/step - loss: 0.0467 - accuracy: 0.9862 - val_loss: 0.2678 - val_accuracy: 0.9189\n",
      "Epoch 44/80\n",
      "91/91 [==============================] - 3s 30ms/step - loss: 0.0709 - accuracy: 0.9780 - val_loss: 0.0168 - val_accuracy: 1.0000\n",
      "Epoch 45/80\n",
      "91/91 [==============================] - 3s 33ms/step - loss: 0.0649 - accuracy: 0.9862 - val_loss: 0.1097 - val_accuracy: 0.9459\n",
      "Epoch 46/80\n",
      "91/91 [==============================] - 3s 35ms/step - loss: 0.0315 - accuracy: 0.9862 - val_loss: 0.0191 - val_accuracy: 1.0000\n",
      "Epoch 47/80\n",
      "91/91 [==============================] - 3s 32ms/step - loss: 0.1200 - accuracy: 0.9697 - val_loss: 0.1956 - val_accuracy: 0.9730\n",
      "Epoch 48/80\n",
      "91/91 [==============================] - 3s 32ms/step - loss: 0.1143 - accuracy: 0.9642 - val_loss: 0.0181 - val_accuracy: 1.0000\n",
      "Epoch 49/80\n",
      "91/91 [==============================] - 3s 33ms/step - loss: 0.0891 - accuracy: 0.9752 - val_loss: 0.2264 - val_accuracy: 0.9459\n",
      "Epoch 50/80\n",
      "91/91 [==============================] - 3s 35ms/step - loss: 0.0741 - accuracy: 0.9669 - val_loss: 0.0140 - val_accuracy: 1.0000\n",
      "Epoch 51/80\n",
      "91/91 [==============================] - 3s 35ms/step - loss: 0.0527 - accuracy: 0.9835 - val_loss: 0.0308 - val_accuracy: 1.0000\n",
      "Epoch 52/80\n",
      "91/91 [==============================] - 3s 30ms/step - loss: 0.0576 - accuracy: 0.9862 - val_loss: 0.0965 - val_accuracy: 0.9459\n",
      "Epoch 53/80\n",
      "91/91 [==============================] - 3s 31ms/step - loss: 0.1434 - accuracy: 0.9614 - val_loss: 0.0372 - val_accuracy: 0.9730\n",
      "Epoch 54/80\n",
      "91/91 [==============================] - 3s 31ms/step - loss: 0.0494 - accuracy: 0.9780 - val_loss: 9.9125e-04 - val_accuracy: 1.0000\n",
      "Epoch 55/80\n",
      "91/91 [==============================] - 3s 32ms/step - loss: 0.1163 - accuracy: 0.9697 - val_loss: 0.0520 - val_accuracy: 0.9730\n",
      "Epoch 56/80\n",
      "91/91 [==============================] - 3s 31ms/step - loss: 0.0485 - accuracy: 0.9917 - val_loss: 0.0064 - val_accuracy: 1.0000\n",
      "Epoch 57/80\n",
      "91/91 [==============================] - 3s 34ms/step - loss: 0.0823 - accuracy: 0.9807 - val_loss: 0.0654 - val_accuracy: 0.9459\n",
      "Epoch 58/80\n",
      "91/91 [==============================] - 3s 33ms/step - loss: 0.0623 - accuracy: 0.9807 - val_loss: 0.0141 - val_accuracy: 1.0000\n"
     ]
    },
    {
     "name": "stdout",
     "output_type": "stream",
     "text": [
      "Epoch 59/80\n",
      "91/91 [==============================] - 3s 30ms/step - loss: 0.0411 - accuracy: 0.9862 - val_loss: 0.0131 - val_accuracy: 1.0000\n",
      "Epoch 60/80\n",
      "91/91 [==============================] - 3s 31ms/step - loss: 0.1176 - accuracy: 0.9642 - val_loss: 0.0065 - val_accuracy: 1.0000\n",
      "Epoch 61/80\n",
      "91/91 [==============================] - 3s 33ms/step - loss: 0.0481 - accuracy: 0.9835 - val_loss: 0.0015 - val_accuracy: 1.0000\n",
      "Epoch 62/80\n",
      "91/91 [==============================] - 3s 30ms/step - loss: 0.0558 - accuracy: 0.9807 - val_loss: 0.0021 - val_accuracy: 1.0000\n",
      "Epoch 63/80\n",
      "91/91 [==============================] - 3s 32ms/step - loss: 0.0752 - accuracy: 0.9752 - val_loss: 0.0188 - val_accuracy: 1.0000\n",
      "Epoch 64/80\n",
      "91/91 [==============================] - 3s 32ms/step - loss: 0.1043 - accuracy: 0.9669 - val_loss: 0.0518 - val_accuracy: 0.9730\n",
      "Epoch 65/80\n",
      "91/91 [==============================] - 3s 30ms/step - loss: 0.0947 - accuracy: 0.9807 - val_loss: 0.0474 - val_accuracy: 0.9730\n",
      "Epoch 66/80\n",
      "91/91 [==============================] - 3s 30ms/step - loss: 0.0318 - accuracy: 0.9862 - val_loss: 0.0453 - val_accuracy: 0.9730\n",
      "Epoch 67/80\n",
      "91/91 [==============================] - 3s 32ms/step - loss: 0.0798 - accuracy: 0.9752 - val_loss: 0.0106 - val_accuracy: 1.0000\n",
      "Epoch 68/80\n",
      "91/91 [==============================] - 3s 30ms/step - loss: 0.0567 - accuracy: 0.9807 - val_loss: 0.0335 - val_accuracy: 1.0000\n",
      "Epoch 69/80\n",
      "91/91 [==============================] - 3s 30ms/step - loss: 0.0781 - accuracy: 0.9780 - val_loss: 0.2106 - val_accuracy: 0.9730\n",
      "Epoch 70/80\n",
      "91/91 [==============================] - 3s 30ms/step - loss: 0.0696 - accuracy: 0.9835 - val_loss: 0.0237 - val_accuracy: 1.0000\n",
      "Epoch 71/80\n",
      "91/91 [==============================] - 3s 32ms/step - loss: 0.0997 - accuracy: 0.9697 - val_loss: 0.0246 - val_accuracy: 1.0000\n",
      "Epoch 72/80\n",
      "91/91 [==============================] - 3s 35ms/step - loss: 0.0462 - accuracy: 0.9890 - val_loss: 0.0161 - val_accuracy: 1.0000\n",
      "Epoch 73/80\n",
      "91/91 [==============================] - 3s 32ms/step - loss: 0.0456 - accuracy: 0.9890 - val_loss: 0.0153 - val_accuracy: 1.0000\n",
      "Epoch 74/80\n",
      "91/91 [==============================] - 3s 32ms/step - loss: 0.0739 - accuracy: 0.9807 - val_loss: 0.0047 - val_accuracy: 1.0000\n",
      "Epoch 75/80\n",
      "91/91 [==============================] - 3s 31ms/step - loss: 0.0493 - accuracy: 0.9835 - val_loss: 0.1310 - val_accuracy: 0.9730\n",
      "Epoch 76/80\n",
      "91/91 [==============================] - 3s 31ms/step - loss: 0.0194 - accuracy: 0.9945 - val_loss: 0.1613 - val_accuracy: 0.9459\n",
      "Epoch 77/80\n",
      "91/91 [==============================] - 3s 31ms/step - loss: 0.0482 - accuracy: 0.9862 - val_loss: 0.0110 - val_accuracy: 1.0000\n",
      "Epoch 78/80\n",
      "91/91 [==============================] - 3s 34ms/step - loss: 0.0387 - accuracy: 0.9835 - val_loss: 0.3455 - val_accuracy: 0.9459\n",
      "Epoch 79/80\n",
      "91/91 [==============================] - 3s 31ms/step - loss: 0.0510 - accuracy: 0.9807 - val_loss: 0.0119 - val_accuracy: 1.0000\n",
      "Epoch 80/80\n",
      "91/91 [==============================] - 3s 31ms/step - loss: 0.0735 - accuracy: 0.9780 - val_loss: 0.0040 - val_accuracy: 1.0000\n"
     ]
    }
   ],
   "source": [
    "Batch_Size = 4\n",
    "Epoch_Anz = 80\n",
    "Shift_Range = 1\n",
    "Brightness_Range = 0.3\n",
    "Rotation_Angle = 10\n",
    "ZoomRange = 0.4\n",
    "\n",
    "datagen = ImageDataGenerator(width_shift_range=[-Shift_Range,Shift_Range], \n",
    "                             height_shift_range=[-Shift_Range,Shift_Range],\n",
    "                             brightness_range=[1-Brightness_Range,1+Brightness_Range],\n",
    "                             zoom_range=[1-ZoomRange, 1+ZoomRange],\n",
    "                             rotation_range=Rotation_Angle,\n",
    "                             validation_split=0.2)\n",
    "\n",
    "train_iterator = datagen.flow(x_data, y_data, batch_size=Batch_Size)\n",
    "validation_iterator = datagen.flow(X_test, y_test, batch_size=Batch_Size)\n",
    "\n",
    "history = model.fit_generator(train_iterator, validation_data = validation_iterator, epochs = Epoch_Anz)\n",
    "#history = model.fit_generator(train_iterator, epochs = Epoch_Anz)\n",
    "\n"
   ]
  },
  {
   "cell_type": "markdown",
   "metadata": {},
   "source": [
    "### Learing result\n",
    " \n",
    "* Visualization of the training and validation results"
   ]
  },
  {
   "cell_type": "code",
   "execution_count": 5,
   "metadata": {},
   "outputs": [
    {
     "data": {
      "image/png": "[encoded data removed]",
      "text/plain": [
       "<Figure size 432x288 with 1 Axes>"
      ]
     },
     "metadata": {
      "needs_background": "light"
     },
     "output_type": "display_data"
    }
   ],
   "source": [
    "loss_ges = np.append(loss_ges, history.history['loss'])\n",
    "val_loss_ges = np.append(val_loss_ges, history.history['val_loss'])\n",
    "\n",
    "plt.semilogy(history.history['loss'])\n",
    "plt.semilogy(history.history['val_loss'])\n",
    "plt.title('model loss')\n",
    "plt.ylabel('loss')\n",
    "plt.xlabel('epoch')\n",
    "plt.legend(['train','eval'], loc='upper left')\n",
    "plt.show()"
   ]
  },
  {
   "cell_type": "markdown",
   "metadata": {},
   "source": [
    "### Check the model by hand\n",
    "\n",
    "* The following code uses the trained model to check the deviation for each picture.\n",
    "* x-axis walks through each pixel, y-axis shows the result"
   ]
  },
  {
   "cell_type": "code",
   "execution_count": 6,
   "metadata": {},
   "outputs": [
    {
     "data": {
      "image/png": "[encoded data removed]",
      "text/plain": [
       "<Figure size 432x288 with 1 Axes>"
      ]
     },
     "metadata": {
      "needs_background": "light"
     },
     "output_type": "display_data"
    }
   ],
   "source": [
    "Input_dir='ziffer_sortiert_resize'\n",
    "subdir = [\"NaN\", \"0\", \"1\", \"2\", \"3\", \"4\", \"5\", \"6\", \"7\", \"8\", \"9\"]\n",
    "res = []\n",
    "\n",
    "for aktsubdir in subdir:\n",
    "    files = glob.glob(Input_dir + '/' + aktsubdir + '\\*.jpg')\n",
    "    if aktsubdir == \"NaN\":\n",
    "        zw1 = -1\n",
    "    else:\n",
    "        zw1 = int(aktsubdir)\n",
    "    for aktfile in files:\n",
    "        test_image = Image.open(aktfile)\n",
    "        test_image = np.array(test_image, dtype=\"float32\")\n",
    "        img = np.reshape(test_image,[1,32,20,3])\n",
    "        classes = model.predict_classes(img)\n",
    "        classes = classes[0]\n",
    "        if classes == 10: \n",
    "            classes = -1\n",
    "        zw2 = classes\n",
    "        zw3 = zw2 - zw1\n",
    "        res.append(np.array([zw1, zw2, zw3]))\n",
    "\n",
    "res = np.asarray(res)\n",
    "\n",
    "\n",
    "plt.plot(res[:,0])\n",
    "plt.plot(res[:,1])\n",
    "plt.title('Result')\n",
    "plt.ylabel('Digital Value')\n",
    "plt.xlabel('#Picture')\n",
    "plt.legend(['real','model'], loc='upper left')\n",
    "plt.show()"
   ]
  },
  {
   "cell_type": "markdown",
   "metadata": {},
   "source": [
    "### Save the model\n",
    "\n",
    "* Save the model to the file with the \"h5\" file format"
   ]
  },
  {
   "cell_type": "code",
   "execution_count": 7,
   "metadata": {},
   "outputs": [],
   "source": [
    "model.save(\"Train_CNN_Digital-Readout_Version_4.2.0.h5\")"
   ]
  },
  {
   "cell_type": "markdown",
   "metadata": {},
   "source": [
    "### Check each image for expected and deviation\n",
    "* setting the switch \"only_deviation = true\" will only print the images for which the classification and the CNN-result deviates\n",
    "\n",
    "The output contains the following information:\n",
    "\n",
    "| Filename      | Expected Category           | Predicted Category        |\n",
    "|------------- |:-----------------------------:|--------------|\n",
    "| ziffer_sortiert_resize_NaN/5\\Ziffer_4_0034.jpg | 4  | -1 |\n"
   ]
  },
  {
   "cell_type": "code",
   "execution_count": 8,
   "metadata": {
    "scrolled": true
   },
   "outputs": [
    {
     "name": "stdout",
     "output_type": "stream",
     "text": [
      "ziffer_sortiert_resize/9\\Ziffer_9_0150.jpg 9 NaN\n",
      "ziffer_sortiert_resize/NaN\\Ziffer_NaN_1909.jpg NaN 1\n"
     ]
    }
   ],
   "source": [
    "Input_dir='ziffer_sortiert_resize'\n",
    "only_deviation = True\n",
    "\n",
    "subdir = [\"0\", \"1\", \"2\", \"3\", \"4\", \"5\", \"6\", \"7\", \"8\", \"9\", \"NaN\"]\n",
    "\n",
    "for aktsubdir in subdir:\n",
    "    files = glob.glob(Input_dir + '/' + aktsubdir + '\\*.jpg')\n",
    "    expected_class = aktsubdir\n",
    "    for aktfile in files:\n",
    "        test_image = Image.open(aktfile)\n",
    "        test_image = np.array(test_image, dtype=\"float32\")\n",
    "        img = np.reshape(test_image,[1,32,20,3])\n",
    "        classes = model.predict_classes(img)\n",
    "        classes = classes[0]\n",
    "        if classes == 10: \n",
    "            classes = \"NaN\"\n",
    "        if only_deviation == True:\n",
    "            if str(classes) != str(expected_class):\n",
    "                print(aktfile + \" \" + aktsubdir +  \" \" + str(classes))\n",
    "        else:\n",
    "            print(aktfile + \" \" + aktsubdir +  \" \" + str(classes))\n"
   ]
  },
  {
   "cell_type": "markdown",
   "metadata": {},
   "source": [
    "Checking the images shows, that this are border line images, which can be interpreted as a good digit or a faulty one."
   ]
  },
  {
   "cell_type": "code",
   "execution_count": null,
   "metadata": {},
   "outputs": [],
   "source": []
  }
 ],
 "metadata": {
  "kernelspec": {
   "display_name": "Python 3",
   "language": "python",
   "name": "python3"
  },
  "language_info": {
   "codemirror_mode": {
    "name": "ipython",
    "version": 3
   },
   "file_extension": ".py",
   "mimetype": "text/x-python",
   "name": "python",
   "nbconvert_exporter": "python",
   "pygments_lexer": "ipython3",
   "version": "3.7.6"
  }
 },
 "nbformat": 4,
 "nbformat_minor": 2
}
