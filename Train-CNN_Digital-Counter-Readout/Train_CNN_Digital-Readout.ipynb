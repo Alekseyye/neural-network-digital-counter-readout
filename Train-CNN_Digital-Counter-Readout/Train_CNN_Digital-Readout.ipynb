{
 "cells": [
  {
   "cell_type": "markdown",
   "metadata": {},
   "source": [
    "# CNN Training\n",
    "\n",
    "Target of this code is to train a CNN network to classify images of a digital readout to the digits 0 to 9. Additionally a category \"NaN\" is introduced, to mark images that are not amibiguous.\n",
    "\n",
    "### Preparing the training\n",
    "* First all libraries are loaded\n",
    "    * It is assumed, that they are installed during the Python setup\n",
    "* matplotlib is set to print the output inline in the jupyter notebook"
   ]
  },
  {
   "cell_type": "code",
   "execution_count": 1,
   "metadata": {
    "scrolled": true
   },
   "outputs": [],
   "source": [
    "import tensorflow as tf\n",
    "import matplotlib.pyplot as plt\n",
    "import glob\n",
    "import numpy as np\n",
    "from sklearn.utils import shuffle\n",
    "from tensorflow.python import keras\n",
    "from tensorflow.python.keras import Sequential\n",
    "from tensorflow.python.keras.layers import Dense, InputLayer, Conv2D, MaxPool2D, Flatten, BatchNormalization\n",
    "from tensorflow.keras.preprocessing.image import ImageDataGenerator\n",
    "from sklearn.model_selection import train_test_split\n",
    "from tensorflow.keras.callbacks import History \n",
    "from tensorflow.python.keras.utils import to_categorical\n",
    "from PIL import Image \n",
    "\n",
    "loss_ges = np.array([])\n",
    "val_loss_ges = np.array([])\n",
    "\n",
    "%matplotlib inline\n",
    "np.set_printoptions(precision=4)\n",
    "np.set_printoptions(suppress=True)"
   ]
  },
  {
   "cell_type": "markdown",
   "metadata": {},
   "source": [
    "### Load training data\n",
    "* The data is expected in the \"Input_dir\"\n",
    "* Inside subdirectories are expected from -1, 0, 1, ... 9 in which the pictures are sorted according to their values (=category)\n",
    "* Picture size must be 20x32 with 3 color channels (RGB)\n",
    "* The filename can be arbitrary\n",
    "\n",
    "* The images are stored in the x_data[]\n",
    "* The expected category for each image in the corresponding y_data[]\n",
    "\n",
    "* The last step is a shuffle (from sklearn.utils) and split the data into training and validation data"
   ]
  },
  {
   "cell_type": "code",
   "execution_count": 2,
   "metadata": {},
   "outputs": [
    {
     "name": "stdout",
     "output_type": "stream",
     "text": [
      "(5237, 32, 20, 3)\n",
      "(5237, 11)\n"
     ]
    }
   ],
   "source": [
    "Input_dir='ziffer_sortiert_resize'\n",
    "\n",
    "files = glob.glob(Input_dir + '/*.*')\n",
    "x_data = []\n",
    "y_data = []\n",
    "\n",
    "subdir = [\"0\", \"1\", \"2\", \"3\", \"4\", \"5\", \"6\", \"7\", \"8\", \"9\", \"NaN\"]\n",
    "\n",
    "for aktsubdir in subdir:\n",
    "    files = glob.glob(Input_dir + '/' + aktsubdir + '/*.jpg')\n",
    "    if aktsubdir == \"NaN\":\n",
    "        category = 10                # NaN does not work --> convert to 10\n",
    "    else:\n",
    "        category = aktsubdir\n",
    "    for aktfile in files:\n",
    "        test_image = Image.open(aktfile)\n",
    "        test_image = np.array(test_image, dtype=\"float32\")\n",
    "        x_data.append(test_image)\n",
    "        y_data.append(np.array([category]))\n",
    "\n",
    "x_data = np.array(x_data)\n",
    "y_data = np.array(y_data)\n",
    "y_data = to_categorical(y_data, 11)\n",
    "print(x_data.shape)\n",
    "print(y_data.shape)\n",
    "\n",
    "x_data, y_data = shuffle(x_data, y_data)\n",
    "X_train, X_test, y_train, y_test = train_test_split(x_data, y_data, test_size=0.2)"
   ]
  },
  {
   "cell_type": "markdown",
   "metadata": {},
   "source": [
    "### Define the model\n",
    "\n",
    "The layout of the network ist a typcial CNN network with alternating **Conv2D** and **MaxPool2D** layers. Finished after **flattening** with additional **Dense** layer.\n",
    "\n",
    "#### Important\n",
    "* Shape of the input layer: (32, 20, 3)\n",
    "* Number of output layers: 11\n",
    "* As loss function \"categorical_crossentropy\" is choosen, as it is a categories task"
   ]
  },
  {
   "cell_type": "code",
   "execution_count": 3,
   "metadata": {
    "scrolled": true
   },
   "outputs": [
    {
     "name": "stdout",
     "output_type": "stream",
     "text": [
      "Model: \"sequential\"\n",
      "_________________________________________________________________\n",
      "Layer (type)                 Output Shape              Param #   \n",
      "=================================================================\n",
      "batch_normalization (BatchNo (None, 32, 20, 3)         12        \n",
      "_________________________________________________________________\n",
      "conv2d (Conv2D)              (None, 32, 20, 32)        896       \n",
      "_________________________________________________________________\n",
      "max_pooling2d (MaxPooling2D) (None, 16, 10, 32)        0         \n",
      "_________________________________________________________________\n",
      "conv2d_1 (Conv2D)            (None, 16, 10, 64)        18496     \n",
      "_________________________________________________________________\n",
      "max_pooling2d_1 (MaxPooling2 (None, 8, 5, 64)          0         \n",
      "_________________________________________________________________\n",
      "conv2d_2 (Conv2D)            (None, 8, 5, 64)          36928     \n",
      "_________________________________________________________________\n",
      "max_pooling2d_2 (MaxPooling2 (None, 4, 2, 64)          0         \n",
      "_________________________________________________________________\n",
      "flatten (Flatten)            (None, 512)               0         \n",
      "_________________________________________________________________\n",
      "dense (Dense)                (None, 512)               262656    \n",
      "_________________________________________________________________\n",
      "dense_1 (Dense)              (None, 11)                5643      \n",
      "=================================================================\n",
      "Total params: 324,631\n",
      "Trainable params: 324,625\n",
      "Non-trainable params: 6\n",
      "_________________________________________________________________\n"
     ]
    }
   ],
   "source": [
    "model = Sequential()\n",
    "model.add(BatchNormalization(input_shape=(32,20,3)))\n",
    "model.add(Conv2D(32, (3, 3), padding='same', activation=\"relu\"))\n",
    "model.add(MaxPool2D(pool_size=(2,2)))\n",
    "model.add(Conv2D(64, (3, 3), padding='same'))\n",
    "model.add(MaxPool2D(pool_size=(2,2)))\n",
    "model.add(Conv2D(64, (3, 3), padding='same'))\n",
    "model.add(MaxPool2D(pool_size=(2,2)))\n",
    "model.add(Flatten())\n",
    "model.add(Dense(512,activation=\"relu\"))\n",
    "model.add(Dense(11, activation = \"softmax\"))\n",
    "model.summary()\n",
    "\n",
    "model.compile(loss=keras.losses.categorical_crossentropy, optimizer=tf.keras.optimizers.Adadelta(learning_rate=1.0, rho=0.95), metrics = [\"accuracy\"])"
   ]
  },
  {
   "cell_type": "markdown",
   "metadata": {},
   "source": [
    "# Training\n",
    "The input pictures are randomly scattered for brightness, pixel shift variations and rotation angle. This is implemented with a ImageDataGenerator.\n"
   ]
  },
  {
   "cell_type": "code",
   "execution_count": 4,
   "metadata": {
    "scrolled": true
   },
   "outputs": [
    {
     "name": "stdout",
     "output_type": "stream",
     "text": [
      "Epoch 1/80\n",
      "1048/1048 [==============================] - 96s 91ms/step - loss: 0.3663 - accuracy: 0.8966 - val_loss: 0.1397 - val_accuracy: 0.9599\n",
      "Epoch 2/80\n",
      "1048/1048 [==============================] - 111s 106ms/step - loss: 0.1326 - accuracy: 0.9642 - val_loss: 0.1132 - val_accuracy: 0.9666\n",
      "Epoch 3/80\n",
      "1048/1048 [==============================] - 83s 79ms/step - loss: 0.0972 - accuracy: 0.9723 - val_loss: 0.1025 - val_accuracy: 0.9752\n",
      "Epoch 4/80\n",
      "1048/1048 [==============================] - 92s 88ms/step - loss: 0.0811 - accuracy: 0.9776 - val_loss: 0.0958 - val_accuracy: 0.9800\n",
      "Epoch 5/80\n",
      "1048/1048 [==============================] - 99s 95ms/step - loss: 0.0644 - accuracy: 0.9809 - val_loss: 0.0747 - val_accuracy: 0.9800\n",
      "Epoch 6/80\n",
      "1048/1048 [==============================] - 111s 106ms/step - loss: 0.0572 - accuracy: 0.9831 - val_loss: 0.0689 - val_accuracy: 0.9800\n",
      "Epoch 7/80\n",
      "1048/1048 [==============================] - 129s 123ms/step - loss: 0.0496 - accuracy: 0.9878 - val_loss: 0.0558 - val_accuracy: 0.9857\n",
      "Epoch 8/80\n",
      "1048/1048 [==============================] - 102s 98ms/step - loss: 0.0623 - accuracy: 0.9854 - val_loss: 0.0382 - val_accuracy: 0.9895\n",
      "Epoch 9/80\n",
      "1048/1048 [==============================] - 97s 93ms/step - loss: 0.0449 - accuracy: 0.9864 - val_loss: 0.0787 - val_accuracy: 0.9819\n",
      "Epoch 10/80\n",
      "1048/1048 [==============================] - 94s 90ms/step - loss: 0.0572 - accuracy: 0.9852 - val_loss: 0.0547 - val_accuracy: 0.9866\n",
      "Epoch 11/80\n",
      "1048/1048 [==============================] - 96s 91ms/step - loss: 0.0415 - accuracy: 0.9885 - val_loss: 0.0469 - val_accuracy: 0.9885\n",
      "Epoch 12/80\n",
      "1048/1048 [==============================] - 88s 84ms/step - loss: 0.0425 - accuracy: 0.9866 - val_loss: 0.0332 - val_accuracy: 0.9943\n",
      "Epoch 13/80\n",
      "1048/1048 [==============================] - 93s 88ms/step - loss: 0.0404 - accuracy: 0.9895 - val_loss: 0.0342 - val_accuracy: 0.9895\n",
      "Epoch 14/80\n",
      "1048/1048 [==============================] - 90s 85ms/step - loss: 0.0385 - accuracy: 0.9893 - val_loss: 0.0551 - val_accuracy: 0.9895\n",
      "Epoch 15/80\n",
      "1048/1048 [==============================] - 94s 89ms/step - loss: 0.0358 - accuracy: 0.9921 - val_loss: 0.0248 - val_accuracy: 0.9943\n",
      "Epoch 16/80\n",
      "1048/1048 [==============================] - 95s 90ms/step - loss: 0.0340 - accuracy: 0.9902 - val_loss: 0.0194 - val_accuracy: 0.9924\n",
      "Epoch 17/80\n",
      "1048/1048 [==============================] - 120s 114ms/step - loss: 0.0358 - accuracy: 0.9919 - val_loss: 0.0204 - val_accuracy: 0.9914\n",
      "Epoch 18/80\n",
      "1048/1048 [==============================] - 127s 122ms/step - loss: 0.0297 - accuracy: 0.9914 - val_loss: 0.0239 - val_accuracy: 0.9924\n",
      "Epoch 19/80\n",
      "1048/1048 [==============================] - 128s 122ms/step - loss: 0.0338 - accuracy: 0.9919 - val_loss: 0.0399 - val_accuracy: 0.9933\n",
      "Epoch 20/80\n",
      "1048/1048 [==============================] - 129s 123ms/step - loss: 0.0377 - accuracy: 0.9926 - val_loss: 0.0234 - val_accuracy: 0.9914\n",
      "Epoch 21/80\n",
      "1048/1048 [==============================] - 104s 99ms/step - loss: 0.0341 - accuracy: 0.9914 - val_loss: 0.0303 - val_accuracy: 0.9924\n",
      "Epoch 22/80\n",
      "1048/1048 [==============================] - 109s 104ms/step - loss: 0.0299 - accuracy: 0.9928 - val_loss: 0.0203 - val_accuracy: 0.9924\n",
      "Epoch 23/80\n",
      "1048/1048 [==============================] - 122s 116ms/step - loss: 0.0323 - accuracy: 0.9916 - val_loss: 0.0342 - val_accuracy: 0.9933\n",
      "Epoch 24/80\n",
      "1048/1048 [==============================] - 140s 134ms/step - loss: 0.0277 - accuracy: 0.9931 - val_loss: 0.0274 - val_accuracy: 0.9952\n",
      "Epoch 25/80\n",
      "1048/1048 [==============================] - 130s 124ms/step - loss: 0.0271 - accuracy: 0.9936 - val_loss: 0.0193 - val_accuracy: 0.9962\n",
      "Epoch 26/80\n",
      "1048/1048 [==============================] - 109s 104ms/step - loss: 0.0224 - accuracy: 0.9950 - val_loss: 0.0323 - val_accuracy: 0.9924\n",
      "Epoch 27/80\n",
      "1048/1048 [==============================] - 98s 94ms/step - loss: 0.0299 - accuracy: 0.9914 - val_loss: 0.0256 - val_accuracy: 0.9933\n",
      "Epoch 28/80\n",
      "1048/1048 [==============================] - 120s 114ms/step - loss: 0.0278 - accuracy: 0.9931 - val_loss: 0.0223 - val_accuracy: 0.9962\n",
      "Epoch 29/80\n",
      "1048/1048 [==============================] - 121s 115ms/step - loss: 0.0253 - accuracy: 0.9947 - val_loss: 0.0157 - val_accuracy: 0.9971\n",
      "Epoch 30/80\n",
      "1048/1048 [==============================] - 114s 109ms/step - loss: 0.0199 - accuracy: 0.9945 - val_loss: 0.0310 - val_accuracy: 0.9943\n",
      "Epoch 31/80\n",
      "1048/1048 [==============================] - 122s 116ms/step - loss: 0.0198 - accuracy: 0.9945 - val_loss: 0.0193 - val_accuracy: 0.9933\n",
      "Epoch 32/80\n",
      "1048/1048 [==============================] - 114s 109ms/step - loss: 0.0234 - accuracy: 0.9931 - val_loss: 0.0103 - val_accuracy: 0.9971\n",
      "Epoch 33/80\n",
      "1048/1048 [==============================] - 113s 108ms/step - loss: 0.0246 - accuracy: 0.9955 - val_loss: 0.0099 - val_accuracy: 0.9943\n",
      "Epoch 34/80\n",
      "1048/1048 [==============================] - 110s 105ms/step - loss: 0.0232 - accuracy: 0.9952 - val_loss: 0.0329 - val_accuracy: 0.9895\n",
      "Epoch 35/80\n",
      "1048/1048 [==============================] - 126s 120ms/step - loss: 0.0240 - accuracy: 0.9950 - val_loss: 0.0208 - val_accuracy: 0.9981\n",
      "Epoch 36/80\n",
      "1048/1048 [==============================] - 129s 123ms/step - loss: 0.0176 - accuracy: 0.9955 - val_loss: 0.1008 - val_accuracy: 0.9790\n",
      "Epoch 37/80\n",
      "1048/1048 [==============================] - 131s 125ms/step - loss: 0.0272 - accuracy: 0.9943 - val_loss: 0.0327 - val_accuracy: 0.9933\n",
      "Epoch 38/80\n",
      "1048/1048 [==============================] - 154s 147ms/step - loss: 0.0217 - accuracy: 0.9952 - val_loss: 0.0334 - val_accuracy: 0.9924\n",
      "Epoch 39/80\n",
      "1048/1048 [==============================] - 136s 130ms/step - loss: 0.0148 - accuracy: 0.9950 - val_loss: 0.0317 - val_accuracy: 0.9905\n",
      "Epoch 40/80\n",
      "1048/1048 [==============================] - 207s 198ms/step - loss: 0.0184 - accuracy: 0.9952 - val_loss: 0.0221 - val_accuracy: 0.9952\n",
      "Epoch 41/80\n",
      "1048/1048 [==============================] - 112s 107ms/step - loss: 0.0136 - accuracy: 0.9971 - val_loss: 0.0206 - val_accuracy: 0.9971\n",
      "Epoch 42/80\n",
      "1048/1048 [==============================] - 102s 97ms/step - loss: 0.0209 - accuracy: 0.9945 - val_loss: 0.0316 - val_accuracy: 0.9914\n",
      "Epoch 43/80\n",
      "1048/1048 [==============================] - 107s 102ms/step - loss: 0.0211 - accuracy: 0.9955 - val_loss: 0.0158 - val_accuracy: 0.9962\n",
      "Epoch 44/80\n",
      "1048/1048 [==============================] - 104s 99ms/step - loss: 0.0156 - accuracy: 0.9952 - val_loss: 0.0359 - val_accuracy: 0.9914\n",
      "Epoch 45/80\n",
      "1048/1048 [==============================] - 102s 98ms/step - loss: 0.0193 - accuracy: 0.9957 - val_loss: 0.0687 - val_accuracy: 0.9876\n",
      "Epoch 46/80\n",
      "1048/1048 [==============================] - 108s 103ms/step - loss: 0.0260 - accuracy: 0.9950 - val_loss: 0.0091 - val_accuracy: 0.9981\n",
      "Epoch 47/80\n",
      "1048/1048 [==============================] - 112s 107ms/step - loss: 0.0283 - accuracy: 0.9952 - val_loss: 0.0255 - val_accuracy: 0.9924\n",
      "Epoch 48/80\n",
      "1048/1048 [==============================] - 125s 119ms/step - loss: 0.0172 - accuracy: 0.9950 - val_loss: 0.0085 - val_accuracy: 0.9943\n",
      "Epoch 49/80\n",
      "1048/1048 [==============================] - 114s 109ms/step - loss: 0.0158 - accuracy: 0.9957 - val_loss: 0.0120 - val_accuracy: 0.9943\n",
      "Epoch 50/80\n",
      "1048/1048 [==============================] - 133s 127ms/step - loss: 0.0230 - accuracy: 0.9950 - val_loss: 0.0146 - val_accuracy: 0.9981\n",
      "Epoch 51/80\n",
      "1048/1048 [==============================] - 124s 119ms/step - loss: 0.0151 - accuracy: 0.9964 - val_loss: 0.0166 - val_accuracy: 0.9924\n",
      "Epoch 52/80\n",
      "1048/1048 [==============================] - 173s 165ms/step - loss: 0.0219 - accuracy: 0.9955 - val_loss: 0.0309 - val_accuracy: 0.9971\n",
      "Epoch 53/80\n",
      "1048/1048 [==============================] - 165s 158ms/step - loss: 0.0144 - accuracy: 0.9964 - val_loss: 0.0147 - val_accuracy: 0.9971\n",
      "Epoch 54/80\n",
      "1048/1048 [==============================] - 165s 157ms/step - loss: 0.0212 - accuracy: 0.9943 - val_loss: 0.0123 - val_accuracy: 0.9962\n",
      "Epoch 55/80\n",
      "1048/1048 [==============================] - 254s 242ms/step - loss: 0.0136 - accuracy: 0.9964 - val_loss: 0.0253 - val_accuracy: 0.9952\n",
      "Epoch 56/80\n"
     ]
    },
    {
     "name": "stdout",
     "output_type": "stream",
     "text": [
      "1048/1048 [==============================] - 207s 198ms/step - loss: 0.0175 - accuracy: 0.9969 - val_loss: 0.0133 - val_accuracy: 0.9962\n",
      "Epoch 57/80\n",
      "1048/1048 [==============================] - 150s 144ms/step - loss: 0.0175 - accuracy: 0.9962 - val_loss: 0.0184 - val_accuracy: 0.9933\n",
      "Epoch 58/80\n",
      "1048/1048 [==============================] - 182s 174ms/step - loss: 0.0195 - accuracy: 0.9945 - val_loss: 0.0178 - val_accuracy: 0.9952\n",
      "Epoch 59/80\n",
      "1048/1048 [==============================] - 135s 129ms/step - loss: 0.0168 - accuracy: 0.9959 - val_loss: 0.0202 - val_accuracy: 0.9952\n",
      "Epoch 60/80\n",
      "1048/1048 [==============================] - 130s 124ms/step - loss: 0.0131 - accuracy: 0.9964 - val_loss: 0.0278 - val_accuracy: 0.9962\n",
      "Epoch 61/80\n",
      "1048/1048 [==============================] - 132s 126ms/step - loss: 0.0135 - accuracy: 0.9957 - val_loss: 0.0333 - val_accuracy: 0.9952\n",
      "Epoch 62/80\n",
      "1048/1048 [==============================] - 152s 145ms/step - loss: 0.0135 - accuracy: 0.9959 - val_loss: 0.0377 - val_accuracy: 0.9924\n",
      "Epoch 63/80\n",
      "1048/1048 [==============================] - 156s 149ms/step - loss: 0.0231 - accuracy: 0.9955 - val_loss: 0.0512 - val_accuracy: 0.9943\n",
      "Epoch 64/80\n",
      "1048/1048 [==============================] - 132s 126ms/step - loss: 0.0174 - accuracy: 0.9967 - val_loss: 0.0312 - val_accuracy: 0.9981\n",
      "Epoch 65/80\n",
      "1048/1048 [==============================] - 118s 112ms/step - loss: 0.0128 - accuracy: 0.9976 - val_loss: 0.0196 - val_accuracy: 0.9933\n",
      "Epoch 66/80\n",
      "1048/1048 [==============================] - 115s 110ms/step - loss: 0.0197 - accuracy: 0.9964 - val_loss: 0.0230 - val_accuracy: 0.9962\n",
      "Epoch 67/80\n",
      "1048/1048 [==============================] - 118s 112ms/step - loss: 0.0207 - accuracy: 0.9967 - val_loss: 0.0252 - val_accuracy: 0.9971\n",
      "Epoch 68/80\n",
      "1048/1048 [==============================] - 117s 112ms/step - loss: 0.0170 - accuracy: 0.9962 - val_loss: 0.0526 - val_accuracy: 0.9933\n",
      "Epoch 69/80\n",
      "1048/1048 [==============================] - 124s 118ms/step - loss: 0.0193 - accuracy: 0.9971 - val_loss: 0.0303 - val_accuracy: 0.9981\n",
      "Epoch 70/80\n",
      "1048/1048 [==============================] - 34006s 32s/step - loss: 0.0092 - accuracy: 0.9981 - val_loss: 0.0314 - val_accuracy: 0.9971\n",
      "Epoch 71/80\n",
      "1048/1048 [==============================] - 159s 152ms/step - loss: 0.0156 - accuracy: 0.9976 - val_loss: 0.0178 - val_accuracy: 0.9943\n",
      "Epoch 72/80\n",
      "1048/1048 [==============================] - 151s 144ms/step - loss: 0.0237 - accuracy: 0.9967 - val_loss: 0.0222 - val_accuracy: 0.9971\n",
      "Epoch 73/80\n",
      "1048/1048 [==============================] - 128s 122ms/step - loss: 0.0182 - accuracy: 0.9964 - val_loss: 0.0348 - val_accuracy: 0.9943\n",
      "Epoch 74/80\n",
      "1048/1048 [==============================] - 131s 125ms/step - loss: 0.0075 - accuracy: 0.9988 - val_loss: 0.0297 - val_accuracy: 0.9943\n",
      "Epoch 75/80\n",
      "1048/1048 [==============================] - 140s 134ms/step - loss: 0.0141 - accuracy: 0.9967 - val_loss: 0.0162 - val_accuracy: 0.9962\n",
      "Epoch 76/80\n",
      "1048/1048 [==============================] - 128s 122ms/step - loss: 0.0124 - accuracy: 0.9974 - val_loss: 0.0145 - val_accuracy: 0.9971\n",
      "Epoch 77/80\n",
      "1048/1048 [==============================] - 133s 127ms/step - loss: 0.0031 - accuracy: 0.9986 - val_loss: 0.0419 - val_accuracy: 0.9895\n",
      "Epoch 78/80\n",
      "1048/1048 [==============================] - 128s 122ms/step - loss: 0.0100 - accuracy: 0.9979 - val_loss: 0.0210 - val_accuracy: 0.9952\n",
      "Epoch 79/80\n",
      "1048/1048 [==============================] - 134s 128ms/step - loss: 0.0227 - accuracy: 0.9971 - val_loss: 0.0390 - val_accuracy: 0.9943\n",
      "Epoch 80/80\n",
      "1048/1048 [==============================] - 140s 134ms/step - loss: 0.0104 - accuracy: 0.9983 - val_loss: 0.0378 - val_accuracy: 0.9933\n"
     ]
    }
   ],
   "source": [
    "Batch_Size = 4\n",
    "Epoch_Anz = 80\n",
    "Shift_Range = 1\n",
    "Brightness_Range = 0.3\n",
    "Rotation_Angle = 10\n",
    "ZoomRange = 0.4\n",
    "\n",
    "datagen = ImageDataGenerator(width_shift_range=[-Shift_Range,Shift_Range], \n",
    "                             height_shift_range=[-Shift_Range,Shift_Range],\n",
    "                             brightness_range=[1-Brightness_Range,1+Brightness_Range],\n",
    "                             zoom_range=[1-ZoomRange, 1+ZoomRange],\n",
    "                             rotation_range=Rotation_Angle,\n",
    "                             validation_split=0.2)\n",
    "\n",
    "train_iterator = datagen.flow(X_train, y_train, batch_size=Batch_Size)\n",
    "validation_iterator = datagen.flow(X_test, y_test, batch_size=Batch_Size)\n",
    "\n",
    "history = model.fit_generator(train_iterator, validation_data = validation_iterator, epochs = Epoch_Anz)\n"
   ]
  },
  {
   "cell_type": "markdown",
   "metadata": {},
   "source": [
    "### Learing result\n",
    " \n",
    "* Visualization of the training and validation results"
   ]
  },
  {
   "cell_type": "code",
   "execution_count": 5,
   "metadata": {},
   "outputs": [
    {
     "data": {
      "image/png": "[encoded data removed]",
      "text/plain": [
       "<Figure size 432x288 with 1 Axes>"
      ]
     },
     "metadata": {
      "needs_background": "light"
     },
     "output_type": "display_data"
    }
   ],
   "source": [
    "loss_ges = np.append(loss_ges, history.history['loss'])\n",
    "val_loss_ges = np.append(val_loss_ges, history.history['val_loss'])\n",
    "\n",
    "plt.semilogy(history.history['loss'])\n",
    "plt.semilogy(history.history['val_loss'])\n",
    "plt.title('model loss')\n",
    "plt.ylabel('loss')\n",
    "plt.xlabel('epoch')\n",
    "plt.legend(['train','eval'], loc='upper left')\n",
    "plt.show()"
   ]
  },
  {
   "cell_type": "markdown",
   "metadata": {},
   "source": [
    "### Check the model by hand\n",
    "\n",
    "* The following code uses the trained model to check the deviation for each picture.\n",
    "* x-axis walks through each pixel, y-axis shows the result"
   ]
  },
  {
   "cell_type": "code",
   "execution_count": 6,
   "metadata": {},
   "outputs": [
    {
     "data": {
      "image/png": "[encoded data removed]",
      "text/plain": [
       "<Figure size 432x288 with 1 Axes>"
      ]
     },
     "metadata": {
      "needs_background": "light"
     },
     "output_type": "display_data"
    }
   ],
   "source": [
    "Input_dir='ziffer_sortiert_resize'\n",
    "subdir = [\"NaN\", \"0\", \"1\", \"2\", \"3\", \"4\", \"5\", \"6\", \"7\", \"8\", \"9\"]\n",
    "res = []\n",
    "\n",
    "for aktsubdir in subdir:\n",
    "    files = glob.glob(Input_dir + '/' + aktsubdir + '\\*.jpg')\n",
    "    if aktsubdir == \"NaN\":\n",
    "        zw1 = -1\n",
    "    else:\n",
    "        zw1 = int(aktsubdir)\n",
    "    for aktfile in files:\n",
    "        test_image = Image.open(aktfile)\n",
    "        test_image = np.array(test_image, dtype=\"float32\")\n",
    "        img = np.reshape(test_image,[1,32,20,3])\n",
    "        classes = model.predict_classes(img)\n",
    "        classes = classes[0]\n",
    "        if classes == 10: \n",
    "            classes = -1\n",
    "        zw2 = classes\n",
    "        zw3 = zw2 - zw1\n",
    "        res.append(np.array([zw1, zw2, zw3]))\n",
    "\n",
    "res = np.asarray(res)\n",
    "\n",
    "\n",
    "plt.plot(res[:,0])\n",
    "plt.plot(res[:,1])\n",
    "plt.title('Result')\n",
    "plt.ylabel('Digital Value')\n",
    "plt.xlabel('#Picture')\n",
    "plt.legend(['real','model'], loc='upper left')\n",
    "plt.show()"
   ]
  },
  {
   "cell_type": "markdown",
   "metadata": {},
   "source": [
    "### Save the model\n",
    "\n",
    "* Save the model to the file with the \"h5\" file format"
   ]
  },
  {
   "cell_type": "code",
   "execution_count": 7,
   "metadata": {},
   "outputs": [],
   "source": [
    "model.save(\"Train_CNN_Digital-Readout_Version_4.0.0.h5\")"
   ]
  },
  {
   "cell_type": "markdown",
   "metadata": {},
   "source": [
    "### Check each image for expected and deviation\n",
    "* setting the switch \"only_deviation = true\" will only print the images for which the classification and the CNN-result deviates\n",
    "\n",
    "The output contains the following information:\n",
    "\n",
    "| Filename      | Expected Category           | Predicted Category        |\n",
    "|------------- |:-----------------------------:|--------------|\n",
    "| ziffer_sortiert_resize_NaN/5\\Ziffer_4_0034.jpg | 4  | -1 |\n"
   ]
  },
  {
   "cell_type": "code",
   "execution_count": 8,
   "metadata": {},
   "outputs": [
    {
     "name": "stdout",
     "output_type": "stream",
     "text": [
      "ziffer_sortiert_resize/6\\Ziffer_6_0001.jpg 6 NaN\n",
      "ziffer_sortiert_resize/6\\Ziffer_6_0002.jpg 6 NaN\n",
      "ziffer_sortiert_resize/6\\Ziffer_6_0003.jpg 6 NaN\n",
      "ziffer_sortiert_resize/6\\Ziffer_6_0150.jpg 6 NaN\n",
      "ziffer_sortiert_resize/NaN\\Ziffer_NaN_0393.jpg NaN 5\n",
      "ziffer_sortiert_resize/NaN\\Ziffer_NaN_0394.jpg NaN 5\n",
      "ziffer_sortiert_resize/NaN\\Ziffer_NaN_0395.jpg NaN 5\n",
      "ziffer_sortiert_resize/NaN\\Ziffer_NaN_0396.jpg NaN 5\n",
      "ziffer_sortiert_resize/NaN\\Ziffer_NaN_0397.jpg NaN 5\n",
      "ziffer_sortiert_resize/NaN\\Ziffer_NaN_0398.jpg NaN 5\n",
      "ziffer_sortiert_resize/NaN\\Ziffer_NaN_0399.jpg NaN 5\n",
      "ziffer_sortiert_resize/NaN\\Ziffer_NaN_0400.jpg NaN 5\n",
      "ziffer_sortiert_resize/NaN\\Ziffer_NaN_0401.jpg NaN 5\n",
      "ziffer_sortiert_resize/NaN\\Ziffer_NaN_0402.jpg NaN 5\n",
      "ziffer_sortiert_resize/NaN\\Ziffer_NaN_0403.jpg NaN 5\n",
      "ziffer_sortiert_resize/NaN\\Ziffer_NaN_0404.jpg NaN 5\n",
      "ziffer_sortiert_resize/NaN\\Ziffer_NaN_0405.jpg NaN 5\n",
      "ziffer_sortiert_resize/NaN\\Ziffer_NaN_0406.jpg NaN 5\n",
      "ziffer_sortiert_resize/NaN\\Ziffer_NaN_0407.jpg NaN 5\n",
      "ziffer_sortiert_resize/NaN\\Ziffer_NaN_0408.jpg NaN 5\n",
      "ziffer_sortiert_resize/NaN\\Ziffer_NaN_0409.jpg NaN 5\n",
      "ziffer_sortiert_resize/NaN\\Ziffer_NaN_0410.jpg NaN 5\n",
      "ziffer_sortiert_resize/NaN\\Ziffer_NaN_0411.jpg NaN 5\n",
      "ziffer_sortiert_resize/NaN\\Ziffer_NaN_0412.jpg NaN 5\n",
      "ziffer_sortiert_resize/NaN\\Ziffer_NaN_0413.jpg NaN 5\n",
      "ziffer_sortiert_resize/NaN\\Ziffer_NaN_0414.jpg NaN 5\n",
      "ziffer_sortiert_resize/NaN\\Ziffer_NaN_0415.jpg NaN 5\n",
      "ziffer_sortiert_resize/NaN\\Ziffer_NaN_0416.jpg NaN 5\n",
      "ziffer_sortiert_resize/NaN\\Ziffer_NaN_0417.jpg NaN 5\n",
      "ziffer_sortiert_resize/NaN\\Ziffer_NaN_0418.jpg NaN 5\n",
      "ziffer_sortiert_resize/NaN\\Ziffer_NaN_0419.jpg NaN 5\n",
      "ziffer_sortiert_resize/NaN\\Ziffer_NaN_0420.jpg NaN 5\n",
      "ziffer_sortiert_resize/NaN\\Ziffer_NaN_0424.jpg NaN 5\n",
      "ziffer_sortiert_resize/NaN\\Ziffer_NaN_0425.jpg NaN 5\n",
      "ziffer_sortiert_resize/NaN\\Ziffer_NaN_0427.jpg NaN 5\n",
      "ziffer_sortiert_resize/NaN\\Ziffer_NaN_0429.jpg NaN 5\n",
      "ziffer_sortiert_resize/NaN\\Ziffer_NaN_0443.jpg NaN 5\n",
      "ziffer_sortiert_resize/NaN\\Ziffer_NaN_0444.jpg NaN 5\n",
      "ziffer_sortiert_resize/NaN\\Ziffer_NaN_0445.jpg NaN 5\n",
      "ziffer_sortiert_resize/NaN\\Ziffer_NaN_0446.jpg NaN 5\n",
      "ziffer_sortiert_resize/NaN\\Ziffer_NaN_1914.jpg NaN 1\n"
     ]
    }
   ],
   "source": [
    "Input_dir='ziffer_sortiert_resize'\n",
    "only_deviation = True\n",
    "\n",
    "subdir = [\"0\", \"1\", \"2\", \"3\", \"4\", \"5\", \"6\", \"7\", \"8\", \"9\", \"NaN\"]\n",
    "\n",
    "for aktsubdir in subdir:\n",
    "    files = glob.glob(Input_dir + '/' + aktsubdir + '\\*.jpg')\n",
    "    expected_class = aktsubdir\n",
    "    for aktfile in files:\n",
    "        test_image = Image.open(aktfile)\n",
    "        test_image = np.array(test_image, dtype=\"float32\")\n",
    "        img = np.reshape(test_image,[1,32,20,3])\n",
    "        classes = model.predict_classes(img)\n",
    "        classes = classes[0]\n",
    "        if classes == 10: \n",
    "            classes = \"NaN\"\n",
    "        if only_deviation == True:\n",
    "            if str(classes) != str(expected_class):\n",
    "                print(aktfile + \" \" + aktsubdir +  \" \" + str(classes))\n",
    "        else:\n",
    "            print(aktfile + \" \" + aktsubdir +  \" \" + str(classes))\n"
   ]
  },
  {
   "cell_type": "markdown",
   "metadata": {},
   "source": [
    "Checking the images shows, that this are border line images, which can be interpreted as a good digit or a faulty one."
   ]
  },
  {
   "cell_type": "code",
   "execution_count": null,
   "metadata": {},
   "outputs": [],
   "source": []
  }
 ],
 "metadata": {
  "kernelspec": {
   "display_name": "Python 3",
   "language": "python",
   "name": "python3"
  },
  "language_info": {
   "codemirror_mode": {
    "name": "ipython",
    "version": 3
   },
   "file_extension": ".py",
   "mimetype": "text/x-python",
   "name": "python",
   "nbconvert_exporter": "python",
   "pygments_lexer": "ipython3",
   "version": "3.7.5"
  }
 },
 "nbformat": 4,
 "nbformat_minor": 2
}
