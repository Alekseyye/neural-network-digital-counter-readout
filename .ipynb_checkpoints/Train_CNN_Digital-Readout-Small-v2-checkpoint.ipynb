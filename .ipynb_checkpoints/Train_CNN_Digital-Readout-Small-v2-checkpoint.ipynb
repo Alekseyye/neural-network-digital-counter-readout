{
 "cells": [
  {
   "cell_type": "markdown",
   "metadata": {},
   "source": [
    "# CNN Training\n",
    "\n",
    "Target of this code is to train a CNN network to classify images of a digital readout to the digits 0 to 9. Additionally a category \"NaN\" is introduced, to mark images that are not amibiguous.\n",
    "\n",
    "### Preparing the training\n",
    "* First all libraries are loaded\n",
    "    * It is assumed, that they are installed during the Python setup\n",
    "* matplotlib is set to print the output inline in the jupyter notebook"
   ]
  },
  {
   "cell_type": "code",
   "execution_count": 1,
   "metadata": {
    "scrolled": true
   },
   "outputs": [],
   "source": [
    "########### Basic Parameters for Running: ################################\n",
    "    \n",
    "TFliteNamingAndVersion = \"dig1400s2\"   # Used for tflite Filename\n",
    "Training_Percentage = 0.0              # 0.0 = Use all Images for Training\n",
    "Epoch_Anz = 500\n",
    "\n",
    "##########################################################################\n",
    "\n",
    "\n",
    "import tensorflow as tf\n",
    "import matplotlib.pyplot as plt\n",
    "import glob\n",
    "import os\n",
    "import numpy as np\n",
    "from sklearn.utils import shuffle\n",
    "from tensorflow.python import keras\n",
    "from tensorflow.python.keras import Sequential\n",
    "from tensorflow.python.keras.layers import Dense, InputLayer, Conv2D, MaxPool2D, Flatten, BatchNormalization\n",
    "from tensorflow.keras.preprocessing.image import ImageDataGenerator\n",
    "from sklearn.model_selection import train_test_split\n",
    "from tensorflow.keras.callbacks import History \n",
    "from tensorflow.keras.utils import to_categorical\n",
    "from PIL import Image \n",
    "from pathlib import Path\n",
    "\n",
    "loss_ges = np.array([])\n",
    "val_loss_ges = np.array([])\n",
    "\n",
    "%matplotlib inline\n",
    "np.set_printoptions(precision=4)\n",
    "np.set_printoptions(suppress=True)"
   ]
  },
  {
   "cell_type": "markdown",
   "metadata": {},
   "source": [
    "### Load training data\n",
    "* The data is expected in the \"Input_dir\"\n",
    "* Inside subdirectories are expected from -1, 0, 1, ... 9 in which the pictures are sorted according to their values (=category)\n",
    "* Picture size must be 20x32 with 3 color channels (RGB)\n",
    "* The filename can be arbitrary\n",
    "\n",
    "* The images are stored in the x_data[]\n",
    "* The expected category for each image in the corresponding y_data[]\n",
    "\n",
    "* The last step is a shuffle (from sklearn.utils) and split the data into training and validation data"
   ]
  },
  {
   "cell_type": "code",
   "execution_count": 2,
   "metadata": {},
   "outputs": [
    {
     "name": "stdout",
     "output_type": "stream",
     "text": [
      "(1525, 32, 20, 3)\n",
      "(1525, 11)\n"
     ]
    }
   ],
   "source": [
    "Input_dir='ziffer_sortiert_resize'\n",
    "\n",
    "files = glob.glob(Input_dir + '/*.jpg')\n",
    "x_data = []\n",
    "y_data = []\n",
    "\n",
    "for aktfile in files:\n",
    "    base = os.path.basename(aktfile)\n",
    "    target = base[0:1]\n",
    "    if target == \"N\":\n",
    "        category = 10                # NaN does not work --> convert to 10\n",
    "    else:\n",
    "        category = int(target)\n",
    "    test_image = Image.open(aktfile)\n",
    "    test_image = np.array(test_image, dtype=\"float32\")\n",
    "    x_data.append(test_image)\n",
    "    y_data.append(np.array([category]))\n",
    "\n",
    "x_data = np.array(x_data)\n",
    "y_data = np.array(y_data)\n",
    "y_data = to_categorical(y_data, 11)\n",
    "print(x_data.shape)\n",
    "print(y_data.shape)\n",
    "\n",
    "x_data, y_data = shuffle(x_data, y_data)\n",
    "\n",
    "if (Training_Percentage > 0):\n",
    "    X_train, X_test, y_train, y_test = train_test_split(x_data, y_data, test_size=Training_Percentage)\n",
    "else:\n",
    "    X_train = x_data\n",
    "    y_train = y_data"
   ]
  },
  {
   "cell_type": "markdown",
   "metadata": {},
   "source": [
    "### Define the model\n",
    "\n",
    "The layout of the network ist a typcial CNN network with alternating **Conv2D** and **MaxPool2D** layers. Finished after **flattening** with additional **Dense** layer.\n",
    "\n",
    "#### Important\n",
    "* Shape of the input layer: (32, 20, 3)\n",
    "* Number of output layers: 11\n",
    "* As loss function \"categorical_crossentropy\" is choosen, as it is a categories task"
   ]
  },
  {
   "cell_type": "code",
   "execution_count": 3,
   "metadata": {},
   "outputs": [
    {
     "name": "stdout",
     "output_type": "stream",
     "text": [
      "Model: \"sequential\"\n",
      "_________________________________________________________________\n",
      "Layer (type)                 Output Shape              Param #   \n",
      "=================================================================\n",
      "batch_normalization (BatchNo (None, 32, 20, 3)         12        \n",
      "_________________________________________________________________\n",
      "conv2d (Conv2D)              (None, 32, 20, 32)        896       \n",
      "_________________________________________________________________\n",
      "max_pooling2d (MaxPooling2D) (None, 16, 10, 32)        0         \n",
      "_________________________________________________________________\n",
      "conv2d_1 (Conv2D)            (None, 16, 10, 32)        9248      \n",
      "_________________________________________________________________\n",
      "max_pooling2d_1 (MaxPooling2 (None, 8, 5, 32)          0         \n",
      "_________________________________________________________________\n",
      "conv2d_2 (Conv2D)            (None, 8, 5, 32)          9248      \n",
      "_________________________________________________________________\n",
      "max_pooling2d_2 (MaxPooling2 (None, 4, 2, 32)          0         \n",
      "_________________________________________________________________\n",
      "flatten (Flatten)            (None, 256)               0         \n",
      "_________________________________________________________________\n",
      "dense (Dense)                (None, 256)               65792     \n",
      "_________________________________________________________________\n",
      "dense_1 (Dense)              (None, 11)                2827      \n",
      "=================================================================\n",
      "Total params: 88,023\n",
      "Trainable params: 88,017\n",
      "Non-trainable params: 6\n",
      "_________________________________________________________________\n"
     ]
    }
   ],
   "source": [
    "model = Sequential()\n",
    "model.add(BatchNormalization(input_shape=(32,20,3)))\n",
    "model.add(Conv2D(32, (3, 3), padding='same', activation=\"relu\"))\n",
    "model.add(MaxPool2D(pool_size=(2,2)))\n",
    "model.add(Conv2D(32, (3, 3), padding='same'))\n",
    "model.add(MaxPool2D(pool_size=(2,2)))\n",
    "model.add(Conv2D(32, (3, 3), padding='same'))\n",
    "model.add(MaxPool2D(pool_size=(2,2)))\n",
    "model.add(Flatten())\n",
    "model.add(Dense(256,activation=\"relu\"))\n",
    "model.add(Dense(11, activation = \"softmax\"))\n",
    "model.summary()\n",
    "\n",
    "model.compile(loss=keras.losses.categorical_crossentropy, optimizer=tf.keras.optimizers.Adadelta(learning_rate=1.0, rho=0.95), metrics = [\"accuracy\"])"
   ]
  },
  {
   "cell_type": "markdown",
   "metadata": {},
   "source": [
    "# Training\n",
    "The input pictures are randomly scattered for brightness, pixel shift variations and rotation angle. This is implemented with a ImageDataGenerator.\n"
   ]
  },
  {
   "cell_type": "code",
   "execution_count": 4,
   "metadata": {
    "scrolled": true
   },
   "outputs": [
    {
     "name": "stdout",
     "output_type": "stream",
     "text": [
      "Epoch 1/500\n",
      "382/382 [==============================] - 6s 15ms/step - loss: 1.8737 - accuracy: 0.3961\n",
      "Epoch 2/500\n",
      "382/382 [==============================] - 6s 16ms/step - loss: 1.0883 - accuracy: 0.6531\n",
      "Epoch 3/500\n",
      "382/382 [==============================] - 5s 14ms/step - loss: 0.8371 - accuracy: 0.7384\n",
      "Epoch 4/500\n",
      "382/382 [==============================] - 6s 16ms/step - loss: 0.6673 - accuracy: 0.7987 1s -\n",
      "Epoch 5/500\n",
      "382/382 [==============================] - 6s 17ms/step - loss: 0.5608 - accuracy: 0.8256\n",
      "Epoch 6/500\n",
      "382/382 [==============================] - 6s 15ms/step - loss: 0.4955 - accuracy: 0.8485 0s - loss: 0.4938 - accura\n",
      "Epoch 7/500\n",
      "382/382 [==============================] - 6s 16ms/step - loss: 0.4911 - accuracy: 0.8452\n",
      "Epoch 8/500\n",
      "382/382 [==============================] - 9s 24ms/step - loss: 0.4145 - accuracy: 0.8774\n",
      "Epoch 9/500\n",
      "382/382 [==============================] - 8s 22ms/step - loss: 0.3688 - accuracy: 0.8852\n",
      "Epoch 10/500\n",
      "382/382 [==============================] - 8s 22ms/step - loss: 0.3314 - accuracy: 0.8984 0s - loss: 0.3312 -  - ETA: 0s - loss: 0.3320 - accuracy: \n",
      "Epoch 11/500\n",
      "382/382 [==============================] - 7s 19ms/step - loss: 0.3314 - accuracy: 0.8892\n",
      "Epoch 12/500\n",
      "382/382 [==============================] - 7s 19ms/step - loss: 0.2826 - accuracy: 0.9134\n",
      "Epoch 13/500\n",
      "382/382 [==============================] - 6s 15ms/step - loss: 0.2640 - accuracy: 0.9200\n",
      "Epoch 14/500\n",
      "382/382 [==============================] - 6s 15ms/step - loss: 0.2540 - accuracy: 0.9187\n",
      "Epoch 15/500\n",
      "382/382 [==============================] - 6s 16ms/step - loss: 0.1863 - accuracy: 0.9357\n",
      "Epoch 16/500\n",
      "382/382 [==============================] - 6s 15ms/step - loss: 0.2204 - accuracy: 0.9305\n",
      "Epoch 17/500\n",
      "382/382 [==============================] - 7s 17ms/step - loss: 0.1985 - accuracy: 0.9416\n",
      "Epoch 18/500\n",
      "382/382 [==============================] - 6s 16ms/step - loss: 0.1943 - accuracy: 0.9364\n",
      "Epoch 19/500\n",
      "382/382 [==============================] - 5s 14ms/step - loss: 0.2289 - accuracy: 0.9338\n",
      "Epoch 20/500\n",
      "382/382 [==============================] - 6s 17ms/step - loss: 0.1866 - accuracy: 0.9443\n",
      "Epoch 21/500\n",
      "382/382 [==============================] - 6s 17ms/step - loss: 0.1424 - accuracy: 0.9561 0s - loss:\n",
      "Epoch 22/500\n",
      "382/382 [==============================] - 6s 15ms/step - loss: 0.1941 - accuracy: 0.9489\n",
      "Epoch 23/500\n",
      "382/382 [==============================] - 6s 17ms/step - loss: 0.1436 - accuracy: 0.9521\n",
      "Epoch 24/500\n",
      "382/382 [==============================] - 6s 15ms/step - loss: 0.1535 - accuracy: 0.9502\n",
      "Epoch 25/500\n",
      "382/382 [==============================] - 6s 15ms/step - loss: 0.1611 - accuracy: 0.9554\n",
      "Epoch 26/500\n",
      "382/382 [==============================] - 6s 16ms/step - loss: 0.1746 - accuracy: 0.9436\n",
      "Epoch 27/500\n",
      "382/382 [==============================] - 6s 16ms/step - loss: 0.1439 - accuracy: 0.9659\n",
      "Epoch 28/500\n",
      "382/382 [==============================] - 5s 14ms/step - loss: 0.1652 - accuracy: 0.9462 0s - loss: 0.1681 - accuracy: \n",
      "Epoch 29/500\n",
      "382/382 [==============================] - 6s 15ms/step - loss: 0.1320 - accuracy: 0.9620\n",
      "Epoch 30/500\n",
      "382/382 [==============================] - 6s 15ms/step - loss: 0.1220 - accuracy: 0.9646\n",
      "Epoch 31/500\n",
      "382/382 [==============================] - 5s 14ms/step - loss: 0.1256 - accuracy: 0.9633\n",
      "Epoch 32/500\n",
      "382/382 [==============================] - 6s 16ms/step - loss: 0.1227 - accuracy: 0.9633 0s - loss: 0.1153 \n",
      "Epoch 33/500\n",
      "382/382 [==============================] - 6s 15ms/step - loss: 0.1201 - accuracy: 0.9652\n",
      "Epoch 34/500\n",
      "382/382 [==============================] - 5s 14ms/step - loss: 0.1009 - accuracy: 0.9698\n",
      "Epoch 35/500\n",
      "382/382 [==============================] - 6s 15ms/step - loss: 0.1138 - accuracy: 0.9626 2s - loss: 0.1273 \n",
      "Epoch 36/500\n",
      "382/382 [==============================] - 6s 16ms/step - loss: 0.0994 - accuracy: 0.9744\n",
      "Epoch 37/500\n",
      "382/382 [==============================] - 6s 15ms/step - loss: 0.0930 - accuracy: 0.9646\n",
      "Epoch 38/500\n",
      "382/382 [==============================] - 6s 15ms/step - loss: 0.1033 - accuracy: 0.9698\n",
      "Epoch 39/500\n",
      "382/382 [==============================] - 6s 16ms/step - loss: 0.0896 - accuracy: 0.9672\n",
      "Epoch 40/500\n",
      "382/382 [==============================] - 6s 15ms/step - loss: 0.0962 - accuracy: 0.9725\n",
      "Epoch 41/500\n",
      "382/382 [==============================] - 5s 14ms/step - loss: 0.0738 - accuracy: 0.9757\n",
      "Epoch 42/500\n",
      "382/382 [==============================] - 6s 16ms/step - loss: 0.0950 - accuracy: 0.9679\n",
      "Epoch 43/500\n",
      "382/382 [==============================] - 6s 16ms/step - loss: 0.1149 - accuracy: 0.9705\n",
      "Epoch 44/500\n",
      "382/382 [==============================] - 5s 14ms/step - loss: 0.0802 - accuracy: 0.9751\n",
      "Epoch 45/500\n",
      "382/382 [==============================] - 6s 16ms/step - loss: 0.0671 - accuracy: 0.9770\n",
      "Epoch 46/500\n",
      "382/382 [==============================] - 6s 15ms/step - loss: 0.0762 - accuracy: 0.9757\n",
      "Epoch 47/500\n",
      "382/382 [==============================] - 6s 14ms/step - loss: 0.1067 - accuracy: 0.9659\n",
      "Epoch 48/500\n",
      "382/382 [==============================] - 6s 15ms/step - loss: 0.0696 - accuracy: 0.9744\n",
      "Epoch 49/500\n",
      "382/382 [==============================] - 6s 17ms/step - loss: 0.1261 - accuracy: 0.9666\n",
      "Epoch 50/500\n",
      "382/382 [==============================] - 5s 14ms/step - loss: 0.0802 - accuracy: 0.9777 0s - loss: 0.0831 - accuracy:  - ETA: 0s - loss: 0\n",
      "Epoch 51/500\n",
      "382/382 [==============================] - 6s 16ms/step - loss: 0.0911 - accuracy: 0.9718\n",
      "Epoch 52/500\n",
      "382/382 [==============================] - 6s 16ms/step - loss: 0.0710 - accuracy: 0.9764\n",
      "Epoch 53/500\n",
      "382/382 [==============================] - 6s 15ms/step - loss: 0.1102 - accuracy: 0.9672\n",
      "Epoch 54/500\n",
      "382/382 [==============================] - 6s 15ms/step - loss: 0.0896 - accuracy: 0.9738\n",
      "Epoch 55/500\n",
      "382/382 [==============================] - 6s 16ms/step - loss: 0.1017 - accuracy: 0.9705\n",
      "Epoch 56/500\n",
      "382/382 [==============================] - 6s 14ms/step - loss: 0.0643 - accuracy: 0.9803 0s - loss: 0.0647 - accuracy\n",
      "Epoch 57/500\n",
      "382/382 [==============================] - 6s 16ms/step - loss: 0.0669 - accuracy: 0.9803\n",
      "Epoch 58/500\n",
      "382/382 [==============================] - 6s 17ms/step - loss: 0.0888 - accuracy: 0.9738\n",
      "Epoch 59/500\n",
      "382/382 [==============================] - 5s 14ms/step - loss: 0.0533 - accuracy: 0.9830\n",
      "Epoch 60/500\n",
      "382/382 [==============================] - 6s 15ms/step - loss: 0.0658 - accuracy: 0.9797\n",
      "Epoch 61/500\n",
      "382/382 [==============================] - 6s 15ms/step - loss: 0.0872 - accuracy: 0.9764\n",
      "Epoch 62/500\n",
      "382/382 [==============================] - 5s 14ms/step - loss: 0.0695 - accuracy: 0.9797\n",
      "Epoch 63/500\n",
      "382/382 [==============================] - 6s 16ms/step - loss: 0.0687 - accuracy: 0.9797\n",
      "Epoch 64/500\n",
      "382/382 [==============================] - 5s 14ms/step - loss: 0.0658 - accuracy: 0.9823\n",
      "Epoch 65/500\n",
      "382/382 [==============================] - 6s 16ms/step - loss: 0.0443 - accuracy: 0.9856 \n",
      "Epoch 74/500\n",
      "382/382 [==============================] - 5s 14ms/step - loss: 0.0773 - accuracy: 0.9823\n",
      "Epoch 75/500\n",
      "382/382 [==============================] - 6s 15ms/step - loss: 0.0678 - accuracy: 0.9777\n",
      "Epoch 76/500\n",
      "382/382 [==============================] - 6s 16ms/step - loss: 0.0405 - accuracy: 0.9869 2s - ETA: \n",
      "Epoch 77/500\n",
      "382/382 [==============================] - 6s 15ms/step - loss: 0.0704 - accuracy: 0.9764\n",
      "Epoch 78/500\n",
      "382/382 [==============================] - 6s 17ms/step - loss: 0.0461 - accuracy: 0.9836\n",
      "Epoch 79/500\n",
      "382/382 [==============================] - 6s 16ms/step - loss: 0.0582 - accuracy: 0.9836\n",
      "Epoch 80/500\n",
      "382/382 [==============================] - 5s 14ms/step - loss: 0.0939 - accuracy: 0.9751\n",
      "Epoch 81/500\n",
      "382/382 [==============================] - 6s 16ms/step - loss: 0.0746 - accuracy: 0.9816\n",
      "Epoch 82/500\n",
      "382/382 [==============================] - 6s 16ms/step - loss: 0.0576 - accuracy: 0.9856\n",
      "Epoch 83/500\n",
      "382/382 [==============================] - 5s 14ms/step - loss: 0.0442 - accuracy: 0.9830\n",
      "Epoch 84/500\n",
      "382/382 [==============================] - 6s 17ms/step - loss: 0.0523 - accuracy: 0.9843 2s - - ETA: 1s - los\n",
      "Epoch 85/500\n"
     ]
    },
    {
     "name": "stdout",
     "output_type": "stream",
     "text": [
      "382/382 [==============================] - 6s 15ms/step - loss: 0.0525 - accuracy: 0.9849\n",
      "Epoch 86/500\n",
      "382/382 [==============================] - 6s 15ms/step - loss: 0.0523 - accuracy: 0.9862\n",
      "Epoch 87/500\n",
      "382/382 [==============================] - 6s 15ms/step - loss: 0.0388 - accuracy: 0.9856\n",
      "Epoch 88/500\n",
      "382/382 [==============================] - 6s 16ms/step - loss: 0.0293 - accuracy: 0.9902\n",
      "Epoch 89/500\n",
      "382/382 [==============================] - 5s 14ms/step - loss: 0.0503 - accuracy: 0.9869\n",
      "Epoch 90/500\n",
      "382/382 [==============================] - 5s 13ms/step - loss: 0.0414 - accuracy: 0.9862 0s - loss: 0.0379 - \n",
      "Epoch 91/500\n",
      "382/382 [==============================] - 6s 15ms/step - loss: 0.0369 - accuracy: 0.9856\n",
      "Epoch 92/500\n",
      "382/382 [==============================] - 6s 16ms/step - loss: 0.0498 - accuracy: 0.9856\n",
      "Epoch 93/500\n",
      "382/382 [==============================] - 5s 14ms/step - loss: 0.0331 - accuracy: 0.9895\n",
      "Epoch 94/500\n",
      "382/382 [==============================] - 6s 15ms/step - loss: 0.0443 - accuracy: 0.9869\n",
      "Epoch 95/500\n",
      "382/382 [==============================] - 6s 16ms/step - loss: 0.0557 - accuracy: 0.9843\n",
      "Epoch 96/500\n",
      "382/382 [==============================] - 5s 13ms/step - loss: 0.0679 - accuracy: 0.9810\n",
      "Epoch 97/500\n",
      "382/382 [==============================] - 6s 15ms/step - loss: 0.0451 - accuracy: 0.9849\n",
      "Epoch 98/500\n",
      "382/382 [==============================] - 6s 15ms/step - loss: 0.0488 - accuracy: 0.9862\n",
      "Epoch 99/500\n",
      "382/382 [==============================] - 5s 13ms/step - loss: 0.0610 - accuracy: 0.9849\n",
      "Epoch 100/500\n",
      "382/382 [==============================] - 6s 16ms/step - loss: 0.0436 - accuracy: 0.9849\n",
      "Epoch 101/500\n",
      "382/382 [==============================] - 6s 15ms/step - loss: 0.0449 - accuracy: 0.9895\n",
      "Epoch 102/500\n",
      "382/382 [==============================] - 6s 15ms/step - loss: 0.0291 - accuracy: 0.9921\n",
      "Epoch 103/500\n",
      "382/382 [==============================] - 6s 16ms/step - loss: 0.0558 - accuracy: 0.9856\n",
      "Epoch 104/500\n",
      "382/382 [==============================] - 6s 15ms/step - loss: 0.0454 - accuracy: 0.9862\n",
      "Epoch 105/500\n",
      "382/382 [==============================] - 5s 14ms/step - loss: 0.0444 - accuracy: 0.9830\n",
      "Epoch 106/500\n",
      "382/382 [==============================] - 6s 15ms/step - loss: 0.0586 - accuracy: 0.9869 0s - l\n",
      "Epoch 107/500\n",
      "382/382 [==============================] - 6s 15ms/step - loss: 0.0325 - accuracy: 0.9908\n",
      "Epoch 108/500\n",
      "382/382 [==============================] - 5s 14ms/step - loss: 0.0455 - accuracy: 0.9856\n",
      "Epoch 109/500\n",
      "382/382 [==============================] - 6s 16ms/step - loss: 0.0485 - accuracy: 0.9869 0s - loss: 0.045\n",
      "Epoch 110/500\n",
      "382/382 [==============================] - 5s 14ms/step - loss: 0.0180 - accuracy: 0.9948\n",
      "Epoch 239/500\n",
      "382/382 [==============================] - 6s 15ms/step - loss: 0.0133 - accuracy: 0.9974 0s - loss: 0\n",
      "Epoch 240/500\n",
      "382/382 [==============================] - 6s 16ms/step - loss: 0.0288 - accuracy: 0.9921\n",
      "Epoch 241/500\n",
      "382/382 [==============================] - 5s 14ms/step - loss: 0.0077 - accuracy: 0.9948\n",
      "Epoch 242/500\n",
      "382/382 [==============================] - 6s 15ms/step - loss: 0.0074 - accuracy: 0.9974\n",
      "Epoch 243/500\n",
      "382/382 [==============================] - 6s 17ms/step - loss: 0.0283 - accuracy: 0.9954\n",
      "Epoch 244/500\n",
      "382/382 [==============================] - 5s 14ms/step - loss: 0.0160 - accuracy: 0.9954 0s - loss: 0.0127 - accuracy: \n",
      "Epoch 245/500\n",
      "382/382 [==============================] - 5s 14ms/step - loss: 0.0245 - accuracy: 0.9928\n",
      "Epoch 246/500\n",
      "382/382 [==============================] - 6s 15ms/step - loss: 0.0201 - accuracy: 0.9934\n",
      "Epoch 247/500\n",
      "382/382 [==============================] - 6s 15ms/step - loss: 0.0110 - accuracy: 0.9961\n",
      "Epoch 248/500\n",
      "382/382 [==============================] - 6s 15ms/step - loss: 0.0191 - accuracy: 0.9954\n",
      "Epoch 249/500\n",
      "382/382 [==============================] - 6s 15ms/step - loss: 0.0266 - accuracy: 0.9954\n",
      "Epoch 250/500\n",
      "382/382 [==============================] - 6s 15ms/step - loss: 0.0288 - accuracy: 0.9921\n",
      "Epoch 251/500\n",
      "382/382 [==============================] - 5s 14ms/step - loss: 0.0097 - accuracy: 0.9974\n",
      "Epoch 252/500\n",
      "382/382 [==============================] - 6s 15ms/step - loss: 0.0338 - accuracy: 0.9928\n",
      "Epoch 253/500\n",
      "382/382 [==============================] - 6s 15ms/step - loss: 0.0149 - accuracy: 0.9934\n",
      "Epoch 254/500\n",
      "382/382 [==============================] - 5s 13ms/step - loss: 0.0201 - accuracy: 0.9954\n",
      "Epoch 255/500\n",
      "382/382 [==============================] - 6s 15ms/step - loss: 0.0218 - accuracy: 0.9934\n",
      "Epoch 256/500\n",
      "382/382 [==============================] - 6s 15ms/step - loss: 0.0135 - accuracy: 0.9948\n",
      "Epoch 257/500\n",
      "382/382 [==============================] - 6s 14ms/step - loss: 0.0230 - accuracy: 0.9915\n",
      "Epoch 258/500\n",
      "382/382 [==============================] - 6s 15ms/step - loss: 0.0331 - accuracy: 0.9921\n",
      "Epoch 259/500\n",
      "382/382 [==============================] - 6s 15ms/step - loss: 0.0336 - accuracy: 0.9948\n",
      "Epoch 260/500\n",
      "382/382 [==============================] - 5s 14ms/step - loss: 0.0375 - accuracy: 0.9902\n",
      "Epoch 261/500\n",
      "382/382 [==============================] - 6s 15ms/step - loss: 0.0145 - accuracy: 0.9954\n",
      "Epoch 262/500\n",
      "382/382 [==============================] - 6s 15ms/step - loss: 0.0527 - accuracy: 0.9934\n",
      "Epoch 263/500\n",
      "382/382 [==============================] - 5s 14ms/step - loss: 0.0197 - accuracy: 0.9941\n",
      "Epoch 264/500\n",
      "382/382 [==============================] - 6s 15ms/step - loss: 0.0191 - accuracy: 0.9941 0s - loss: 0.0170 - accuracy\n",
      "Epoch 265/500\n",
      "382/382 [==============================] - 6s 14ms/step - loss: 0.0324 - accuracy: 0.9941\n",
      "Epoch 266/500\n",
      "382/382 [==============================] - 5s 14ms/step - loss: 0.0183 - accuracy: 0.9974\n",
      "Epoch 267/500\n",
      "382/382 [==============================] - 6s 16ms/step - loss: 0.0379 - accuracy: 0.9934\n",
      "Epoch 268/500\n",
      "382/382 [==============================] - 6s 16ms/step - loss: 0.0224 - accuracy: 0.9934\n",
      "Epoch 269/500\n",
      "382/382 [==============================] - 5s 14ms/step - loss: 0.0251 - accuracy: 0.9948\n",
      "Epoch 270/500\n",
      "382/382 [==============================] - 6s 15ms/step - loss: 0.0098 - accuracy: 0.9974\n",
      "Epoch 271/500\n",
      "382/382 [==============================] - 6s 16ms/step - loss: 0.0325 - accuracy: 0.9941\n",
      "Epoch 272/500\n",
      "382/382 [==============================] - 5s 14ms/step - loss: 0.0461 - accuracy: 0.9895\n",
      "Epoch 273/500\n",
      "382/382 [==============================] - 6s 15ms/step - loss: 0.0251 - accuracy: 0.9948\n",
      "Epoch 274/500\n",
      "382/382 [==============================] - 4s 10ms/step - loss: 0.0100 - accuracy: 0.9987\n",
      "Epoch 408/500\n",
      "382/382 [==============================] - 4s 10ms/step - loss: 0.0097 - accuracy: 0.9974\n",
      "Epoch 409/500\n",
      "382/382 [==============================] - 4s 10ms/step - loss: 0.0136 - accuracy: 0.9987\n",
      "Epoch 410/500\n",
      "382/382 [==============================] - 4s 10ms/step - loss: 0.0307 - accuracy: 0.9980\n",
      "Epoch 411/500\n",
      "382/382 [==============================] - 4s 10ms/step - loss: 0.0361 - accuracy: 0.9934\n",
      "Epoch 412/500\n",
      "382/382 [==============================] - 4s 10ms/step - loss: 0.0065 - accuracy: 0.9974\n",
      "Epoch 413/500\n",
      "382/382 [==============================] - 4s 10ms/step - loss: 0.0063 - accuracy: 0.9980\n",
      "Epoch 414/500\n",
      "382/382 [==============================] - 4s 10ms/step - loss: 0.0203 - accuracy: 0.9961\n",
      "Epoch 415/500\n",
      "382/382 [==============================] - 4s 10ms/step - loss: 0.0313 - accuracy: 0.9941 1s - loss: 0.0283 - accuracy:  - ETA\n",
      "Epoch 416/500\n",
      "382/382 [==============================] - 4s 10ms/step - loss: 0.0068 - accuracy: 0.9961\n",
      "Epoch 417/500\n",
      "382/382 [==============================] - 4s 10ms/step - loss: 0.0070 - accuracy: 0.9974\n",
      "Epoch 418/500\n",
      "382/382 [==============================] - 4s 9ms/step - loss: 0.0057 - accuracy: 0.9980\n",
      "Epoch 419/500\n",
      "382/382 [==============================] - 4s 10ms/step - loss: 0.0258 - accuracy: 0.9954\n",
      "Epoch 420/500\n",
      "382/382 [==============================] - 4s 10ms/step - loss: 0.0155 - accuracy: 0.9967\n",
      "Epoch 421/500\n",
      "382/382 [==============================] - 4s 10ms/step - loss: 0.0114 - accuracy: 0.9974\n",
      "Epoch 422/500\n",
      "382/382 [==============================] - 4s 9ms/step - loss: 0.0120 - accuracy: 0.9954\n",
      "Epoch 423/500\n"
     ]
    },
    {
     "name": "stdout",
     "output_type": "stream",
     "text": [
      "382/382 [==============================] - 4s 10ms/step - loss: 0.0165 - accuracy: 0.9954\n",
      "Epoch 424/500\n",
      "382/382 [==============================] - 4s 10ms/step - loss: 0.0188 - accuracy: 0.9961\n",
      "Epoch 425/500\n",
      "382/382 [==============================] - 4s 10ms/step - loss: 0.0157 - accuracy: 0.9961\n",
      "Epoch 426/500\n",
      "382/382 [==============================] - 4s 10ms/step - loss: 0.0262 - accuracy: 0.9941\n",
      "Epoch 427/500\n",
      "382/382 [==============================] - 4s 10ms/step - loss: 0.0144 - accuracy: 0.9954 \n",
      "Epoch 428/500\n",
      "382/382 [==============================] - 4s 10ms/step - loss: 0.0156 - accuracy: 0.9967\n",
      "Epoch 429/500\n",
      "382/382 [==============================] - 4s 10ms/step - loss: 0.0370 - accuracy: 0.9921\n",
      "Epoch 430/500\n",
      "382/382 [==============================] - 4s 10ms/step - loss: 0.0061 - accuracy: 0.9980\n",
      "Epoch 431/500\n",
      "382/382 [==============================] - 4s 10ms/step - loss: 0.0135 - accuracy: 0.9987\n",
      "Epoch 432/500\n",
      "382/382 [==============================] - 4s 10ms/step - loss: 0.0086 - accuracy: 0.9974\n",
      "Epoch 433/500\n",
      "382/382 [==============================] - 4s 10ms/step - loss: 0.0196 - accuracy: 0.9961\n",
      "Epoch 434/500\n",
      "382/382 [==============================] - 4s 9ms/step - loss: 0.0065 - accuracy: 0.9980\n",
      "Epoch 435/500\n",
      "382/382 [==============================] - 4s 10ms/step - loss: 0.0312 - accuracy: 0.9934\n",
      "Epoch 436/500\n",
      "382/382 [==============================] - 4s 10ms/step - loss: 0.0174 - accuracy: 0.9948\n",
      "Epoch 437/500\n",
      "382/382 [==============================] - 4s 10ms/step - loss: 0.0116 - accuracy: 0.9961\n",
      "Epoch 438/500\n",
      "382/382 [==============================] - 4s 10ms/step - loss: 0.0085 - accuracy: 0.9961\n",
      "Epoch 439/500\n",
      "382/382 [==============================] - 4s 10ms/step - loss: 0.0112 - accuracy: 0.9967\n",
      "Epoch 440/500\n",
      "382/382 [==============================] - 4s 10ms/step - loss: 0.0015 - accuracy: 0.9993\n",
      "Epoch 441/500\n",
      "382/382 [==============================] - 4s 10ms/step - loss: 0.0044 - accuracy: 0.9987\n",
      "Epoch 442/500\n",
      "382/382 [==============================] - 4s 10ms/step - loss: 0.0271 - accuracy: 0.9980\n",
      "Epoch 443/500\n",
      "382/382 [==============================] - 4s 10ms/step - loss: 0.0227 - accuracy: 0.9961\n",
      "Epoch 444/500\n",
      "382/382 [==============================] - 4s 10ms/step - loss: 0.0131 - accuracy: 0.9980\n",
      "Epoch 445/500\n",
      "382/382 [==============================] - 4s 10ms/step - loss: 0.0075 - accuracy: 0.9980\n",
      "Epoch 446/500\n",
      "382/382 [==============================] - 4s 10ms/step - loss: 0.0061 - accuracy: 0.9980\n",
      "Epoch 447/500\n",
      "382/382 [==============================] - 4s 10ms/step - loss: 0.0159 - accuracy: 0.9974\n",
      "Epoch 448/500\n",
      "382/382 [==============================] - 4s 10ms/step - loss: 0.0111 - accuracy: 0.9980\n",
      "Epoch 449/500\n",
      "382/382 [==============================] - 4s 10ms/step - loss: 0.0164 - accuracy: 0.9974\n",
      "Epoch 450/500\n",
      "382/382 [==============================] - 4s 10ms/step - loss: 0.0224 - accuracy: 0.9948\n",
      "Epoch 451/500\n",
      "382/382 [==============================] - 4s 10ms/step - loss: 0.0024 - accuracy: 0.9993\n",
      "Epoch 452/500\n",
      "382/382 [==============================] - 4s 10ms/step - loss: 0.0220 - accuracy: 0.9967\n",
      "Epoch 453/500\n",
      "382/382 [==============================] - 4s 10ms/step - loss: 0.0153 - accuracy: 0.9961\n",
      "Epoch 454/500\n",
      "382/382 [==============================] - 4s 9ms/step - loss: 0.0217 - accuracy: 0.9961\n",
      "Epoch 455/500\n",
      "382/382 [==============================] - ETA: 0s - loss: 0.0062 - accuracy: 0.99 - 4s 10ms/step - loss: 0.0062 - accuracy: 0.9980\n",
      "Epoch 456/500\n",
      "382/382 [==============================] - 4s 10ms/step - loss: 0.0012 - accuracy: 0.9993ETA: 0s - loss: 0.0013 - accuracy\n",
      "Epoch 457/500\n",
      "382/382 [==============================] - 4s 10ms/step - loss: 0.0062 - accuracy: 0.9974\n",
      "Epoch 458/500\n",
      "382/382 [==============================] - 4s 10ms/step - loss: 0.0127 - accuracy: 0.9980\n",
      "Epoch 459/500\n",
      "382/382 [==============================] - 4s 10ms/step - loss: 0.0072 - accuracy: 0.9987\n",
      "Epoch 460/500\n",
      "382/382 [==============================] - 4s 10ms/step - loss: 0.0179 - accuracy: 0.9967\n",
      "Epoch 461/500\n",
      "382/382 [==============================] - 4s 10ms/step - loss: 0.0179 - accuracy: 0.9961\n",
      "Epoch 462/500\n",
      "382/382 [==============================] - 4s 10ms/step - loss: 0.0195 - accuracy: 0.9948\n",
      "Epoch 463/500\n",
      "382/382 [==============================] - 4s 10ms/step - loss: 0.0143 - accuracy: 0.9987\n",
      "Epoch 464/500\n",
      "382/382 [==============================] - 4s 10ms/step - loss: 0.0127 - accuracy: 0.9967\n",
      "Epoch 465/500\n",
      "382/382 [==============================] - 4s 10ms/step - loss: 0.0064 - accuracy: 0.9980 0s - loss: 0.0072 - accuracy - ETA: 0s - loss: 0.0067 - accuracy\n",
      "Epoch 466/500\n",
      "382/382 [==============================] - 4s 10ms/step - loss: 0.0279 - accuracy: 0.9961\n",
      "Epoch 467/500\n",
      "382/382 [==============================] - 4s 10ms/step - loss: 0.0168 - accuracy: 0.9967\n",
      "Epoch 468/500\n",
      "382/382 [==============================] - 4s 10ms/step - loss: 0.0132 - accuracy: 0.9961\n",
      "Epoch 469/500\n",
      " 58/382 [===>..........................] - ETA: 3s - loss: 4.3079e-04 - accuracy: 1.0000"
     ]
    }
   ],
   "source": [
    "Batch_Size = 4\n",
    "Shift_Range = 1\n",
    "Brightness_Range = 0.2\n",
    "Rotation_Angle = 5\n",
    "ZoomRange = 0.3\n",
    "\n",
    "datagen = ImageDataGenerator(width_shift_range=[-Shift_Range,Shift_Range], \n",
    "                             height_shift_range=[-Shift_Range,Shift_Range],\n",
    "                             brightness_range=[1-Brightness_Range,1+Brightness_Range],\n",
    "                             zoom_range=[1-ZoomRange, 1+ZoomRange],\n",
    "                             rotation_range=Rotation_Angle)\n",
    "\n",
    "if (Training_Percentage > 0):\n",
    "    train_iterator = datagen.flow(x_data, y_data, batch_size=Batch_Size)\n",
    "    validation_iterator = datagen.flow(X_test, y_test, batch_size=Batch_Size)\n",
    "    history = model.fit(train_iterator, validation_data = validation_iterator, epochs = Epoch_Anz)\n",
    "else:\n",
    "    train_iterator = datagen.flow(x_data, y_data, batch_size=Batch_Size)\n",
    "    history = model.fit(train_iterator, epochs = Epoch_Anz)\n",
    "\n"
   ]
  },
  {
   "cell_type": "markdown",
   "metadata": {},
   "source": [
    "### Learing result\n",
    " \n",
    "* Visualization of the training and validation results"
   ]
  },
  {
   "cell_type": "code",
   "execution_count": 5,
   "metadata": {},
   "outputs": [],
   "source": [
    "loss_ges = np.append(loss_ges, history.history['loss'])\n",
    "plt.semilogy(history.history['loss'])\n",
    "\n",
    "if (Training_Percentage > 0):\n",
    "    val_loss_ges = np.append(val_loss_ges, history.history['val_loss'])\n",
    "    plt.semilogy(history.history['val_loss'])\n",
    "\n",
    "plt.title('model loss')\n",
    "plt.ylabel('loss')\n",
    "plt.xlabel('epoch')\n",
    "plt.legend(['train','eval'], loc='upper left')\n",
    "plt.show()"
   ]
  },
  {
   "cell_type": "markdown",
   "metadata": {},
   "source": [
    "### Check the model by hand\n",
    "\n",
    "* The following code uses the trained model to check the deviation for each picture.\n",
    "* x-axis walks through each pixel, y-axis shows the result"
   ]
  },
  {
   "cell_type": "markdown",
   "metadata": {},
   "source": [
    "### Check each image for expected and deviation\n",
    "* setting the switch \"only_deviation = true\" will only print the images for which the classification and the CNN-result deviates\n",
    "\n",
    "The output contains the following information:\n",
    "\n",
    "| Filename      | Expected Category           | Predicted Category        |\n",
    "|------------- |:-----------------------------:|--------------|\n",
    "| ziffer_sortiert_resize_NaN/5\\Ziffer_4_0034.jpg | 4  | -1 |\n"
   ]
  },
  {
   "cell_type": "code",
   "execution_count": 6,
   "metadata": {},
   "outputs": [
    {
     "name": "stdout",
     "output_type": "stream",
     "text": [
      "ziffer_sortiert_resize\\4_10_dig4_20210709-181251.jpg 4 -1\n"
     ]
    },
    {
     "data": {
      "image/png": "[encoded data removed]",
      "text/plain": [
       "<PIL.JpegImagePlugin.JpegImageFile image mode=RGB size=20x32 at 0x1C6BA29F6D0>"
      ]
     },
     "metadata": {},
     "output_type": "display_data"
    },
    {
     "name": "stdout",
     "output_type": "stream",
     "text": [
      "ziffer_sortiert_resize\\5_dig4_20210910-060143.jpg 5 9\n"
     ]
    },
    {
     "data": {
      "image/png": "[encoded data removed]",
      "text/plain": [
       "<PIL.JpegImagePlugin.JpegImageFile image mode=RGB size=20x32 at 0x1C6BAF6FD30>"
      ]
     },
     "metadata": {},
     "output_type": "display_data"
    },
    {
     "name": "stdout",
     "output_type": "stream",
     "text": [
      "ziffer_sortiert_resize\\6_10_ht6_20210628-141923.jpg 6 8\n"
     ]
    },
    {
     "data": {
      "image/png": "[encoded data removed]",
      "text/plain": [
       "<PIL.JpegImagePlugin.JpegImageFile image mode=RGB size=20x32 at 0x1C6BC1B6610>"
      ]
     },
     "metadata": {},
     "output_type": "display_data"
    },
    {
     "name": "stdout",
     "output_type": "stream",
     "text": [
      "ziffer_sortiert_resize\\6_10_ht6_20210628-164002.jpg 6 0\n"
     ]
    },
    {
     "data": {
      "image/png": "[encoded data removed]",
      "text/plain": [
       "<PIL.JpegImagePlugin.JpegImageFile image mode=RGB size=20x32 at 0x1C6BC1D6730>"
      ]
     },
     "metadata": {},
     "output_type": "display_data"
    },
    {
     "name": "stdout",
     "output_type": "stream",
     "text": [
      "ziffer_sortiert_resize\\6_3_dig4_20210722-224727.jpg 6 8\n"
     ]
    },
    {
     "data": {
      "image/png": "[encoded data removed]",
      "text/plain": [
       "<PIL.JpegImagePlugin.JpegImageFile image mode=RGB size=20x32 at 0x1C6BC209250>"
      ]
     },
     "metadata": {},
     "output_type": "display_data"
    },
    {
     "name": "stdout",
     "output_type": "stream",
     "text": [
      "ziffer_sortiert_resize\\6_3_dig6_20210716-024719.jpg 6 8\n"
     ]
    },
    {
     "data": {
      "image/png": "[encoded data removed]",
      "text/plain": [
       "<PIL.JpegImagePlugin.JpegImageFile image mode=RGB size=20x32 at 0x1C6BAE88DF0>"
      ]
     },
     "metadata": {},
     "output_type": "display_data"
    },
    {
     "data": {
      "image/png": "[encoded data removed]",
      "text/plain": [
       "<Figure size 432x288 with 1 Axes>"
      ]
     },
     "metadata": {
      "needs_background": "light"
     },
     "output_type": "display_data"
    }
   ],
   "source": [
    "Input_dir='ziffer_sortiert_resize'\n",
    "res = []\n",
    "only_deviation = True\n",
    "show_wrong_image = True\n",
    "\n",
    "files = glob.glob(Input_dir + '/*.jpg')\n",
    "\n",
    "for aktfile in files:\n",
    "    base = os.path.basename(aktfile)\n",
    "    target = base[0:1]\n",
    "    if target == \"N\":\n",
    "        zw1 = -1\n",
    "    else:\n",
    "        zw1 = int(target)\n",
    "    expected_class = zw1\n",
    "    image_in = Image.open(aktfile)\n",
    "    test_image = np.array(image_in, dtype=\"float32\")\n",
    "    img = np.reshape(test_image,[1,32,20,3])\n",
    "    classes = np.argmax(model.predict(img), axis=-1)\n",
    "    classes = classes[0]\n",
    "    if classes == 10: \n",
    "        classes = -1\n",
    "    zw2 = classes\n",
    "    zw3 = zw2 - zw1\n",
    "    res.append(np.array([zw1, zw2, zw3]))\n",
    "    if only_deviation == True:\n",
    "        if str(classes) != str(expected_class):\n",
    "            print(aktfile + \" \" + str(expected_class) +  \" \" + str(classes))\n",
    "            if show_wrong_image == True:\n",
    "                display(image_in)\n",
    "    else:\n",
    "        print(aktfile + \" \" + aktsubdir +  \" \" + str(classes))\n",
    "        \n",
    "\n",
    "res = np.asarray(res)\n",
    "\n",
    "\n",
    "plt.plot(res[:,0])\n",
    "plt.plot(res[:,1])\n",
    "plt.title('Result')\n",
    "plt.ylabel('Digital Value')\n",
    "plt.xlabel('#Picture')\n",
    "plt.legend(['real','model'], loc='upper left')\n",
    "plt.show()"
   ]
  },
  {
   "cell_type": "markdown",
   "metadata": {},
   "source": [
    "### Save the model\n",
    "\n",
    "* Save the model to the file with the \"h5\" file format"
   ]
  },
  {
   "cell_type": "code",
   "execution_count": 7,
   "metadata": {},
   "outputs": [
    {
     "name": "stdout",
     "output_type": "stream",
     "text": [
      "WARNING:tensorflow:From C:\\Users\\Muell\\anaconda3\\envs\\py38-tf26\\lib\\site-packages\\tensorflow\\python\\training\\tracking\\tracking.py:111: Model.state_updates (from tensorflow.python.keras.engine.training) is deprecated and will be removed in a future version.\n",
      "Instructions for updating:\n",
      "This property should not be used in TensorFlow 2.0, as updates are applied automatically.\n",
      "WARNING:tensorflow:From C:\\Users\\Muell\\anaconda3\\envs\\py38-tf26\\lib\\site-packages\\tensorflow\\python\\training\\tracking\\tracking.py:111: Layer.updates (from tensorflow.python.keras.engine.base_layer) is deprecated and will be removed in a future version.\n",
      "Instructions for updating:\n",
      "This property should not be used in TensorFlow 2.0, as updates are applied automatically.\n",
      "INFO:tensorflow:Assets written to: C:\\Users\\Muell\\AppData\\Local\\Temp\\tmp_kpordcp\\assets\n"
     ]
    },
    {
     "data": {
      "text/plain": [
       "356520"
      ]
     },
     "execution_count": 7,
     "metadata": {},
     "output_type": "execute_result"
    }
   ],
   "source": [
    "FileName = TFliteNamingAndVersion\n",
    "\n",
    "converter = tf.lite.TFLiteConverter.from_keras_model(model)\n",
    "tflite_model = converter.convert()\n",
    "open(FileName + \".tflite\", \"wb\").write(tflite_model)"
   ]
  },
  {
   "cell_type": "code",
   "execution_count": 8,
   "metadata": {},
   "outputs": [
    {
     "name": "stdout",
     "output_type": "stream",
     "text": [
      "INFO:tensorflow:Assets written to: C:\\Users\\Muell\\AppData\\Local\\Temp\\tmp8pesfn5t\\assets\n"
     ]
    },
    {
     "name": "stderr",
     "output_type": "stream",
     "text": [
      "INFO:tensorflow:Assets written to: C:\\Users\\Muell\\AppData\\Local\\Temp\\tmp8pesfn5t\\assets\n"
     ]
    },
    {
     "name": "stdout",
     "output_type": "stream",
     "text": [
      "dig1400s2q.tflite\n"
     ]
    },
    {
     "data": {
      "text/plain": [
       "98432"
      ]
     },
     "execution_count": 8,
     "metadata": {},
     "output_type": "execute_result"
    }
   ],
   "source": [
    "FileName = TFliteNamingAndVersion + \"q.tflite\"\n",
    "\n",
    "import tensorflow as tf\n",
    "\n",
    "def representative_dataset():\n",
    "    for n in range(x_data[0].size):\n",
    "      data = np.expand_dims(x_data[5], axis=0)\n",
    "      yield [data.astype(np.float32)]\n",
    "        \n",
    "converter2 = tf.lite.TFLiteConverter.from_keras_model(model)\n",
    "converter2.representative_dataset = representative_dataset\n",
    "converter2.optimizations = [tf.lite.Optimize.DEFAULT]\n",
    "converter2.representative_dataset = representative_dataset\n",
    "tflite_quant_model = converter2.convert()\n",
    "\n",
    "open(FileName, \"wb\").write(tflite_quant_model)\n",
    "print(FileName)\n",
    "Path(FileName).stat().st_size"
   ]
  },
  {
   "cell_type": "markdown",
   "metadata": {},
   "source": [
    "Checking the images shows, that this are border line images, which can be interpreted as a good digit or a faulty one."
   ]
  }
 ],
 "metadata": {
  "kernelspec": {
   "display_name": "Python 3 (ipykernel)",
   "language": "python",
   "name": "python3"
  },
  "language_info": {
   "codemirror_mode": {
    "name": "ipython",
    "version": 3
   },
   "file_extension": ".py",
   "mimetype": "text/x-python",
   "name": "python",
   "nbconvert_exporter": "python",
   "pygments_lexer": "ipython3",
   "version": "3.8.11"
  }
 },
 "nbformat": 4,
 "nbformat_minor": 2
}
