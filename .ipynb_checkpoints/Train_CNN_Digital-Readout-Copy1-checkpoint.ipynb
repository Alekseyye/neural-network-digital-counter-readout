{
 "cells": [
  {
   "cell_type": "markdown",
   "metadata": {},
   "source": [
    "# CNN Training\n",
    "\n",
    "Target of this code is to train a CNN network to classify images of a digital readout to the digits 0 to 9. Additionally a category \"NaN\" is introduced, to mark images that are not amibiguous.\n",
    "\n",
    "### Preparing the training\n",
    "* First all libraries are loaded\n",
    "    * It is assumed, that they are installed during the Python setup\n",
    "* matplotlib is set to print the output inline in the jupyter notebook"
   ]
  },
  {
   "cell_type": "code",
   "execution_count": 1,
   "metadata": {
    "scrolled": true
   },
   "outputs": [],
   "source": [
    "import tensorflow as tf\n",
    "import matplotlib.pyplot as plt\n",
    "import glob\n",
    "import numpy as np\n",
    "from sklearn.utils import shuffle\n",
    "from tensorflow.python import keras\n",
    "from tensorflow.python.keras import Sequential\n",
    "from tensorflow.python.keras.layers import Dense, InputLayer, Conv2D, MaxPool2D, Flatten, BatchNormalization\n",
    "from tensorflow.keras.preprocessing.image import ImageDataGenerator\n",
    "from sklearn.model_selection import train_test_split\n",
    "from tensorflow.keras.callbacks import History \n",
    "from tensorflow.keras.utils import to_categorical\n",
    "from PIL import Image \n",
    "\n",
    "loss_ges = np.array([])\n",
    "val_loss_ges = np.array([])\n",
    "\n",
    "%matplotlib inline\n",
    "np.set_printoptions(precision=4)\n",
    "np.set_printoptions(suppress=True)"
   ]
  },
  {
   "cell_type": "markdown",
   "metadata": {},
   "source": [
    "### Load training data\n",
    "* The data is expected in the \"Input_dir\"\n",
    "* Inside subdirectories are expected from -1, 0, 1, ... 9 in which the pictures are sorted according to their values (=category)\n",
    "* Picture size must be 20x32 with 3 color channels (RGB)\n",
    "* The filename can be arbitrary\n",
    "\n",
    "* The images are stored in the x_data[]\n",
    "* The expected category for each image in the corresponding y_data[]\n",
    "\n",
    "* The last step is a shuffle (from sklearn.utils) and split the data into training and validation data"
   ]
  },
  {
   "cell_type": "code",
   "execution_count": 2,
   "metadata": {},
   "outputs": [
    {
     "name": "stdout",
     "output_type": "stream",
     "text": [
      "(517, 32, 20, 3)\n",
      "(517, 11)\n"
     ]
    }
   ],
   "source": [
    "Input_dir='ziffer_sortiert_resize'\n",
    "\n",
    "files = glob.glob(Input_dir + '/*.*')\n",
    "x_data = []\n",
    "y_data = []\n",
    "\n",
    "subdir = [\"0\", \"1\", \"2\", \"3\", \"4\", \"5\", \"6\", \"7\", \"8\", \"9\", \"NaN\"]\n",
    "\n",
    "for aktsubdir in subdir:\n",
    "    files = glob.glob(Input_dir + '/' + aktsubdir + '/*.jpg')\n",
    "    if aktsubdir == \"NaN\":\n",
    "        category = 10                # NaN does not work --> convert to 10\n",
    "    else:\n",
    "        category = aktsubdir\n",
    "    for aktfile in files:\n",
    "        test_image = Image.open(aktfile)\n",
    "        test_image = np.array(test_image, dtype=\"float32\")\n",
    "        x_data.append(test_image)\n",
    "        y_data.append(np.array([category]))\n",
    "\n",
    "x_data = np.array(x_data)\n",
    "y_data = np.array(y_data)\n",
    "y_data = to_categorical(y_data, 11)\n",
    "print(x_data.shape)\n",
    "print(y_data.shape)\n",
    "\n",
    "x_data, y_data = shuffle(x_data, y_data)\n",
    "X_train, X_test, y_train, y_test = train_test_split(x_data, y_data, test_size=0.1)"
   ]
  },
  {
   "cell_type": "markdown",
   "metadata": {},
   "source": [
    "### Define the model\n",
    "\n",
    "The layout of the network ist a typcial CNN network with alternating **Conv2D** and **MaxPool2D** layers. Finished after **flattening** with additional **Dense** layer.\n",
    "\n",
    "#### Important\n",
    "* Shape of the input layer: (32, 20, 3)\n",
    "* Number of output layers: 11\n",
    "* As loss function \"categorical_crossentropy\" is choosen, as it is a categories task"
   ]
  },
  {
   "cell_type": "code",
   "execution_count": 3,
   "metadata": {
    "scrolled": true
   },
   "outputs": [
    {
     "name": "stdout",
     "output_type": "stream",
     "text": [
      "Model: \"sequential\"\n",
      "_________________________________________________________________\n",
      "Layer (type)                 Output Shape              Param #   \n",
      "=================================================================\n",
      "batch_normalization (BatchNo (None, 32, 20, 3)         12        \n",
      "_________________________________________________________________\n",
      "conv2d (Conv2D)              (None, 32, 20, 32)        896       \n",
      "_________________________________________________________________\n",
      "max_pooling2d (MaxPooling2D) (None, 16, 10, 32)        0         \n",
      "_________________________________________________________________\n",
      "conv2d_1 (Conv2D)            (None, 16, 10, 64)        18496     \n",
      "_________________________________________________________________\n",
      "max_pooling2d_1 (MaxPooling2 (None, 8, 5, 64)          0         \n",
      "_________________________________________________________________\n",
      "conv2d_2 (Conv2D)            (None, 8, 5, 64)          36928     \n",
      "_________________________________________________________________\n",
      "max_pooling2d_2 (MaxPooling2 (None, 4, 2, 64)          0         \n",
      "_________________________________________________________________\n",
      "flatten (Flatten)            (None, 512)               0         \n",
      "_________________________________________________________________\n",
      "dense (Dense)                (None, 512)               262656    \n",
      "_________________________________________________________________\n",
      "dense_1 (Dense)              (None, 11)                5643      \n",
      "=================================================================\n",
      "Total params: 324,631\n",
      "Trainable params: 324,625\n",
      "Non-trainable params: 6\n",
      "_________________________________________________________________\n"
     ]
    }
   ],
   "source": [
    "model = Sequential()\n",
    "model.add(BatchNormalization(input_shape=(32,20,3)))\n",
    "model.add(Conv2D(32, (3, 3), padding='same', activation=\"relu\"))\n",
    "model.add(MaxPool2D(pool_size=(2,2)))\n",
    "model.add(Conv2D(64, (3, 3), padding='same'))\n",
    "model.add(MaxPool2D(pool_size=(2,2)))\n",
    "model.add(Conv2D(64, (3, 3), padding='same'))\n",
    "model.add(MaxPool2D(pool_size=(2,2)))\n",
    "model.add(Flatten())\n",
    "model.add(Dense(512,activation=\"relu\"))\n",
    "model.add(Dense(11, activation = \"softmax\"))\n",
    "model.summary()\n",
    "\n",
    "model.compile(loss=keras.losses.categorical_crossentropy, optimizer=tf.keras.optimizers.Adadelta(learning_rate=1.0, rho=0.95), metrics = [\"accuracy\"])"
   ]
  },
  {
   "cell_type": "markdown",
   "metadata": {},
   "source": [
    "# Training\n",
    "The input pictures are randomly scattered for brightness, pixel shift variations and rotation angle. This is implemented with a ImageDataGenerator.\n"
   ]
  },
  {
   "cell_type": "code",
   "execution_count": 4,
   "metadata": {
    "scrolled": true
   },
   "outputs": [
    {
     "name": "stdout",
     "output_type": "stream",
     "text": [
      "WARNING:tensorflow:From <ipython-input-4-331f72802f71>:18: Model.fit_generator (from tensorflow.python.keras.engine.training) is deprecated and will be removed in a future version.\n",
      "Instructions for updating:\n",
      "Please use Model.fit, which supports generators.\n",
      "WARNING:tensorflow:sample_weight modes were coerced from\n",
      "  ...\n",
      "    to  \n",
      "  ['...']\n",
      "WARNING:tensorflow:sample_weight modes were coerced from\n",
      "  ...\n",
      "    to  \n",
      "  ['...']\n",
      "Train for 130 steps, validate for 13 steps\n",
      "Epoch 1/80\n",
      "130/130 [==============================] - 2s 16ms/step - loss: 1.8019 - accuracy: 0.4855 - val_loss: 1.5498 - val_accuracy: 0.6346\n",
      "Epoch 2/80\n",
      "130/130 [==============================] - 1s 10ms/step - loss: 1.1074 - accuracy: 0.6538 - val_loss: 0.4215 - val_accuracy: 0.8654\n",
      "Epoch 3/80\n",
      "130/130 [==============================] - 1s 10ms/step - loss: 0.7367 - accuracy: 0.7602 - val_loss: 0.3136 - val_accuracy: 0.9038\n",
      "Epoch 4/80\n",
      "130/130 [==============================] - 1s 10ms/step - loss: 0.5570 - accuracy: 0.8240 - val_loss: 0.4737 - val_accuracy: 0.8654\n",
      "Epoch 5/80\n",
      "130/130 [==============================] - 1s 10ms/step - loss: 0.4399 - accuracy: 0.8627 - val_loss: 0.3017 - val_accuracy: 0.9231\n",
      "Epoch 6/80\n",
      "130/130 [==============================] - 2s 15ms/step - loss: 0.4439 - accuracy: 0.8762 - val_loss: 0.4100 - val_accuracy: 0.8654\n",
      "Epoch 7/80\n",
      "130/130 [==============================] - 2s 12ms/step - loss: 0.3359 - accuracy: 0.9130 - val_loss: 0.2573 - val_accuracy: 0.8846\n",
      "Epoch 8/80\n",
      "130/130 [==============================] - 1s 11ms/step - loss: 0.3449 - accuracy: 0.8956 - val_loss: 0.1727 - val_accuracy: 0.9423\n",
      "Epoch 9/80\n",
      "130/130 [==============================] - 2s 12ms/step - loss: 0.2171 - accuracy: 0.9381 - val_loss: 0.0643 - val_accuracy: 0.9808\n",
      "Epoch 10/80\n",
      "130/130 [==============================] - 1s 11ms/step - loss: 0.2656 - accuracy: 0.9149 - val_loss: 0.1492 - val_accuracy: 0.9423\n",
      "Epoch 11/80\n",
      "130/130 [==============================] - 2s 12ms/step - loss: 0.2617 - accuracy: 0.9149 - val_loss: 0.1946 - val_accuracy: 0.9231\n",
      "Epoch 12/80\n",
      "130/130 [==============================] - 1s 11ms/step - loss: 0.2511 - accuracy: 0.9284 - val_loss: 0.1463 - val_accuracy: 0.9231\n",
      "Epoch 13/80\n",
      "130/130 [==============================] - 1s 11ms/step - loss: 0.2884 - accuracy: 0.9130 - val_loss: 0.2328 - val_accuracy: 0.9231\n",
      "Epoch 14/80\n",
      "130/130 [==============================] - 1s 10ms/step - loss: 0.1600 - accuracy: 0.9497 - val_loss: 0.1279 - val_accuracy: 0.9423\n",
      "Epoch 15/80\n",
      "130/130 [==============================] - 2s 12ms/step - loss: 0.2135 - accuracy: 0.9420 - val_loss: 0.3444 - val_accuracy: 0.9423\n",
      "Epoch 16/80\n",
      "130/130 [==============================] - 2s 15ms/step - loss: 0.1921 - accuracy: 0.9342 - val_loss: 0.1768 - val_accuracy: 0.9423\n",
      "Epoch 17/80\n",
      "130/130 [==============================] - 2s 13ms/step - loss: 0.1881 - accuracy: 0.9381 - val_loss: 0.1548 - val_accuracy: 0.9615\n",
      "Epoch 18/80\n",
      "130/130 [==============================] - 1s 11ms/step - loss: 0.1694 - accuracy: 0.9497 - val_loss: 0.1492 - val_accuracy: 0.9615\n",
      "Epoch 19/80\n",
      "130/130 [==============================] - 2s 12ms/step - loss: 0.1727 - accuracy: 0.9478 - val_loss: 0.1472 - val_accuracy: 0.9231\n",
      "Epoch 20/80\n",
      "130/130 [==============================] - 2s 12ms/step - loss: 0.1293 - accuracy: 0.9632 - val_loss: 0.0450 - val_accuracy: 0.9808\n",
      "Epoch 21/80\n",
      "130/130 [==============================] - 1s 10ms/step - loss: 0.1711 - accuracy: 0.9420 - val_loss: 0.0743 - val_accuracy: 0.9808\n",
      "Epoch 22/80\n",
      "130/130 [==============================] - 1s 10ms/step - loss: 0.2284 - accuracy: 0.9420 - val_loss: 0.0610 - val_accuracy: 0.9808\n",
      "Epoch 23/80\n",
      "130/130 [==============================] - 1s 10ms/step - loss: 0.1956 - accuracy: 0.9536 - val_loss: 0.1266 - val_accuracy: 0.9231\n",
      "Epoch 24/80\n",
      "130/130 [==============================] - 1s 10ms/step - loss: 0.1288 - accuracy: 0.9710 - val_loss: 0.0436 - val_accuracy: 0.9808\n",
      "Epoch 25/80\n",
      "130/130 [==============================] - 1s 11ms/step - loss: 0.1807 - accuracy: 0.9458 - val_loss: 0.1667 - val_accuracy: 0.9615\n",
      "Epoch 26/80\n",
      "130/130 [==============================] - 1s 11ms/step - loss: 0.1228 - accuracy: 0.9555 - val_loss: 0.1472 - val_accuracy: 0.9423\n",
      "Epoch 27/80\n",
      "130/130 [==============================] - 2s 13ms/step - loss: 0.1259 - accuracy: 0.9594 - val_loss: 0.0580 - val_accuracy: 0.9808\n",
      "Epoch 28/80\n",
      "130/130 [==============================] - 2s 12ms/step - loss: 0.1339 - accuracy: 0.9613 - val_loss: 0.1485 - val_accuracy: 0.9615\n",
      "Epoch 29/80\n",
      "130/130 [==============================] - 1s 10ms/step - loss: 0.1215 - accuracy: 0.9729 - val_loss: 0.1029 - val_accuracy: 0.9615\n",
      "Epoch 30/80\n",
      "130/130 [==============================] - 2s 12ms/step - loss: 0.0852 - accuracy: 0.9671 - val_loss: 0.0777 - val_accuracy: 0.9615\n",
      "Epoch 31/80\n",
      "130/130 [==============================] - 2s 12ms/step - loss: 0.1326 - accuracy: 0.9613 - val_loss: 0.0069 - val_accuracy: 1.0000\n",
      "Epoch 32/80\n",
      "130/130 [==============================] - 2s 14ms/step - loss: 0.1053 - accuracy: 0.9613 - val_loss: 0.0513 - val_accuracy: 0.9808\n",
      "Epoch 33/80\n",
      "130/130 [==============================] - 2s 13ms/step - loss: 0.1209 - accuracy: 0.9613 - val_loss: 0.1799 - val_accuracy: 0.9423\n",
      "Epoch 34/80\n",
      "130/130 [==============================] - 1s 10ms/step - loss: 0.1143 - accuracy: 0.9594 - val_loss: 0.1923 - val_accuracy: 0.9231\n",
      "Epoch 35/80\n",
      "130/130 [==============================] - 1s 10ms/step - loss: 0.1292 - accuracy: 0.9594 - val_loss: 0.2088 - val_accuracy: 0.9615\n",
      "Epoch 36/80\n",
      "130/130 [==============================] - 1s 10ms/step - loss: 0.1772 - accuracy: 0.9497 - val_loss: 0.0639 - val_accuracy: 0.9808\n",
      "Epoch 37/80\n",
      "130/130 [==============================] - 1s 10ms/step - loss: 0.1091 - accuracy: 0.9613 - val_loss: 0.0114 - val_accuracy: 1.0000\n",
      "Epoch 38/80\n",
      "130/130 [==============================] - 1s 10ms/step - loss: 0.1275 - accuracy: 0.9671 - val_loss: 0.0764 - val_accuracy: 0.9808\n",
      "Epoch 39/80\n",
      "130/130 [==============================] - 1s 10ms/step - loss: 0.1593 - accuracy: 0.9478 - val_loss: 0.0300 - val_accuracy: 0.9808\n",
      "Epoch 40/80\n",
      "130/130 [==============================] - 1s 10ms/step - loss: 0.1260 - accuracy: 0.9555 - val_loss: 0.0653 - val_accuracy: 0.9808\n",
      "Epoch 41/80\n",
      "130/130 [==============================] - 1s 11ms/step - loss: 0.1194 - accuracy: 0.9594 - val_loss: 0.0414 - val_accuracy: 0.9808\n",
      "Epoch 42/80\n",
      "130/130 [==============================] - 1s 11ms/step - loss: 0.0672 - accuracy: 0.9768 - val_loss: 0.1094 - val_accuracy: 0.9615\n",
      "Epoch 43/80\n",
      "130/130 [==============================] - 1s 10ms/step - loss: 0.1005 - accuracy: 0.9729 - val_loss: 0.0895 - val_accuracy: 0.9808\n",
      "Epoch 44/80\n",
      "130/130 [==============================] - 1s 10ms/step - loss: 0.1005 - accuracy: 0.9710 - val_loss: 0.0494 - val_accuracy: 0.9615\n",
      "Epoch 45/80\n",
      "130/130 [==============================] - 1s 10ms/step - loss: 0.1219 - accuracy: 0.9691 - val_loss: 0.0208 - val_accuracy: 0.9808\n",
      "Epoch 46/80\n",
      "130/130 [==============================] - 1s 10ms/step - loss: 0.1548 - accuracy: 0.9613 - val_loss: 0.0669 - val_accuracy: 0.9808\n",
      "Epoch 47/80\n",
      "130/130 [==============================] - 1s 10ms/step - loss: 0.1071 - accuracy: 0.9710 - val_loss: 0.0745 - val_accuracy: 0.9615\n",
      "Epoch 48/80\n",
      "130/130 [==============================] - 1s 10ms/step - loss: 0.0933 - accuracy: 0.9652 - val_loss: 0.0556 - val_accuracy: 0.9808\n",
      "Epoch 49/80\n",
      "130/130 [==============================] - 1s 10ms/step - loss: 0.0685 - accuracy: 0.9787 - val_loss: 0.0998 - val_accuracy: 0.9808\n",
      "Epoch 50/80\n",
      "130/130 [==============================] - 1s 10ms/step - loss: 0.0892 - accuracy: 0.9729 - val_loss: 0.0217 - val_accuracy: 1.0000\n",
      "Epoch 51/80\n",
      "130/130 [==============================] - 1s 10ms/step - loss: 0.1035 - accuracy: 0.9671 - val_loss: 0.0225 - val_accuracy: 1.0000\n",
      "Epoch 52/80\n",
      "130/130 [==============================] - 1s 10ms/step - loss: 0.1099 - accuracy: 0.9613 - val_loss: 0.0358 - val_accuracy: 0.9808\n",
      "Epoch 53/80\n",
      "130/130 [==============================] - 1s 11ms/step - loss: 0.1011 - accuracy: 0.9710 - val_loss: 0.0439 - val_accuracy: 0.9808\n",
      "Epoch 54/80\n",
      "130/130 [==============================] - 1s 11ms/step - loss: 0.0904 - accuracy: 0.9671 - val_loss: 0.0559 - val_accuracy: 0.9808\n"
     ]
    },
    {
     "name": "stdout",
     "output_type": "stream",
     "text": [
      "Epoch 55/80\n",
      "130/130 [==============================] - 1s 10ms/step - loss: 0.0831 - accuracy: 0.9652 - val_loss: 0.0113 - val_accuracy: 1.0000\n",
      "Epoch 56/80\n",
      "130/130 [==============================] - 1s 10ms/step - loss: 0.0777 - accuracy: 0.9749 - val_loss: 0.1717 - val_accuracy: 0.9615\n",
      "Epoch 57/80\n",
      "130/130 [==============================] - 1s 10ms/step - loss: 0.0945 - accuracy: 0.9691 - val_loss: 0.1644 - val_accuracy: 0.9615\n",
      "Epoch 58/80\n",
      "130/130 [==============================] - 1s 10ms/step - loss: 0.1027 - accuracy: 0.9574 - val_loss: 0.0255 - val_accuracy: 0.9808\n",
      "Epoch 59/80\n",
      "130/130 [==============================] - 1s 10ms/step - loss: 0.0809 - accuracy: 0.9807 - val_loss: 0.0504 - val_accuracy: 0.9808\n",
      "Epoch 60/80\n",
      "130/130 [==============================] - 1s 10ms/step - loss: 0.0607 - accuracy: 0.9729 - val_loss: 0.0635 - val_accuracy: 0.9808\n",
      "Epoch 61/80\n",
      "130/130 [==============================] - 1s 10ms/step - loss: 0.0632 - accuracy: 0.9787 - val_loss: 0.0251 - val_accuracy: 0.9808\n",
      "Epoch 62/80\n",
      "130/130 [==============================] - 1s 10ms/step - loss: 0.1029 - accuracy: 0.9671 - val_loss: 0.0427 - val_accuracy: 0.9808\n",
      "Epoch 63/80\n",
      "130/130 [==============================] - 1s 10ms/step - loss: 0.0915 - accuracy: 0.9787 - val_loss: 0.1277 - val_accuracy: 0.9808\n",
      "Epoch 64/80\n",
      "130/130 [==============================] - 1s 10ms/step - loss: 0.0973 - accuracy: 0.9729 - val_loss: 0.2213 - val_accuracy: 0.9615\n",
      "Epoch 65/80\n",
      "130/130 [==============================] - 1s 11ms/step - loss: 0.0753 - accuracy: 0.9749 - val_loss: 0.0118 - val_accuracy: 1.0000\n",
      "Epoch 66/80\n",
      "130/130 [==============================] - 1s 11ms/step - loss: 0.1208 - accuracy: 0.9691 - val_loss: 0.0572 - val_accuracy: 0.9808\n",
      "Epoch 67/80\n",
      "130/130 [==============================] - 1s 10ms/step - loss: 0.0560 - accuracy: 0.9787 - val_loss: 0.0324 - val_accuracy: 0.9808\n",
      "Epoch 68/80\n",
      "130/130 [==============================] - 1s 10ms/step - loss: 0.1434 - accuracy: 0.9632 - val_loss: 0.0142 - val_accuracy: 1.0000\n",
      "Epoch 69/80\n",
      "130/130 [==============================] - 1s 10ms/step - loss: 0.0714 - accuracy: 0.9826 - val_loss: 0.0944 - val_accuracy: 0.9615\n",
      "Epoch 70/80\n",
      "130/130 [==============================] - 1s 10ms/step - loss: 0.0815 - accuracy: 0.9768 - val_loss: 0.0610 - val_accuracy: 0.9808\n",
      "Epoch 71/80\n",
      "130/130 [==============================] - 1s 10ms/step - loss: 0.0815 - accuracy: 0.9749 - val_loss: 0.0626 - val_accuracy: 0.9808\n",
      "Epoch 72/80\n",
      "130/130 [==============================] - 1s 10ms/step - loss: 0.0818 - accuracy: 0.9768 - val_loss: 0.1275 - val_accuracy: 0.9615\n",
      "Epoch 73/80\n",
      "130/130 [==============================] - 1s 10ms/step - loss: 0.0716 - accuracy: 0.9749 - val_loss: 0.0409 - val_accuracy: 0.9808\n",
      "Epoch 74/80\n",
      "130/130 [==============================] - 1s 10ms/step - loss: 0.0873 - accuracy: 0.9691 - val_loss: 0.0983 - val_accuracy: 0.9808\n",
      "Epoch 75/80\n",
      "130/130 [==============================] - 1s 10ms/step - loss: 0.0892 - accuracy: 0.9710 - val_loss: 0.0170 - val_accuracy: 1.0000\n",
      "Epoch 76/80\n",
      "130/130 [==============================] - 1s 10ms/step - loss: 0.0761 - accuracy: 0.9710 - val_loss: 0.1681 - val_accuracy: 0.9615\n",
      "Epoch 77/80\n",
      "130/130 [==============================] - 1s 10ms/step - loss: 0.0515 - accuracy: 0.9807 - val_loss: 0.0784 - val_accuracy: 0.9808\n",
      "Epoch 78/80\n",
      "130/130 [==============================] - 1s 11ms/step - loss: 0.0615 - accuracy: 0.9845 - val_loss: 0.0272 - val_accuracy: 1.0000\n",
      "Epoch 79/80\n",
      "130/130 [==============================] - 1s 11ms/step - loss: 0.1023 - accuracy: 0.9729 - val_loss: 0.0909 - val_accuracy: 0.9808\n",
      "Epoch 80/80\n",
      "130/130 [==============================] - 1s 10ms/step - loss: 0.0436 - accuracy: 0.9884 - val_loss: 0.0886 - val_accuracy: 0.9423\n"
     ]
    }
   ],
   "source": [
    "Batch_Size = 4\n",
    "Epoch_Anz = 80\n",
    "Shift_Range = 1\n",
    "Brightness_Range = 0.3\n",
    "Rotation_Angle = 10\n",
    "ZoomRange = 0.4\n",
    "\n",
    "datagen = ImageDataGenerator(width_shift_range=[-Shift_Range,Shift_Range], \n",
    "                             height_shift_range=[-Shift_Range,Shift_Range],\n",
    "                             brightness_range=[1-Brightness_Range,1+Brightness_Range],\n",
    "                             zoom_range=[1-ZoomRange, 1+ZoomRange],\n",
    "                             rotation_range=Rotation_Angle,\n",
    "                             validation_split=0.2)\n",
    "\n",
    "train_iterator = datagen.flow(x_data, y_data, batch_size=Batch_Size)\n",
    "validation_iterator = datagen.flow(X_test, y_test, batch_size=Batch_Size)\n",
    "\n",
    "history = model.fit_generator(train_iterator, validation_data = validation_iterator, epochs = Epoch_Anz)\n",
    "#history = model.fit_generator(train_iterator, epochs = Epoch_Anz)\n",
    "\n"
   ]
  },
  {
   "cell_type": "markdown",
   "metadata": {},
   "source": [
    "### Learing result\n",
    " \n",
    "* Visualization of the training and validation results"
   ]
  },
  {
   "cell_type": "code",
   "execution_count": 5,
   "metadata": {},
   "outputs": [
    {
     "data": {
      "image/png": "[encoded data removed]",
      "text/plain": [
       "<Figure size 432x288 with 1 Axes>"
      ]
     },
     "metadata": {
      "needs_background": "light"
     },
     "output_type": "display_data"
    }
   ],
   "source": [
    "loss_ges = np.append(loss_ges, history.history['loss'])\n",
    "val_loss_ges = np.append(val_loss_ges, history.history['val_loss'])\n",
    "\n",
    "plt.semilogy(history.history['loss'])\n",
    "plt.semilogy(history.history['val_loss'])\n",
    "plt.title('model loss')\n",
    "plt.ylabel('loss')\n",
    "plt.xlabel('epoch')\n",
    "plt.legend(['train','eval'], loc='upper left')\n",
    "plt.show()"
   ]
  },
  {
   "cell_type": "markdown",
   "metadata": {},
   "source": [
    "### Check the model by hand\n",
    "\n",
    "* The following code uses the trained model to check the deviation for each picture.\n",
    "* x-axis walks through each pixel, y-axis shows the result"
   ]
  },
  {
   "cell_type": "code",
   "execution_count": 6,
   "metadata": {},
   "outputs": [
    {
     "data": {
      "image/png": "[encoded data removed]",
      "text/plain": [
       "<Figure size 432x288 with 1 Axes>"
      ]
     },
     "metadata": {
      "needs_background": "light"
     },
     "output_type": "display_data"
    }
   ],
   "source": [
    "Input_dir='ziffer_sortiert_resize'\n",
    "subdir = [\"NaN\", \"0\", \"1\", \"2\", \"3\", \"4\", \"5\", \"6\", \"7\", \"8\", \"9\"]\n",
    "res = []\n",
    "\n",
    "for aktsubdir in subdir:\n",
    "    files = glob.glob(Input_dir + '/' + aktsubdir + '\\*.jpg')\n",
    "    if aktsubdir == \"NaN\":\n",
    "        zw1 = -1\n",
    "    else:\n",
    "        zw1 = int(aktsubdir)\n",
    "    for aktfile in files:\n",
    "        test_image = Image.open(aktfile)\n",
    "        test_image = np.array(test_image, dtype=\"float32\")\n",
    "        img = np.reshape(test_image,[1,32,20,3])\n",
    "        classes = model.predict_classes(img)\n",
    "        classes = classes[0]\n",
    "        if classes == 10: \n",
    "            classes = -1\n",
    "        zw2 = classes\n",
    "        zw3 = zw2 - zw1\n",
    "        res.append(np.array([zw1, zw2, zw3]))\n",
    "\n",
    "res = np.asarray(res)\n",
    "\n",
    "\n",
    "plt.plot(res[:,0])\n",
    "plt.plot(res[:,1])\n",
    "plt.title('Result')\n",
    "plt.ylabel('Digital Value')\n",
    "plt.xlabel('#Picture')\n",
    "plt.legend(['real','model'], loc='upper left')\n",
    "plt.show()"
   ]
  },
  {
   "cell_type": "markdown",
   "metadata": {},
   "source": [
    "### Save the model\n",
    "\n",
    "* Save the model to the file with the \"h5\" file format"
   ]
  },
  {
   "cell_type": "code",
   "execution_count": 7,
   "metadata": {},
   "outputs": [
    {
     "data": {
      "text/plain": [
       "1302048"
      ]
     },
     "execution_count": 7,
     "metadata": {},
     "output_type": "execute_result"
    }
   ],
   "source": [
    "# model.save(\"Train_CNN_Digital-Readout_Version_6.1.1.h5\")\n",
    "\n",
    "converter = tf.lite.TFLiteConverter.from_keras_model(model)\n",
    "tflite_model = converter.convert()\n",
    "open(\"Train_CNN_Digital-Readout_Version_6.1.1.tflite\", \"wb\").write(tflite_model)\n",
    "\n",
    "# converter = tf.lite.TFLiteConverter.from_keras_model(model)\n",
    "# converter.optimizations = [tf.lite.Optimize.OPTIMIZE_FOR_SIZE]\n",
    "# tflite_model = converter.convert()\n",
    "# open(\"Train_CNN_Digital-Readout_Version_quantized_6.1.1.tflite\", \"wb\").write(tflite_model)"
   ]
  },
  {
   "cell_type": "markdown",
   "metadata": {},
   "source": [
    "### Check each image for expected and deviation\n",
    "* setting the switch \"only_deviation = true\" will only print the images for which the classification and the CNN-result deviates\n",
    "\n",
    "The output contains the following information:\n",
    "\n",
    "| Filename      | Expected Category           | Predicted Category        |\n",
    "|------------- |:-----------------------------:|--------------|\n",
    "| ziffer_sortiert_resize_NaN/5\\Ziffer_4_0034.jpg | 4  | -1 |\n"
   ]
  },
  {
   "cell_type": "code",
   "execution_count": 8,
   "metadata": {
    "scrolled": true
   },
   "outputs": [
    {
     "name": "stdout",
     "output_type": "stream",
     "text": [
      "ziffer_sortiert_resize/0\\ziffer1_2020-04-14_11-20-06.jpg 0 NaN\n",
      "ziffer_sortiert_resize/5\\ziffer5_2020-04-16_13-10-06.jpg 5 NaN\n",
      "ziffer_sortiert_resize/5\\ziffer5_2020-04-16_13-40-10.jpg 5 NaN\n",
      "ziffer_sortiert_resize/9\\ziffer5_2020-04-23_11-30-06.jpg 9 NaN\n",
      "ziffer_sortiert_resize/NaN\\Ziffer_NaN_0642.jpg NaN 6\n"
     ]
    }
   ],
   "source": [
    "Input_dir='ziffer_sortiert_resize'\n",
    "only_deviation = True\n",
    "\n",
    "subdir = [\"0\", \"1\", \"2\", \"3\", \"4\", \"5\", \"6\", \"7\", \"8\", \"9\", \"NaN\"]\n",
    "\n",
    "for aktsubdir in subdir:\n",
    "    files = glob.glob(Input_dir + '/' + aktsubdir + '\\*.jpg')\n",
    "    expected_class = aktsubdir\n",
    "    for aktfile in files:\n",
    "        test_image = Image.open(aktfile)\n",
    "        test_image = np.array(test_image, dtype=\"float32\")\n",
    "        img = np.reshape(test_image,[1,32,20,3])\n",
    "        classes = model.predict_classes(img)\n",
    "        classes = classes[0]\n",
    "        if classes == 10: \n",
    "            classes = \"NaN\"\n",
    "        if only_deviation == True:\n",
    "            if str(classes) != str(expected_class):\n",
    "                print(aktfile + \" \" + aktsubdir +  \" \" + str(classes))\n",
    "        else:\n",
    "            print(aktfile + \" \" + aktsubdir +  \" \" + str(classes))\n"
   ]
  },
  {
   "cell_type": "markdown",
   "metadata": {},
   "source": [
    "Checking the images shows, that this are border line images, which can be interpreted as a good digit or a faulty one."
   ]
  },
  {
   "cell_type": "code",
   "execution_count": null,
   "metadata": {},
   "outputs": [],
   "source": []
  }
 ],
 "metadata": {
  "kernelspec": {
   "display_name": "Python 3",
   "language": "python",
   "name": "python3"
  },
  "language_info": {
   "codemirror_mode": {
    "name": "ipython",
    "version": 3
   },
   "file_extension": ".py",
   "mimetype": "text/x-python",
   "name": "python",
   "nbconvert_exporter": "python",
   "pygments_lexer": "ipython3",
   "version": "3.7.7"
  }
 },
 "nbformat": 4,
 "nbformat_minor": 2
}
