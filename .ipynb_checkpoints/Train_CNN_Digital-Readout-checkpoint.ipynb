{
 "cells": [
  {
   "cell_type": "markdown",
   "metadata": {},
   "source": [
    "# CNN Training\n",
    "\n",
    "Target of this code is to train a CNN network to classify images of a digital readout to the digits 0 to 9. Additionally a category \"NaN\" is introduced, to mark images that are not amibiguous.\n",
    "\n",
    "### Preparing the training\n",
    "* First all libraries are loaded\n",
    "    * It is assumed, that they are installed during the Python setup\n",
    "* matplotlib is set to print the output inline in the jupyter notebook"
   ]
  },
  {
   "cell_type": "code",
   "execution_count": 1,
   "metadata": {
    "scrolled": true
   },
   "outputs": [],
   "source": [
    "import tensorflow as tf\n",
    "import matplotlib.pyplot as plt\n",
    "import glob\n",
    "import numpy as np\n",
    "from sklearn.utils import shuffle\n",
    "from tensorflow.python import keras\n",
    "from tensorflow.python.keras import Sequential\n",
    "from tensorflow.python.keras.layers import Dense, InputLayer, Conv2D, MaxPool2D, Flatten, BatchNormalization\n",
    "from tensorflow.keras.preprocessing.image import ImageDataGenerator\n",
    "from sklearn.model_selection import train_test_split\n",
    "from tensorflow.keras.callbacks import History \n",
    "from tensorflow.keras.utils import to_categorical\n",
    "from PIL import Image \n",
    "\n",
    "loss_ges = np.array([])\n",
    "val_loss_ges = np.array([])\n",
    "\n",
    "%matplotlib inline\n",
    "np.set_printoptions(precision=4)\n",
    "np.set_printoptions(suppress=True)"
   ]
  },
  {
   "cell_type": "markdown",
   "metadata": {},
   "source": [
    "### Load training data\n",
    "* The data is expected in the \"Input_dir\"\n",
    "* Inside subdirectories are expected from -1, 0, 1, ... 9 in which the pictures are sorted according to their values (=category)\n",
    "* Picture size must be 20x32 with 3 color channels (RGB)\n",
    "* The filename can be arbitrary\n",
    "\n",
    "* The images are stored in the x_data[]\n",
    "* The expected category for each image in the corresponding y_data[]\n",
    "\n",
    "* The last step is a shuffle (from sklearn.utils) and split the data into training and validation data"
   ]
  },
  {
   "cell_type": "code",
   "execution_count": 2,
   "metadata": {},
   "outputs": [
    {
     "name": "stdout",
     "output_type": "stream",
     "text": [
      "(519, 32, 20, 3)\n",
      "(519, 11)\n"
     ]
    }
   ],
   "source": [
    "Input_dir='ziffer_sortiert_resize'\n",
    "\n",
    "files = glob.glob(Input_dir + '/*.*')\n",
    "x_data = []\n",
    "y_data = []\n",
    "\n",
    "subdir = [\"0\", \"1\", \"2\", \"3\", \"4\", \"5\", \"6\", \"7\", \"8\", \"9\", \"NaN\"]\n",
    "\n",
    "for aktsubdir in subdir:\n",
    "    files = glob.glob(Input_dir + '/' + aktsubdir + '/*.jpg')\n",
    "    if aktsubdir == \"NaN\":\n",
    "        category = 10                # NaN does not work --> convert to 10\n",
    "    else:\n",
    "        category = aktsubdir\n",
    "    for aktfile in files:\n",
    "        test_image = Image.open(aktfile)\n",
    "        test_image = np.array(test_image, dtype=\"float32\")\n",
    "        x_data.append(test_image)\n",
    "        y_data.append(np.array([category]))\n",
    "\n",
    "x_data = np.array(x_data)\n",
    "y_data = np.array(y_data)\n",
    "y_data = to_categorical(y_data, 11)\n",
    "print(x_data.shape)\n",
    "print(y_data.shape)\n",
    "\n",
    "x_data, y_data = shuffle(x_data, y_data)\n",
    "X_train, X_test, y_train, y_test = train_test_split(x_data, y_data, test_size=0.1)"
   ]
  },
  {
   "cell_type": "markdown",
   "metadata": {},
   "source": [
    "### Define the model\n",
    "\n",
    "The layout of the network ist a typcial CNN network with alternating **Conv2D** and **MaxPool2D** layers. Finished after **flattening** with additional **Dense** layer.\n",
    "\n",
    "#### Important\n",
    "* Shape of the input layer: (32, 20, 3)\n",
    "* Number of output layers: 11\n",
    "* As loss function \"categorical_crossentropy\" is choosen, as it is a categories task"
   ]
  },
  {
   "cell_type": "code",
   "execution_count": 3,
   "metadata": {
    "scrolled": true
   },
   "outputs": [
    {
     "name": "stdout",
     "output_type": "stream",
     "text": [
      "Model: \"sequential\"\n",
      "_________________________________________________________________\n",
      "Layer (type)                 Output Shape              Param #   \n",
      "=================================================================\n",
      "batch_normalization (BatchNo (None, 32, 20, 3)         12        \n",
      "_________________________________________________________________\n",
      "conv2d (Conv2D)              (None, 32, 20, 32)        896       \n",
      "_________________________________________________________________\n",
      "max_pooling2d (MaxPooling2D) (None, 16, 10, 32)        0         \n",
      "_________________________________________________________________\n",
      "conv2d_1 (Conv2D)            (None, 16, 10, 64)        18496     \n",
      "_________________________________________________________________\n",
      "max_pooling2d_1 (MaxPooling2 (None, 8, 5, 64)          0         \n",
      "_________________________________________________________________\n",
      "conv2d_2 (Conv2D)            (None, 8, 5, 64)          36928     \n",
      "_________________________________________________________________\n",
      "max_pooling2d_2 (MaxPooling2 (None, 4, 2, 64)          0         \n",
      "_________________________________________________________________\n",
      "flatten (Flatten)            (None, 512)               0         \n",
      "_________________________________________________________________\n",
      "dense (Dense)                (None, 512)               262656    \n",
      "_________________________________________________________________\n",
      "dense_1 (Dense)              (None, 11)                5643      \n",
      "=================================================================\n",
      "Total params: 324,631\n",
      "Trainable params: 324,625\n",
      "Non-trainable params: 6\n",
      "_________________________________________________________________\n"
     ]
    }
   ],
   "source": [
    "model = Sequential()\n",
    "model.add(BatchNormalization(input_shape=(32,20,3)))\n",
    "model.add(Conv2D(32, (3, 3), padding='same', activation=\"relu\"))\n",
    "model.add(MaxPool2D(pool_size=(2,2)))\n",
    "model.add(Conv2D(64, (3, 3), padding='same'))\n",
    "model.add(MaxPool2D(pool_size=(2,2)))\n",
    "model.add(Conv2D(64, (3, 3), padding='same'))\n",
    "model.add(MaxPool2D(pool_size=(2,2)))\n",
    "model.add(Flatten())\n",
    "model.add(Dense(512,activation=\"relu\"))\n",
    "model.add(Dense(11, activation = \"softmax\"))\n",
    "model.summary()\n",
    "\n",
    "model.compile(loss=keras.losses.categorical_crossentropy, optimizer=tf.keras.optimizers.Adadelta(learning_rate=1.0, rho=0.95), metrics = [\"accuracy\"])"
   ]
  },
  {
   "cell_type": "markdown",
   "metadata": {},
   "source": [
    "# Training\n",
    "The input pictures are randomly scattered for brightness, pixel shift variations and rotation angle. This is implemented with a ImageDataGenerator.\n"
   ]
  },
  {
   "cell_type": "code",
   "execution_count": 4,
   "metadata": {
    "scrolled": true
   },
   "outputs": [
    {
     "name": "stdout",
     "output_type": "stream",
     "text": [
      "WARNING:tensorflow:From <ipython-input-4-331f72802f71>:18: Model.fit_generator (from tensorflow.python.keras.engine.training) is deprecated and will be removed in a future version.\n",
      "Instructions for updating:\n",
      "Please use Model.fit, which supports generators.\n",
      "Epoch 1/80\n",
      "130/130 [==============================] - 1s 10ms/step - loss: 1.7725 - accuracy: 0.4663 - val_loss: 1.5693 - val_accuracy: 0.4615\n",
      "Epoch 2/80\n",
      "130/130 [==============================] - 1s 9ms/step - loss: 1.0198 - accuracy: 0.6609 - val_loss: 1.1024 - val_accuracy: 0.6346\n",
      "Epoch 3/80\n",
      "130/130 [==============================] - 1s 10ms/step - loss: 0.7052 - accuracy: 0.7707 - val_loss: 0.7907 - val_accuracy: 0.8462\n",
      "Epoch 4/80\n",
      "130/130 [==============================] - 1s 10ms/step - loss: 0.5380 - accuracy: 0.8362 - val_loss: 0.6824 - val_accuracy: 0.7308\n",
      "Epoch 5/80\n",
      "130/130 [==============================] - 1s 11ms/step - loss: 0.4912 - accuracy: 0.8690 - val_loss: 0.6170 - val_accuracy: 0.8654\n",
      "Epoch 6/80\n",
      "130/130 [==============================] - 1s 10ms/step - loss: 0.3665 - accuracy: 0.9017 - val_loss: 0.6816 - val_accuracy: 0.7885\n",
      "Epoch 7/80\n",
      "130/130 [==============================] - 1s 10ms/step - loss: 0.2789 - accuracy: 0.9152 - val_loss: 0.4063 - val_accuracy: 0.8846\n",
      "Epoch 8/80\n",
      "130/130 [==============================] - 1s 9ms/step - loss: 0.3675 - accuracy: 0.9017 - val_loss: 0.1823 - val_accuracy: 0.9615\n",
      "Epoch 9/80\n",
      "130/130 [==============================] - 1s 9ms/step - loss: 0.2692 - accuracy: 0.9133 - val_loss: 0.3250 - val_accuracy: 0.8269\n",
      "Epoch 10/80\n",
      "130/130 [==============================] - 1s 9ms/step - loss: 0.2534 - accuracy: 0.9306 - val_loss: 0.3894 - val_accuracy: 0.8462\n",
      "Epoch 11/80\n",
      "130/130 [==============================] - 1s 9ms/step - loss: 0.2767 - accuracy: 0.9152 - val_loss: 0.2335 - val_accuracy: 0.9231\n",
      "Epoch 12/80\n",
      "130/130 [==============================] - 1s 9ms/step - loss: 0.2506 - accuracy: 0.9191 - val_loss: 0.2216 - val_accuracy: 0.9038\n",
      "Epoch 13/80\n",
      "130/130 [==============================] - 1s 10ms/step - loss: 0.2363 - accuracy: 0.9306 - val_loss: 0.2858 - val_accuracy: 0.9038\n",
      "Epoch 14/80\n",
      "130/130 [==============================] - 1s 10ms/step - loss: 0.1827 - accuracy: 0.9383 - val_loss: 0.3783 - val_accuracy: 0.8077\n",
      "Epoch 15/80\n",
      "130/130 [==============================] - 1s 11ms/step - loss: 0.2050 - accuracy: 0.9326 - val_loss: 0.2340 - val_accuracy: 0.9038\n",
      "Epoch 16/80\n",
      "130/130 [==============================] - 1s 11ms/step - loss: 0.1927 - accuracy: 0.9441 - val_loss: 0.4943 - val_accuracy: 0.8846\n",
      "Epoch 17/80\n",
      "130/130 [==============================] - 1s 11ms/step - loss: 0.2124 - accuracy: 0.9461 - val_loss: 0.4264 - val_accuracy: 0.8654\n",
      "Epoch 18/80\n",
      "130/130 [==============================] - 1s 11ms/step - loss: 0.1890 - accuracy: 0.9364 - val_loss: 0.2102 - val_accuracy: 0.9423\n",
      "Epoch 19/80\n",
      "130/130 [==============================] - 1s 10ms/step - loss: 0.2012 - accuracy: 0.9480 - val_loss: 0.4684 - val_accuracy: 0.8654\n",
      "Epoch 20/80\n",
      "130/130 [==============================] - 1s 10ms/step - loss: 0.1615 - accuracy: 0.9480 - val_loss: 0.2943 - val_accuracy: 0.9423\n",
      "Epoch 21/80\n",
      "130/130 [==============================] - 1s 9ms/step - loss: 0.1708 - accuracy: 0.9480 - val_loss: 0.2750 - val_accuracy: 0.9231\n",
      "Epoch 22/80\n",
      "130/130 [==============================] - 1s 10ms/step - loss: 0.2290 - accuracy: 0.9441 - val_loss: 0.2084 - val_accuracy: 0.9231\n",
      "Epoch 23/80\n",
      "130/130 [==============================] - 1s 10ms/step - loss: 0.1120 - accuracy: 0.9692 - val_loss: 0.3322 - val_accuracy: 0.9038\n",
      "Epoch 24/80\n",
      "130/130 [==============================] - 1s 9ms/step - loss: 0.1730 - accuracy: 0.9441 - val_loss: 0.5228 - val_accuracy: 0.8846\n",
      "Epoch 25/80\n",
      "130/130 [==============================] - 1s 9ms/step - loss: 0.1230 - accuracy: 0.9576 - val_loss: 0.5553 - val_accuracy: 0.8846\n",
      "Epoch 26/80\n",
      "130/130 [==============================] - 1s 9ms/step - loss: 0.1158 - accuracy: 0.9557 - val_loss: 0.2282 - val_accuracy: 0.9615\n",
      "Epoch 27/80\n",
      "130/130 [==============================] - 1s 9ms/step - loss: 0.1693 - accuracy: 0.9634 - val_loss: 0.1885 - val_accuracy: 0.9423\n",
      "Epoch 28/80\n",
      "130/130 [==============================] - 1s 9ms/step - loss: 0.1619 - accuracy: 0.9441 - val_loss: 0.5041 - val_accuracy: 0.8462\n",
      "Epoch 29/80\n",
      "130/130 [==============================] - 1s 10ms/step - loss: 0.1676 - accuracy: 0.9576 - val_loss: 0.1889 - val_accuracy: 0.8846\n",
      "Epoch 30/80\n",
      "130/130 [==============================] - 1s 10ms/step - loss: 0.1166 - accuracy: 0.9730 - val_loss: 0.4042 - val_accuracy: 0.8846\n",
      "Epoch 31/80\n",
      "130/130 [==============================] - 1s 10ms/step - loss: 0.1371 - accuracy: 0.9595 - val_loss: 0.1786 - val_accuracy: 0.9231\n",
      "Epoch 32/80\n",
      "130/130 [==============================] - 1s 9ms/step - loss: 0.1136 - accuracy: 0.9672 - val_loss: 0.1898 - val_accuracy: 0.9423\n",
      "Epoch 33/80\n",
      "130/130 [==============================] - 1s 9ms/step - loss: 0.1548 - accuracy: 0.9499 - val_loss: 0.2091 - val_accuracy: 0.9615\n",
      "Epoch 34/80\n",
      "130/130 [==============================] - 1s 9ms/step - loss: 0.1424 - accuracy: 0.9499 - val_loss: 0.2466 - val_accuracy: 0.8654\n",
      "Epoch 35/80\n",
      "130/130 [==============================] - 1s 10ms/step - loss: 0.1312 - accuracy: 0.9615 - val_loss: 0.1228 - val_accuracy: 0.9615\n",
      "Epoch 36/80\n",
      "130/130 [==============================] - 1s 9ms/step - loss: 0.1500 - accuracy: 0.9615 - val_loss: 0.0905 - val_accuracy: 0.9615\n",
      "Epoch 37/80\n",
      "130/130 [==============================] - 1s 11ms/step - loss: 0.1129 - accuracy: 0.9634 - val_loss: 0.1415 - val_accuracy: 0.9423\n",
      "Epoch 38/80\n",
      "130/130 [==============================] - 1s 10ms/step - loss: 0.1132 - accuracy: 0.9672 - val_loss: 0.1429 - val_accuracy: 0.9615\n",
      "Epoch 39/80\n",
      "130/130 [==============================] - 1s 10ms/step - loss: 0.0760 - accuracy: 0.9769 - val_loss: 0.2338 - val_accuracy: 0.9423\n",
      "Epoch 40/80\n",
      "130/130 [==============================] - 1s 10ms/step - loss: 0.1045 - accuracy: 0.9595 - val_loss: 0.0984 - val_accuracy: 0.9423\n",
      "Epoch 41/80\n",
      "130/130 [==============================] - 2s 12ms/step - loss: 0.1139 - accuracy: 0.9653 - val_loss: 0.1936 - val_accuracy: 0.9231\n",
      "Epoch 42/80\n",
      "130/130 [==============================] - 2s 13ms/step - loss: 0.1451 - accuracy: 0.9499 - val_loss: 0.3154 - val_accuracy: 0.9038\n",
      "Epoch 43/80\n",
      "130/130 [==============================] - 2s 12ms/step - loss: 0.1743 - accuracy: 0.9653 - val_loss: 0.1863 - val_accuracy: 0.9615\n",
      "Epoch 44/80\n",
      "130/130 [==============================] - 1s 10ms/step - loss: 0.1121 - accuracy: 0.9595 - val_loss: 0.0995 - val_accuracy: 0.9615\n",
      "Epoch 45/80\n",
      "130/130 [==============================] - 1s 11ms/step - loss: 0.0881 - accuracy: 0.9653 - val_loss: 0.0841 - val_accuracy: 0.9615\n",
      "Epoch 46/80\n",
      "130/130 [==============================] - 1s 10ms/step - loss: 0.1162 - accuracy: 0.9538 - val_loss: 0.2122 - val_accuracy: 0.9231\n",
      "Epoch 47/80\n",
      "130/130 [==============================] - 1s 10ms/step - loss: 0.1087 - accuracy: 0.9653 - val_loss: 0.3218 - val_accuracy: 0.8846\n",
      "Epoch 48/80\n",
      "130/130 [==============================] - 1s 10ms/step - loss: 0.0928 - accuracy: 0.9730 - val_loss: 0.1299 - val_accuracy: 0.9231\n",
      "Epoch 49/80\n",
      "130/130 [==============================] - 1s 10ms/step - loss: 0.1177 - accuracy: 0.9595 - val_loss: 0.2045 - val_accuracy: 0.9423\n",
      "Epoch 50/80\n",
      "130/130 [==============================] - 1s 10ms/step - loss: 0.0945 - accuracy: 0.9672 - val_loss: 0.1083 - val_accuracy: 0.9615\n",
      "Epoch 51/80\n",
      "130/130 [==============================] - 1s 9ms/step - loss: 0.0906 - accuracy: 0.9692 - val_loss: 0.0281 - val_accuracy: 1.0000\n",
      "Epoch 52/80\n",
      "130/130 [==============================] - 1s 9ms/step - loss: 0.1461 - accuracy: 0.9538 - val_loss: 0.2333 - val_accuracy: 0.9231\n",
      "Epoch 53/80\n",
      "130/130 [==============================] - 1s 11ms/step - loss: 0.0718 - accuracy: 0.9692 - val_loss: 0.1287 - val_accuracy: 0.9423\n",
      "Epoch 54/80\n",
      "130/130 [==============================] - 1s 10ms/step - loss: 0.1120 - accuracy: 0.9595 - val_loss: 0.2358 - val_accuracy: 0.9423\n",
      "Epoch 55/80\n",
      "130/130 [==============================] - 1s 9ms/step - loss: 0.0984 - accuracy: 0.9672 - val_loss: 0.3449 - val_accuracy: 0.9038\n",
      "Epoch 56/80\n",
      "130/130 [==============================] - 1s 9ms/step - loss: 0.0446 - accuracy: 0.9884 - val_loss: 0.0681 - val_accuracy: 0.9808\n",
      "Epoch 57/80\n",
      "130/130 [==============================] - 1s 9ms/step - loss: 0.0829 - accuracy: 0.9750 - val_loss: 0.1111 - val_accuracy: 0.9615\n",
      "Epoch 58/80\n",
      "130/130 [==============================] - 1s 9ms/step - loss: 0.1333 - accuracy: 0.9576 - val_loss: 0.2172 - val_accuracy: 0.9423\n",
      "Epoch 59/80\n",
      "130/130 [==============================] - 1s 9ms/step - loss: 0.0499 - accuracy: 0.9827 - val_loss: 0.0518 - val_accuracy: 0.9808\n",
      "Epoch 60/80\n",
      "130/130 [==============================] - 1s 9ms/step - loss: 0.0828 - accuracy: 0.9711 - val_loss: 0.0911 - val_accuracy: 0.9615\n",
      "Epoch 61/80\n",
      "130/130 [==============================] - 1s 9ms/step - loss: 0.1374 - accuracy: 0.9672 - val_loss: 0.0320 - val_accuracy: 1.0000\n",
      "Epoch 62/80\n",
      "130/130 [==============================] - 1s 9ms/step - loss: 0.0778 - accuracy: 0.9692 - val_loss: 0.2231 - val_accuracy: 0.9615\n",
      "Epoch 63/80\n",
      "130/130 [==============================] - 1s 9ms/step - loss: 0.1005 - accuracy: 0.9750 - val_loss: 0.0461 - val_accuracy: 0.9808\n",
      "Epoch 64/80\n",
      "130/130 [==============================] - 1s 9ms/step - loss: 0.0798 - accuracy: 0.9711 - val_loss: 0.1527 - val_accuracy: 0.9615\n",
      "Epoch 65/80\n",
      "130/130 [==============================] - 1s 9ms/step - loss: 0.0834 - accuracy: 0.9807 - val_loss: 0.2666 - val_accuracy: 0.9423\n",
      "Epoch 66/80\n",
      "130/130 [==============================] - 1s 10ms/step - loss: 0.0801 - accuracy: 0.9692 - val_loss: 0.0629 - val_accuracy: 0.9808\n",
      "Epoch 67/80\n",
      "130/130 [==============================] - 1s 10ms/step - loss: 0.0544 - accuracy: 0.9788 - val_loss: 0.0859 - val_accuracy: 0.9423\n",
      "Epoch 68/80\n",
      "130/130 [==============================] - 1s 9ms/step - loss: 0.1067 - accuracy: 0.9750 - val_loss: 0.1608 - val_accuracy: 0.9615\n",
      "Epoch 69/80\n",
      "130/130 [==============================] - 1s 9ms/step - loss: 0.0969 - accuracy: 0.9672 - val_loss: 0.3131 - val_accuracy: 0.9038\n",
      "Epoch 70/80\n",
      "130/130 [==============================] - 1s 9ms/step - loss: 0.0915 - accuracy: 0.9711 - val_loss: 0.0731 - val_accuracy: 0.9615\n",
      "Epoch 71/80\n",
      "130/130 [==============================] - 1s 10ms/step - loss: 0.0371 - accuracy: 0.9827 - val_loss: 0.0795 - val_accuracy: 0.9615\n",
      "Epoch 72/80\n",
      "130/130 [==============================] - 1s 9ms/step - loss: 0.0510 - accuracy: 0.9827 - val_loss: 0.0930 - val_accuracy: 0.9615\n",
      "Epoch 73/80\n",
      "130/130 [==============================] - 1s 9ms/step - loss: 0.0372 - accuracy: 0.9827 - val_loss: 0.1392 - val_accuracy: 0.9615\n",
      "Epoch 74/80\n",
      "130/130 [==============================] - 1s 9ms/step - loss: 0.0658 - accuracy: 0.9788 - val_loss: 0.0441 - val_accuracy: 0.9615\n",
      "Epoch 75/80\n",
      "130/130 [==============================] - 1s 9ms/step - loss: 0.0940 - accuracy: 0.9769 - val_loss: 0.1597 - val_accuracy: 0.9231\n",
      "Epoch 76/80\n",
      "130/130 [==============================] - 1s 9ms/step - loss: 0.0714 - accuracy: 0.9807 - val_loss: 0.1044 - val_accuracy: 0.9423\n",
      "Epoch 77/80\n",
      "130/130 [==============================] - 1s 9ms/step - loss: 0.1096 - accuracy: 0.9672 - val_loss: 0.0984 - val_accuracy: 0.9615\n",
      "Epoch 78/80\n",
      "130/130 [==============================] - 1s 9ms/step - loss: 0.0868 - accuracy: 0.9692 - val_loss: 0.2306 - val_accuracy: 0.9423\n",
      "Epoch 79/80\n",
      "130/130 [==============================] - 1s 10ms/step - loss: 0.0800 - accuracy: 0.9711 - val_loss: 0.0688 - val_accuracy: 0.9615\n",
      "Epoch 80/80\n",
      "130/130 [==============================] - 1s 10ms/step - loss: 0.0700 - accuracy: 0.9769 - val_loss: 0.2027 - val_accuracy: 0.9231\n"
     ]
    }
   ],
   "source": [
    "Batch_Size = 4\n",
    "Epoch_Anz = 80\n",
    "Shift_Range = 1\n",
    "Brightness_Range = 0.3\n",
    "Rotation_Angle = 10\n",
    "ZoomRange = 0.4\n",
    "\n",
    "datagen = ImageDataGenerator(width_shift_range=[-Shift_Range,Shift_Range], \n",
    "                             height_shift_range=[-Shift_Range,Shift_Range],\n",
    "                             brightness_range=[1-Brightness_Range,1+Brightness_Range],\n",
    "                             zoom_range=[1-ZoomRange, 1+ZoomRange],\n",
    "                             rotation_range=Rotation_Angle,\n",
    "                             validation_split=0.2)\n",
    "\n",
    "train_iterator = datagen.flow(x_data, y_data, batch_size=Batch_Size)\n",
    "validation_iterator = datagen.flow(X_test, y_test, batch_size=Batch_Size)\n",
    "\n",
    "history = model.fit_generator(train_iterator, validation_data = validation_iterator, epochs = Epoch_Anz)\n",
    "#history = model.fit_generator(train_iterator, epochs = Epoch_Anz)\n",
    "\n"
   ]
  },
  {
   "cell_type": "markdown",
   "metadata": {},
   "source": [
    "### Learing result\n",
    " \n",
    "* Visualization of the training and validation results"
   ]
  },
  {
   "cell_type": "code",
   "execution_count": 5,
   "metadata": {},
   "outputs": [
    {
     "data": {
      "image/png": "[encoded data removed]",
      "text/plain": [
       "<Figure size 432x288 with 1 Axes>"
      ]
     },
     "metadata": {
      "needs_background": "light"
     },
     "output_type": "display_data"
    }
   ],
   "source": [
    "loss_ges = np.append(loss_ges, history.history['loss'])\n",
    "val_loss_ges = np.append(val_loss_ges, history.history['val_loss'])\n",
    "\n",
    "plt.semilogy(history.history['loss'])\n",
    "plt.semilogy(history.history['val_loss'])\n",
    "plt.title('model loss')\n",
    "plt.ylabel('loss')\n",
    "plt.xlabel('epoch')\n",
    "plt.legend(['train','eval'], loc='upper left')\n",
    "plt.show()"
   ]
  },
  {
   "cell_type": "markdown",
   "metadata": {},
   "source": [
    "### Check the model by hand\n",
    "\n",
    "* The following code uses the trained model to check the deviation for each picture.\n",
    "* x-axis walks through each pixel, y-axis shows the result"
   ]
  },
  {
   "cell_type": "code",
   "execution_count": 6,
   "metadata": {},
   "outputs": [
    {
     "name": "stdout",
     "output_type": "stream",
     "text": [
      "WARNING:tensorflow:From <ipython-input-6-8aba67fc08aa>:15: Sequential.predict_classes (from tensorflow.python.keras.engine.sequential) is deprecated and will be removed after 2021-01-01.\n",
      "Instructions for updating:\n",
      "Please use instead:* `np.argmax(model.predict(x), axis=-1)`,   if your model does multi-class classification   (e.g. if it uses a `softmax` last-layer activation).* `(model.predict(x) > 0.5).astype(\"int32\")`,   if your model does binary classification   (e.g. if it uses a `sigmoid` last-layer activation).\n"
     ]
    },
    {
     "data": {
      "image/png": "[encoded data removed]",
      "text/plain": [
       "<Figure size 432x288 with 1 Axes>"
      ]
     },
     "metadata": {
      "needs_background": "light"
     },
     "output_type": "display_data"
    }
   ],
   "source": [
    "Input_dir='ziffer_sortiert_resize'\n",
    "subdir = [\"NaN\", \"0\", \"1\", \"2\", \"3\", \"4\", \"5\", \"6\", \"7\", \"8\", \"9\"]\n",
    "res = []\n",
    "\n",
    "for aktsubdir in subdir:\n",
    "    files = glob.glob(Input_dir + '/' + aktsubdir + '\\*.jpg')\n",
    "    if aktsubdir == \"NaN\":\n",
    "        zw1 = -1\n",
    "    else:\n",
    "        zw1 = int(aktsubdir)\n",
    "    for aktfile in files:\n",
    "        test_image = Image.open(aktfile)\n",
    "        test_image = np.array(test_image, dtype=\"float32\")\n",
    "        img = np.reshape(test_image,[1,32,20,3])\n",
    "        classes = model.predict_classes(img)\n",
    "        classes = classes[0]\n",
    "        if classes == 10: \n",
    "            classes = -1\n",
    "        zw2 = classes\n",
    "        zw3 = zw2 - zw1\n",
    "        res.append(np.array([zw1, zw2, zw3]))\n",
    "\n",
    "res = np.asarray(res)\n",
    "\n",
    "\n",
    "plt.plot(res[:,0])\n",
    "plt.plot(res[:,1])\n",
    "plt.title('Result')\n",
    "plt.ylabel('Digital Value')\n",
    "plt.xlabel('#Picture')\n",
    "plt.legend(['real','model'], loc='upper left')\n",
    "plt.show()"
   ]
  },
  {
   "cell_type": "markdown",
   "metadata": {},
   "source": [
    "### Save the model\n",
    "\n",
    "* Save the model to the file with the \"h5\" file format"
   ]
  },
  {
   "cell_type": "code",
   "execution_count": 7,
   "metadata": {},
   "outputs": [
    {
     "data": {
      "text/plain": [
       "1302556"
      ]
     },
     "execution_count": 7,
     "metadata": {},
     "output_type": "execute_result"
    }
   ],
   "source": [
    "# model.save(\"Train_CNN_Digital-Readout_Version_6.1.2.h5\")\n",
    "\n",
    "converter = tf.lite.TFLiteConverter.from_keras_model(model)\n",
    "tflite_model = converter.convert()\n",
    "open(\"Train_CNN_Digital-Readout_Version_6.1.2.tflite\", \"wb\").write(tflite_model)\n",
    "\n",
    "# converter = tf.lite.TFLiteConverter.from_keras_model(model)\n",
    "# converter.optimizations = [tf.lite.Optimize.OPTIMIZE_FOR_SIZE]\n",
    "# tflite_model = converter.convert()\n",
    "# open(\"Train_CNN_Digital-Readout_Version_quantized_6.1.1.tflite\", \"wb\").write(tflite_model)"
   ]
  },
  {
   "cell_type": "markdown",
   "metadata": {},
   "source": [
    "### Check each image for expected and deviation\n",
    "* setting the switch \"only_deviation = true\" will only print the images for which the classification and the CNN-result deviates\n",
    "\n",
    "The output contains the following information:\n",
    "\n",
    "| Filename      | Expected Category           | Predicted Category        |\n",
    "|------------- |:-----------------------------:|--------------|\n",
    "| ziffer_sortiert_resize_NaN/5\\Ziffer_4_0034.jpg | 4  | -1 |\n"
   ]
  },
  {
   "cell_type": "code",
   "execution_count": 8,
   "metadata": {
    "scrolled": true
   },
   "outputs": [
    {
     "name": "stdout",
     "output_type": "stream",
     "text": [
      "ziffer_sortiert_resize/NaN\\ziffer4_2020-04-25_08-50-06.jpg NaN 4\n",
      "ziffer_sortiert_resize/NaN\\ziffer5_2020-04-14_15-30-06.jpg NaN 4\n",
      "ziffer_sortiert_resize/NaN\\ziffer5_2020-04-16_11-40-06.jpg NaN 5\n",
      "ziffer_sortiert_resize/NaN\\Ziffer_NaN_0588.jpg NaN 6\n",
      "ziffer_sortiert_resize/NaN\\Ziffer_NaN_0590.jpg NaN 6\n",
      "ziffer_sortiert_resize/NaN\\Ziffer_NaN_0642.jpg NaN 6\n",
      "ziffer_sortiert_resize/NaN\\Ziffer_NaN_1909.jpg NaN 1\n",
      "ziffer_sortiert_resize/NaN\\Ziffer_NaN_3737.jpg NaN 5\n"
     ]
    }
   ],
   "source": [
    "Input_dir='ziffer_sortiert_resize'\n",
    "only_deviation = True\n",
    "\n",
    "subdir = [\"0\", \"1\", \"2\", \"3\", \"4\", \"5\", \"6\", \"7\", \"8\", \"9\", \"NaN\"]\n",
    "\n",
    "for aktsubdir in subdir:\n",
    "    files = glob.glob(Input_dir + '/' + aktsubdir + '\\*.jpg')\n",
    "    expected_class = aktsubdir\n",
    "    for aktfile in files:\n",
    "        test_image = Image.open(aktfile)\n",
    "        test_image = np.array(test_image, dtype=\"float32\")\n",
    "        img = np.reshape(test_image,[1,32,20,3])\n",
    "        classes = model.predict_classes(img)\n",
    "        classes = classes[0]\n",
    "        if classes == 10: \n",
    "            classes = \"NaN\"\n",
    "        if only_deviation == True:\n",
    "            if str(classes) != str(expected_class):\n",
    "                print(aktfile + \" \" + aktsubdir +  \" \" + str(classes))\n",
    "        else:\n",
    "            print(aktfile + \" \" + aktsubdir +  \" \" + str(classes))\n"
   ]
  },
  {
   "cell_type": "markdown",
   "metadata": {},
   "source": [
    "Checking the images shows, that this are border line images, which can be interpreted as a good digit or a faulty one."
   ]
  },
  {
   "cell_type": "code",
   "execution_count": null,
   "metadata": {},
   "outputs": [],
   "source": []
  }
 ],
 "metadata": {
  "kernelspec": {
   "display_name": "Python 3",
   "language": "python",
   "name": "python3"
  },
  "language_info": {
   "codemirror_mode": {
    "name": "ipython",
    "version": 3
   },
   "file_extension": ".py",
   "mimetype": "text/x-python",
   "name": "python",
   "nbconvert_exporter": "python",
   "pygments_lexer": "ipython3",
   "version": "3.7.7"
  }
 },
 "nbformat": 4,
 "nbformat_minor": 2
}
