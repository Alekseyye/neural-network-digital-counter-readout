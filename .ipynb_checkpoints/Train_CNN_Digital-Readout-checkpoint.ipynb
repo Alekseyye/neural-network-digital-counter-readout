{
 "cells": [
  {
   "cell_type": "markdown",
   "metadata": {},
   "source": [
    "# CNN Training\n",
    "\n",
    "Target of this code is to train a CNN network to classify images of a digital readout to the digits 0 to 9. Additionally a category \"NaN\" is introduced, to mark images that are not amibiguous.\n",
    "\n",
    "### Preparing the training\n",
    "* First all libraries are loaded\n",
    "    * It is assumed, that they are installed during the Python setup\n",
    "* matplotlib is set to print the output inline in the jupyter notebook"
   ]
  },
  {
   "cell_type": "code",
   "execution_count": 1,
   "metadata": {
    "scrolled": true
   },
   "outputs": [],
   "source": [
    "import tensorflow as tf\n",
    "import matplotlib.pyplot as plt\n",
    "import glob\n",
    "import numpy as np\n",
    "from sklearn.utils import shuffle\n",
    "from tensorflow.python import keras\n",
    "from tensorflow.python.keras import Sequential\n",
    "from tensorflow.python.keras.layers import Dense, InputLayer, Conv2D, MaxPool2D, Flatten, BatchNormalization\n",
    "from tensorflow.keras.preprocessing.image import ImageDataGenerator\n",
    "from sklearn.model_selection import train_test_split\n",
    "from tensorflow.keras.callbacks import History \n",
    "from tensorflow.keras.utils import to_categorical\n",
    "from PIL import Image \n",
    "\n",
    "loss_ges = np.array([])\n",
    "val_loss_ges = np.array([])\n",
    "\n",
    "%matplotlib inline\n",
    "np.set_printoptions(precision=4)\n",
    "np.set_printoptions(suppress=True)"
   ]
  },
  {
   "cell_type": "markdown",
   "metadata": {},
   "source": [
    "### Load training data\n",
    "* The data is expected in the \"Input_dir\"\n",
    "* Inside subdirectories are expected from -1, 0, 1, ... 9 in which the pictures are sorted according to their values (=category)\n",
    "* Picture size must be 20x32 with 3 color channels (RGB)\n",
    "* The filename can be arbitrary\n",
    "\n",
    "* The images are stored in the x_data[]\n",
    "* The expected category for each image in the corresponding y_data[]\n",
    "\n",
    "* The last step is a shuffle (from sklearn.utils) and split the data into training and validation data"
   ]
  },
  {
   "cell_type": "code",
   "execution_count": 2,
   "metadata": {},
   "outputs": [
    {
     "name": "stdout",
     "output_type": "stream",
     "text": [
      "(465, 32, 20, 3)\n",
      "(465, 11)\n"
     ]
    }
   ],
   "source": [
    "Input_dir='ziffer_sortiert_resize'\n",
    "\n",
    "files = glob.glob(Input_dir + '/*.*')\n",
    "x_data = []\n",
    "y_data = []\n",
    "\n",
    "subdir = [\"0\", \"1\", \"2\", \"3\", \"4\", \"5\", \"6\", \"7\", \"8\", \"9\", \"NaN\"]\n",
    "\n",
    "for aktsubdir in subdir:\n",
    "    files = glob.glob(Input_dir + '/' + aktsubdir + '/*.jpg')\n",
    "    if aktsubdir == \"NaN\":\n",
    "        category = 10                # NaN does not work --> convert to 10\n",
    "    else:\n",
    "        category = aktsubdir\n",
    "    for aktfile in files:\n",
    "        test_image = Image.open(aktfile)\n",
    "        test_image = np.array(test_image, dtype=\"float32\")\n",
    "        x_data.append(test_image)\n",
    "        y_data.append(np.array([category]))\n",
    "\n",
    "x_data = np.array(x_data)\n",
    "y_data = np.array(y_data)\n",
    "y_data = to_categorical(y_data, 11)\n",
    "print(x_data.shape)\n",
    "print(y_data.shape)\n",
    "\n",
    "x_data, y_data = shuffle(x_data, y_data)\n",
    "X_train, X_test, y_train, y_test = train_test_split(x_data, y_data, test_size=0.1)"
   ]
  },
  {
   "cell_type": "markdown",
   "metadata": {},
   "source": [
    "### Define the model\n",
    "\n",
    "The layout of the network ist a typcial CNN network with alternating **Conv2D** and **MaxPool2D** layers. Finished after **flattening** with additional **Dense** layer.\n",
    "\n",
    "#### Important\n",
    "* Shape of the input layer: (32, 20, 3)\n",
    "* Number of output layers: 11\n",
    "* As loss function \"categorical_crossentropy\" is choosen, as it is a categories task"
   ]
  },
  {
   "cell_type": "code",
   "execution_count": 3,
   "metadata": {
    "scrolled": true
   },
   "outputs": [
    {
     "name": "stdout",
     "output_type": "stream",
     "text": [
      "Model: \"sequential\"\n",
      "_________________________________________________________________\n",
      "Layer (type)                 Output Shape              Param #   \n",
      "=================================================================\n",
      "batch_normalization (BatchNo (None, 32, 20, 3)         12        \n",
      "_________________________________________________________________\n",
      "conv2d (Conv2D)              (None, 32, 20, 32)        896       \n",
      "_________________________________________________________________\n",
      "max_pooling2d (MaxPooling2D) (None, 16, 10, 32)        0         \n",
      "_________________________________________________________________\n",
      "conv2d_1 (Conv2D)            (None, 16, 10, 64)        18496     \n",
      "_________________________________________________________________\n",
      "max_pooling2d_1 (MaxPooling2 (None, 8, 5, 64)          0         \n",
      "_________________________________________________________________\n",
      "conv2d_2 (Conv2D)            (None, 8, 5, 64)          36928     \n",
      "_________________________________________________________________\n",
      "max_pooling2d_2 (MaxPooling2 (None, 4, 2, 64)          0         \n",
      "_________________________________________________________________\n",
      "flatten (Flatten)            (None, 512)               0         \n",
      "_________________________________________________________________\n",
      "dense (Dense)                (None, 512)               262656    \n",
      "_________________________________________________________________\n",
      "dense_1 (Dense)              (None, 11)                5643      \n",
      "=================================================================\n",
      "Total params: 324,631\n",
      "Trainable params: 324,625\n",
      "Non-trainable params: 6\n",
      "_________________________________________________________________\n"
     ]
    }
   ],
   "source": [
    "model = Sequential()\n",
    "model.add(BatchNormalization(input_shape=(32,20,3)))\n",
    "model.add(Conv2D(32, (3, 3), padding='same', activation=\"relu\"))\n",
    "model.add(MaxPool2D(pool_size=(2,2)))\n",
    "model.add(Conv2D(64, (3, 3), padding='same'))\n",
    "model.add(MaxPool2D(pool_size=(2,2)))\n",
    "model.add(Conv2D(64, (3, 3), padding='same'))\n",
    "model.add(MaxPool2D(pool_size=(2,2)))\n",
    "model.add(Flatten())\n",
    "model.add(Dense(512,activation=\"relu\"))\n",
    "model.add(Dense(11, activation = \"softmax\"))\n",
    "model.summary()\n",
    "\n",
    "model.compile(loss=keras.losses.categorical_crossentropy, optimizer=tf.keras.optimizers.Adadelta(learning_rate=1.0, rho=0.95), metrics = [\"accuracy\"])"
   ]
  },
  {
   "cell_type": "markdown",
   "metadata": {},
   "source": [
    "# Training\n",
    "The input pictures are randomly scattered for brightness, pixel shift variations and rotation angle. This is implemented with a ImageDataGenerator.\n"
   ]
  },
  {
   "cell_type": "code",
   "execution_count": 4,
   "metadata": {
    "scrolled": true
   },
   "outputs": [
    {
     "name": "stdout",
     "output_type": "stream",
     "text": [
      "WARNING:tensorflow:From <ipython-input-4-331f72802f71>:18: Model.fit_generator (from tensorflow.python.keras.engine.training) is deprecated and will be removed in a future version.\n",
      "Instructions for updating:\n",
      "Please use Model.fit, which supports generators.\n",
      "WARNING:tensorflow:sample_weight modes were coerced from\n",
      "  ...\n",
      "    to  \n",
      "  ['...']\n",
      "WARNING:tensorflow:sample_weight modes were coerced from\n",
      "  ...\n",
      "    to  \n",
      "  ['...']\n",
      "Train for 117 steps, validate for 12 steps\n",
      "Epoch 1/80\n",
      "117/117 [==============================] - 2s 16ms/step - loss: 1.8286 - accuracy: 0.4452 - val_loss: 1.0392 - val_accuracy: 0.6596\n",
      "Epoch 2/80\n",
      "117/117 [==============================] - 1s 11ms/step - loss: 1.0321 - accuracy: 0.6989 - val_loss: 0.5386 - val_accuracy: 0.7872\n",
      "Epoch 3/80\n",
      "117/117 [==============================] - 1s 11ms/step - loss: 0.6656 - accuracy: 0.7957 - val_loss: 0.2310 - val_accuracy: 0.9574\n",
      "Epoch 4/80\n",
      "117/117 [==============================] - 1s 11ms/step - loss: 0.5533 - accuracy: 0.8194 - val_loss: 0.4085 - val_accuracy: 0.8511\n",
      "Epoch 5/80\n",
      "117/117 [==============================] - 1s 11ms/step - loss: 0.3718 - accuracy: 0.8774 - val_loss: 0.4356 - val_accuracy: 0.8723\n",
      "Epoch 6/80\n",
      "117/117 [==============================] - 1s 12ms/step - loss: 0.3299 - accuracy: 0.9097 - val_loss: 0.3181 - val_accuracy: 0.8936\n",
      "Epoch 7/80\n",
      "117/117 [==============================] - 1s 11ms/step - loss: 0.3005 - accuracy: 0.9097 - val_loss: 0.0988 - val_accuracy: 1.0000\n",
      "Epoch 8/80\n",
      "117/117 [==============================] - 1s 10ms/step - loss: 0.2002 - accuracy: 0.9355 - val_loss: 0.3635 - val_accuracy: 0.9149\n",
      "Epoch 9/80\n",
      "117/117 [==============================] - 1s 11ms/step - loss: 0.2212 - accuracy: 0.9226 - val_loss: 0.1521 - val_accuracy: 0.9149\n",
      "Epoch 10/80\n",
      "117/117 [==============================] - 1s 10ms/step - loss: 0.2378 - accuracy: 0.9269 - val_loss: 0.4929 - val_accuracy: 0.8936\n",
      "Epoch 11/80\n",
      "117/117 [==============================] - 1s 10ms/step - loss: 0.2020 - accuracy: 0.9247 - val_loss: 0.2851 - val_accuracy: 0.8936\n",
      "Epoch 12/80\n",
      "117/117 [==============================] - 1s 10ms/step - loss: 0.1872 - accuracy: 0.9484 - val_loss: 0.3453 - val_accuracy: 0.8936\n",
      "Epoch 13/80\n",
      "117/117 [==============================] - 1s 11ms/step - loss: 0.1941 - accuracy: 0.9462 - val_loss: 0.4319 - val_accuracy: 0.8723\n",
      "Epoch 14/80\n",
      "117/117 [==============================] - 1s 11ms/step - loss: 0.1977 - accuracy: 0.9441 - val_loss: 0.2736 - val_accuracy: 0.8936\n",
      "Epoch 15/80\n",
      "117/117 [==============================] - 1s 11ms/step - loss: 0.1796 - accuracy: 0.9484 - val_loss: 0.1241 - val_accuracy: 0.9574\n",
      "Epoch 16/80\n",
      "117/117 [==============================] - 1s 11ms/step - loss: 0.1743 - accuracy: 0.9441 - val_loss: 0.1054 - val_accuracy: 0.9787\n",
      "Epoch 17/80\n",
      "117/117 [==============================] - 1s 11ms/step - loss: 0.1328 - accuracy: 0.9613 - val_loss: 0.0866 - val_accuracy: 0.9787\n",
      "Epoch 18/80\n",
      "117/117 [==============================] - 1s 11ms/step - loss: 0.1173 - accuracy: 0.9613 - val_loss: 0.1471 - val_accuracy: 0.9574\n",
      "Epoch 19/80\n",
      "117/117 [==============================] - 1s 12ms/step - loss: 0.1077 - accuracy: 0.9742 - val_loss: 0.2042 - val_accuracy: 0.9362\n",
      "Epoch 20/80\n",
      "117/117 [==============================] - 1s 13ms/step - loss: 0.1300 - accuracy: 0.9720 - val_loss: 0.1477 - val_accuracy: 0.9574\n",
      "Epoch 21/80\n",
      "117/117 [==============================] - 1s 12ms/step - loss: 0.1426 - accuracy: 0.9591 - val_loss: 0.1388 - val_accuracy: 0.9574\n",
      "Epoch 22/80\n",
      "117/117 [==============================] - 1s 11ms/step - loss: 0.0925 - accuracy: 0.9742 - val_loss: 0.2974 - val_accuracy: 0.9362\n",
      "Epoch 23/80\n",
      "117/117 [==============================] - 1s 11ms/step - loss: 0.1572 - accuracy: 0.9591 - val_loss: 0.0537 - val_accuracy: 1.0000\n",
      "Epoch 24/80\n",
      "117/117 [==============================] - 1s 11ms/step - loss: 0.1626 - accuracy: 0.9462 - val_loss: 0.2158 - val_accuracy: 0.9574\n",
      "Epoch 25/80\n",
      "117/117 [==============================] - 1s 12ms/step - loss: 0.0752 - accuracy: 0.9763 - val_loss: 0.0569 - val_accuracy: 0.9574\n",
      "Epoch 26/80\n",
      "117/117 [==============================] - 1s 12ms/step - loss: 0.0970 - accuracy: 0.9720 - val_loss: 0.0796 - val_accuracy: 0.9574\n",
      "Epoch 27/80\n",
      "117/117 [==============================] - 1s 12ms/step - loss: 0.1030 - accuracy: 0.9699 - val_loss: 0.2634 - val_accuracy: 0.9574\n",
      "Epoch 28/80\n",
      "117/117 [==============================] - 1s 12ms/step - loss: 0.0667 - accuracy: 0.9849 - val_loss: 0.0632 - val_accuracy: 0.9787\n",
      "Epoch 29/80\n",
      "117/117 [==============================] - 2s 13ms/step - loss: 0.1473 - accuracy: 0.9548 - val_loss: 0.0813 - val_accuracy: 0.9574\n",
      "Epoch 30/80\n",
      "117/117 [==============================] - 2s 13ms/step - loss: 0.0855 - accuracy: 0.9677 - val_loss: 0.0241 - val_accuracy: 1.0000\n",
      "Epoch 31/80\n",
      "117/117 [==============================] - 2s 14ms/step - loss: 0.1183 - accuracy: 0.9656 - val_loss: 0.3404 - val_accuracy: 0.9362\n",
      "Epoch 32/80\n",
      "117/117 [==============================] - 1s 13ms/step - loss: 0.0445 - accuracy: 0.9892 - val_loss: 0.1080 - val_accuracy: 0.9574\n",
      "Epoch 33/80\n",
      "117/117 [==============================] - 1s 12ms/step - loss: 0.0855 - accuracy: 0.9828 - val_loss: 0.0483 - val_accuracy: 0.9787\n",
      "Epoch 34/80\n",
      "117/117 [==============================] - 1s 12ms/step - loss: 0.1173 - accuracy: 0.9742 - val_loss: 0.2036 - val_accuracy: 0.9574\n",
      "Epoch 35/80\n",
      "117/117 [==============================] - 1s 12ms/step - loss: 0.0732 - accuracy: 0.9763 - val_loss: 0.0250 - val_accuracy: 1.0000\n",
      "Epoch 36/80\n",
      "117/117 [==============================] - 1s 12ms/step - loss: 0.0520 - accuracy: 0.9828 - val_loss: 0.0946 - val_accuracy: 0.9574\n",
      "Epoch 37/80\n",
      "117/117 [==============================] - 1s 12ms/step - loss: 0.0832 - accuracy: 0.9763 - val_loss: 0.2170 - val_accuracy: 0.9362\n",
      "Epoch 38/80\n",
      "117/117 [==============================] - 1s 12ms/step - loss: 0.0713 - accuracy: 0.9763 - val_loss: 0.0157 - val_accuracy: 1.0000\n",
      "Epoch 39/80\n",
      "117/117 [==============================] - 2s 14ms/step - loss: 0.1111 - accuracy: 0.9656 - val_loss: 0.0710 - val_accuracy: 0.9574\n",
      "Epoch 40/80\n",
      "117/117 [==============================] - 1s 12ms/step - loss: 0.0766 - accuracy: 0.9806 - val_loss: 0.1344 - val_accuracy: 0.9574\n",
      "Epoch 41/80\n",
      "117/117 [==============================] - 1s 11ms/step - loss: 0.0779 - accuracy: 0.9763 - val_loss: 0.1680 - val_accuracy: 0.9362\n",
      "Epoch 42/80\n",
      "117/117 [==============================] - 2s 13ms/step - loss: 0.0775 - accuracy: 0.9785 - val_loss: 0.0024 - val_accuracy: 1.0000\n",
      "Epoch 43/80\n",
      "117/117 [==============================] - 2s 16ms/step - loss: 0.0713 - accuracy: 0.9828 - val_loss: 0.4267 - val_accuracy: 0.9362\n",
      "Epoch 44/80\n",
      "117/117 [==============================] - 1s 12ms/step - loss: 0.0791 - accuracy: 0.9763 - val_loss: 0.2520 - val_accuracy: 0.9362\n",
      "Epoch 45/80\n",
      "117/117 [==============================] - 2s 13ms/step - loss: 0.0849 - accuracy: 0.9742 - val_loss: 0.0672 - val_accuracy: 0.9787\n",
      "Epoch 46/80\n",
      "117/117 [==============================] - 2s 13ms/step - loss: 0.0515 - accuracy: 0.9785 - val_loss: 0.0241 - val_accuracy: 1.0000\n",
      "Epoch 47/80\n",
      "117/117 [==============================] - 2s 14ms/step - loss: 0.0564 - accuracy: 0.9828 - val_loss: 0.0342 - val_accuracy: 0.9787\n",
      "Epoch 48/80\n",
      "117/117 [==============================] - 1s 13ms/step - loss: 0.0758 - accuracy: 0.9677 - val_loss: 0.1017 - val_accuracy: 0.9574\n",
      "Epoch 49/80\n",
      "117/117 [==============================] - 1s 11ms/step - loss: 0.0544 - accuracy: 0.9871 - val_loss: 0.1418 - val_accuracy: 0.9574\n",
      "Epoch 50/80\n",
      "117/117 [==============================] - 2s 14ms/step - loss: 0.1255 - accuracy: 0.9699 - val_loss: 0.1163 - val_accuracy: 0.9787\n",
      "Epoch 51/80\n",
      "117/117 [==============================] - 2s 13ms/step - loss: 0.0684 - accuracy: 0.9785 - val_loss: 0.0221 - val_accuracy: 1.0000\n",
      "Epoch 52/80\n",
      "117/117 [==============================] - 2s 14ms/step - loss: 0.0742 - accuracy: 0.9742 - val_loss: 0.0350 - val_accuracy: 0.9787\n",
      "Epoch 53/80\n",
      "117/117 [==============================] - 2s 16ms/step - loss: 0.0644 - accuracy: 0.9763 - val_loss: 0.0186 - val_accuracy: 1.0000\n",
      "Epoch 54/80\n"
     ]
    },
    {
     "name": "stdout",
     "output_type": "stream",
     "text": [
      "117/117 [==============================] - 2s 14ms/step - loss: 0.0591 - accuracy: 0.9763 - val_loss: 0.0331 - val_accuracy: 1.0000\n",
      "Epoch 55/80\n",
      "117/117 [==============================] - 1s 12ms/step - loss: 0.0359 - accuracy: 0.9849 - val_loss: 0.0115 - val_accuracy: 1.0000\n",
      "Epoch 56/80\n",
      "117/117 [==============================] - 1s 12ms/step - loss: 0.0621 - accuracy: 0.9785 - val_loss: 0.2497 - val_accuracy: 0.9362\n",
      "Epoch 57/80\n",
      "117/117 [==============================] - 1s 11ms/step - loss: 0.1143 - accuracy: 0.9742 - val_loss: 0.0866 - val_accuracy: 0.9787\n",
      "Epoch 58/80\n",
      "117/117 [==============================] - 1s 11ms/step - loss: 0.0585 - accuracy: 0.9806 - val_loss: 0.0244 - val_accuracy: 0.9787\n",
      "Epoch 59/80\n",
      "117/117 [==============================] - 1s 12ms/step - loss: 0.0962 - accuracy: 0.9720 - val_loss: 0.0402 - val_accuracy: 0.9787\n",
      "Epoch 60/80\n",
      "117/117 [==============================] - 1s 11ms/step - loss: 0.0446 - accuracy: 0.9828 - val_loss: 0.0956 - val_accuracy: 0.9787\n",
      "Epoch 61/80\n",
      "117/117 [==============================] - 1s 13ms/step - loss: 0.0660 - accuracy: 0.9849 - val_loss: 0.0242 - val_accuracy: 0.9787\n",
      "Epoch 62/80\n",
      "117/117 [==============================] - 1s 12ms/step - loss: 0.0473 - accuracy: 0.9849 - val_loss: 0.3322 - val_accuracy: 0.9574\n",
      "Epoch 63/80\n",
      "117/117 [==============================] - 2s 16ms/step - loss: 0.0217 - accuracy: 0.9935 - val_loss: 0.0234 - val_accuracy: 0.9787\n",
      "Epoch 64/80\n",
      "117/117 [==============================] - 2s 16ms/step - loss: 0.0464 - accuracy: 0.9849 - val_loss: 0.0845 - val_accuracy: 0.9574\n",
      "Epoch 65/80\n",
      "117/117 [==============================] - 1s 12ms/step - loss: 0.0367 - accuracy: 0.9871 - val_loss: 0.0018 - val_accuracy: 1.0000\n",
      "Epoch 66/80\n",
      "117/117 [==============================] - 2s 15ms/step - loss: 0.0558 - accuracy: 0.9763 - val_loss: 0.0172 - val_accuracy: 1.0000\n",
      "Epoch 67/80\n",
      "117/117 [==============================] - 1s 12ms/step - loss: 0.1466 - accuracy: 0.9720 - val_loss: 0.0807 - val_accuracy: 0.9574\n",
      "Epoch 68/80\n",
      "117/117 [==============================] - 1s 11ms/step - loss: 0.0309 - accuracy: 0.9935 - val_loss: 0.1213 - val_accuracy: 0.9787\n",
      "Epoch 69/80\n",
      "117/117 [==============================] - 1s 12ms/step - loss: 0.0499 - accuracy: 0.9871 - val_loss: 0.0843 - val_accuracy: 0.9787\n",
      "Epoch 70/80\n",
      "117/117 [==============================] - 1s 11ms/step - loss: 0.0477 - accuracy: 0.9849 - val_loss: 0.2262 - val_accuracy: 0.9787\n",
      "Epoch 71/80\n",
      "117/117 [==============================] - 1s 11ms/step - loss: 0.0764 - accuracy: 0.9720 - val_loss: 0.0966 - val_accuracy: 0.9574\n",
      "Epoch 72/80\n",
      "117/117 [==============================] - 1s 11ms/step - loss: 0.0096 - accuracy: 0.9978 - val_loss: 0.2821 - val_accuracy: 0.9574\n",
      "Epoch 73/80\n",
      "117/117 [==============================] - 1s 11ms/step - loss: 0.0542 - accuracy: 0.9828 - val_loss: 0.2079 - val_accuracy: 0.9149\n",
      "Epoch 74/80\n",
      "117/117 [==============================] - 1s 12ms/step - loss: 0.0536 - accuracy: 0.9785 - val_loss: 0.0786 - val_accuracy: 0.9787\n",
      "Epoch 75/80\n",
      "117/117 [==============================] - 1s 12ms/step - loss: 0.0340 - accuracy: 0.9871 - val_loss: 0.1604 - val_accuracy: 0.9574\n",
      "Epoch 76/80\n",
      "117/117 [==============================] - 1s 11ms/step - loss: 0.0299 - accuracy: 0.9914 - val_loss: 0.1297 - val_accuracy: 0.9574\n",
      "Epoch 77/80\n",
      "117/117 [==============================] - 1s 11ms/step - loss: 0.0589 - accuracy: 0.9828 - val_loss: 0.0316 - val_accuracy: 0.9787\n",
      "Epoch 78/80\n",
      "117/117 [==============================] - 1s 11ms/step - loss: 0.0733 - accuracy: 0.9806 - val_loss: 0.0144 - val_accuracy: 1.0000\n",
      "Epoch 79/80\n",
      "117/117 [==============================] - 1s 12ms/step - loss: 0.0463 - accuracy: 0.9849 - val_loss: 0.0410 - val_accuracy: 0.9787\n",
      "Epoch 80/80\n",
      "117/117 [==============================] - 1s 11ms/step - loss: 0.0426 - accuracy: 0.9892 - val_loss: 0.0304 - val_accuracy: 1.0000\n"
     ]
    }
   ],
   "source": [
    "Batch_Size = 4\n",
    "Epoch_Anz = 80\n",
    "Shift_Range = 1\n",
    "Brightness_Range = 0.3\n",
    "Rotation_Angle = 10\n",
    "ZoomRange = 0.4\n",
    "\n",
    "datagen = ImageDataGenerator(width_shift_range=[-Shift_Range,Shift_Range], \n",
    "                             height_shift_range=[-Shift_Range,Shift_Range],\n",
    "                             brightness_range=[1-Brightness_Range,1+Brightness_Range],\n",
    "                             zoom_range=[1-ZoomRange, 1+ZoomRange],\n",
    "                             rotation_range=Rotation_Angle,\n",
    "                             validation_split=0.2)\n",
    "\n",
    "train_iterator = datagen.flow(x_data, y_data, batch_size=Batch_Size)\n",
    "validation_iterator = datagen.flow(X_test, y_test, batch_size=Batch_Size)\n",
    "\n",
    "history = model.fit_generator(train_iterator, validation_data = validation_iterator, epochs = Epoch_Anz)\n",
    "#history = model.fit_generator(train_iterator, epochs = Epoch_Anz)\n",
    "\n"
   ]
  },
  {
   "cell_type": "markdown",
   "metadata": {},
   "source": [
    "### Learing result\n",
    " \n",
    "* Visualization of the training and validation results"
   ]
  },
  {
   "cell_type": "code",
   "execution_count": 5,
   "metadata": {},
   "outputs": [
    {
     "data": {
      "image/png": "[encoded data removed]",
      "text/plain": [
       "<Figure size 432x288 with 1 Axes>"
      ]
     },
     "metadata": {
      "needs_background": "light"
     },
     "output_type": "display_data"
    }
   ],
   "source": [
    "loss_ges = np.append(loss_ges, history.history['loss'])\n",
    "val_loss_ges = np.append(val_loss_ges, history.history['val_loss'])\n",
    "\n",
    "plt.semilogy(history.history['loss'])\n",
    "plt.semilogy(history.history['val_loss'])\n",
    "plt.title('model loss')\n",
    "plt.ylabel('loss')\n",
    "plt.xlabel('epoch')\n",
    "plt.legend(['train','eval'], loc='upper left')\n",
    "plt.show()"
   ]
  },
  {
   "cell_type": "markdown",
   "metadata": {},
   "source": [
    "### Check the model by hand\n",
    "\n",
    "* The following code uses the trained model to check the deviation for each picture.\n",
    "* x-axis walks through each pixel, y-axis shows the result"
   ]
  },
  {
   "cell_type": "code",
   "execution_count": 6,
   "metadata": {},
   "outputs": [
    {
     "data": {
      "image/png": "[encoded data removed]",
      "text/plain": [
       "<Figure size 432x288 with 1 Axes>"
      ]
     },
     "metadata": {
      "needs_background": "light"
     },
     "output_type": "display_data"
    }
   ],
   "source": [
    "Input_dir='ziffer_sortiert_resize'\n",
    "subdir = [\"NaN\", \"0\", \"1\", \"2\", \"3\", \"4\", \"5\", \"6\", \"7\", \"8\", \"9\"]\n",
    "res = []\n",
    "\n",
    "for aktsubdir in subdir:\n",
    "    files = glob.glob(Input_dir + '/' + aktsubdir + '\\*.jpg')\n",
    "    if aktsubdir == \"NaN\":\n",
    "        zw1 = -1\n",
    "    else:\n",
    "        zw1 = int(aktsubdir)\n",
    "    for aktfile in files:\n",
    "        test_image = Image.open(aktfile)\n",
    "        test_image = np.array(test_image, dtype=\"float32\")\n",
    "        img = np.reshape(test_image,[1,32,20,3])\n",
    "        classes = model.predict_classes(img)\n",
    "        classes = classes[0]\n",
    "        if classes == 10: \n",
    "            classes = -1\n",
    "        zw2 = classes\n",
    "        zw3 = zw2 - zw1\n",
    "        res.append(np.array([zw1, zw2, zw3]))\n",
    "\n",
    "res = np.asarray(res)\n",
    "\n",
    "\n",
    "plt.plot(res[:,0])\n",
    "plt.plot(res[:,1])\n",
    "plt.title('Result')\n",
    "plt.ylabel('Digital Value')\n",
    "plt.xlabel('#Picture')\n",
    "plt.legend(['real','model'], loc='upper left')\n",
    "plt.show()"
   ]
  },
  {
   "cell_type": "markdown",
   "metadata": {},
   "source": [
    "### Save the model\n",
    "\n",
    "* Save the model to the file with the \"h5\" file format"
   ]
  },
  {
   "cell_type": "code",
   "execution_count": 7,
   "metadata": {},
   "outputs": [
    {
     "data": {
      "text/plain": [
       "1302048"
      ]
     },
     "execution_count": 7,
     "metadata": {},
     "output_type": "execute_result"
    }
   ],
   "source": [
    "model.save(\"Train_CNN_Digital-Readout_Version_6.0.0.h5\")\n",
    "\n",
    "converter = tf.lite.TFLiteConverter.from_keras_model(model)\n",
    "tflite_model = converter.convert()\n",
    "open(\"Train_CNN_Digital-Readout_Version_6.0.0.tflite\", \"wb\").write(tflite_model)"
   ]
  },
  {
   "cell_type": "markdown",
   "metadata": {},
   "source": [
    "### Check each image for expected and deviation\n",
    "* setting the switch \"only_deviation = true\" will only print the images for which the classification and the CNN-result deviates\n",
    "\n",
    "The output contains the following information:\n",
    "\n",
    "| Filename      | Expected Category           | Predicted Category        |\n",
    "|------------- |:-----------------------------:|--------------|\n",
    "| ziffer_sortiert_resize_NaN/5\\Ziffer_4_0034.jpg | 4  | -1 |\n"
   ]
  },
  {
   "cell_type": "code",
   "execution_count": 8,
   "metadata": {
    "scrolled": true
   },
   "outputs": [
    {
     "name": "stdout",
     "output_type": "stream",
     "text": [
      "ziffer_sortiert_resize/5\\Ziffer_5_0018.jpg 5 NaN\n",
      "ziffer_sortiert_resize/NaN\\Ziffer_NaN_0642.jpg NaN 6\n"
     ]
    }
   ],
   "source": [
    "Input_dir='ziffer_sortiert_resize'\n",
    "only_deviation = True\n",
    "\n",
    "subdir = [\"0\", \"1\", \"2\", \"3\", \"4\", \"5\", \"6\", \"7\", \"8\", \"9\", \"NaN\"]\n",
    "\n",
    "for aktsubdir in subdir:\n",
    "    files = glob.glob(Input_dir + '/' + aktsubdir + '\\*.jpg')\n",
    "    expected_class = aktsubdir\n",
    "    for aktfile in files:\n",
    "        test_image = Image.open(aktfile)\n",
    "        test_image = np.array(test_image, dtype=\"float32\")\n",
    "        img = np.reshape(test_image,[1,32,20,3])\n",
    "        classes = model.predict_classes(img)\n",
    "        classes = classes[0]\n",
    "        if classes == 10: \n",
    "            classes = \"NaN\"\n",
    "        if only_deviation == True:\n",
    "            if str(classes) != str(expected_class):\n",
    "                print(aktfile + \" \" + aktsubdir +  \" \" + str(classes))\n",
    "        else:\n",
    "            print(aktfile + \" \" + aktsubdir +  \" \" + str(classes))\n"
   ]
  },
  {
   "cell_type": "markdown",
   "metadata": {},
   "source": [
    "Checking the images shows, that this are border line images, which can be interpreted as a good digit or a faulty one."
   ]
  },
  {
   "cell_type": "code",
   "execution_count": null,
   "metadata": {},
   "outputs": [],
   "source": []
  }
 ],
 "metadata": {
  "kernelspec": {
   "display_name": "Python 3",
   "language": "python",
   "name": "python3"
  },
  "language_info": {
   "codemirror_mode": {
    "name": "ipython",
    "version": 3
   },
   "file_extension": ".py",
   "mimetype": "text/x-python",
   "name": "python",
   "nbconvert_exporter": "python",
   "pygments_lexer": "ipython3",
   "version": "3.7.7"
  }
 },
 "nbformat": 4,
 "nbformat_minor": 2
}
